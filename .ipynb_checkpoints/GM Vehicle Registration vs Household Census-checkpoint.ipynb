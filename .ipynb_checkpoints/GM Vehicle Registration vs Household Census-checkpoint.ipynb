{
 "cells": [
  {
   "cell_type": "code",
   "execution_count": 68,
   "metadata": {},
   "outputs": [],
   "source": [
    "import cx_Oracle\n",
    "import math\n",
    "import seaborn as sns\n",
    "import pandas as pd\n",
    "con = 0\n",
    "def connectToDatabase():\n",
    "    global con\n",
    "    con = cx_Oracle.connect(\"GMSPO/SWONK*03@prod_db\")\n"
   ]
  },
  {
   "cell_type": "code",
   "execution_count": 69,
   "metadata": {},
   "outputs": [],
   "source": [
    "connectToDatabase()"
   ]
  },
  {
   "cell_type": "code",
   "execution_count": 70,
   "metadata": {},
   "outputs": [
    {
     "name": "stdout",
     "output_type": "stream",
     "text": [
      "<cx_Oracle.Connection to GMSPO@prod_db>\n"
     ]
    }
   ],
   "source": [
    "print (con)"
   ]
  },
  {
   "cell_type": "code",
   "execution_count": 113,
   "metadata": {},
   "outputs": [],
   "source": [
    "# get the data from the table pco_polk_to_hh_census_23 that has the county level ratio of \n",
    "# RO to GM vehicle Population [RO_CNT_TO_VEH_RATIO] and the ratio of Vehicle Household Census to Polk Registerd Vehicles[ratio].\n",
    "df_ora = pd.read_sql(\"select * from pco_polk_to_hh_census_23\", con=con)"
   ]
  },
  {
   "cell_type": "code",
   "execution_count": 114,
   "metadata": {},
   "outputs": [
    {
     "data": {
      "text/html": [
       "<div>\n",
       "<style scoped>\n",
       "    .dataframe tbody tr th:only-of-type {\n",
       "        vertical-align: middle;\n",
       "    }\n",
       "\n",
       "    .dataframe tbody tr th {\n",
       "        vertical-align: top;\n",
       "    }\n",
       "\n",
       "    .dataframe thead th {\n",
       "        text-align: right;\n",
       "    }\n",
       "</style>\n",
       "<table border=\"1\" class=\"dataframe\">\n",
       "  <thead>\n",
       "    <tr style=\"text-align: right;\">\n",
       "      <th></th>\n",
       "      <th>FIPS_STATE_CODE</th>\n",
       "      <th>FIPS_COUNTY_CODE</th>\n",
       "      <th>COUNTY_NAME</th>\n",
       "      <th>STATE_ABBR</th>\n",
       "      <th>STATE_NAME</th>\n",
       "      <th>RO_COUNT</th>\n",
       "      <th>C_PART_PAY_TYPE_COUNT</th>\n",
       "      <th>W_PART_PAY_TYPE_COUNT</th>\n",
       "      <th>I_PART_PAY_TYPE_COUNT</th>\n",
       "      <th>O_PART_PAY_TYPE_COUNT</th>\n",
       "      <th>TOTAL_VIO</th>\n",
       "      <th>RO_CNT_TO_VEH_RATIO</th>\n",
       "      <th>COUNTY_NAME_L</th>\n",
       "      <th>REGISTERED_VIO_COUNT</th>\n",
       "      <th>AVAILABLE_VIO_COUNT</th>\n",
       "      <th>RATIO</th>\n",
       "      <th>IMPACT</th>\n",
       "      <th>OUTLIER_IDENTIFY</th>\n",
       "    </tr>\n",
       "  </thead>\n",
       "  <tbody>\n",
       "    <tr>\n",
       "      <th>0</th>\n",
       "      <td>06</td>\n",
       "      <td>037</td>\n",
       "      <td>LOS ANGELES</td>\n",
       "      <td>CA</td>\n",
       "      <td>CALIFORNIA</td>\n",
       "      <td>374333</td>\n",
       "      <td>633638</td>\n",
       "      <td>499308</td>\n",
       "      <td>0</td>\n",
       "      <td>0</td>\n",
       "      <td>820282</td>\n",
       "      <td>0.456347</td>\n",
       "      <td>los angeles</td>\n",
       "      <td>6931250</td>\n",
       "      <td>7914136</td>\n",
       "      <td>1.14</td>\n",
       "      <td>982886.16</td>\n",
       "      <td>Normal</td>\n",
       "    </tr>\n",
       "    <tr>\n",
       "      <th>1</th>\n",
       "      <td>51</td>\n",
       "      <td>059</td>\n",
       "      <td>FAIRFAX</td>\n",
       "      <td>VA</td>\n",
       "      <td>VIRGINIA</td>\n",
       "      <td>44624</td>\n",
       "      <td>100610</td>\n",
       "      <td>44013</td>\n",
       "      <td>0</td>\n",
       "      <td>0</td>\n",
       "      <td>63413</td>\n",
       "      <td>0.703704</td>\n",
       "      <td>fairfax</td>\n",
       "      <td>847768</td>\n",
       "      <td>21922</td>\n",
       "      <td>0.03</td>\n",
       "      <td>825845.68</td>\n",
       "      <td>Below</td>\n",
       "    </tr>\n",
       "    <tr>\n",
       "      <th>2</th>\n",
       "      <td>06</td>\n",
       "      <td>059</td>\n",
       "      <td>ORANGE</td>\n",
       "      <td>CA</td>\n",
       "      <td>CALIFORNIA</td>\n",
       "      <td>156703</td>\n",
       "      <td>302034</td>\n",
       "      <td>221056</td>\n",
       "      <td>0</td>\n",
       "      <td>0</td>\n",
       "      <td>246864</td>\n",
       "      <td>0.634775</td>\n",
       "      <td>orange</td>\n",
       "      <td>2316500</td>\n",
       "      <td>2880632</td>\n",
       "      <td>1.24</td>\n",
       "      <td>564131.54</td>\n",
       "      <td>Above</td>\n",
       "    </tr>\n",
       "    <tr>\n",
       "      <th>3</th>\n",
       "      <td>06</td>\n",
       "      <td>085</td>\n",
       "      <td>SANTA CLARA</td>\n",
       "      <td>CA</td>\n",
       "      <td>CALIFORNIA</td>\n",
       "      <td>63772</td>\n",
       "      <td>136012</td>\n",
       "      <td>86117</td>\n",
       "      <td>0</td>\n",
       "      <td>0</td>\n",
       "      <td>128759</td>\n",
       "      <td>0.495282</td>\n",
       "      <td>santa clara</td>\n",
       "      <td>1367364</td>\n",
       "      <td>1714077</td>\n",
       "      <td>1.25</td>\n",
       "      <td>346713.37</td>\n",
       "      <td>Above</td>\n",
       "    </tr>\n",
       "    <tr>\n",
       "      <th>4</th>\n",
       "      <td>48</td>\n",
       "      <td>201</td>\n",
       "      <td>HARRIS</td>\n",
       "      <td>TX</td>\n",
       "      <td>TEXAS</td>\n",
       "      <td>422740</td>\n",
       "      <td>803587</td>\n",
       "      <td>496982</td>\n",
       "      <td>0</td>\n",
       "      <td>0</td>\n",
       "      <td>652209</td>\n",
       "      <td>0.648166</td>\n",
       "      <td>harris</td>\n",
       "      <td>3105655</td>\n",
       "      <td>3436889</td>\n",
       "      <td>1.11</td>\n",
       "      <td>331233.64</td>\n",
       "      <td>Normal</td>\n",
       "    </tr>\n",
       "  </tbody>\n",
       "</table>\n",
       "</div>"
      ],
      "text/plain": [
       "  FIPS_STATE_CODE FIPS_COUNTY_CODE  COUNTY_NAME STATE_ABBR  STATE_NAME  \\\n",
       "0              06              037  LOS ANGELES         CA  CALIFORNIA   \n",
       "1              51              059      FAIRFAX         VA    VIRGINIA   \n",
       "2              06              059       ORANGE         CA  CALIFORNIA   \n",
       "3              06              085  SANTA CLARA         CA  CALIFORNIA   \n",
       "4              48              201       HARRIS         TX       TEXAS   \n",
       "\n",
       "   RO_COUNT  C_PART_PAY_TYPE_COUNT  W_PART_PAY_TYPE_COUNT  \\\n",
       "0    374333                 633638                 499308   \n",
       "1     44624                 100610                  44013   \n",
       "2    156703                 302034                 221056   \n",
       "3     63772                 136012                  86117   \n",
       "4    422740                 803587                 496982   \n",
       "\n",
       "   I_PART_PAY_TYPE_COUNT  O_PART_PAY_TYPE_COUNT  TOTAL_VIO  \\\n",
       "0                      0                      0     820282   \n",
       "1                      0                      0      63413   \n",
       "2                      0                      0     246864   \n",
       "3                      0                      0     128759   \n",
       "4                      0                      0     652209   \n",
       "\n",
       "   RO_CNT_TO_VEH_RATIO COUNTY_NAME_L  REGISTERED_VIO_COUNT  \\\n",
       "0             0.456347   los angeles               6931250   \n",
       "1             0.703704       fairfax                847768   \n",
       "2             0.634775        orange               2316500   \n",
       "3             0.495282   santa clara               1367364   \n",
       "4             0.648166        harris               3105655   \n",
       "\n",
       "   AVAILABLE_VIO_COUNT  RATIO     IMPACT OUTLIER_IDENTIFY  \n",
       "0              7914136   1.14  982886.16           Normal  \n",
       "1                21922   0.03  825845.68            Below  \n",
       "2              2880632   1.24  564131.54            Above  \n",
       "3              1714077   1.25  346713.37            Above  \n",
       "4              3436889   1.11  331233.64           Normal  "
      ]
     },
     "execution_count": 114,
     "metadata": {},
     "output_type": "execute_result"
    }
   ],
   "source": [
    "df_ora.head()"
   ]
  },
  {
   "cell_type": "code",
   "execution_count": 115,
   "metadata": {},
   "outputs": [
    {
     "data": {
      "text/plain": [
       "Index(['FIPS_STATE_CODE', 'FIPS_COUNTY_CODE', 'COUNTY_NAME', 'STATE_ABBR',\n",
       "       'STATE_NAME', 'RO_COUNT', 'C_PART_PAY_TYPE_COUNT',\n",
       "       'W_PART_PAY_TYPE_COUNT', 'I_PART_PAY_TYPE_COUNT',\n",
       "       'O_PART_PAY_TYPE_COUNT', 'TOTAL_VIO', 'RO_CNT_TO_VEH_RATIO',\n",
       "       'COUNTY_NAME_L', 'REGISTERED_VIO_COUNT', 'AVAILABLE_VIO_COUNT', 'RATIO',\n",
       "       'IMPACT', 'OUTLIER_IDENTIFY'],\n",
       "      dtype='object')"
      ]
     },
     "execution_count": 115,
     "metadata": {},
     "output_type": "execute_result"
    }
   ],
   "source": [
    "df_ora.columns"
   ]
  },
  {
   "cell_type": "code",
   "execution_count": 116,
   "metadata": {},
   "outputs": [
    {
     "name": "stdout",
     "output_type": "stream",
     "text": [
      "<class 'pandas.core.series.Series'>\n"
     ]
    },
    {
     "data": {
      "text/plain": [
       "count    1893.000000\n",
       "mean        0.728315\n",
       "std         3.047995\n",
       "min         0.006785\n",
       "25%         0.408563\n",
       "50%         0.567221\n",
       "75%         0.773011\n",
       "max       130.214286\n",
       "Name: RO_CNT_TO_VEH_RATIO, dtype: float64"
      ]
     },
     "execution_count": 116,
     "metadata": {},
     "output_type": "execute_result"
    }
   ],
   "source": [
    "# get the ratio of ROs to Registerd GM Vehicles\n",
    "RO_CNT_TO_VEH_RATIO = df_ora['RO_CNT_TO_VEH_RATIO']\n",
    "print (type(RO_CNT_TO_VEH_RATIO))\n",
    "RO_CNT_TO_VEH_RATIO.describe() # print first order statistics"
   ]
  },
  {
   "cell_type": "code",
   "execution_count": 117,
   "metadata": {},
   "outputs": [
    {
     "name": "stderr",
     "output_type": "stream",
     "text": [
      "C:\\ProgramData\\Anaconda3\\lib\\site-packages\\scipy\\stats\\stats.py:1713: FutureWarning: Using a non-tuple sequence for multidimensional indexing is deprecated; use `arr[tuple(seq)]` instead of `arr[seq]`. In the future this will be interpreted as an array index, `arr[np.array(seq)]`, which will result either in an error or a different result.\n",
      "  return np.add.reduce(sorted[indexer] * weights, axis=axis) / sumval\n"
     ]
    },
    {
     "data": {
      "text/plain": [
       "<matplotlib.axes._subplots.AxesSubplot at 0x1bd7e9765f8>"
      ]
     },
     "execution_count": 117,
     "metadata": {},
     "output_type": "execute_result"
    },
    {
     "data": {
      "image/png": "[encoded data removed]",
      "text/plain": [
       "<Figure size 432x288 with 1 Axes>"
      ]
     },
     "metadata": {
      "needs_background": "light"
     },
     "output_type": "display_data"
    }
   ],
   "source": [
    "# do a histogram of the \n",
    "sns.distplot(RO_CNT_TO_VEH_RATIO)"
   ]
  },
  {
   "cell_type": "code",
   "execution_count": 118,
   "metadata": {},
   "outputs": [
    {
     "data": {
      "text/plain": [
       "<matplotlib.axes._subplots.AxesSubplot at 0x1bd7eacf550>"
      ]
     },
     "execution_count": 118,
     "metadata": {},
     "output_type": "execute_result"
    },
    {
     "data": {
      "image/png": "[encoded data removed]",
      "text/plain": [
       "<Figure size 432x288 with 1 Axes>"
      ]
     },
     "metadata": {
      "needs_background": "light"
     },
     "output_type": "display_data"
    }
   ],
   "source": [
    "#Plot above indicates we have significant outliers.  Let's see what a box plot shows us.\n",
    "sns.boxenplot(RO_CNT_TO_VEH_RATIO)\n"
   ]
  },
  {
   "cell_type": "code",
   "execution_count": 119,
   "metadata": {},
   "outputs": [
    {
     "name": "stdout",
     "output_type": "stream",
     "text": [
      "1888    130.214286\n",
      "1033     15.816964\n",
      "1447     12.442884\n",
      "1600      9.596577\n",
      "1442      7.966802\n",
      "1303      5.307731\n",
      "345       4.797442\n",
      "1625      4.201236\n",
      "1788      3.901121\n",
      "1100      3.632427\n",
      "1367      3.552213\n",
      "1862      3.549873\n",
      "1775      2.793634\n",
      "1484      2.761450\n",
      "1828      2.541277\n",
      "763       2.522924\n",
      "1884      2.440008\n",
      "1636      2.390000\n",
      "1521      2.353673\n",
      "1778      2.268747\n",
      "Name: RO_CNT_TO_VEH_RATIO, dtype: float64\n",
      "1773    0.110434\n",
      "427     0.107518\n",
      "1193    0.104553\n",
      "1070    0.104457\n",
      "710     0.104038\n",
      "745     0.102013\n",
      "1733    0.098993\n",
      "365     0.098218\n",
      "834     0.090004\n",
      "1738    0.088443\n",
      "711     0.086491\n",
      "803     0.079075\n",
      "208     0.077368\n",
      "424     0.071569\n",
      "991     0.064795\n",
      "750     0.058082\n",
      "980     0.052333\n",
      "1599    0.038329\n",
      "1256    0.020276\n",
      "1155    0.006785\n",
      "Name: RO_CNT_TO_VEH_RATIO, dtype: float64\n"
     ]
    }
   ],
   "source": [
    "# Let's sort the data see what our top values look like.\n",
    "RO_CNT_TO_VEH_RATIO_sorted=RO_CNT_TO_VEH_RATIO.sort_values(axis=0, ascending=False, inplace=False, kind='quicksort', na_position='last')\n",
    "print(RO_CNT_TO_VEH_RATIO_sorted.head(20))\n",
    "print(RO_CNT_TO_VEH_RATIO_sorted.tail(20))"
   ]
  },
  {
   "cell_type": "code",
   "execution_count": 126,
   "metadata": {},
   "outputs": [
    {
     "name": "stdout",
     "output_type": "stream",
     "text": [
      "1893\n",
      "Int64Index([1888, 1033, 1447, 1600, 1442, 1303,  345, 1625, 1788,  803,  208,\n",
      "             424,  991,  750,  980, 1599, 1256, 1155],\n",
      "           dtype='int64')\n",
      "1100    3.632427\n",
      "1367    3.552213\n",
      "1862    3.549873\n",
      "1775    2.793634\n",
      "1484    2.761450\n",
      "1828    2.541277\n",
      "763     2.522924\n",
      "1884    2.440008\n",
      "1636    2.390000\n",
      "1521    2.353673\n",
      "Name: RO_CNT_TO_VEH_RATIO, dtype: float64\n",
      "427     0.107518\n",
      "1193    0.104553\n",
      "1070    0.104457\n",
      "710     0.104038\n",
      "745     0.102013\n",
      "1733    0.098993\n",
      "365     0.098218\n",
      "834     0.090004\n",
      "1738    0.088443\n",
      "711     0.086491\n",
      "Name: RO_CNT_TO_VEH_RATIO, dtype: float64\n"
     ]
    }
   ],
   "source": [
    "print (len(RO_CNT_TO_VEH_RATIO_sorted)) # prints 1893\n",
    "# throw out the the top and bottom 0.5% of data\n",
    "del_these = RO_CNT_TO_VEH_RATIO_sorted.head(9).index  \n",
    "del_these_2 = RO_CNT_TO_VEH_RATIO_sorted.tail(9).index  \n",
    "del_these_3 = del_these.append(del_these_2)\n",
    "print (del_these_3)\n",
    "RO_CNT_TO_VEH_RATIO_sorted_clipped = RO_CNT_TO_VEH_RATIO_sorted.drop(del_these_3  )\n",
    "print(RO_CNT_TO_VEH_RATIO_sorted_clipped.head(10))\n",
    "print(RO_CNT_TO_VEH_RATIO_sorted_clipped.tail(10))"
   ]
  },
  {
   "cell_type": "code",
   "execution_count": 127,
   "metadata": {},
   "outputs": [
    {
     "data": {
      "text/plain": [
       "<matplotlib.axes._subplots.AxesSubplot at 0x1bd7eb619b0>"
      ]
     },
     "execution_count": 127,
     "metadata": {},
     "output_type": "execute_result"
    },
    {
     "data": {
      "image/png": "[encoded data removed]",
      "text/plain": [
       "<Figure size 432x288 with 1 Axes>"
      ]
     },
     "metadata": {
      "needs_background": "light"
     },
     "output_type": "display_data"
    }
   ],
   "source": [
    "sns.boxenplot(RO_CNT_TO_VEH_RATIO_sorted_clipped)  # look better.  I'm gonna trim off anything above 6 and see what happens."
   ]
  },
  {
   "cell_type": "code",
   "execution_count": 128,
   "metadata": {},
   "outputs": [
    {
     "name": "stderr",
     "output_type": "stream",
     "text": [
      "C:\\ProgramData\\Anaconda3\\lib\\site-packages\\scipy\\stats\\stats.py:1713: FutureWarning: Using a non-tuple sequence for multidimensional indexing is deprecated; use `arr[tuple(seq)]` instead of `arr[seq]`. In the future this will be interpreted as an array index, `arr[np.array(seq)]`, which will result either in an error or a different result.\n",
      "  return np.add.reduce(sorted[indexer] * weights, axis=axis) / sumval\n"
     ]
    },
    {
     "data": {
      "text/plain": [
       "<matplotlib.axes._subplots.AxesSubplot at 0x1bd7ebb4828>"
      ]
     },
     "execution_count": 128,
     "metadata": {},
     "output_type": "execute_result"
    },
    {
     "data": {
      "image/png": "[encoded data removed]",
      "text/plain": [
       "<Figure size 432x288 with 1 Axes>"
      ]
     },
     "metadata": {
      "needs_background": "light"
     },
     "output_type": "display_data"
    }
   ],
   "source": [
    "sns.distplot(RO_CNT_TO_VEH_RATIO_sorted_clipped) # looks good, almost a perfect normal distribution.  \n",
    "                                  # I'm going to see what happens if I get rid anything greater than 1.5\n"
   ]
  },
  {
   "cell_type": "code",
   "execution_count": 131,
   "metadata": {},
   "outputs": [
    {
     "data": {
      "text/plain": [
       "count    1893.000000\n",
       "mean        0.918030\n",
       "std         0.232557\n",
       "min         0.030000\n",
       "25%         0.820000\n",
       "50%         0.910000\n",
       "75%         1.010000\n",
       "max         8.660000\n",
       "Name: RATIO, dtype: float64"
      ]
     },
     "execution_count": 131,
     "metadata": {},
     "output_type": "execute_result"
    }
   ],
   "source": [
    "CENSUS_TO_REG_RATIO  = df_ora['RATIO']\n",
    "CENSUS_TO_REG_RATIO.describe() # print first order statistics"
   ]
  },
  {
   "cell_type": "code",
   "execution_count": 132,
   "metadata": {},
   "outputs": [
    {
     "name": "stderr",
     "output_type": "stream",
     "text": [
      "C:\\ProgramData\\Anaconda3\\lib\\site-packages\\scipy\\stats\\stats.py:1713: FutureWarning: Using a non-tuple sequence for multidimensional indexing is deprecated; use `arr[tuple(seq)]` instead of `arr[seq]`. In the future this will be interpreted as an array index, `arr[np.array(seq)]`, which will result either in an error or a different result.\n",
      "  return np.add.reduce(sorted[indexer] * weights, axis=axis) / sumval\n"
     ]
    },
    {
     "data": {
      "text/plain": [
       "<matplotlib.axes._subplots.AxesSubplot at 0x1bd7ec8b400>"
      ]
     },
     "execution_count": 132,
     "metadata": {},
     "output_type": "execute_result"
    },
    {
     "data": {
      "image/png": "[encoded data removed]",
      "text/plain": [
       "<Figure size 432x288 with 1 Axes>"
      ]
     },
     "metadata": {
      "needs_background": "light"
     },
     "output_type": "display_data"
    }
   ],
   "source": [
    "sns.distplot(CENSUS_TO_REG_RATIO)"
   ]
  },
  {
   "cell_type": "code",
   "execution_count": null,
   "metadata": {},
   "outputs": [],
   "source": [
    "CENSUS_TO_REG_RATIO_sorted=CENSUS_TO_REG_RATIO.sort_values(axis=0, ascending=False, inplace=False, kind='quicksort', na_position='last')\n"
   ]
  },
  {
   "cell_type": "code",
   "execution_count": 133,
   "metadata": {},
   "outputs": [
    {
     "data": {
      "image/png": "[encoded data removed]",
      "text/plain": [
       "<Figure size 360x360 with 1 Axes>"
      ]
     },
     "metadata": {
      "needs_background": "light"
     },
     "output_type": "display_data"
    }
   ],
   "source": [
    "sns.relplot(x=\"RO_CNT_TO_VEH_RATIO\", y=\"RATIO\", data=df_ora);"
   ]
  },
  {
   "cell_type": "code",
   "execution_count": 136,
   "metadata": {},
   "outputs": [
    {
     "name": "stderr",
     "output_type": "stream",
     "text": [
      "C:\\ProgramData\\Anaconda3\\lib\\site-packages\\ipykernel_launcher.py:2: UserWarning: Boolean Series key will be reindexed to match DataFrame index.\n",
      "  \n"
     ]
    }
   ],
   "source": [
    "df_ora_clipped = df_ora[df_ora.RO_CNT_TO_VEH_RATIO < 3.9 ]\n",
    "df_ora_clipped_2 = df_ora_clipped[df_ora.RATIO < 2 ]"
   ]
  },
  {
   "cell_type": "code",
   "execution_count": 137,
   "metadata": {},
   "outputs": [
    {
     "data": {
      "image/png": "[encoded data removed]",
      "text/plain": [
       "<Figure size 360x360 with 1 Axes>"
      ]
     },
     "metadata": {
      "needs_background": "light"
     },
     "output_type": "display_data"
    }
   ],
   "source": [
    "sns.relplot(x=\"RO_CNT_TO_VEH_RATIO\", y=\"RATIO\", data=df_ora_clipped_2);"
   ]
  },
  {
   "cell_type": "code",
   "execution_count": 142,
   "metadata": {},
   "outputs": [],
   "source": [
    "df_ora = pd.read_sql(\"select OUTLIER_IDENTIFY,RO_CNT_TO_VEH_RATIO from pco_polk_to_hh_census_24\", con=con)"
   ]
  },
  {
   "cell_type": "code",
   "execution_count": 143,
   "metadata": {},
   "outputs": [
    {
     "data": {
      "image/png": "[encoded data removed]",
      "text/plain": [
       "<Figure size 432x288 with 1 Axes>"
      ]
     },
     "metadata": {
      "needs_background": "light"
     },
     "output_type": "display_data"
    }
   ],
   "source": [
    "ax = sns.boxenplot(x=\"OUTLIER_IDENTIFY\", y=\"RO_CNT_TO_VEH_RATIO\", data=df_ora)"
   ]
  },
  {
   "cell_type": "code",
   "execution_count": 146,
   "metadata": {},
   "outputs": [
    {
     "data": {
      "text/html": [
       "<div>\n",
       "<style scoped>\n",
       "    .dataframe tbody tr th:only-of-type {\n",
       "        vertical-align: middle;\n",
       "    }\n",
       "\n",
       "    .dataframe tbody tr th {\n",
       "        vertical-align: top;\n",
       "    }\n",
       "\n",
       "    .dataframe thead th {\n",
       "        text-align: right;\n",
       "    }\n",
       "</style>\n",
       "<table border=\"1\" class=\"dataframe\">\n",
       "  <thead>\n",
       "    <tr style=\"text-align: right;\">\n",
       "      <th></th>\n",
       "      <th>RO_CNT_TO_VEH_RATIO</th>\n",
       "    </tr>\n",
       "  </thead>\n",
       "  <tbody>\n",
       "    <tr>\n",
       "      <th>count</th>\n",
       "      <td>1800.000000</td>\n",
       "    </tr>\n",
       "    <tr>\n",
       "      <th>mean</th>\n",
       "      <td>0.622521</td>\n",
       "    </tr>\n",
       "    <tr>\n",
       "      <th>std</th>\n",
       "      <td>0.329903</td>\n",
       "    </tr>\n",
       "    <tr>\n",
       "      <th>min</th>\n",
       "      <td>0.006785</td>\n",
       "    </tr>\n",
       "    <tr>\n",
       "      <th>25%</th>\n",
       "      <td>0.407346</td>\n",
       "    </tr>\n",
       "    <tr>\n",
       "      <th>50%</th>\n",
       "      <td>0.565064</td>\n",
       "    </tr>\n",
       "    <tr>\n",
       "      <th>75%</th>\n",
       "      <td>0.769020</td>\n",
       "    </tr>\n",
       "    <tr>\n",
       "      <th>max</th>\n",
       "      <td>2.793634</td>\n",
       "    </tr>\n",
       "  </tbody>\n",
       "</table>\n",
       "</div>"
      ],
      "text/plain": [
       "       RO_CNT_TO_VEH_RATIO\n",
       "count          1800.000000\n",
       "mean              0.622521\n",
       "std               0.329903\n",
       "min               0.006785\n",
       "25%               0.407346\n",
       "50%               0.565064\n",
       "75%               0.769020\n",
       "max               2.793634"
      ]
     },
     "execution_count": 146,
     "metadata": {},
     "output_type": "execute_result"
    }
   ],
   "source": [
    "df_ora[df_ora.OUTLIER_IDENTIFY=='Normal'].describe() # print first order statistics"
   ]
  },
  {
   "cell_type": "code",
   "execution_count": 147,
   "metadata": {},
   "outputs": [
    {
     "data": {
      "text/html": [
       "<div>\n",
       "<style scoped>\n",
       "    .dataframe tbody tr th:only-of-type {\n",
       "        vertical-align: middle;\n",
       "    }\n",
       "\n",
       "    .dataframe tbody tr th {\n",
       "        vertical-align: top;\n",
       "    }\n",
       "\n",
       "    .dataframe thead th {\n",
       "        text-align: right;\n",
       "    }\n",
       "</style>\n",
       "<table border=\"1\" class=\"dataframe\">\n",
       "  <thead>\n",
       "    <tr style=\"text-align: right;\">\n",
       "      <th></th>\n",
       "      <th>RO_CNT_TO_VEH_RATIO</th>\n",
       "    </tr>\n",
       "  </thead>\n",
       "  <tbody>\n",
       "    <tr>\n",
       "      <th>count</th>\n",
       "      <td>33.000000</td>\n",
       "    </tr>\n",
       "    <tr>\n",
       "      <th>mean</th>\n",
       "      <td>0.452581</td>\n",
       "    </tr>\n",
       "    <tr>\n",
       "      <th>std</th>\n",
       "      <td>0.217972</td>\n",
       "    </tr>\n",
       "    <tr>\n",
       "      <th>min</th>\n",
       "      <td>0.064795</td>\n",
       "    </tr>\n",
       "    <tr>\n",
       "      <th>25%</th>\n",
       "      <td>0.321747</td>\n",
       "    </tr>\n",
       "    <tr>\n",
       "      <th>50%</th>\n",
       "      <td>0.452695</td>\n",
       "    </tr>\n",
       "    <tr>\n",
       "      <th>75%</th>\n",
       "      <td>0.583698</td>\n",
       "    </tr>\n",
       "    <tr>\n",
       "      <th>max</th>\n",
       "      <td>0.955566</td>\n",
       "    </tr>\n",
       "  </tbody>\n",
       "</table>\n",
       "</div>"
      ],
      "text/plain": [
       "       RO_CNT_TO_VEH_RATIO\n",
       "count            33.000000\n",
       "mean              0.452581\n",
       "std               0.217972\n",
       "min               0.064795\n",
       "25%               0.321747\n",
       "50%               0.452695\n",
       "75%               0.583698\n",
       "max               0.955566"
      ]
     },
     "execution_count": 147,
     "metadata": {},
     "output_type": "execute_result"
    }
   ],
   "source": [
    "df_ora[df_ora.OUTLIER_IDENTIFY=='Below'].describe() # print first order statistics"
   ]
  },
  {
   "cell_type": "code",
   "execution_count": 148,
   "metadata": {},
   "outputs": [
    {
     "data": {
      "text/html": [
       "<div>\n",
       "<style scoped>\n",
       "    .dataframe tbody tr th:only-of-type {\n",
       "        vertical-align: middle;\n",
       "    }\n",
       "\n",
       "    .dataframe tbody tr th {\n",
       "        vertical-align: top;\n",
       "    }\n",
       "\n",
       "    .dataframe thead th {\n",
       "        text-align: right;\n",
       "    }\n",
       "</style>\n",
       "<table border=\"1\" class=\"dataframe\">\n",
       "  <thead>\n",
       "    <tr style=\"text-align: right;\">\n",
       "      <th></th>\n",
       "      <th>RO_CNT_TO_VEH_RATIO</th>\n",
       "    </tr>\n",
       "  </thead>\n",
       "  <tbody>\n",
       "    <tr>\n",
       "      <th>count</th>\n",
       "      <td>48.000000</td>\n",
       "    </tr>\n",
       "    <tr>\n",
       "      <th>mean</th>\n",
       "      <td>0.796836</td>\n",
       "    </tr>\n",
       "    <tr>\n",
       "      <th>std</th>\n",
       "      <td>0.470662</td>\n",
       "    </tr>\n",
       "    <tr>\n",
       "      <th>min</th>\n",
       "      <td>0.187608</td>\n",
       "    </tr>\n",
       "    <tr>\n",
       "      <th>25%</th>\n",
       "      <td>0.491798</td>\n",
       "    </tr>\n",
       "    <tr>\n",
       "      <th>50%</th>\n",
       "      <td>0.690675</td>\n",
       "    </tr>\n",
       "    <tr>\n",
       "      <th>75%</th>\n",
       "      <td>0.876584</td>\n",
       "    </tr>\n",
       "    <tr>\n",
       "      <th>max</th>\n",
       "      <td>2.522924</td>\n",
       "    </tr>\n",
       "  </tbody>\n",
       "</table>\n",
       "</div>"
      ],
      "text/plain": [
       "       RO_CNT_TO_VEH_RATIO\n",
       "count            48.000000\n",
       "mean              0.796836\n",
       "std               0.470662\n",
       "min               0.187608\n",
       "25%               0.491798\n",
       "50%               0.690675\n",
       "75%               0.876584\n",
       "max               2.522924"
      ]
     },
     "execution_count": 148,
     "metadata": {},
     "output_type": "execute_result"
    }
   ],
   "source": [
    "df_ora[df_ora.OUTLIER_IDENTIFY=='Above'].describe() # print first order statistics"
   ]
  },
  {
   "cell_type": "code",
   "execution_count": null,
   "metadata": {},
   "outputs": [],
   "source": []
  }
 ],
 "metadata": {
  "kernelspec": {
   "display_name": "Python 3",
   "language": "python",
   "name": "python3"
  },
  "language_info": {
   "codemirror_mode": {
    "name": "ipython",
    "version": 3
   },
   "file_extension": ".py",
   "mimetype": "text/x-python",
   "name": "python",
   "nbconvert_exporter": "python",
   "pygments_lexer": "ipython3",
   "version": "3.7.0"
  }
 },
 "nbformat": 4,
 "nbformat_minor": 2
}
