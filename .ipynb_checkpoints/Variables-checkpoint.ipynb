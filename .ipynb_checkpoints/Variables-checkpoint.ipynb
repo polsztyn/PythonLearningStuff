{
 "cells": [
  {
   "cell_type": "markdown",
   "metadata": {},
   "source": [
    "#Variables\n",
    "\n",
    "A variable is just a chunk of data you've given a name, so that you can refer to it later. \n",
    "\n",
    "A variable might refer to a singlenumber or some text, or to a massive table with many rows and columns.\n",
    "\n",
    "For the most part, you don't need to declare a variable in advance the way you do in many other languages; you just\n",
    "start using it. For example:"
   ]
  },
  {
   "cell_type": "code",
   "execution_count": 13,
   "metadata": {
    "collapsed": false
   },
   "outputs": [],
   "source": [
    "a = 5 # Create a variable called 'a' and assign the number 5 to it."
   ]
  },
  {
   "cell_type": "code",
   "execution_count": 14,
   "metadata": {
    "collapsed": false
   },
   "outputs": [
    {
     "name": "stdout",
     "output_type": "stream",
     "text": [
      "5\n"
     ]
    }
   ],
   "source": [
    "print a # Output the value of a"
   ]
  },
  {
   "cell_type": "markdown",
   "metadata": {},
   "source": [
    "-- ipyton notes:\n",
    "\n",
    "Notice that variables carry over from cell to cell in the Notebook. \n",
    "\n",
    "Even though you're running the cells one at a time, all the data created in the notebook you're using is being held in memory. \n",
    "\n",
    "*Variables don't carry over between notebooks, or between sessions*\n"
   ]
  },
  {
   "cell_type": "code",
   "execution_count": 15,
   "metadata": {
    "collapsed": false
   },
   "outputs": [
    {
     "name": "stdout",
     "output_type": "stream",
     "text": [
      "10\n"
     ]
    }
   ],
   "source": [
    "print a * 2  # Multiply a by 2, and output the result\n"
   ]
  },
  {
   "cell_type": "code",
   "execution_count": 16,
   "metadata": {
    "collapsed": false
   },
   "outputs": [],
   "source": [
    "b =  a + 5 # Create a new variable 'b', and set it to a+5.\n"
   ]
  },
  {
   "cell_type": "code",
   "execution_count": 17,
   "metadata": {
    "collapsed": false
   },
   "outputs": [],
   "source": [
    "a = 7 # Change a's value to 7."
   ]
  },
  {
   "cell_type": "code",
   "execution_count": 18,
   "metadata": {
    "collapsed": false
   },
   "outputs": [
    {
     "name": "stdout",
     "output_type": "stream",
     "text": [
      "7 10\n"
     ]
    }
   ],
   "source": [
    "print a, b # Output the values of variables a and b"
   ]
  },
  {
   "cell_type": "markdown",
   "metadata": {},
   "source": [
    "<b> *Note. b's value has been set, and doesn't depend on a anymore.* </b>\n",
    "\n",
    "Notice the comma in the print command. You can string together multiple things to print on the same line, separated by\n",
    "a comma.\n"
   ]
  },
  {
   "cell_type": "markdown",
   "metadata": {},
   "source": [
    "<h3>Case Sensitivity </h3>\n",
    "<p>Python variables are case sensitive as the example below shows </p>"
   ]
  },
  {
   "cell_type": "code",
   "execution_count": 3,
   "metadata": {
    "collapsed": false
   },
   "outputs": [
    {
     "name": "stdout",
     "output_type": "stream",
     "text": [
      " A = 1  a =  2\n"
     ]
    }
   ],
   "source": [
    "A = 1\n",
    "a = 2\n",
    "print \"A =\", A, \" a = \", a"
   ]
  },
  {
   "cell_type": "markdown",
   "metadata": {},
   "source": [
    "# Dynamic Variable Typing\n",
    "\n",
    "Variables in Python are dynamically typed, <b>meaning that the type of data a variable stores isn't fixed.</b> \n",
    "\n",
    "So you can assign a number to a variable one line, and a string (the computer-sciency word for text) to it the next. \n",
    "\n",
    "For example:\n",
    " "
   ]
  },
  {
   "cell_type": "code",
   "execution_count": 19,
   "metadata": {
    "collapsed": false
   },
   "outputs": [
    {
     "name": "stdout",
     "output_type": "stream",
     "text": [
      "7\n",
      "Hello, Python!\n"
     ]
    }
   ],
   "source": [
    "print a\n",
    "a = \"Hello, Python!\"\n",
    "print a\n"
   ]
  },
  {
   "cell_type": "markdown",
   "metadata": {},
   "source": [
    "Note that the old value of a is gone now. Even though you can use the same variable name to refer to different data\n",
    "doesn't mean that you should. It's generally a good idea to have each variable serve one particular purpose in your\n",
    "code.\n",
    "\n",
    "You can't use a variable before you've assigned something to it. Since the computer doesn't know what kind of data\n",
    "your variable is going to hold, it can't prepare a default value for it. If you get this wrong, the computer will usually tell\n",
    "you. For example:\n"
   ]
  },
  {
   "cell_type": "code",
   "execution_count": 22,
   "metadata": {
    "collapsed": false
   },
   "outputs": [
    {
     "ename": "NameError",
     "evalue": "name 'c' is not defined",
     "output_type": "error",
     "traceback": [
      "\u001b[1;31m---------------------------------------------------------------------------\u001b[0m\n\u001b[1;31mNameError\u001b[0m                                 Traceback (most recent call last)",
      "\u001b[1;32m<ipython-input-22-86592333e919>\u001b[0m in \u001b[0;36m<module>\u001b[1;34m()\u001b[0m\n\u001b[1;32m----> 1\u001b[1;33m \u001b[1;32mprint\u001b[0m \u001b[0mc\u001b[0m \u001b[1;31m# We haven't assigned anything to c yet.\u001b[0m\u001b[1;33m\u001b[0m\u001b[0m\n\u001b[0m",
      "\u001b[1;31mNameError\u001b[0m: name 'c' is not defined"
     ]
    }
   ],
   "source": [
    "print c # We haven't assigned anything to c yet.\n"
   ]
  },
  {
   "cell_type": "markdown",
   "metadata": {},
   "source": [
    "print c # We haven't This is an error. Errors are annoying, but they're your friends: they let you know that you probably made a mistake, and\n",
    "hopefully will help you fix it. You'll probably see these a lot. Don't worry, you haven't broken anything.\n",
    "\n",
    "The error above, for example, is a NameError, and lets you know that you tried to use a variable that wasn't defined.\n",
    "Naturally, you can also use variables together. For example:\n",
    "assigned anything to c yet.\n"
   ]
  },
  {
   "cell_type": "code",
   "execution_count": 4,
   "metadata": {
    "collapsed": false
   },
   "outputs": [
    {
     "name": "stdout",
     "output_type": "stream",
     "text": [
      "a =  7\n",
      "b =  2\n",
      "a + b =  9\n",
      "a - b =  5\n",
      "a * b =  14\n",
      "a / b =  3\n",
      "a % b =  1\n"
     ]
    }
   ],
   "source": [
    "# Naturally, you can also use variables together. For example:\n",
    "a = 7\n",
    "b = 2\n",
    "print \"a = \", a\n",
    "print \"b = \", b\n",
    "print \"a + b = \", a+b #addition\n",
    "print \"a - b = \", a-b #subtraction\n",
    "print \"a * b = \", a*b #multiplication\n",
    "print \"a / b = \", a/b #Division : Note when both operands Euclidean division is implemented which is the floor(quotient)\n",
    "print \"a % b = \", a%b #Modulo Division : returns the remainder of integer division\n"
   ]
  },
  {
   "cell_type": "markdown",
   "metadata": {},
   "source": [
    "# Numbers - Integer and Floating Point\n",
    "Uh oh, notice something weird? Everything looks right, except for the last operation. So what's going on?\n",
    "\n",
    "Python (like most programming languages) doesn't treat all numbers the same. \n",
    "\n",
    "There are basically two types ofnumbers, as far as Python is concerned: round numbers (integers) and numbers with values after the decimal point\n",
    "(floating points, or just floats). \n",
    "\n",
    "When you divide an integer by an integer, Python assumes that the result is also going to be an integer and drops any value after the decimal point.\n",
    "\n",
    "There are a few ways around this: we can tell Python that a variable is a floating point; we can cast it to a floating point,\n",
    "telling the computer to temporarily treat it like one. For example:\n"
   ]
  },
  {
   "cell_type": "code",
   "execution_count": 1,
   "metadata": {
    "collapsed": false
   },
   "outputs": [
    {
     "name": "stdout",
     "output_type": "stream",
     "text": [
      "a / b =  3.5\n"
     ]
    }
   ],
   "source": [
    "a = 7.0 # By putting the decimal point in, we tell Python that 'a' is a float\n",
    "b = 2\n",
    "print \"a / b = \", a/b"
   ]
  },
  {
   "cell_type": "code",
   "execution_count": 1,
   "metadata": {
    "collapsed": false
   },
   "outputs": [
    {
     "name": "stdout",
     "output_type": "stream",
     "text": [
      "a / b =  3.5\n"
     ]
    }
   ],
   "source": [
    "# explicit variable casting to float\n",
    "a = 7\n",
    "b = 2\n",
    "print \"a / b = \", float(a)/b # Temporarily cast a as a float.\n"
   ]
  },
  {
   "cell_type": "markdown",
   "metadata": {},
   "source": [
    "<h1> Import <b>future</b>  package to avoid integer division issues.</h1>\n",
    "\n",
    "If you're worried that this will happen a lot in your program, you can tell Python to automatically check whether division\n",
    "will result in an int or a float. We do this using the import command, which is how we bring additional features and code\n",
    "into our program, like this:\n"
   ]
  },
  {
   "cell_type": "code",
   "execution_count": 2,
   "metadata": {
    "collapsed": false
   },
   "outputs": [
    {
     "name": "stdout",
     "output_type": "stream",
     "text": [
      "3\n"
     ]
    }
   ],
   "source": [
    "# Before:\n",
    "print 7/2\n"
   ]
  },
  {
   "cell_type": "code",
   "execution_count": 4,
   "metadata": {
    "collapsed": false
   },
   "outputs": [],
   "source": [
    "from __future__ import division"
   ]
  },
  {
   "cell_type": "code",
   "execution_count": 5,
   "metadata": {
    "collapsed": false
   },
   "outputs": [
    {
     "name": "stdout",
     "output_type": "stream",
     "text": [
      "3.5\n"
     ]
    }
   ],
   "source": [
    "# After\n",
    "print 7/2\n"
   ]
  },
  {
   "cell_type": "markdown",
   "metadata": {},
   "source": [
    "<h1> From datum to data: Lists, Dictionaries, Tuples and Sets </h1>"
   ]
  },
  {
   "cell_type": "markdown",
   "metadata": {},
   "source": [
    "This is a course on data analysis, and most of the time the data you'll want to analyze will be more than just one or two\n",
    "numbers. If we're dealing with 100 (or 100,000) values, we don't want to create separate variables for each of them.\n",
    "\n",
    "There are four standard data types which can store multiple values together: \n",
    "<list>\n",
    "<li> <b> lists </b> (similar to other languages' arrays) </li>\n",
    "\n",
    "<li> <b> dictionaries </b>(hash maps or hash tables, in other languages). </li>\n",
    "<li> <b> tuples </b> (Tuples function very similarly to lists with one important exception. They are immutable - they cannot be changed once created.) </li>\n",
    "<li> <b> sets </b> (like lists but provides quick implementation of membership operations like 'in'). </li>\n",
    "</list>"
   ]
  },
  {
   "cell_type": "markdown",
   "metadata": {},
   "source": [
    "<h2> Lists </h2>\n",
    "\n",
    "Lists simply store a set of values in order, like this:\n"
   ]
  },
  {
   "cell_type": "code",
   "execution_count": 6,
   "metadata": {
    "collapsed": false
   },
   "outputs": [],
   "source": [
    " some_numbers = [1, 5, 4, 3, 0] # Some meaningless numbers."
   ]
  },
  {
   "cell_type": "markdown",
   "metadata": {},
   "source": [
    "<h3> Accessing Individual List Elements </h3>\n",
    "\n",
    "You can access specific values within the list using square brackets. \n",
    "\n",
    "<b> Note that list positions start counting from 0,</b> so if\n",
    "your list is 5 items long (like the one above), the positions run from 0 to 4. So:\n"
   ]
  },
  {
   "cell_type": "code",
   "execution_count": 122,
   "metadata": {
    "collapsed": false
   },
   "outputs": [
    {
     "name": "stdout",
     "output_type": "stream",
     "text": [
      "First item in the list: 1\n",
      "Third item in the list: 4\n",
      "Last item in the list: 0\n",
      "First Item from end of list 0\n",
      "[1, 5, 4, 3, 0]\n"
     ]
    }
   ],
   "source": [
    "print \"First item in the list:\", some_numbers[0]\n",
    "print \"Third item in the list:\", some_numbers[2]\n",
    "print \"Last item in the list:\", some_numbers[4]\n",
    "print \"First Item from end of list\", some_numbers[-1] # negative indexing starts from the end of the list\n",
    "\n"
   ]
  },
  {
   "cell_type": "markdown",
   "metadata": {},
   "source": [
    "<h2>Seaching a list for a particular value - Index Method and In Operator</h2>\n",
    "\n",
    "<p> You can use the <b>index</b> method to find the index element in a list </p>"
   ]
  },
  {
   "cell_type": "code",
   "execution_count": 6,
   "metadata": {
    "collapsed": false
   },
   "outputs": [
    {
     "name": "stdout",
     "output_type": "stream",
     "text": [
      "['alpha', 'bravo', 'Charlie', 'Delta', 'Echo']\n",
      "The index of the element in list a with value of 'Charlie' is  2\n",
      "['alpha', 'bravo', 'Charlie', 'Delta', 'Echo', 'bravo']\n",
      "The index of the element in list a with value of 'bravo' is  1\n"
     ]
    }
   ],
   "source": [
    "a = [\"alpha\",\"bravo\",\"Charlie\",\"Delta\",\"Echo\"]\n",
    "print a\n",
    "print \"The index of the element in list a with value of 'Charlie' is \", a.index(\"Charlie\")\n",
    "a.append(\"bravo\")\n",
    "print a\n",
    "\n",
    "# when value appears multiple times, index returns first value\n",
    "print \"The index of the element in list a with value of 'bravo' is \", a.index(\"bravo\")\n"
   ]
  },
  {
   "cell_type": "markdown",
   "metadata": {},
   "source": [
    "<p> You can test to see if list contains an element with a given value using the <b>in</b> operator."
   ]
  },
  {
   "cell_type": "code",
   "execution_count": 9,
   "metadata": {
    "collapsed": false
   },
   "outputs": [
    {
     "name": "stdout",
     "output_type": "stream",
     "text": [
      "Is 'alpha' in the list a?  True\n",
      "Is 'gamma' in the list a?  False\n"
     ]
    }
   ],
   "source": [
    "print \"Is 'alpha' in the list a? \", ('alpha' in a)\n",
    "print \"Is 'gamma' in the list a? \", ('gamma' in a)"
   ]
  },
  {
   "cell_type": "code",
   "execution_count": 11,
   "metadata": {
    "collapsed": false
   },
   "outputs": [
    {
     "name": "stdout",
     "output_type": "stream",
     "text": [
      "4 <type 'int'>\n"
     ]
    }
   ],
   "source": [
    "# the index method of a list will return the index of the FIRST value it sees.\n",
    "# Notice below \n",
    "a = [\"bravo\",\"Charlie\",\"delta\",\"Echo\",\"alpha\",\"alpha\" ]\n",
    "i = a.index(\"alpha\")\n",
    "print i, type(i)"
   ]
  },
  {
   "cell_type": "markdown",
   "metadata": {},
   "source": [
    "<h3> Accessing List Elements outside of bounds </h3>\n",
    "If you try to access a position greater than the length of the list, you'll get an error:\n"
   ]
  },
  {
   "cell_type": "code",
   "execution_count": 13,
   "metadata": {
    "collapsed": false,
    "scrolled": true
   },
   "outputs": [
    {
     "name": "stdout",
     "output_type": "stream",
     "text": [
      " The number of elements in list some_numbers is "
     ]
    },
    {
     "ename": "NameError",
     "evalue": "name 'some_numbers' is not defined",
     "output_type": "error",
     "traceback": [
      "\u001b[1;31m---------------------------------------------------------------------------\u001b[0m",
      "\u001b[1;31mNameError\u001b[0m                                 Traceback (most recent call last)",
      "\u001b[1;32m<ipython-input-13-b573332562bc>\u001b[0m in \u001b[0;36m<module>\u001b[1;34m()\u001b[0m\n\u001b[1;32m----> 1\u001b[1;33m \u001b[1;32mprint\u001b[0m \u001b[1;34m\"The number of elements in list some_numbers is \"\u001b[0m\u001b[1;33m,\u001b[0m \u001b[0mlen\u001b[0m\u001b[1;33m(\u001b[0m\u001b[0msome_numbers\u001b[0m\u001b[1;33m)\u001b[0m\u001b[1;33m\u001b[0m\u001b[0m\n\u001b[0m\u001b[0;32m      2\u001b[0m \u001b[1;33m\u001b[0m\u001b[0m\n\u001b[0;32m      3\u001b[0m \u001b[1;32mprint\u001b[0m \u001b[0msome_numbers\u001b[0m\u001b[1;33m[\u001b[0m\u001b[1;36m10\u001b[0m\u001b[1;33m]\u001b[0m\u001b[1;33m\u001b[0m\u001b[0m\n",
      "\u001b[1;31mNameError\u001b[0m: name 'some_numbers' is not defined"
     ]
    }
   ],
   "source": [
    "print \"The number of elements in list some_numbers is \", len(some_numbers)\n",
    "    \n",
    "print some_numbers[10] \n"
   ]
  },
  {
   "cell_type": "markdown",
   "metadata": {},
   "source": [
    "<h2> Lists - Using the colon operator \":\" to create subsets of a List</h2>\n",
    "\n",
    "You can also create a new list by subsetting another list, using the colon : symbol. Think of it as taking values from\n",
    "position : up to position."
   ]
  },
  {
   "cell_type": "code",
   "execution_count": 2,
   "metadata": {
    "collapsed": false
   },
   "outputs": [
    {
     "name": "stdout",
     "output_type": "stream",
     "text": [
      "[1, 4, 5, 7, 12, 15]\n"
     ]
    }
   ],
   "source": [
    "first_list = [1, 4, 5, 7, 12, 15]\n",
    "print first_list\n",
    "\n"
   ]
  },
  {
   "cell_type": "code",
   "execution_count": 4,
   "metadata": {
    "collapsed": false
   },
   "outputs": [
    {
     "name": "stdout",
     "output_type": "stream",
     "text": [
      "[5, 7]\n"
     ]
    }
   ],
   "source": [
    "second_list = first_list[2:4]\n",
    "print second_list\n",
    "\n"
   ]
  },
  {
   "cell_type": "code",
   "execution_count": 46,
   "metadata": {
    "collapsed": false
   },
   "outputs": [
    {
     "name": "stdout",
     "output_type": "stream",
     "text": [
      "[12, 15]\n"
     ]
    }
   ],
   "source": [
    "# sub ranging of lists with out of range last variable will not generate \"list index out of range error\"\n",
    "# it will just go to end of list\n",
    "third_list = first_list[4:100]\n",
    "print third_list"
   ]
  },
  {
   "cell_type": "code",
   "execution_count": 49,
   "metadata": {
    "collapsed": false
   },
   "outputs": [
    {
     "name": "stdout",
     "output_type": "stream",
     "text": [
      "[]\n"
     ]
    }
   ],
   "source": [
    "# Nor will specifiying a bad starting range, it just results in a empty list\n",
    "fourth_list = first_list [100:101]\n",
    "print fourth_list"
   ]
  },
  {
   "cell_type": "markdown",
   "metadata": {},
   "source": [
    "If you leave out the number before or after the colon, it indicates 'from the beginning' or 'to the end', respectively. So:"
   ]
  },
  {
   "cell_type": "code",
   "execution_count": 54,
   "metadata": {
    "collapsed": false
   },
   "outputs": [
    {
     "name": "stdout",
     "output_type": "stream",
     "text": [
      "[1, 4, 5, 7]\n",
      "[1, 4, 5, 7]\n"
     ]
    }
   ],
   "source": [
    "# Omitting starting range => from list beginning, i.e. element 0.\n",
    "\n",
    "print first_list[:4]      \n",
    "# is the same as\n",
    "print first_list [0:4]"
   ]
  },
  {
   "cell_type": "markdown",
   "metadata": {},
   "source": [
    "#### "
   ]
  },
  {
   "cell_type": "code",
   "execution_count": 5,
   "metadata": {
    "collapsed": false
   },
   "outputs": [
    {
     "name": "stdout",
     "output_type": "stream",
     "text": [
      "[7, 12, 15]\n",
      "6\n",
      "[7, 12, 15]\n"
     ]
    }
   ],
   "source": [
    "# omitting ending range same as specifying last element of list\n",
    "print first_list[3:]\n",
    "# is the same as\n",
    "print len(first_list)\n",
    "print first_list[3:len(first_list)]"
   ]
  },
  {
   "cell_type": "markdown",
   "metadata": {},
   "source": [
    "<h3> Python Lists can store multiple data item types </h3>\n",
    "\n",
    "Lists can store data of all different types together. For example, the list below has an integer, a float and a string:"
   ]
  },
  {
   "cell_type": "markdown",
   "metadata": {},
   "source": [
    "<h3> Python Lists can store multiple data item types </h3>\n",
    "\n",
    "Lists can store data of all different types together. For example, the list below has an integer, a float and a string:"
   ]
  },
  {
   "cell_type": "code",
   "execution_count": 58,
   "metadata": {
    "collapsed": false
   },
   "outputs": [
    {
     "name": "stdout",
     "output_type": "stream",
     "text": [
      "[1, 1.0, 'One']\n"
     ]
    }
   ],
   "source": [
    "mixed_list = [1, 1.0, \"One\"]\n",
    "print mixed_list\n"
   ]
  },
  {
   "cell_type": "markdown",
   "metadata": {},
   "source": [
    "<h3> Python Lists can be ragged and mixed</h3>\n"
   ]
  },
  {
   "cell_type": "code",
   "execution_count": 66,
   "metadata": {
    "collapsed": false
   },
   "outputs": [
    {
     "name": "stdout",
     "output_type": "stream",
     "text": [
      "[[1, 2, 3], 'Hello']\n"
     ]
    }
   ],
   "source": [
    "# this list has an array and a string as it's elements\n",
    "mixed_list_2 = [[1,2,3],\"Hello\"]\n",
    "print mixed_list_2"
   ]
  },
  {
   "cell_type": "markdown",
   "metadata": {},
   "source": [
    "<h2> Lists of Lists</h2>\n",
    "\n",
    "Lists can even store other lists. This will be important later, since it's how we can put together multi-dimensional objects\n",
    "like tables and matrices.\n",
    "\n"
   ]
  },
  {
   "cell_type": "code",
   "execution_count": 7,
   "metadata": {
    "collapsed": false
   },
   "outputs": [
    {
     "name": "stdout",
     "output_type": "stream",
     "text": [
      "[[1, 2], [3, 4]]\n",
      "Position (0) [1, 2]\n",
      "Position (1) [3, 4]\n",
      "Position (1,0) 3\n",
      "Position (0,1) 2\n"
     ]
    }
   ],
   "source": [
    "first_row = [1, 2]\n",
    "second_row = [3, 4]\n",
    "table = [first_row, second_row]\n",
    "print table # a list with two elements, each of which is a list with two elements.\n",
    "print \"Position (0)\", table[0]    # row 0, which is a list with elements [1,2]\n",
    "print \"Position (1)\", table[1]    # row 1, whichi is a list with elements [3,4]\n",
    "print \"Position (1,0)\", table[1][0] #row,1 which is a list [3,4], and the first element of that list\n",
    "print \"Position (0,1)\", table[0][1]\n"
   ]
  },
  {
   "cell_type": "markdown",
   "metadata": {},
   "source": [
    "<h2> Lists of higher dimensions </h2>\n",
    "\n",
    "Note that the names 'row' and 'table' are arbitrary -- all table really is, is a list of lists. \n",
    "\n",
    "When we write table[1] we are\n",
    "getting the second entry in the list, which in this case just happens to be a list as well. \n",
    "\n",
    "So table[1][1] just means 'The\n",
    "second entry in the second entry in the list table'.\n",
    "\n",
    "We can also create these lists directly, and nest them as deep as we want. Below, I create a 3 X 2 X 2 table:"
   ]
  },
  {
   "cell_type": "code",
   "execution_count": 70,
   "metadata": {
    "collapsed": false
   },
   "outputs": [
    {
     "name": "stdout",
     "output_type": "stream",
     "text": [
      "8\n"
     ]
    }
   ],
   "source": [
    " # Notice that we can put line-breaks when they're enclosed in brackets\n",
    "threedee = [ [ [1,2], [3, 4] ],\n",
    "[[5, 6], [7, 8] ],\n",
    "[ [9, 10], [11, 12] ]\n",
    "]\n",
    "print threedee[1][1][1]\n"
   ]
  },
  {
   "cell_type": "markdown",
   "metadata": {},
   "source": [
    "<h2> Ragged Lists </h2>\n",
    "\n",
    "Since list aren't true arrays, each dimension of an array need not be equal.  Below the second dimension of this list has a list of length 2 \n",
    "while the first is of length 3."
   ]
  },
  {
   "cell_type": "code",
   "execution_count": 67,
   "metadata": {
    "collapsed": false
   },
   "outputs": [
    {
     "name": "stdout",
     "output_type": "stream",
     "text": [
      "[[1, 2, 3], [4, 5]]\n"
     ]
    }
   ],
   "source": [
    "# this is a two dimensional ragged array\n",
    "ragged_array = [[1,2,3],[4,5]]\n",
    "print ragged_array"
   ]
  },
  {
   "cell_type": "markdown",
   "metadata": {},
   "source": [
    "<h2> List Append Method </h2>\n",
    "\n",
    "We can add items to the end of a list using the .append(...) operation, like this:\n",
    "\n"
   ]
  },
  {
   "cell_type": "code",
   "execution_count": 71,
   "metadata": {
    "collapsed": false
   },
   "outputs": [
    {
     "name": "stdout",
     "output_type": "stream",
     "text": [
      "[1, 2, 3, 4]\n"
     ]
    }
   ],
   "source": [
    " my_list = [1, 2, 3]\n",
    "my_list.append(4)\n",
    "print my_list"
   ]
  },
  {
   "cell_type": "markdown",
   "metadata": {},
   "source": [
    "Notice the syntax append uses: variable dot operation. The operation following the dot is called a method. \n",
    "\n",
    "We'll see\n",
    "this pretty often in Python (and elsewhere). It indicates an operation (method) associated with a particular variable of a\n",
    "particular type. \n",
    "\n",
    "In this case, all list variables have an append method associated with them.\n",
    "\n",
    "(Advanced note: technically, lists (like almost everything else in Python) are objects, with append as one of their\n",
    "methods. If you don't know what that means, don't worry about it.)\n"
   ]
  },
  {
   "cell_type": "markdown",
   "metadata": {},
   "source": [
    "<h2> Use the Len operator to determine length of a a list </h2>\n",
    "\n",
    "We can count the number of values in a list using len, like this:\n"
   ]
  },
  {
   "cell_type": "code",
   "execution_count": 72,
   "metadata": {
    "collapsed": false
   },
   "outputs": [
    {
     "name": "stdout",
     "output_type": "stream",
     "text": [
      "4\n"
     ]
    }
   ],
   "source": [
    "print len(my_list)\n"
   ]
  },
  {
   "cell_type": "markdown",
   "metadata": {},
   "source": [
    "Pop quiz: What do you think the result of len(threedee) will be?"
   ]
  },
  {
   "cell_type": "code",
   "execution_count": 74,
   "metadata": {
    "collapsed": false
   },
   "outputs": [
    {
     "name": "stdout",
     "output_type": "stream",
     "text": [
      "[[[1, 2], [3, 4]], [[5, 6], [7, 8]], [[9, 10], [11, 12]]]\n"
     ]
    }
   ],
   "source": [
    "#First look at threedee list\n",
    "print threedee"
   ]
  },
  {
   "cell_type": "code",
   "execution_count": 75,
   "metadata": {
    "collapsed": false
   },
   "outputs": [
    {
     "name": "stdout",
     "output_type": "stream",
     "text": [
      "3\n"
     ]
    }
   ],
   "source": [
    "# since this is a three dimensional array, count number of commas after ]] and add 1 should give lengh 2+1 \n",
    "print len(threedee)"
   ]
  },
  {
   "cell_type": "markdown",
   "metadata": {},
   "source": [
    "As far as Python is concerned, threedee has only 3 values; each of those values happens to be another list. So:\n"
   ]
  },
  {
   "cell_type": "code",
   "execution_count": 76,
   "metadata": {
    "collapsed": false
   },
   "outputs": [
    {
     "name": "stdout",
     "output_type": "stream",
     "text": [
      "2\n"
     ]
    }
   ],
   "source": [
    "print len(threedee[0])\n"
   ]
  },
  {
   "cell_type": "code",
   "execution_count": 77,
   "metadata": {
    "collapsed": false
   },
   "outputs": [
    {
     "name": "stdout",
     "output_type": "stream",
     "text": [
      "2\n"
     ]
    }
   ],
   "source": [
    "print len(threedee[0][0])\n"
   ]
  },
  {
   "cell_type": "code",
   "execution_count": 79,
   "metadata": {
    "collapsed": false
   },
   "outputs": [
    {
     "ename": "TypeError",
     "evalue": "object of type 'int' has no len()",
     "output_type": "error",
     "traceback": [
      "\u001b[1;31m---------------------------------------------------------------------------\u001b[0m\n\u001b[1;31mTypeError\u001b[0m                                 Traceback (most recent call last)",
      "\u001b[1;32m<ipython-input-79-1df8e138cd8d>\u001b[0m in \u001b[0;36m<module>\u001b[1;34m()\u001b[0m\n\u001b[0;32m      1\u001b[0m \u001b[1;31m# below gives an error because len operator gives length of a list type object, not an integer, which theedee[0][0][0] is\u001b[0m\u001b[1;33m\u001b[0m\u001b[1;33m\u001b[0m\u001b[0m\n\u001b[1;32m----> 2\u001b[1;33m \u001b[1;32mprint\u001b[0m \u001b[0mlen\u001b[0m\u001b[1;33m(\u001b[0m\u001b[0mthreedee\u001b[0m\u001b[1;33m[\u001b[0m\u001b[1;36m0\u001b[0m\u001b[1;33m]\u001b[0m\u001b[1;33m[\u001b[0m\u001b[1;36m0\u001b[0m\u001b[1;33m]\u001b[0m\u001b[1;33m[\u001b[0m\u001b[1;36m0\u001b[0m\u001b[1;33m]\u001b[0m\u001b[1;33m)\u001b[0m\u001b[1;33m\u001b[0m\u001b[0m\n\u001b[0m",
      "\u001b[1;31mTypeError\u001b[0m: object of type 'int' has no len()"
     ]
    }
   ],
   "source": [
    "# below gives an error because len operator gives length of a list type object, not an integer, which theedee[0][0][0] is\n",
    "print len(threedee[0][0][0])\n"
   ]
  },
  {
   "cell_type": "code",
   "execution_count": null,
   "metadata": {
    "collapsed": false
   },
   "outputs": [],
   "source": []
  },
  {
   "cell_type": "markdown",
   "metadata": {},
   "source": [
    "<h2>Generating a List of Numbers with RANGE funciton</h2>"
   ]
  },
  {
   "cell_type": "code",
   "execution_count": 8,
   "metadata": {
    "collapsed": false
   },
   "outputs": [
    {
     "name": "stdout",
     "output_type": "stream",
     "text": [
      "[0, 1, 2, 3, 4, 5, 6, 7, 8, 9]\n",
      "[2, 3, 4, 5, 6]\n"
     ]
    }
   ],
   "source": [
    "# Note: the range command gives you a list of numbers between the specified end-points, like this:\n",
    "print range(10)\n",
    "print range(2,7) # range includes first argument upto but not including second.  Just like sub range notation [a:b]"
   ]
  },
  {
   "cell_type": "markdown",
   "metadata": {},
   "source": [
    "<h1> Dictionaries </h1>\n",
    "\n",
    "Dictionaries are a type of data structure that associates unique keys with values. Both keys and values can be any type\n",
    "of data, with the exception that the key cannot be mutable, or subject to change. A number could be a key, for example,\n",
    "but not a variable.\n",
    "\n",
    "<b> Dictionaries are declared with {curly braces}, but are accessed with [square brackets], like this: </b>\n",
    "\n"
   ]
  },
  {
   "cell_type": "code",
   "execution_count": 114,
   "metadata": {
    "collapsed": false
   },
   "outputs": [
    {
     "name": "stdout",
     "output_type": "stream",
     "text": [
      "1\n"
     ]
    }
   ],
   "source": [
    "#declare a dictionary called number_names\n",
    "number_names = {\"One\": 1, \"Two\": 2} # The string 'One' is the key, and integer 1 the value.\n",
    "print number_names[\"One\"]\n"
   ]
  },
  {
   "cell_type": "markdown",
   "metadata": {},
   "source": [
    "The traditional example used to explain dictionaries is a telephone book, mapping each unique name to a number:\n"
   ]
  },
  {
   "cell_type": "code",
   "execution_count": 115,
   "metadata": {
    "collapsed": false
   },
   "outputs": [],
   "source": [
    "phone_book = {} # Let the computer know that phone_book is a dictionary, but don't add any values yet.\n",
    "phone_book[\"Alice\"] = \"555-123-4567\"\n",
    "phone_book[\"Bob\"] = \"555-987-6543\"\n"
   ]
  },
  {
   "cell_type": "code",
   "execution_count": 83,
   "metadata": {
    "collapsed": false
   },
   "outputs": [
    {
     "name": "stdout",
     "output_type": "stream",
     "text": [
      "555-123-4567\n"
     ]
    }
   ],
   "source": [
    "# Access a value of a dictionary by\n",
    "print phone_book[\"Alice\"]"
   ]
  },
  {
   "cell_type": "code",
   "execution_count": 116,
   "metadata": {
    "collapsed": false
   },
   "outputs": [
    {
     "name": "stdout",
     "output_type": "stream",
     "text": [
      "{'Bob': '555-987-6543', 'Alice': '555-123-4567'}\n"
     ]
    }
   ],
   "source": [
    "print phone_book"
   ]
  },
  {
   "cell_type": "markdown",
   "metadata": {},
   "source": [
    "<h3> Adding an element to an dictionary after delcaration </h3>\n",
    "\n",
    "Unlike with lists, we don't need a special command to add data. If we assign a value to a new key, it's automatically\n",
    "added to the dictionary. If we assign a new value to an existing key, it overwrites it. so:\n"
   ]
  },
  {
   "cell_type": "code",
   "execution_count": 117,
   "metadata": {
    "collapsed": false
   },
   "outputs": [
    {
     "name": "stdout",
     "output_type": "stream",
     "text": [
      "{'Bob': '555-987-6543', 'Alice': '555-123-4567'}\n",
      "{'Bob': '555-987-6543', 'Alice': '555-123-4567', 'Carol': '555-314-1519'}\n",
      "{'Bob': '555-987-6543', 'Alice': '555-123-4567', 'Carol': '555-271-8281'}\n"
     ]
    }
   ],
   "source": [
    "print phone_book\n",
    "#add Carol to phone book.  No special operation needed.\n",
    "phone_book[\"Carol\"] = \"555-314-1519\"\n",
    "print phone_book\n",
    "# UPDATE carols phone number.  Changes the entry above.\n",
    "phone_book[\"Carol\"] = \"555-271-8281\"\n",
    "print phone_book"
   ]
  },
  {
   "cell_type": "markdown",
   "metadata": {},
   "source": [
    "Notice that the dictionary items (key-value pairs) aren't displayed in any particular order -- in fact, they aren't even\n",
    "displayed in the order in which we added them. Unlike lists, dictionaries are inherently unordered.\n"
   ]
  },
  {
   "cell_type": "markdown",
   "metadata": {},
   "source": [
    "<h3> Dictonary methods <b> keys </b>, <b> items </b> and <b> values </b> </h3> \n",
    "\n",
    "We can get all the keys and all the values in a dictionary using .keys() and .values() and .items(), like this:"
   ]
  },
  {
   "cell_type": "code",
   "execution_count": 119,
   "metadata": {
    "collapsed": false
   },
   "outputs": [
    {
     "name": "stdout",
     "output_type": "stream",
     "text": [
      "['Bob', 'Alice', 'Carol']\n",
      "['555-987-6543', '555-123-4567', '555-271-8281']\n",
      "[('Bob', '555-987-6543'), ('Alice', '555-123-4567'), ('Carol', '555-271-8281')]\n"
     ]
    }
   ],
   "source": [
    "print phone_book.keys()     # keys returns a list of the dictionary key values\n",
    "print phone_book.values()   # values returns a list of the dictionary values \n",
    "print phone_book.items()    # items returns tuples with the first element being the key, and then nex the value."
   ]
  },
  {
   "cell_type": "markdown",
   "metadata": {},
   "source": [
    "Notice that these methods return lists, which we can use just like the lists we created above.\n"
   ]
  },
  {
   "cell_type": "code",
   "execution_count": 90,
   "metadata": {
    "collapsed": false
   },
   "outputs": [
    {
     "name": "stdout",
     "output_type": "stream",
     "text": [
      "Alice\n"
     ]
    }
   ],
   "source": [
    "# since the keys method returns a list, we can use square braket operate to select a specific element\n",
    "print phone_book.keys()[1]\n"
   ]
  },
  {
   "cell_type": "code",
   "execution_count": null,
   "metadata": {
    "collapsed": false
   },
   "outputs": [],
   "source": []
  },
  {
   "cell_type": "markdown",
   "metadata": {},
   "source": [
    "<h3> Python Lists can store multiple data item types </h3>\n",
    "\n",
    "Lists can store data of all different types together. For example, the list below has an integer, a float and a string:"
   ]
  },
  {
   "cell_type": "code",
   "execution_count": 6,
   "metadata": {
    "collapsed": false
   },
   "outputs": [
    {
     "name": "stdout",
     "output_type": "stream",
     "text": [
      "No.\n",
      "And yes.\n"
     ]
    }
   ],
   "source": [
    "some_numbers = [1, 5, -2, 18, 6.312375]\n",
    "if 2 in some_numbers:\n",
    "    print \"Yes\"\n",
    "else:\n",
    "    print \"No.\"\n",
    "if 5 in some_numbers:\n",
    "    print \"And yes.\""
   ]
  },
  {
   "cell_type": "code",
   "execution_count": 7,
   "metadata": {
    "collapsed": false
   },
   "outputs": [
    {
     "name": "stdout",
     "output_type": "stream",
     "text": [
      "Yes.\n",
      "But no\n"
     ]
    }
   ],
   "source": [
    "some_values = {\"One\": 1, \"Two\": 2, \"Three\": 3}\n",
    "if \"One\" in some_values:  # When looking inside dictionares we are looking at the Keys not the Values.\n",
    "    print \"Yes.\"\n",
    "    \n",
    "if 1 in some_values:\n",
    "    print \"And yes.\"\n",
    "else:\n",
    "    print \"But no\"\n"
   ]
  },
  {
   "cell_type": "markdown",
   "metadata": {},
   "source": [
    "<h1>Working with Strings </h2>\n"
   ]
  },
  {
   "cell_type": "code",
   "execution_count": 12,
   "metadata": {
    "collapsed": false
   },
   "outputs": [
    {
     "name": "stdout",
     "output_type": "stream",
     "text": [
      "ABcd\n"
     ]
    }
   ],
   "source": [
    "#String variables are enclosed in double quotes.\n",
    "a =\"ABcd\"\n",
    "print a"
   ]
  },
  {
   "cell_type": "markdown",
   "metadata": {},
   "source": [
    "<h2>Parsing strings with <i>split</i> method</h2>"
   ]
  },
  {
   "cell_type": "markdown",
   "metadata": {},
   "source": [
    "The string split method will break apart a string.  It takes the delimeter as an argument and returns a list of strings."
   ]
  },
  {
   "cell_type": "code",
   "execution_count": 13,
   "metadata": {
    "collapsed": false
   },
   "outputs": [
    {
     "name": "stdout",
     "output_type": "stream",
     "text": [
      "['A', ' B', ' C', ' D']\n"
     ]
    }
   ],
   "source": [
    "test_string = \"A, B, C, D\"\n",
    "split_string = test_string.split(\",\") # Split on commas\n",
    "print split_string\n"
   ]
  },
  {
   "cell_type": "code",
   "execution_count": 8,
   "metadata": {
    "collapsed": false
   },
   "outputs": [
    {
     "name": "stdout",
     "output_type": "stream",
     "text": [
      "['A', ' B', ' C', ' D']\n"
     ]
    }
   ],
   "source": [
    "test_string = \"A, B, C, D\"\n",
    "split_string = test_string.split(\",\") # Split on commas\n",
    "print split_string\n"
   ]
  },
  {
   "cell_type": "markdown",
   "metadata": {},
   "source": [
    "The .split() method takes a string and turns it into a list, dividing it on whatever character you decide. We could also split\n",
    "the above string on spaces, or any other character:"
   ]
  },
  {
   "cell_type": "code",
   "execution_count": 14,
   "metadata": {
    "collapsed": false
   },
   "outputs": [
    {
     "name": "stdout",
     "output_type": "stream",
     "text": [
      "['A,', 'B,', 'C,', 'D']\n",
      "['A, B, ', ', D']\n"
     ]
    }
   ],
   "source": [
    "print test_string.split(\" \") # Spaces\n",
    "    print test_string.split(\"C\") # The character 'C'\n"
   ]
  },
  {
   "cell_type": "markdown",
   "metadata": {
    "collapsed": false
   },
   "source": [
    "<h2> Joining Strings with Join Method <h2>"
   ]
  },
  {
   "cell_type": "code",
   "execution_count": 1,
   "metadata": {
    "collapsed": false
   },
   "outputs": [
    {
     "data": {
      "text/plain": [
       "'the,cat,sat,on,the,mat'"
      ]
     },
     "execution_count": 1,
     "metadata": {},
     "output_type": "execute_result"
    }
   ],
   "source": [
    "','.join(['the', 'cat', 'sat', 'on', 'the', 'mat'])"
   ]
  },
  {
   "cell_type": "code",
   "execution_count": null,
   "metadata": {
    "collapsed": true
   },
   "outputs": [],
   "source": []
  },
  {
   "cell_type": "markdown",
   "metadata": {},
   "source": [
    "<h1>Tuples</h1>\n",
    "<p> A tuple is an immutable list. A tuple can not be changed in any way once it is created. <p>\n",
    "\n",
    "<h2> Creating a tuple </h2>\n",
    "\n",
    "<p> A tuple is defined in the same way as a list, except that the whole set of elements is enclosed OPTIONALLY in parentheses instead of square brackets. "
   ]
  },
  {
   "cell_type": "code",
   "execution_count": 17,
   "metadata": {
    "collapsed": false
   },
   "outputs": [
    {
     "name": "stdout",
     "output_type": "stream",
     "text": [
      "(1, 2, 3)\n",
      "t1 is type  <type 'tuple'>\n",
      "(4, 'Unicorn', 6)\n",
      "t2 is type  <type 'tuple'>\n"
     ]
    }
   ],
   "source": [
    "t1 = (1,2,3)  # Create a tuple\n",
    "print t1\n",
    "print \"t1 is type \",type(t1)\n",
    "\n",
    "t2 = 4,\"Unicorn\",6  #  When creating a tuple, the parenthesis are optional, also like lists, tuples don't need to be of same type\n",
    "print t2\n",
    "print \"t2 is type \", type(t2)"
   ]
  },
  {
   "cell_type": "markdown",
   "metadata": {},
   "source": [
    "<h2> Accessing Tuple Elements </h2>\n",
    "\n",
    "<p> The elements of a tuple have a defined order, just like a list. \n",
    "Tuples indices are zero-based, just like a list, so the first element of a non-empty tuple is always t[0]. </p>\n",
    "\n"
   ]
  },
  {
   "cell_type": "code",
   "execution_count": 23,
   "metadata": {
    "collapsed": false
   },
   "outputs": [
    {
     "name": "stdout",
     "output_type": "stream",
     "text": [
      "The first element of t1 is  1\n",
      "The second negative element of t2 is  Unicorn\n",
      "Slice 2:3 of list t3 is  ('c', 'd')\n"
     ]
    }
   ],
   "source": [
    "print \"The first element of t1 is \", t1[0]\n",
    "print \"The second negative element of t2 is \", t2[-2]  # Negative indices count from the end of the tuple, just as with a list.\n",
    "t3 = \"a\",\"b\",\"c\",\"d\",\"e\"\n",
    "print \"Slice 2:3 of list t3 is \", t3[2:4]"
   ]
  },
  {
   "cell_type": "code",
   "execution_count": 41,
   "metadata": {
    "collapsed": false,
    "scrolled": true
   },
   "outputs": [
    {
     "name": "stdout",
     "output_type": "stream",
     "text": [
      "I found a Unicorn\n",
      "The unicorn is at  1\n",
      "Are you a Unicorn?\n",
      "Nope\n",
      "Are you a Unicorn?\n",
      "Yep\n",
      "Are you a Unicorn?\n",
      "Nope\n"
     ]
    }
   ],
   "source": [
    "if \"Unicorn\" in t2:              # You can use the \"in\" operator to see if there is a matching element value in a tuple.\n",
    "    print \"I found a Unicorn\"\n",
    "    print \"The unicorn is at \", t2.index(\"Unicorn\") #You can find elements in a tuple using the \"index\" method\n",
    "    \n",
    "for i in t2:\n",
    "    print \"Are you a Unicorn?\"\n",
    "    if i ==\"Unicorn\":\n",
    "        print \"Yep\"\n",
    "    else:\n",
    "        print \"Nope\"\n",
    "    "
   ]
  },
  {
   "cell_type": "markdown",
   "metadata": {},
   "source": [
    "<h2> Tuples are Immutable </h2>\n",
    "<p>Unlike lists, once you create a tuple, you can't add, delete or modify elements.</p>\n"
   ]
  },
  {
   "cell_type": "code",
   "execution_count": 36,
   "metadata": {
    "collapsed": false,
    "scrolled": true
   },
   "outputs": [
    {
     "ename": "TypeError",
     "evalue": "'tuple' object does not support item assignment",
     "output_type": "error",
     "traceback": [
      "\u001b[1;31m---------------------------------------------------------------------------\u001b[0m",
      "\u001b[1;31mTypeError\u001b[0m                                 Traceback (most recent call last)",
      "\u001b[1;32m<ipython-input-36-325cac2a0e5a>\u001b[0m in \u001b[0;36m<module>\u001b[1;34m()\u001b[0m\n\u001b[1;32m----> 1\u001b[1;33m \u001b[0mt2\u001b[0m\u001b[1;33m[\u001b[0m\u001b[1;36m1\u001b[0m\u001b[1;33m]\u001b[0m \u001b[1;33m=\u001b[0m \u001b[1;34m\"rainbow\"\u001b[0m\u001b[1;33m\u001b[0m\u001b[0m\n\u001b[0m\u001b[0;32m      2\u001b[0m \u001b[0mt2\u001b[0m\u001b[1;33m.\u001b[0m\u001b[0mappend\u001b[0m\u001b[1;33m(\u001b[0m\u001b[1;34m\"rainbow\"\u001b[0m\u001b[1;33m)\u001b[0m \u001b[1;31m# you can't add elements to a tuple. Tuples have no append or extend method.\u001b[0m\u001b[1;33m\u001b[0m\u001b[0m\n\u001b[0;32m      3\u001b[0m \u001b[0mt2\u001b[0m\u001b[1;33m.\u001b[0m\u001b[0mremove\u001b[0m\u001b[1;33m(\u001b[0m\u001b[1;36m4\u001b[0m\u001b[1;33m)\u001b[0m \u001b[1;31m# You can't remove elements from a tuple. Tuples have no remove or pop method.\u001b[0m\u001b[1;33m\u001b[0m\u001b[0m\n",
      "\u001b[1;31mTypeError\u001b[0m: 'tuple' object does not support item assignment"
     ]
    }
   ],
   "source": [
    "t2[1] = \"rainbow\"\n",
    "t2.append(\"rainbow\") # you can't add elements to a tuple. Tuples have no append or extend method.\n",
    "t2.remove(4) # You can't remove elements from a tuple. Tuples have no remove or pop method.\n"
   ]
  },
  {
   "cell_type": "code",
   "execution_count": 26,
   "metadata": {
    "collapsed": false,
    "scrolled": false
   },
   "outputs": [
    {
     "ename": "AttributeError",
     "evalue": "'tuple' object has no attribute 'remove'",
     "output_type": "error",
     "traceback": [
      "\u001b[1;31m---------------------------------------------------------------------------\u001b[0m",
      "\u001b[1;31mAttributeError\u001b[0m                            Traceback (most recent call last)",
      "\u001b[1;32m<ipython-input-26-3a6dbc7c8e5b>\u001b[0m in \u001b[0;36m<module>\u001b[1;34m()\u001b[0m\n\u001b[1;32m----> 1\u001b[1;33m \u001b[0mt2\u001b[0m\u001b[1;33m.\u001b[0m\u001b[0mremove\u001b[0m\u001b[1;33m(\u001b[0m\u001b[1;36m4\u001b[0m\u001b[1;33m)\u001b[0m \u001b[1;31m# You can't remove elements from a tuple. Tuples have no remove or pop method.\u001b[0m\u001b[1;33m\u001b[0m\u001b[0m\n\u001b[0m",
      "\u001b[1;31mAttributeError\u001b[0m: 'tuple' object has no attribute 'remove'"
     ]
    }
   ],
   "source": [
    "t2.remove(4) # You can't remove elements from a tuple. Tuples have no remove or pop method."
   ]
  },
  {
   "cell_type": "markdown",
   "metadata": {},
   "source": [
    "<h2> Why use Tuples?</h2>\n",
    "\n",
    "<p>Since tuples have less flexibility than lists, why would you want to use them?<p>\n",
    "\n",
    "<ul>\n",
    "<li>Tuples are faster than lists. If you're defining a constant set of values and all you're ever going to do with it is iterate through it, use a tuple instead of a list.</li>\n",
    "<li>It makes your code safer if you “write-protect” data that does not need to be changed. Using a tuple instead of a list is like having an implied assert statement that shows this data is constant, and that special thought (and a specific function) is required to override that.</li>\n",
    "<li>\n",
    "Remember that I said that dictionary keys can be integers, strings, and “a few other types”? Tuples are one of those types. Tuples can be used as keys in a dictionary, but lists can't be used this way.Actually, it's more complicated than that. Dictionary keys must be immutable. Tuples themselves are immutable, but if you have a tuple of lists, that counts as mutable </li>\n",
    "<li>\n",
    "Tuples are used in string formatting, as you'll see shortly.\n",
    "</li>\n",
    "\n",
    "</ul>"
   ]
  },
  {
   "cell_type": "code",
   "execution_count": null,
   "metadata": {
    "collapsed": true
   },
   "outputs": [],
   "source": [
    "<h1> Convert a List to a Tuple </h1>\n"
   ]
  },
  {
   "cell_type": "markdown",
   "metadata": {},
   "source": [
    "<h1> Assigning Mutltiple Values several Different Variables  All at Once </h1>\n",
    "\n",
    "<p> You can use the following syntax to assign from a list of values to a list of variables <p>"
   ]
  },
  {
   "cell_type": "code",
   "execution_count": 1,
   "metadata": {
    "collapsed": false
   },
   "outputs": [
    {
     "name": "stdout",
     "output_type": "stream",
     "text": [
      "MONDAY =  0\n",
      "TUESDAY =  1\n",
      "WEDNESDAY =  2\n",
      "THURSDAY =  3\n",
      "FRIDAY =  4\n",
      "SATURDAY =  5\n",
      "SUNDAY =  6\n",
      "A B C\n"
     ]
    }
   ],
   "source": [
    "# This is sort of like declaring an enumerated type.\n",
    "MONDAY, TUESDAY, WEDNESDAY, THURSDAY, FRIDAY, SATURDAY, SUNDAY = range(7)\n",
    "print \"MONDAY = \", MONDAY\n",
    "print \"TUESDAY = \", TUESDAY\n",
    "print \"WEDNESDAY = \", WEDNESDAY\n",
    "print \"THURSDAY = \", THURSDAY\n",
    "print \"FRIDAY = \", FRIDAY\n",
    "print \"SATURDAY = \", SATURDAY\n",
    "print \"SUNDAY = \", SUNDAY\n",
    "\n",
    "# An alternative syntax is to put the values in paranthesis\n",
    "(ALPHA,BETA,GAMMA) = [\"A\",\"B\",\"C\"]\n",
    "print ALPHA, BETA, GAMMA\n",
    "\n"
   ]
  },
  {
   "cell_type": "code",
   "execution_count": null,
   "metadata": {
    "collapsed": true
   },
   "outputs": [],
   "source": []
  }
 ],
 "metadata": {
  "kernelspec": {
   "display_name": "Python 2",
   "language": "python",
   "name": "python2"
  },
  "language_info": {
   "codemirror_mode": {
    "name": "ipython",
    "version": 2
   },
   "file_extension": ".py",
   "mimetype": "text/x-python",
   "name": "python",
   "nbconvert_exporter": "python",
   "pygments_lexer": "ipython2",
   "version": "2.7.10"
  }
 },
 "nbformat": 4,
 "nbformat_minor": 0
}
