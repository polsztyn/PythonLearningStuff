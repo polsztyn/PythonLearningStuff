{
 "cells": [
  {
   "cell_type": "markdown",
   "metadata": {},
   "source": [
    "<h1>Exception Handling<h1>\n",
    "\n",
    "<h2>What are exceptions in Python?</h2>\n",
    "\n",
    "Python has many built-in exceptions which forces your program to output an error when something in it goes wrong.\n",
    "\n",
    "When these exceptions occur, it causes the current process to stop and passes it to the calling process until it is handled. If not handled, our program will crash.\n",
    "\n",
    "For example, if function A calls function B which in turn calls function C and an exception occurs in function C. If it is not handled in C, the exception passes to B and then to A.\n",
    "\n",
    "<mark style=\"background-color:yellow\">If never handled, an error message is spit out and our program come to a sudden, unexpected halt.</mark>"
   ]
  },
  {
   "cell_type": "markdown",
   "metadata": {},
   "source": [
    "<hr style=\"height:2px;color:blue\">\n",
    "<h2>Catching Exceptions in Python</h2>\n",
    "\n",
    "In Python, exceptions can be handled using a <b><mark style=\"color:blue\">try</mark></b> statement.\n",
    "\n",
    "A critical operation which can raise exception is placed inside the try clause and the code that handles exception is written in except clause.\n",
    "\n",
    "It is up to us, what operations we perform once we have caught the exception. Here is a simple example."
   ]
  },
  {
   "cell_type": "markdown",
   "metadata": {},
   "source": [
    "<h2>try-except</h2>\n",
    "\n",
    "Here's how try-except works: you specify a block of code for the computer to try and execute; \n",
    "\n",
    "if it encounters an error,\n",
    "instead of failing (like it did above) it goes to a block of code you've provided in case of an error. \n",
    "\n",
    "This is called Error Catching, and it looks like this:\n"
   ]
  },
  {
   "cell_type": "code",
   "execution_count": 3,
   "metadata": {},
   "outputs": [
    {
     "ename": "ValueError",
     "evalue": "invalid literal for int() with base 10: 'Not a number'",
     "output_type": "error",
     "traceback": [
      "\u001b[1;31m---------------------------------------------------------------------------\u001b[0m",
      "\u001b[1;31mValueError\u001b[0m                                Traceback (most recent call last)",
      "\u001b[1;32m<ipython-input-3-b9083e32fa97>\u001b[0m in \u001b[0;36m<module>\u001b[1;34m()\u001b[0m\n\u001b[0;32m      1\u001b[0m \u001b[1;31m# Without error catching.\u001b[0m\u001b[1;33m\u001b[0m\u001b[1;33m\u001b[0m\u001b[0m\n\u001b[0;32m      2\u001b[0m \u001b[0mtext\u001b[0m \u001b[1;33m=\u001b[0m \u001b[1;34m\"Not a number\"\u001b[0m\u001b[1;33m\u001b[0m\u001b[0m\n\u001b[1;32m----> 3\u001b[1;33m \u001b[0ma\u001b[0m \u001b[1;33m=\u001b[0m \u001b[0mint\u001b[0m\u001b[1;33m(\u001b[0m\u001b[0mtext\u001b[0m\u001b[1;33m)\u001b[0m  \u001b[1;31m# this will generate an exception because the integer cast won't work on a non-numeric string\u001b[0m\u001b[1;33m\u001b[0m\u001b[0m\n\u001b[0m\u001b[0;32m      4\u001b[0m \u001b[1;32mprint\u001b[0m \u001b[0ma\u001b[0m\u001b[1;33m\u001b[0m\u001b[0m\n",
      "\u001b[1;31mValueError\u001b[0m: invalid literal for int() with base 10: 'Not a number'"
     ]
    }
   ],
   "source": [
    "# Without error catching.\n",
    "text = \"Not a number\"\n",
    "a = int(text)  # this will generate an exception because the integer cast won't work on a non-numeric string\n",
    "print a\n"
   ]
  },
  {
   "cell_type": "code",
   "execution_count": 4,
   "metadata": {},
   "outputs": [
    {
     "name": "stdout",
     "output_type": "stream",
     "text": [
      "The value of text cannot be converted to an integer!\n"
     ]
    }
   ],
   "source": [
    "# With error catching\n",
    "text = \"Not a number\"\n",
    "try:\n",
    "    # In this example, we'll never get here:\n",
    "    a = int(text)\n",
    "    print \"The value of text is: \", a\n",
    "except:\n",
    "    # Instead, we'll go here.\n",
    "    a = 0\n",
    "    print \"The value of text cannot be converted to an integer!\""
   ]
  },
  {
   "cell_type": "code",
   "execution_count": 5,
   "metadata": {},
   "outputs": [
    {
     "name": "stdout",
     "output_type": "stream",
     "text": [
      "The value of text is:  100\n"
     ]
    }
   ],
   "source": [
    "text = \"100\"\n",
    "try:\n",
    "    # This time, we'll get here...\n",
    "    a = int(text)\n",
    "    print \"The value of text is: \", a\n",
    "except:\n",
    "    # ...but not here\n",
    "    a = 0\n",
    "    print \"The value of text cannot be converted to an integer!\"\n"
   ]
  },
  {
   "cell_type": "markdown",
   "metadata": {},
   "source": [
    "<h2> A More Complex Sample </h2>\n",
    "In this program, we loop until the user enters an integer that has a valid reciprocal. The portion that can cause exception is placed inside try block.\n",
    "\n",
    "If no exception occurs, except block is skipped and normal flow continues. But if any exception occurs, it is caught by the except block.\n",
    "\n",
    "Here, we print the name of the exception using ex_info() function inside sys module and ask the user to try again. We can see that the values 'a' and '1.3' causes ValueError and '0' causes ZeroDivisionError."
   ]
  },
  {
   "cell_type": "code",
   "execution_count": 6,
   "metadata": {},
   "outputs": [
    {
     "name": "stdout",
     "output_type": "stream",
     "text": [
      "('The entry is', 'a')\n",
      "('Oops!', <type 'exceptions.ValueError'>, 'occured.')\n",
      "Next entry.\n",
      "()\n",
      "('The entry is', 0)\n",
      "('Oops!', <type 'exceptions.ZeroDivisionError'>, 'occured.')\n",
      "Next entry.\n",
      "()\n",
      "('The entry is', 2)\n",
      "('The reciprocal of', 2, 'is', 0)\n"
     ]
    }
   ],
   "source": [
    "# import module sys to get the type of exception\n",
    "import sys\n",
    "\n",
    "randomList = ['a', 0, 2]\n",
    "\n",
    "for entry in randomList:\n",
    "    try:\n",
    "        print(\"The entry is\", entry)\n",
    "        r = 1/int(entry)\n",
    "        break                              # when we reach this line we break out of the for loop\n",
    "    except:\n",
    "        print(\"Oops!\",sys.exc_info()[0],\"occured.\")  # each time an error occurs in the for block, it goes here.\n",
    "        print(\"Next entry.\")\n",
    "        print()\n",
    "print(\"The reciprocal of\",entry,\"is\",r)"
   ]
  },
  {
   "cell_type": "markdown",
   "metadata": {},
   "source": [
    "<h2> sys.exc_info() </h2>\n",
    "\n",
    "This function returns a tuple of three values that give information about the exception that is currently being handled. The information returned is specific both to the current thread and to the current stack frame. If the current stack frame is not handling an exception, the information is taken from the calling stack frame, or its caller, and so on until a stack frame is found that is handling an exception. Here, “handling an exception” is defined as “executing or having executed an except clause.” For any stack frame, only information about the most recently handled exception is accessible.\n",
    "\n",
    "If no exception is being handled anywhere on the stack, a tuple containing three None values is returned. Otherwise, the values returned are (type, value, traceback). Their meaning is: type gets the exception type of the exception being handled (a class object); value gets the exception parameter (its associated value or the second argument to raise, which is always a class instance if the exception type is a class object); traceback gets a traceback object (see the Reference Manual) which encapsulates the call stack at the point where the exception originally occurred.\n",
    "\n",
    "If exc_clear() is called, this function will return three None values until either another exception is raised in the current thread or the execution stack returns to a frame where another exception is being handled."
   ]
  },
  {
   "cell_type": "markdown",
   "metadata": {},
   "source": [
    "<h2>Catching Specific Exceptions in Python</h2>\n",
    "\n",
    "<i>In the above example, we did not mention any exception in the except clause.</i>\n",
    "\n",
    "This is not a good programming practice as it will catch all exceptions and handle every case in the same way. We can specify which exceptions an except clause will catch.\n",
    "\n",
    "<mark style=\"background-color:yellow\">A try clause can have any number of except clause to handle them differently but only one will be executed in case an exception occurs.</mark>\n",
    "\n",
    "We can use a tuple of values to specify multiple exceptions in an except clause. Here is an example pseudo code.\n",
    "<code>\n",
    "try:\n",
    "   \\# do something\n",
    "   pass\n",
    "\n",
    "except ValueError:\n",
    "   \\# handle ValueError exception\n",
    "   pass\n",
    "\n",
    "except (TypeError, ZeroDivisionError):\n",
    "   \\# handle multiple exceptions\n",
    "   \\# TypeError and ZeroDivisionError\n",
    "   pass\n",
    "\n",
    "except:\n",
    "   \\# handle all other exceptions\n",
    "   pass\n",
    "</code>"
   ]
  },
  {
   "cell_type": "markdown",
   "metadata": {},
   "source": [
    "<hr style=\"height:2px;color:blue\">\n",
    "\n",
    "<h2>Raising Exceptions</h2>\n",
    "\n",
    "<p>In Python programming, exceptions are raised when corresponding errors occur at run time, but we can forcefully raise it using the keyword  <b><mark style=\"color:blue\">raise</b></mark>.</p>\n",
    "\n",
    "We can also optionally pass in value to the exception to clarify why that exception was raised."
   ]
  },
  {
   "cell_type": "code",
   "execution_count": 18,
   "metadata": {},
   "outputs": [
    {
     "name": "stdout",
     "output_type": "stream",
     "text": [
      "Enter a positive integer: -2\n",
      "('Oops!', <type 'exceptions.ValueError'>, 'occured.')\n"
     ]
    }
   ],
   "source": [
    "try:\n",
    "    a = int(input(\"Enter a positive integer: \"))\n",
    "    if a <= 0:\n",
    "        raise ValueError(\"That is not a positive number!\")   # the string passed in will be stored with the exception.\n",
    "except ValueError:\n",
    "    print(\"Oops!\",sys.exc_info()[0],\"occured.\")              # sys.exec_info()[0] contains the curr"
   ]
  },
  {
   "cell_type": "code",
   "execution_count": 22,
   "metadata": {},
   "outputs": [
    {
     "name": "stdout",
     "output_type": "stream",
     "text": [
      "Enter a positive integer: 1\n"
     ]
    }
   ],
   "source": [
    "try:\n",
    "    a = int(input(\"Enter a positive integer: \"))\n",
    "    if a <= 0:\n",
    "        raise ValueError\n",
    "except ValueError:\n",
    "    sys.exit()"
   ]
  },
  {
   "cell_type": "markdown",
   "metadata": {},
   "source": [
    "<h2>try...finally</h2>\n",
    "\n",
    "The try statement in Python can have an optional finally clause. This clause is executed no matter what, and is generally used to release external resources.\n",
    "\n",
    "For example, we may be connected to a remote data center through the network or working with a file or working with a Graphical User Interface (GUI).\n",
    "\n",
    "In all these circumstances, we must clean up the resource once used, whether it was successful or not. These actions (closing a file, GUI or disconnecting from network) are performed in the finally clause to guarantee execution.\n",
    "\n",
    "Here is an example of file operations to illustrate this.\n",
    "\n",
    "<code>\n",
    "try:\n",
    "   f = open(\"test.txt\",encoding = 'utf-8')\n",
    "   \\# perform file operations\n",
    "finally:\n",
    "   f.close()\n",
    "    \n",
    "</code>"
   ]
  },
  {
   "cell_type": "code",
   "execution_count": 26,
   "metadata": {},
   "outputs": [
    {
     "name": "stdout",
     "output_type": "stream",
     "text": [
      "I'm in the exception handler\n",
      "I'm in the finally clause\n"
     ]
    },
    {
     "ename": "SystemExit",
     "evalue": "",
     "output_type": "error",
     "traceback": [
      "An exception has occurred, use %tb to see the full traceback.\n",
      "\u001b[1;31mSystemExit\u001b[0m\n"
     ]
    }
   ],
   "source": [
    "# I think this demonstrates pretty well what the finally clause does.  Notice that the divide by error causes\n",
    "# the execution to go to the exept clause, the sys.exit get's called but the finally gets called before the module \n",
    "# finishes.\n",
    "try:\n",
    "    a = 1\n",
    "    b = 2\n",
    "    c = b/0\n",
    "    print \"past divide by zero\"\n",
    "except:\n",
    "    print \"I'm in the exception handler\"\n",
    "    sys.exit()\n",
    "    print \"past system exit\"\n",
    "finally:\n",
    "    print \"I'm in the finally clause\""
   ]
  },
  {
   "cell_type": "code",
   "execution_count": null,
   "metadata": {},
   "outputs": [],
   "source": []
  }
 ],
 "metadata": {
  "kernelspec": {
   "display_name": "Python 2",
   "language": "python",
   "name": "python2"
  },
  "language_info": {
   "codemirror_mode": {
    "name": "ipython",
    "version": 2
   },
   "file_extension": ".py",
   "mimetype": "text/x-python",
   "name": "python",
   "nbconvert_exporter": "python",
   "pygments_lexer": "ipython2",
   "version": "2.7.15"
  }
 },
 "nbformat": 4,
 "nbformat_minor": 1
}
