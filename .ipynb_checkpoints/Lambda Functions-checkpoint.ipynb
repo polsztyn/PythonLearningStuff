{
 "cells": [
  {
   "cell_type": "markdown",
   "metadata": {},
   "source": [
    "<h1>Python lambda</h1>\n",
    "\n",
    "<p>We can create anonymous functions, known <b> <font color=green>as lambda </b></font> functions. \n",
    "Lambda functions are different from normal Python functions, they origin from Lambda Calculus. \n",
    "It allows you to write very short functions. </p>\n",
    "\n",
    "<p>The Python lambda statement is an anonymous or unbound function and a pretty limited function at that. Let’s take a look at a few typical examples and see if we can find a use case for it.</p>\n",
    "\n",
    "https://pythonconquerstheuniverse.wordpress.com/2011/08/29/lambda_tutorial/"
   ]
  },
  {
   "cell_type": "code",
   "execution_count": 3,
   "metadata": {
    "collapsed": false
   },
   "outputs": [
    {
     "name": "stdout",
     "output_type": "stream",
     "text": [
      "7.0\n",
      "8.0\n"
     ]
    }
   ],
   "source": [
    "import math\n",
    " \n",
    "#----------------------------------------------------------------------\n",
    "def sqroot(x):\n",
    "    \"\"\"\n",
    "    Finds the square root of the number passed in\n",
    "    \"\"\"\n",
    "    return math.sqrt(x)\n",
    " \n",
    "square_rt = lambda x: math.sqrt(x)\n",
    "\n",
    "print sqroot(49)\n",
    "print square_rt(64)"
   ]
  },
  {
   "cell_type": "markdown",
   "metadata": {},
   "source": [
    "<p>Pretty slick, right? But where would we actually use a lambda in real life? Maybe a calculator program? Well, that would work, but it’s a pretty limited application for a builtin of Python! One of the major pieces of Python that lambda examples are applied to regularly are Tkinter callbacks. We’ll take a look at that, but we’ll also take that information and try it with wxPython to see if works there just as well.</p>"
   ]
  },
  {
   "cell_type": "code",
   "execution_count": 7,
   "metadata": {
    "collapsed": true
   },
   "outputs": [],
   "source": [
    "import Tkinter as tk\n",
    " \n",
    "########################################################################\n",
    "class App:\n",
    "    \"\"\"\"\"\"\n",
    " \n",
    "    #----------------------------------------------------------------------\n",
    "    def __init__(self, parent):\n",
    "        \"\"\"Constructor\"\"\"\n",
    "        frame = tk.Frame(parent)\n",
    "        frame.pack()\n",
    " \n",
    "        btn22 = tk.Button(frame, text=\"22\", command=lambda: self.printNum(22))\n",
    "        btn22.pack(side=tk.LEFT)\n",
    "        btn44 = tk.Button(frame, text=\"44\", command=lambda: self.printNum(44))\n",
    "        btn44.pack(side=tk.LEFT)\n",
    " \n",
    "        quitBtn = tk.Button(frame, text=\"QUIT\", fg=\"red\", command=frame.quit)\n",
    "        quitBtn.pack(side=tk.LEFT)\n",
    " \n",
    " \n",
    "    #----------------------------------------------------------------------\n",
    "    def printNum(self, num):\n",
    "        \"\"\"\"\"\"\n",
    "        print \"You pressed the %s button\" % num\n",
    " \n",
    "if __name__ == \"__main__\":\n",
    "    root = tk.Tk()\n",
    "    app = App(root)\n",
    "    root.mainloop()\n",
    "    \n",
    "# caution - this stops cells from running until window is closed.    \n",
    "root = tk.Tk()\n",
    "app = App(root)\n",
    "root.mainloop()\n",
    "    "
   ]
  },
  {
   "cell_type": "markdown",
   "metadata": {},
   "source": [
    "<p>Notice the btn22 and btn44 variables. This is where the action is. We create a tk.Button instance here and bind to our printNum method in one fell swoop. The lambda is assigned to the button’s command parameter. What this means is that we’re creating a one-off function for the command, much like in the quit button where we call the frame’s quit method. The difference here is that this particular lambda is a method that calls another method and passes the latter an integer. In the printNum method, we print to stdout which button was pressed by using the information that was passed to it from the lambda function. Did you follow all that? If so, we can continue…if not, re-read this paragraph as many times as necessary until the information sinks in or you go crazy, whichever comes first.</p>\n"
   ]
  },
  {
   "cell_type": "markdown",
   "metadata": {},
   "source": [
    "<h2>map function</h2>\n",
    "\n",
    "<p>The definition of map is map(function,iterable). It applies a function to every item in the iteratable.  We can use map() to on a lambda function with a list:</p>\n"
   ]
  },
  {
   "cell_type": "code",
   "execution_count": 1,
   "metadata": {
    "collapsed": false
   },
   "outputs": [
    {
     "name": "stdout",
     "output_type": "stream",
     "text": [
      "[1, 4, 9, 16, 25]\n",
      "hello\n"
     ]
    }
   ],
   "source": [
    "\n",
    "list = [1,2,3,4,5]\n",
    "squaredList = map(lambda x: x*x, list)\n",
    "print(squaredList)\n"
   ]
  },
  {
   "cell_type": "markdown",
   "metadata": {},
   "source": [
    "<h2>filter function</h2>\n",
    "\n",
    "<p>The filter(function,iterable) creates a new list from the elmeents for which the function returns True. Example: </p>\n",
    "    "
   ]
  },
  {
   "cell_type": "code",
   "execution_count": 2,
   "metadata": {
    "collapsed": false
   },
   "outputs": [
    {
     "name": "stdout",
     "output_type": "stream",
     "text": [
      "[2, 4, 6, 8, 10]\n"
     ]
    }
   ],
   "source": [
    "#The returned list contains only the elements for which the lambda expression “lamba x: x % 2 == 0”  is true.\n",
    "list = [1,2,3,4,5,6,7,8,9,10]\n",
    "newList = filter(lambda x: x % 2 == 0, list)\n",
    "print(newList)\n"
   ]
  },
  {
   "cell_type": "markdown",
   "metadata": {},
   "source": [
    "<h2>reduce function</h2>\n",
    "\n",
    "<p>The reduce function, reduce(function, iterable) applies two arguments cumulatively to the items of iterable, from left to right. Example:<p>"
   ]
  },
  {
   "cell_type": "code",
   "execution_count": 3,
   "metadata": {
    "collapsed": false
   },
   "outputs": [
    {
     "name": "stdout",
     "output_type": "stream",
     "text": [
      "15\n"
     ]
    }
   ],
   "source": [
    "list = [1,2,3,4,5]\n",
    "s = reduce(lambda x,y: x+y,  list)\n",
    "print(s)"
   ]
  },
  {
   "cell_type": "code",
   "execution_count": 7,
   "metadata": {
    "collapsed": false
   },
   "outputs": [
    {
     "name": "stdout",
     "output_type": "stream",
     "text": [
      "20\n"
     ]
    }
   ],
   "source": [
    "list = [12, 6,7,20,2,1,8,5,10]\n",
    "s = reduce(lambda x,y: x if (x > y) else y, list)\n",
    "print(s)"
   ]
  },
  {
   "cell_type": "code",
   "execution_count": null,
   "metadata": {
    "collapsed": true
   },
   "outputs": [],
   "source": []
  }
 ],
 "metadata": {
  "kernelspec": {
   "display_name": "Python 2",
   "language": "python",
   "name": "python2"
  },
  "language_info": {
   "codemirror_mode": {
    "name": "ipython",
    "version": 2
   },
   "file_extension": ".py",
   "mimetype": "text/x-python",
   "name": "python",
   "nbconvert_exporter": "python",
   "pygments_lexer": "ipython2",
   "version": "2.7.10"
  }
 },
 "nbformat": 4,
 "nbformat_minor": 0
}
