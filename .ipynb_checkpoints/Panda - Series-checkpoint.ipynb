{
 "cells": [
  {
   "cell_type": "markdown",
   "metadata": {},
   "source": [
    "<h1> Panda - Series </h1>\n",
    "\n",
    "<p> Enter Pandas (http://pandas.pydata.org/), the Python Data Analysis library. Pandas is one of the newer\n",
    "additions to the scientific Python ecosystem, but it's already a mature and very powerful tool. If you've worked\n",
    "with R before, or other statistical software, many of the concepts will be familiar to you. Pandas introduces\n",
    "Series (indexed lists) and DataFrames (data organized table-style into rows and columns), and provides a range\n",
    "of functionality built in. So let's get started! </p>\n",
    "\n",
    "<p> The first thing we do is import the pandas module (if you get a warning but everything else works, you can just\n",
    "ignore it): </p>\n",
    "    "
   ]
  },
  {
   "cell_type": "code",
   "execution_count": 2,
   "metadata": {},
   "outputs": [],
   "source": [
    " import pandas\n"
   ]
  },
  {
   "cell_type": "markdown",
   "metadata": {},
   "source": [
    "<h2> Series : Creating Series from a List </h2>\n",
    "\n",
    "The basic pandas object is a Series. We can create a series from a list, like this:"
   ]
  },
  {
   "cell_type": "code",
   "execution_count": 9,
   "metadata": {},
   "outputs": [],
   "source": [
    "s = pandas.Series([1, 3, 5, 7, 9, 11])"
   ]
  },
  {
   "cell_type": "markdown",
   "metadata": {},
   "source": [
    "Now look at the series contents:"
   ]
  },
  {
   "cell_type": "code",
   "execution_count": 10,
   "metadata": {},
   "outputs": [
    {
     "data": {
      "text/plain": [
       "0     1\n",
       "1     3\n",
       "2     5\n",
       "3     7\n",
       "4     9\n",
       "5    11\n",
       "dtype: int64"
      ]
     },
     "execution_count": 10,
     "metadata": {},
     "output_type": "execute_result"
    }
   ],
   "source": [
    "s"
   ]
  },
  {
   "cell_type": "markdown",
   "metadata": {},
   "source": [
    "<p> Notice the two columns above; the first, leftmost column is the index, which is just the same 0 to 5 values you'd\n",
    "expect in a regular list. The righthand column is the actual values the series is storing.</p>"
   ]
  },
  {
   "cell_type": "markdown",
   "metadata": {},
   "source": [
    "<h2> Series : Creating a Series from a Dictionary </h2>\n",
    "    \n",
    "<p>In addition to creating a Pandas Series from a Python <em>List</em>, you can create a Pandas Series from a Python <em> Dictionary. </em> </p>\n",
    "\n",
    "<p>Just pass in a Dictionary variable to the Pandas create series method and you will get a Pandas Series with where the Keys of the Dictionary become the Index of the Pandas Series.</p>"
   ]
  },
  {
   "cell_type": "code",
   "execution_count": 11,
   "metadata": {},
   "outputs": [
    {
     "name": "stdout",
     "output_type": "stream",
     "text": [
      "A    1\n",
      "B    2\n",
      "C    3\n",
      "dtype: int64\n"
     ]
    }
   ],
   "source": [
    "import pandas\n",
    "x = {\"A\":1, \"B\":2, \"C\":3} # create a Dictionary with Keys A,B,C and Values 1,2,3\n",
    "ps = pandas.Series(x)     # Dictionary is passed to Pandas create method.\n",
    "print ps                   # Pandas Series is created with an Index that is the Keys of the Dictonarly\n"
   ]
  },
  {
   "cell_type": "markdown",
   "metadata": {},
   "source": [
    "<h2> Series Built in Functions - sum, mean, median, standard deviation </h2>\n",
    "\n",
    "<p> The Series object comes built-in with quite a few basic functions. For example: </p>"
   ]
  },
  {
   "cell_type": "code",
   "execution_count": 12,
   "metadata": {},
   "outputs": [
    {
     "name": "stdout",
     "output_type": "stream",
     "text": [
      "36\n",
      "6.0\n",
      "6.0\n",
      "3.74165738677\n"
     ]
    }
   ],
   "source": [
    "print s.sum()\n",
    "print s.mean()\n",
    "print s.median()\n",
    "print s.std()\n",
    "\n"
   ]
  },
  {
   "cell_type": "markdown",
   "metadata": {},
   "source": [
    "<h2> Series - Using arithmatic functions on series </h2>\n",
    "\n",
    "<p> We can perform artithmetic operations on a series; the operation will be done element by element, and the\n",
    "result will be another series: </p>\n",
    "    "
   ]
  },
  {
   "cell_type": "code",
   "execution_count": 13,
   "metadata": {},
   "outputs": [
    {
     "name": "stdout",
     "output_type": "stream",
     "text": [
      "0     2\n",
      "1     4\n",
      "2     6\n",
      "3     8\n",
      "4    10\n",
      "5    12\n",
      "dtype: int64\n"
     ]
    }
   ],
   "source": [
    "s = s + 1\n",
    "print s"
   ]
  },
  {
   "cell_type": "markdown",
   "metadata": {},
   "source": [
    "Since the result is a new series, we can assign it to a variable:\n"
   ]
  },
  {
   "cell_type": "code",
   "execution_count": 14,
   "metadata": {},
   "outputs": [
    {
     "name": "stdout",
     "output_type": "stream",
     "text": [
      "0     4\n",
      "1     8\n",
      "2    12\n",
      "3    16\n",
      "4    20\n",
      "5    24\n",
      "dtype: int64\n"
     ]
    }
   ],
   "source": [
    "double_s = s * 2\n",
    "print double_s\n"
   ]
  },
  {
   "cell_type": "markdown",
   "metadata": {},
   "source": [
    "<p> We can also perform arithmetic between series; the results will again be another series: </p>"
   ]
  },
  {
   "cell_type": "code",
   "execution_count": 15,
   "metadata": {},
   "outputs": [],
   "source": [
    "a = pandas.Series([1, 2, 3])\n",
    "b = pandas.Series([2, 4, 8])\n"
   ]
  },
  {
   "cell_type": "code",
   "execution_count": 16,
   "metadata": {},
   "outputs": [
    {
     "data": {
      "text/plain": [
       "0     3\n",
       "1     6\n",
       "2    11\n",
       "dtype: int64"
      ]
     },
     "execution_count": 16,
     "metadata": {},
     "output_type": "execute_result"
    }
   ],
   "source": [
    "a + b"
   ]
  },
  {
   "cell_type": "code",
   "execution_count": 17,
   "metadata": {},
   "outputs": [
    {
     "data": {
      "text/plain": [
       "0   -1\n",
       "1   -2\n",
       "2   -5\n",
       "dtype: int64"
      ]
     },
     "execution_count": 17,
     "metadata": {},
     "output_type": "execute_result"
    }
   ],
   "source": [
    "a - b\n"
   ]
  },
  {
   "cell_type": "code",
   "execution_count": 18,
   "metadata": {},
   "outputs": [
    {
     "data": {
      "text/plain": [
       "0     2\n",
       "1     8\n",
       "2    24\n",
       "dtype: int64"
      ]
     },
     "execution_count": 18,
     "metadata": {},
     "output_type": "execute_result"
    }
   ],
   "source": [
    "a * b"
   ]
  },
  {
   "cell_type": "code",
   "execution_count": 19,
   "metadata": {},
   "outputs": [
    {
     "data": {
      "text/plain": [
       "0    0.500\n",
       "1    0.500\n",
       "2    0.375\n",
       "dtype: float64"
      ]
     },
     "execution_count": 19,
     "metadata": {},
     "output_type": "execute_result"
    }
   ],
   "source": [
    "a / b\n"
   ]
  },
  {
   "cell_type": "markdown",
   "metadata": {},
   "source": [
    "Notice that the data type matters -- dividing a series of ints by a series of ints will be result in a rounded int. We\n",
    "get around this just like we would for a single value:\n",
    "    \n",
    "\n",
    "I don't think this is right\n"
   ]
  },
  {
   "cell_type": "code",
   "execution_count": 20,
   "metadata": {},
   "outputs": [
    {
     "data": {
      "text/plain": [
       "0    0.500\n",
       "1    0.500\n",
       "2    0.375\n",
       "dtype: float64"
      ]
     },
     "execution_count": 20,
     "metadata": {},
     "output_type": "execute_result"
    }
   ],
   "source": [
    "1.0 * a / b\n"
   ]
  },
  {
   "cell_type": "code",
   "execution_count": 6,
   "metadata": {},
   "outputs": [
    {
     "name": "stdout",
     "output_type": "stream",
     "text": [
      "A    1\n",
      "B    2\n",
      "C    3\n",
      "dtype: int64\n",
      "C    10\n",
      "D    20\n",
      "E    30\n",
      "dtype: int64\n",
      "A   NaN\n",
      "B   NaN\n",
      "C    13\n",
      "D   NaN\n",
      "E   NaN\n",
      "dtype: float64\n"
     ]
    },
    {
     "ename": "TypeError",
     "evalue": "unsupported operand type(s) for +: 'dict' and 'dict'",
     "output_type": "error",
     "traceback": [
      "\u001b[1;31m---------------------------------------------------------------------------\u001b[0m",
      "\u001b[1;31mTypeError\u001b[0m                                 Traceback (most recent call last)",
      "\u001b[1;32m<ipython-input-6-b4ec37e98f22>\u001b[0m in \u001b[0;36m<module>\u001b[1;34m()\u001b[0m\n\u001b[0;32m     13\u001b[0m \u001b[1;33m\u001b[0m\u001b[0m\n\u001b[0;32m     14\u001b[0m \u001b[1;31m# contrast this with adding the dictionaries.\u001b[0m\u001b[1;33m\u001b[0m\u001b[1;33m\u001b[0m\u001b[0m\n\u001b[1;32m---> 15\u001b[1;33m \u001b[0md3\u001b[0m \u001b[1;33m=\u001b[0m \u001b[0md1\u001b[0m \u001b[1;33m+\u001b[0m \u001b[0md2\u001b[0m\u001b[1;33m\u001b[0m\u001b[0m\n\u001b[0m\u001b[0;32m     16\u001b[0m \u001b[1;32mprint\u001b[0m \u001b[0md3\u001b[0m\u001b[1;33m\u001b[0m\u001b[0m\n",
      "\u001b[1;31mTypeError\u001b[0m: unsupported operand type(s) for +: 'dict' and 'dict'"
     ]
    }
   ],
   "source": [
    "# what happens when we add two panda series with different indexes\n",
    "d1 = {\"A\":1, \"B\":2, \"C\":3}  # create a Dictionary with Keys A,B,C and Values 1,2,3\n",
    "d2 = {\"C\":10, \"D\":20, \"E\":30} \n",
    "psd1 = pandas.Series(d1)  \n",
    "psd2 = pandas.Series(d2)   # Dictionary is passed to Pandas create method.\n",
    "print psd1                   # Pandas Series is created with an Index that is the Keys of the Dictonarly\n",
    "print psd2                   # Pandas Series is created with an Index that is the Keys of the Dictonarly\n",
    "\n",
    "# the result is a panda series with all the keys, but only the keys that have a value in both panda series will have a meaningful\n",
    "# number.\n",
    "psd3 = psd1+psd2\n",
    "print psd3\n",
    "\n",
    "# contrast this with adding the dictionaries.  It doesn't work because dictionaries don't support the '+' operator.\n",
    "d3 = d1 + d2\n",
    "print d3"
   ]
  },
  {
   "cell_type": "markdown",
   "metadata": {},
   "source": [
    "<h2> Series - Iterating over series </h2>\n",
    "\n",
    "We can iterate over series in much the same way as lists"
   ]
  },
  {
   "cell_type": "code",
   "execution_count": 21,
   "metadata": {},
   "outputs": [
    {
     "name": "stdout",
     "output_type": "stream",
     "text": [
      "2 4\n",
      "4 16\n",
      "6 36\n",
      "8 64\n",
      "10 100\n",
      "12 144\n"
     ]
    }
   ],
   "source": [
    "for x in s:     # Iterating over series gets the value\n",
    "    print x, x*x"
   ]
  },
  {
   "cell_type": "markdown",
   "metadata": {},
   "source": [
    "<h2> Series - List Comprehension </h2>\n",
    "\n",
    "We can even use list comprehension, though it gives us a list, not a Series:\n"
   ]
  },
  {
   "cell_type": "code",
   "execution_count": 22,
   "metadata": {},
   "outputs": [
    {
     "data": {
      "text/plain": [
       "[4, 16, 36, 64, 100, 144]"
      ]
     },
     "execution_count": 22,
     "metadata": {},
     "output_type": "execute_result"
    }
   ],
   "source": [
    "[x*x for x in s]\n"
   ]
  },
  {
   "cell_type": "markdown",
   "metadata": {},
   "source": [
    "<h2> Using random package to add noise to a series </h2>\n",
    "\n",
    "We can use the random package to add guassian noise to a series\n"
   ]
  },
  {
   "cell_type": "code",
   "execution_count": 23,
   "metadata": {},
   "outputs": [],
   "source": [
    "import random\n",
    "s2 = pandas.Series([x*x + random.normalvariate(0, 1) for x in s])\n"
   ]
  },
  {
   "cell_type": "code",
   "execution_count": 24,
   "metadata": {},
   "outputs": [
    {
     "name": "stdout",
     "output_type": "stream",
     "text": [
      "0      5.335733\n",
      "1     15.889179\n",
      "2     36.852446\n",
      "3     64.987909\n",
      "4    100.292448\n",
      "5    144.705199\n",
      "dtype: float64\n"
     ]
    }
   ],
   "source": [
    "print s2\n"
   ]
  },
  {
   "cell_type": "markdown",
   "metadata": {},
   "source": [
    "<h1> Time series </h1> \n",
    "\n",
    "<p>\n",
    "Pandas was originally designed with financial analysis in mind, so it's no surprise that it has great time series\n",
    "functionality. Instead of just using the default 0, 1, 2... indices, we can index a Series on anything we want --\n",
    "including datetime objects. </p>\n"
   ]
  },
  {
   "cell_type": "code",
   "execution_count": 25,
   "metadata": {},
   "outputs": [],
   "source": [
    "import datetime as dt\n"
   ]
  },
  {
   "cell_type": "code",
   "execution_count": 26,
   "metadata": {},
   "outputs": [],
   "source": [
    "months = [dt.datetime(2001, x, 1) for x in range(1,13)]\n"
   ]
  },
  {
   "cell_type": "code",
   "execution_count": 27,
   "metadata": {},
   "outputs": [
    {
     "name": "stdout",
     "output_type": "stream",
     "text": [
      "[datetime.datetime(2001, 1, 1, 0, 0), datetime.datetime(2001, 2, 1, 0, 0), datetime.datetime(2001, 3, 1, 0, 0), datetime.datetime(2001, 4, 1, 0, 0), datetime.datetime(2001, 5, 1, 0, 0), datetime.datetime(2001, 6, 1, 0, 0), datetime.datetime(2001, 7, 1, 0, 0), datetime.datetime(2001, 8, 1, 0, 0), datetime.datetime(2001, 9, 1, 0, 0), datetime.datetime(2001, 10, 1, 0, 0), datetime.datetime(2001, 11, 1, 0, 0), datetime.datetime(2001, 12, 1, 0, 0)]\n"
     ]
    }
   ],
   "source": [
    "print months"
   ]
  },
  {
   "cell_type": "markdown",
   "metadata": {},
   "source": [
    "One way to create a series with a custom index is with a dictionary: keys are the index, and values are the\n",
    "values. Here, we create a dictionary associating each of the datetimes with a random value:\n"
   ]
  },
  {
   "cell_type": "code",
   "execution_count": 28,
   "metadata": {},
   "outputs": [],
   "source": [
    "time_series = {}\n",
    "for date in months:\n",
    "    time_series[date] = random.normalvariate(0,1)\n"
   ]
  },
  {
   "cell_type": "markdown",
   "metadata": {},
   "source": [
    "A lesser-known Python trick is that just like list comprehension, there is also dictionary comprehension: creating\n",
    "a dictionary from a known set of keys. We can simplify the above code like this:\n"
   ]
  },
  {
   "cell_type": "code",
   "execution_count": 29,
   "metadata": {},
   "outputs": [],
   "source": [
    "time_series = {date: random.normalvariate(0,1) for date in months}\n"
   ]
  },
  {
   "cell_type": "markdown",
   "metadata": {},
   "source": [
    "Now that we have a dictionary associating dates with values, we can turn it into a pandas series:\n"
   ]
  },
  {
   "cell_type": "code",
   "execution_count": 30,
   "metadata": {},
   "outputs": [],
   "source": [
    "time_series = pandas.Series(time_series)"
   ]
  },
  {
   "cell_type": "code",
   "execution_count": 31,
   "metadata": {},
   "outputs": [
    {
     "data": {
      "text/plain": [
       "2001-01-01   -0.280734\n",
       "2001-02-01   -0.830941\n",
       "2001-03-01    0.285435\n",
       "2001-04-01    0.572303\n",
       "2001-05-01   -1.324195\n",
       "2001-06-01    1.361568\n",
       "2001-07-01   -0.583917\n",
       "2001-08-01   -1.643103\n",
       "2001-09-01   -0.517759\n",
       "2001-10-01    0.845818\n",
       "2001-11-01   -0.744654\n",
       "2001-12-01   -1.262367\n",
       "dtype: float64"
      ]
     },
     "execution_count": 31,
     "metadata": {},
     "output_type": "execute_result"
    }
   ],
   "source": [
    "time_series\n"
   ]
  },
  {
   "cell_type": "markdown",
   "metadata": {},
   "source": [
    "<h2> Panda Series - cumsum - cumulative sum function  </h2>"
   ]
  },
  {
   "cell_type": "markdown",
   "metadata": {},
   "source": [
    "Here's another useful bit of series functionality, that's especually handy for time series. The cumsum() function\n",
    "returns a new series, where each value is the cumulative sum of all the previous values. If we wanted to turn our\n",
    "random numbers into a random walk, we could do"
   ]
  },
  {
   "cell_type": "code",
   "execution_count": 32,
   "metadata": {},
   "outputs": [],
   "source": [
    "time_series_total = time_series.cumsum()\n"
   ]
  },
  {
   "cell_type": "code",
   "execution_count": 33,
   "metadata": {},
   "outputs": [
    {
     "data": {
      "text/plain": [
       "2001-01-01   -0.280734\n",
       "2001-02-01   -0.830941\n",
       "2001-03-01    0.285435\n",
       "2001-04-01    0.572303\n",
       "2001-05-01   -1.324195\n",
       "2001-06-01    1.361568\n",
       "2001-07-01   -0.583917\n",
       "2001-08-01   -1.643103\n",
       "2001-09-01   -0.517759\n",
       "2001-10-01    0.845818\n",
       "2001-11-01   -0.744654\n",
       "2001-12-01   -1.262367\n",
       "dtype: float64"
      ]
     },
     "execution_count": 33,
     "metadata": {},
     "output_type": "execute_result"
    }
   ],
   "source": [
    "time_series\n"
   ]
  },
  {
   "cell_type": "code",
   "execution_count": 34,
   "metadata": {},
   "outputs": [
    {
     "data": {
      "text/plain": [
       "2001-01-01   -0.280734\n",
       "2001-02-01   -1.111675\n",
       "2001-03-01   -0.826240\n",
       "2001-04-01   -0.253937\n",
       "2001-05-01   -1.578132\n",
       "2001-06-01   -0.216564\n",
       "2001-07-01   -0.800481\n",
       "2001-08-01   -2.443584\n",
       "2001-09-01   -2.961343\n",
       "2001-10-01   -2.115525\n",
       "2001-11-01   -2.860179\n",
       "2001-12-01   -4.122546\n",
       "dtype: float64"
      ]
     },
     "execution_count": 34,
     "metadata": {},
     "output_type": "execute_result"
    }
   ],
   "source": [
    "time_series_total"
   ]
  },
  {
   "cell_type": "markdown",
   "metadata": {},
   "source": [
    "<h2> Using matplotlib to plot a series </h2>"
   ]
  },
  {
   "cell_type": "markdown",
   "metadata": {},
   "source": [
    "If you're using the IPython Notebook, pandas can create a quick chart of the time series. If you're not using the\n",
    "Notebook, don't worry about it right now -- we'll go deeper into visualization (including how to do it from IDLE\n",
    "or the command line) next week.\n",
    "\n",
    "\n",
    "If you're in the IPython notebook, use the following command to prepare for plotting:"
   ]
  },
  {
   "cell_type": "code",
   "execution_count": 35,
   "metadata": {},
   "outputs": [],
   "source": [
    " %matplotlib inline\n"
   ]
  },
  {
   "cell_type": "markdown",
   "metadata": {},
   "source": [
    "Next, we use the pandas series' built-in plot() method to create the chart"
   ]
  },
  {
   "cell_type": "code",
   "execution_count": 45,
   "metadata": {},
   "outputs": [
    {
     "data": {
      "text/plain": [
       "<matplotlib.axes._subplots.AxesSubplot at 0x93f6770>"
      ]
     },
     "execution_count": 45,
     "metadata": {},
     "output_type": "execute_result"
    },
    {
     "data": {
      "image/png": "[encoded data removed]",
      "text/plain": [
       "<matplotlib.figure.Figure at 0x8db93d0>"
      ]
     },
     "metadata": {},
     "output_type": "display_data"
    }
   ],
   "source": [
    "time_series_total.plot()\n"
   ]
  },
  {
   "cell_type": "markdown",
   "metadata": {},
   "source": [
    "<h2> Using Panda date_range function to generate date series </h2>\n",
    "\n",
    "Instead of making a range of dates by hand, we can have pandas do it for us using the date_range(...) function,\n",
    "as follows:\n"
   ]
  },
  {
   "cell_type": "code",
   "execution_count": 37,
   "metadata": {},
   "outputs": [],
   "source": [
    "dates = pandas.date_range('1/1/2000', periods=120, freq='M')\n"
   ]
  },
  {
   "cell_type": "code",
   "execution_count": 38,
   "metadata": {},
   "outputs": [
    {
     "data": {
      "text/plain": [
       "<class 'pandas.tseries.index.DatetimeIndex'>\n",
       "[2000-01-31, ..., 2009-12-31]\n",
       "Length: 120, Freq: M, Timezone: None"
      ]
     },
     "execution_count": 38,
     "metadata": {},
     "output_type": "execute_result"
    }
   ],
   "source": [
    "dates"
   ]
  },
  {
   "cell_type": "markdown",
   "metadata": {},
   "source": [
    "The first date is the starting date; next, periods is how many dates to create. Finally, the freq is a code for the\n",
    "frequency to create the dates at. 'M' or 'm' indicates monthly; 'D' would be daily, 'min' minute-ly, and more.\n",
    "You can check out the full pandas documentation for more complicated codes (e.g. quarters, business days,\n",
    "etc): http://pandas.pydata.org/pandas-docs/stable/timeseries.html\n",
    "\n",
    "Notice that by default, pandas puts the dates for a monthly sequence at the end of each month.\n",
    "\n",
    "Let's create two new random walks:\n",
    "\n",
    "\n",
    "\n"
   ]
  },
  {
   "cell_type": "code",
   "execution_count": 39,
   "metadata": {},
   "outputs": [],
   "source": [
    "ts1 = pandas.Series([random.normalvariate(0,1) for x in range(120)], index=dates)\n",
    "ts2 = pandas.Series([random.normalvariate(0,1) for x in range(120)], index=dates)\n",
    "ts1 = ts1.cumsum()\n",
    "ts2 = ts2.cumsum()\n"
   ]
  },
  {
   "cell_type": "markdown",
   "metadata": {},
   "source": [
    "<h2> Panda head() and tail() methods for series </h2>\n",
    "\n",
    "We can view the first or last few entries in a series using the head() or tail() functions:\n"
   ]
  },
  {
   "cell_type": "code",
   "execution_count": 40,
   "metadata": {},
   "outputs": [
    {
     "data": {
      "text/plain": [
       "2000-01-31   -1.220265\n",
       "2000-02-29   -1.862289\n",
       "2000-03-31   -0.035369\n",
       "2000-04-30   -1.437244\n",
       "2000-05-31   -1.655329\n",
       "Freq: M, dtype: float64"
      ]
     },
     "execution_count": 40,
     "metadata": {},
     "output_type": "execute_result"
    }
   ],
   "source": [
    "ts1.head() # First 5 entries"
   ]
  },
  {
   "cell_type": "code",
   "execution_count": 41,
   "metadata": {},
   "outputs": [
    {
     "data": {
      "text/plain": [
       "2009-08-31    11.480715\n",
       "2009-09-30    11.698431\n",
       "2009-10-31    11.949712\n",
       "2009-11-30    11.244571\n",
       "2009-12-31    11.964571\n",
       "Freq: M, dtype: float64"
      ]
     },
     "execution_count": 41,
     "metadata": {},
     "output_type": "execute_result"
    }
   ],
   "source": [
    "ts2.tail() # Last 5 entries\n"
   ]
  },
  {
   "cell_type": "markdown",
   "metadata": {},
   "source": [
    "<h2> Panda corr() method for computing correlation between two series </h2>\n",
    "\n",
    "Pandas series have a built-in corr(...) function for finding the correlation between two series:\n"
   ]
  },
  {
   "cell_type": "code",
   "execution_count": 42,
   "metadata": {},
   "outputs": [
    {
     "name": "stdout",
     "output_type": "stream",
     "text": [
      "-0.316361259245\n",
      "-0.410146537954\n"
     ]
    }
   ],
   "source": [
    "print ts1.corr(ts2) # Defaults to Pearson correlation\n",
    "print ts1.corr(ts2, method='spearman') # Spearman's rank correlation\n"
   ]
  },
  {
   "cell_type": "markdown",
   "metadata": {},
   "source": [
    "<h2> Pand autocorr method for determining the auto correlation of series </h2>\n",
    "\n",
    "We can also find a series's autocorrelation:  Autocorrelation just appears to be degree of sortedness of a series.\n"
   ]
  },
  {
   "cell_type": "code",
   "execution_count": 43,
   "metadata": {},
   "outputs": [
    {
     "name": "stdout",
     "output_type": "stream",
     "text": [
      "0.962022154463\n",
      "1.0\n"
     ]
    }
   ],
   "source": [
    "a = ts1.autocorr()\n",
    "print a \n",
    "x = range(1,100)\n",
    "\n",
    "ts3 = pandas.Series(x)\n",
    "\n",
    "a = ts3.autocorr()\n",
    "print a"
   ]
  },
  {
   "cell_type": "markdown",
   "metadata": {},
   "source": [
    "<h2>Sorting Data in a Data Series<h2>"
   ]
  },
  {
   "cell_type": "code",
   "execution_count": 7,
   "metadata": {},
   "outputs": [
    {
     "name": "stdout",
     "output_type": "stream",
     "text": [
      "0     5\n",
      "1     2\n",
      "2     1\n",
      "3     7\n",
      "4     9\n",
      "5    11\n",
      "dtype: int64\n",
      "2     1\n",
      "1     2\n",
      "0     5\n",
      "3     7\n",
      "4     9\n",
      "5    11\n",
      "dtype: int64\n",
      "1\n",
      "2\n",
      "5\n",
      "7\n",
      "9\n",
      "11\n"
     ]
    }
   ],
   "source": [
    "s = pandas.Series([5, 2, 1, 7, 9, 11])\n",
    "print(s)\n",
    "s.sort_values(axis=0, ascending=True, inplace=True, kind='quicksort', na_position='last')\n",
    "print(s)\n",
    "for x in s:\n",
    "    print (x)"
   ]
  },
  {
   "cell_type": "code",
   "execution_count": null,
   "metadata": {},
   "outputs": [],
   "source": []
  }
 ],
 "metadata": {
  "kernelspec": {
   "display_name": "Python 3",
   "language": "python",
   "name": "python3"
  },
  "language_info": {
   "codemirror_mode": {
    "name": "ipython",
    "version": 3
   },
   "file_extension": ".py",
   "mimetype": "text/x-python",
   "name": "python",
   "nbconvert_exporter": "python",
   "pygments_lexer": "ipython3",
   "version": "3.7.0"
  }
 },
 "nbformat": 4,
 "nbformat_minor": 1
}
