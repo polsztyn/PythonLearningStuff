{
 "metadata": {
  "name": ""
 },
 "nbformat": 3,
 "nbformat_minor": 0,
 "worksheets": [
  {
   "cells": [
    {
     "cell_type": "markdown",
     "metadata": {},
     "source": [
      "#Social Data Mining, Week 3 Assignments\n",
      "\n",
      "These assignments will help you learn to invoke social API calls from Python, find effective client wrapper modules, and read social API documentation.\n",
      "\n",
      "This weeks assignments requires disparate software systems to talk together. Many things can go wrong (installation problems, network errors, etc), and the error messages you see may seem confusing. **If you get stuck, please post the forum. We're here to help you!**\n",
      "\n",
      "#Assignment 1: Continuing exploring the GitHub module.\n",
      "\n",
      "**Time estimate:** 60 minutes.\n",
      "\n",
      "In the lesson we learned how to retrieve the recent GitHub changes. Study the GitHub API to write a function called print_commit_messages. That outputs the time and message for the most recent 10 commits by a particular user."
     ]
    },
    {
     "cell_type": "code",
     "collapsed": false,
     "input": [
      "def print_commit_messages(username):\n",
      "    \"\"\"\n",
      "        Prints the timestamp and commit messages for the most recent 10 commits by the user.\n",
      "    \"\"\"\n",
      "\n",
      "print_commit_messages('torvalds')"
     ],
     "language": "python",
     "metadata": {},
     "outputs": [],
     "prompt_number": 8
    },
    {
     "cell_type": "markdown",
     "metadata": {},
     "source": [
      "***Hint:*** https://developer.github.com/v3/activity/events/#list-events-performed-by-a-user"
     ]
    },
    {
     "cell_type": "markdown",
     "metadata": {},
     "source": [
      "**Solution:**"
     ]
    },
    {
     "cell_type": "code",
     "collapsed": false,
     "input": [
      "import urllib\n",
      "import json\n",
      "import pprint\n",
      "\n",
      "def print_commit_messages(username):\n",
      "    \"\"\"\n",
      "        Prints the timestamp and commit messages for the most recent 10 commits by the user.\n",
      "    \"\"\"\n",
      "    url = urllib.urlopen('https://api.github.com/users/%s/events' % username)\n",
      "    data = json.load(url)\n",
      "    n = 0\n",
      "    for record in data:\n",
      "        if record['type'] == 'PushEvent':\n",
      "            for commit in record['payload']['commits']:\n",
      "                if 'message' in commit:\n",
      "                    print(record['created_at'], commit['message'])\n",
      "                    n += 1\n",
      "                    if n >= 10:\n",
      "                        return\n",
      "\n",
      "print_commit_messages('torvalds')"
     ],
     "language": "python",
     "metadata": {},
     "outputs": [
      {
       "output_type": "stream",
       "stream": "stdout",
       "text": [
        "(u'2014-04-13T22:32:16Z', u'slab: factor out calculate nr objects in cache_estimate\\n\\nThis logic is not simple to understand so that making separate function\\nhelping readability. Additionally, we can use this change in the\\nfollowing patch which implement for freelist to have another sized index\\nin according to nr objects.\\n\\nAcked-by: Christoph Lameter <cl@linux.com>\\nSigned-off-by: Joonsoo Kim <iamjoonsoo.kim@lge.com>\\nSigned-off-by: Pekka Enberg <penberg@kernel.org>')\n",
        "(u'2014-04-13T22:32:16Z', u\"slab: introduce helper functions to get/set free object\\n\\nIn the following patches, to get/set free objects from the freelist\\nis changed so that simple casting doesn't work for it. Therefore,\\nintroduce helper functions.\\n\\nAcked-by: Christoph Lameter <cl@linux.com>\\nSigned-off-by: Joonsoo Kim <iamjoonsoo.kim@lge.com>\\nSigned-off-by: Pekka Enberg <penberg@kernel.org>\")\n",
        "(u'2014-04-13T22:32:16Z', u'slab: restrict the number of objects in a slab\\n\\nTo prepare to implement byte sized index for managing the freelist\\nof a slab, we should restrict the number of objects in a slab to be less\\nor equal to 256, since byte only represent 256 different values.\\nSetting the size of object to value equal or more than newly introduced\\nSLAB_OBJ_MIN_SIZE ensures that the number of objects in a slab is less or\\nequal to 256 for a slab with 1 page.\\n\\nIf page size is rather larger than 4096, above assumption would be wrong.\\nIn this case, we would fall back on 2 bytes sized index.\\n\\nIf minimum size of kmalloc is less than 16, we use it as minimum object\\nsize and give up this optimization.\\n\\nSigned-off-by: Joonsoo Kim <iamjoonsoo.kim@lge.com>\\nSigned-off-by: Pekka Enberg <penberg@kernel.org>')\n",
        "(u'2014-04-13T22:32:16Z', u\"slab: introduce byte sized index for the freelist of a slab\\n\\nCurrently, the freelist of a slab consist of unsigned int sized indexes.\\nSince most of slabs have less number of objects than 256, large sized\\nindexes is needless. For example, consider the minimum kmalloc slab. It's\\nobject size is 32 byte and it would consist of one page, so 256 indexes\\nthrough byte sized index are enough to contain all possible indexes.\\n\\nThere can be some slabs whose object size is 8 byte. We cannot handle\\nthis case with byte sized index, so we need to restrict minimum\\nobject size. Since these slabs are not major, wasted memory from these\\nslabs would be negligible.\\n\\nSome architectures' page size isn't 4096 bytes and rather larger than\\n4096 bytes (One example is 64KB page size on PPC or IA64) so that\\nbyte sized index doesn't fit to them. In this case, we will use\\ntwo bytes sized index.\\n\\nBelow is some number for this patch.\\n\\n* Before *\\nkmalloc-512          525    640    512    8    1 : tunables   54   27    0 : slabdata     80     80      0\\nkmalloc-256          210    210    256   15    1 : tunables  120   60    0 : slabdata     14     14      0\\nkmalloc-192         1016   1040    192   20    1 : tunables  120   60    0 : slabdata     52     52      0\\nkmalloc-96           560    620    128   31    1 : tunables  120   60    0 : slabdata     20     20      0\\nkmalloc-64          2148   2280     64   60    1 : tunables  120   60    0 : slabdata     38     38      0\\nkmalloc-128          647    682    128   31    1 : tunables  120   60    0 : slabdata     22     22      0\\nkmalloc-32         11360  11413     32  113    1 : tunables  120   60    0 : slabdata    101    101      0\\nkmem_cache           197    200    192   20    1 : tunables  120   60    0 : slabdata     10     10      0\\n\\n* After *\\nkmalloc-512          521    648    512    8    1 : tunables   54   27    0 : slabdata     81     81      0\\nkmalloc-256          208    208    256   16    1 : tunables  120   60    0 : slabdata     13     13      0\\nkmalloc-192         1029   1029    192   21    1 : tunables  120   60    0 : slabdata     49     49      0\\nkmalloc-96           529    589    128   31    1 : tunables  120   60    0 : slabdata     19     19      0\\nkmalloc-64          2142   2142     64   63    1 : tunables  120   60    0 : slabdata     34     34      0\\nkmalloc-128          660    682    128   31    1 : tunables  120   60    0 : slabdata     22     22      0\\nkmalloc-32         11716  11780     32  124    1 : tunables  120   60    0 : slabdata     95     95      0\\nkmem_cache           197    210    192   21    1 : tunables  120   60    0 : slabdata     10     10      0\\n\\nkmem_caches consisting of objects less than or equal to 256 byte have\\none or more objects than before. In the case of kmalloc-32, we have 11 more\\nobjects, so 352 bytes (11 * 32) are saved and this is roughly 9% saving of\\nmemory. Of couse, this percentage decreases as the number of objects\\nin a slab decreases.\\n\\nHere are the performance results on my 4 cpus machine.\\n\\n* Before *\\n\\n Performance counter stats for 'perf bench sched messaging -g 50 -l 1000' (10 runs):\\n\\n       229,945,138 cache-misses                                                  ( +-  0.23% )\\n\\n      11.627897174 seconds time elapsed                                          ( +-  0.14% )\\n\\n* After *\\n\\n Performance counter stats for 'perf bench sched messaging -g 50 -l 1000' (10 runs):\\n\\n       218,640,472 cache-misses                                                  ( +-  0.42% )\\n\\n      11.504999837 seconds time elapsed                                          ( +-  0.21% )\\n\\ncache-misses are reduced by this patchset, roughly 5%.\\nAnd elapsed times are improved by 1%.\\n\\nAcked-by: Christoph Lameter <cl@linux.com>\\nAcked-by: David Rientjes <rientjes@google.com>\\nSigned-off-by: Joonsoo Kim <iamjoonsoo.kim@lge.com>\\nSigned-off-by: Pekka Enberg <penberg@kernel.org>\")\n",
        "(u'2014-04-13T22:32:16Z', u'slab: make more slab management structure off the slab\\n\\nNow, the size of the freelist for the slab management diminish,\\nso that the on-slab management structure can waste large space\\nif the object of the slab is large.\\n\\nConsider a 128 byte sized slab. If on-slab is used, 31 objects can be\\nin the slab. The size of the freelist for this case would be 31 bytes\\nso that 97 bytes, that is, more than 75% of object size, are wasted.\\n\\nIn a 64 byte sized slab case, no space is wasted if we use on-slab.\\nSo set off-slab determining constraint to 128 bytes.\\n\\nAcked-by: Christoph Lameter <cl@linux.com>\\nAcked-by: David Rientjes <rientjes@google.com>\\nSigned-off-by: Joonsoo Kim <iamjoonsoo.kim@lge.com>\\nSigned-off-by: Pekka Enberg <penberg@kernel.org>')\n",
        "(u'2014-04-13T22:32:16Z', u'slab: Make allocations with GFP_ZERO slightly more efficient\\n\\nUse the likely mechanism already around valid\\npointer tests to better choose when to memset\\nto 0 allocations with __GFP_ZERO\\n\\nAcked-by: Christoph Lameter <cl@linux.com>\\nSigned-off-by: Joe Perches <joe@perches.com>\\nSigned-off-by: Pekka Enberg <penberg@kernel.org>')\n",
        "(u'2014-04-13T22:32:16Z', u'slub: fix high order page allocation problem with __GFP_NOFAIL\\n\\nSLUB already try to allocate high order page with clearing __GFP_NOFAIL.\\nBut, when allocating shadow page for kmemcheck, it missed clearing\\nthe flag. This trigger WARN_ON_ONCE() reported by Christian Casteyde.\\n\\nhttps://bugzilla.kernel.org/show_bug.cgi?id=65991\\nhttps://lkml.org/lkml/2013/12/3/764\\n\\nThis patch fix this situation by using same allocation flag as original\\nallocation.\\n\\nReported-by: Christian Casteyde <casteyde.christian@free.fr>\\nAcked-by: David Rientjes <rientjes@google.com>\\nSigned-off-by: Joonsoo Kim <iamjoonsoo.kim@lge.com>\\nSigned-off-by: Pekka Enberg <penberg@kernel.org>')\n",
        "(u'2014-04-13T22:32:16Z', u\"slab: fix wrongly used macro\\n\\ncommit 'slab: restrict the number of objects in a slab' uses\\n__builtin_constant_p() on #if macro. It is wrong usage of builtin\\nfunction, but it is compiled on x86 without any problem, so I can't\\nfind it before 0 day build system find it.\\n\\nThis commit fixes the situation by using KMALLOC_MIN_SIZE, instead of\\nKMALLOC_SHIFT_LOW. KMALLOC_SHIFT_LOW is parsed to ilog2() on some\\narchitecture and this ilog2() uses __builtin_constant_p() and results in\\nthe problem. This problem would disappear by using KMALLOC_MIN_SIZE,\\nsince it is just constant.\\n\\nTested-by: David Rientjes <rientjes@google.com>\\nSigned-off-by: Joonsoo Kim <iamjoonsoo.kim@lge.com>\\nSigned-off-by: Pekka Enberg <penberg@kernel.org>\")\n",
        "(u'2014-04-13T22:32:16Z', u'mm/slab.c: cleanup outdated comments and unify variables naming\\n\\nAs time goes, the code changes a lot, and this leads to that\\nsome old-days comments scatter around , which instead of faciliating\\nunderstanding, but make more confusion. So this patch cleans up them.\\n\\nAlso, this patch unifies some variables naming.\\n\\nAcked-by: Christoph Lameter <cl@linux.com>\\nSigned-off-by: Jianyu Zhan <nasa4836@gmail.com>\\nSigned-off-by: Pekka Enberg <penberg@kernel.org>')\n",
        "(u'2014-04-13T22:32:16Z', u\"mm: slab/slub: use page->list consistently instead of page->lru\\n\\n'struct page' has two list_head fields: 'lru' and 'list'.  Conveniently,\\nthey are unioned together.  This means that code can use them\\ninterchangably, which gets horribly confusing like with this nugget from\\nslab.c:\\n\\n>\\tlist_del(&page->lru);\\n>\\tif (page->active == cachep->num)\\n>\\t\\tlist_add(&page->list, &n->slabs_full);\\n\\nThis patch makes the slab and slub code use page->lru universally instead\\nof mixing ->list and ->lru.\\n\\nSo, the new rule is: page->lru is what the you use if you want to keep\\nyour page on a list.  Don't like the fact that it's not called ->list?\\nToo bad.\\n\\nSigned-off-by: Dave Hansen <dave.hansen@linux.intel.com>\\nAcked-by: Christoph Lameter <cl@linux.com>\\nAcked-by: David Rientjes <rientjes@google.com>\\nCc: Pekka Enberg <penberg@kernel.org>\\nSigned-off-by: Andrew Morton <akpm@linux-foundation.org>\\nSigned-off-by: Pekka Enberg <penberg@kernel.org>\")\n"
       ]
      }
     ],
     "prompt_number": 7
    },
    {
     "cell_type": "markdown",
     "metadata": {},
     "source": [
      "#Assignment 2: Learn the Reddit API\n",
      "\n",
      "**Time estimate:** 90 minutes\n",
      "\n",
      "Next, you'll practice using both native Python and wrapper-based API calls to the Reddit API. As part of this question, you'll need to\n",
      "\n",
      "1. Explore the [Reddit API documentation](http://www.reddit.com/dev/api), \n",
      "2. Compare alternate Reddit Python client wrapper modules, and\n",
      "3. Install one of the modules. \n",
      "\n",
      "You will need to complete these steps to access social media APIs out in the world. However, in this class you have lots of help. Ask if you get stuck!\n",
      "\n",
      "Print the top posts in the [Reddit python forum](http://www.reddit.com/r/python). For each post, print the title, URL, submitter, and number of votes. Do this in two ways:\n",
      "\n",
      "1. Using \"native Python\" code with urllib and the json module.\n",
      "2. Using a reasonable Python client wrapper module.\n",
      "\n",
      "***Hint:*** You can just add \".json\" to any Reddit webpage URL to get the API call results."
     ]
    },
    {
     "cell_type": "markdown",
     "metadata": {},
     "source": [
      "**Solution:**"
     ]
    },
    {
     "cell_type": "code",
     "collapsed": false,
     "input": [
      "def install_module(package_name):\n",
      "    try:\n",
      "        __import__(package_name)\n",
      "        print('module ' + package_name + ' already installed')\n",
      "    except ImportError:\n",
      "        print('installing module ' + package_name)\n",
      "        import pip\n",
      "        pip.main(['install', package_name])\n",
      "\n",
      "install_module('praw')"
     ],
     "language": "python",
     "metadata": {},
     "outputs": [
      {
       "ename": "KeyError",
       "evalue": "'data'",
       "output_type": "pyerr",
       "traceback": [
        "\u001b[0;31m---------------------------------------------------------------------------\u001b[0m\n\u001b[0;31mKeyError\u001b[0m                                  Traceback (most recent call last)",
        "\u001b[0;32m<ipython-input-23-a376f7e16cad>\u001b[0m in \u001b[0;36m<module>\u001b[0;34m()\u001b[0m\n\u001b[1;32m     16\u001b[0m \u001b[0;34m\u001b[0m\u001b[0m\n\u001b[1;32m     17\u001b[0m \u001b[0mdata\u001b[0m \u001b[0;34m=\u001b[0m \u001b[0mjson\u001b[0m\u001b[0;34m.\u001b[0m\u001b[0mload\u001b[0m\u001b[0;34m(\u001b[0m\u001b[0murllib\u001b[0m\u001b[0;34m.\u001b[0m\u001b[0murlopen\u001b[0m\u001b[0;34m(\u001b[0m\u001b[0;34m'http://www.reddit.com/r/python.json'\u001b[0m\u001b[0;34m)\u001b[0m\u001b[0;34m)\u001b[0m\u001b[0;34m\u001b[0m\u001b[0m\n\u001b[0;32m---> 18\u001b[0;31m \u001b[0;32mfor\u001b[0m \u001b[0mpost\u001b[0m \u001b[0;32min\u001b[0m \u001b[0mdata\u001b[0m\u001b[0;34m[\u001b[0m\u001b[0;34m'data'\u001b[0m\u001b[0;34m]\u001b[0m\u001b[0;34m[\u001b[0m\u001b[0;34m'children'\u001b[0m\u001b[0;34m]\u001b[0m\u001b[0;34m[\u001b[0m\u001b[0;34m:\u001b[0m\u001b[0;36m10\u001b[0m\u001b[0;34m]\u001b[0m\u001b[0;34m:\u001b[0m\u001b[0;34m\u001b[0m\u001b[0m\n\u001b[0m\u001b[1;32m     19\u001b[0m     \u001b[0mpprint\u001b[0m\u001b[0;34m.\u001b[0m\u001b[0mpprint\u001b[0m\u001b[0;34m(\u001b[0m\u001b[0mpost\u001b[0m\u001b[0;34m[\u001b[0m\u001b[0;34m'title'\u001b[0m\u001b[0;34m]\u001b[0m\u001b[0;34m,\u001b[0m \u001b[0mpost\u001b[0m\u001b[0;34m[\u001b[0m\u001b[0;34m'url'\u001b[0m\u001b[0;34m]\u001b[0m\u001b[0;34m,\u001b[0m \u001b[0mpost\u001b[0m\u001b[0;34m[\u001b[0m\u001b[0;34m'author'\u001b[0m\u001b[0;34m]\u001b[0m\u001b[0;34m,\u001b[0m \u001b[0mpost\u001b[0m\u001b[0;34m[\u001b[0m\u001b[0;34m'ups'\u001b[0m\u001b[0;34m]\u001b[0m \u001b[0;34m-\u001b[0m \u001b[0mpost\u001b[0m\u001b[0;34m[\u001b[0m\u001b[0;34m'downs'\u001b[0m\u001b[0;34m]\u001b[0m\u001b[0;34m)\u001b[0m\u001b[0;34m\u001b[0m\u001b[0m\n",
        "\u001b[0;31mKeyError\u001b[0m: 'data'"
       ]
      },
      {
       "output_type": "stream",
       "stream": "stdout",
       "text": [
        "module praw already installed\n"
       ]
      }
     ],
     "prompt_number": 23
    },
    {
     "cell_type": "code",
     "collapsed": false,
     "input": [
      "# using native python....\n",
      "import urllib\n",
      "import json\n",
      "import pprint\n",
      "\n",
      "data = json.load(urllib.urlopen('http://www.reddit.com/r/python.json'))\n",
      "for post in data['data']['children'][:10]:\n",
      "    info = post['data']\n",
      "    print(info['title'], info['url'], info['author'], info['ups'] - info['downs'])"
     ],
     "language": "python",
     "metadata": {},
     "outputs": [
      {
       "output_type": "stream",
       "stream": "stdout",
       "text": [
        "(u'PyCon US 2014, full conference on YouTube (138 videos)', u'http://www.leaseweblabs.com/2014/04/pycon-us-2014-full-conference-youtube-138-videos/', u'maus80', 126)\n",
        "(u\"The Insider's Guide to Python Interviewing\", u'http://www.toptal.com/python#hiring-guide', u'hyamsinger', 30)\n",
        "(u'Idiomatic asyncio coroutines', u'http://www.reddit.com/r/Python/comments/22zs98/idiomatic_asyncio_coroutines/', u'keis', 14)\n",
        "(u'objbrowser 1.0.0, an extensible object inspector.', u'https://pypi.python.org/pypi/objbrowser/1.0.0', u'titusjan', 4)\n",
        "(u'Guido on Python 2.8 at PyCon 2014', u'http://i.imgur.com/MorT9MI.jpg', u'slashfoo', 298)\n",
        "(u'The Call of Python 2.8', u'http://blog.startifact.com/posts/the-call-of-python-28.html', u'faassen', 2)\n",
        "(u'A growing IPython notebook for benchmarking different Python approaches - Looking for suggestions and ideas!', u'http://nbviewer.ipython.org/github/rasbt/python_reference/blob/master/benchmarks/timeit_tests.ipynb?create=1', u'rasbt', 1)\n",
        "(u'Help with simple python problem', u'http://www.reddit.com/r/Python/comments/230c09/help_with_simple_python_problem/', u'member2357', 2)\n",
        "(u\"Decreasing mongoengine's memory footprint drastically\", u'http://www.reddit.com/r/Python/comments/22zkpj/decreasing_mongoengines_memory_footprint/', u'sagivmalihi', 8)\n",
        "(u'Show r/python Flask-Bouncer -- Friendly Authorization for Flask', u'https://github.com/jtushman/flask-bouncer', u'tushman', 3)\n"
       ]
      }
     ],
     "prompt_number": 30
    },
    {
     "cell_type": "code",
     "collapsed": false,
     "input": [
      "import praw\n",
      "\n",
      "r = praw.Reddit(user_agent='my_cool_application')\n",
      "submissions = r.get_subreddit('python').get_hot(limit=10)\n",
      "for s in submissions:\n",
      "    print(s.title, s.author, s.url, s.ups-s.downs)"
     ],
     "language": "python",
     "metadata": {},
     "outputs": [
      {
       "output_type": "stream",
       "stream": "stdout",
       "text": [
        "(u'PyCon US 2014, full conference on YouTube (138 videos)', Redditor(user_name='maus80'), u'http://www.leaseweblabs.com/2014/04/pycon-us-2014-full-conference-youtube-138-videos/', 127)\n",
        "(u\"The Insider's Guide to Python Interviewing\", Redditor(user_name='hyamsinger'), u'http://www.toptal.com/python#hiring-guide', 32)\n",
        "(u'Idiomatic asyncio coroutines', Redditor(user_name='keis'), u'http://www.reddit.com/r/Python/comments/22zs98/idiomatic_asyncio_coroutines/', 15)\n",
        "(u'objbrowser 1.0.0, an extensible object inspector.', Redditor(user_name='titusjan'), u'https://pypi.python.org/pypi/objbrowser/1.0.0', 4)\n",
        "(u'Guido on Python 2.8 at PyCon 2014', Redditor(user_name='slashfoo'), u'http://i.imgur.com/MorT9MI.jpg', 298)\n",
        "(u'The Call of Python 2.8', Redditor(user_name='faassen'), u'http://blog.startifact.com/posts/the-call-of-python-28.html', 4)\n",
        "(u'A growing IPython notebook for benchmarking different Python approaches - Looking for suggestions and ideas!', Redditor(user_name='rasbt'), u'http://nbviewer.ipython.org/github/rasbt/python_reference/blob/master/benchmarks/timeit_tests.ipynb?create=1', 1)\n",
        "(u'Help with simple python problem', Redditor(user_name='member2357'), u'http://www.reddit.com/r/Python/comments/230c09/help_with_simple_python_problem/', 2)\n",
        "(u\"Decreasing mongoengine's memory footprint drastically\", Redditor(user_name='sagivmalihi'), u'http://www.reddit.com/r/Python/comments/22zkpj/decreasing_mongoengines_memory_footprint/', 7)\n",
        "(u'Show r/python Flask-Bouncer -- Friendly Authorization for Flask', Redditor(user_name='tushman'), u'https://github.com/jtushman/flask-bouncer', 3)\n"
       ]
      }
     ],
     "prompt_number": 33
    },
    {
     "cell_type": "markdown",
     "metadata": {},
     "source": [
      "#Assignment 3: Bieber fever OR Bieber fury?\n",
      "\n",
      "**Time estimate:** 3 hours\n",
      "\n",
      "For this assignment, you will write a Python program that finds 10 tweets about Justin Bieber (or any other person you'd like) as they happen, and classifies them as positive or negative in [sentiment](http://en.wikipedia.org/wiki/Sentiment_analysis). To do this, you'll need to use BOTH the Twitter API and AlchemyAPI.\n",
      "\n",
      "Begin by [registering for the free AlchemyAPI license](http://www.alchemyapi.com/api/register.html). This license entitles you to 1000 API calls per day. \n",
      "\n",
      "You already toured the streaming Twitter API in the lesson. You just need to adapt the code to look for Bieber.\n",
      "\n",
      "The next step you need to complete calculates the sentiment associated with each tweet. We'll use the AlchemyAPI. To install it, run the following code, **substituting your license key**.\n"
     ]
    },
    {
     "cell_type": "code",
     "collapsed": false,
     "input": [
      "# You will receive this in an email after registering for a free license at http://www.alchemyapi.com/api/register.html\n",
      "LICENSE_KEY = 'XXXXX'\n",
      "\n",
      "def install_alchemy(key):\n",
      "    import urllib\n",
      "    import os\n",
      "    \n",
      "    if not os.path.isfile('api_key.txt'):\n",
      "        f = open('api_key.txt', 'w')\n",
      "        f.write(key)\n",
      "        f.close()\n",
      "        \n",
      "    if not os.path.isfile('alchemyapi.py'):\n",
      "        f = urllib.urlopen('https://raw.githubusercontent.com/AlchemyAPI/alchemyapi_python/master/alchemyapi.py')\n",
      "        s = f.read()\n",
      "        f.close()\n",
      "        f = open('alchemyapi.py', 'w')\n",
      "        f.write(s)\n",
      "        f.close()\n",
      "\n",
      "    import alchemyapi\n",
      "    \n",
      "\n",
      "install_alchemy(LICENSE_KEY)"
     ],
     "language": "python",
     "metadata": {},
     "outputs": [],
     "prompt_number": 7
    },
    {
     "cell_type": "markdown",
     "metadata": {},
     "source": [
      "All that you need to figure out how to do is ask the alchemyapi about the sentiment of each Bieber related tweet. \n",
      "\n",
      "***Hint:*** The [alchemyapi python tutorial](http://www.alchemyapi.com/developers/getting-started-guide/using-alchemyapi-with-python/) provides a fantastic overview on the module. Since you already installed the module using the above code, you can skip down to the \"Next Steps\" section."
     ]
    },
    {
     "cell_type": "markdown",
     "metadata": {},
     "source": [
      "**Solution:** "
     ]
    },
    {
     "cell_type": "code",
     "collapsed": false,
     "input": [
      "# Replace the contents of this dictionary with your access information.\n",
      "#\n",
      "twitter_config = {\n",
      "        # These two values appear as \"API key\" and \"API secret\" under the \"Application Settings\" section\n",
      "        'API_KEY' :  'XXX',           \n",
      "        'API_SECRET' :  'XXX',\n",
      "        \n",
      "        # These two values appear as \"Access token\" and \"Access token secret\" under the \"Your access token\" section\n",
      "        'ACCESS_TOKEN' :  'XXX',\n",
      "        'ACCESS_SECRET' :  'XXX',\n",
      "      }\n",
      "\n",
      "from twitter import OAuth, TwitterStream\n",
      "import alchemyapi\n",
      "\n",
      "oauth = OAuth(\n",
      "            twitter_config['ACCESS_TOKEN'],\n",
      "            twitter_config['ACCESS_SECRET'],\n",
      "            twitter_config['API_KEY'],\n",
      "            twitter_config['API_SECRET'],\n",
      "        )\n",
      "\n",
      "from alchemyapi import AlchemyAPI\n",
      "\n",
      "alchemy = AlchemyAPI()\n",
      " \n",
      "ts = TwitterStream(auth = oauth)\n",
      "openstream = ts.statuses.filter(track='bieber', language='en')\n",
      "for (i, item) in enumerate(openstream):\n",
      "    \n",
      "    # alchemy code adapted from https://github.com/AlchemyAPI/alchemyapi_python/blob/master/example.py\n",
      "    text = item['text'].encode('utf-8')\n",
      "    response = alchemy.sentiment_targeted('text', text, 'bieber')\n",
      "    if response['status'] == 'OK':\n",
      "        sentiment = response['docSentiment']['type']        \n",
      "        print sentiment, item['user']['screen_name'], item['created_at'], text\n",
      "        if i > 20:\n",
      "            break"
     ],
     "language": "python",
     "metadata": {},
     "outputs": [
      {
       "output_type": "stream",
       "stream": "stdout",
       "text": [
        "positive emma__logsdon Tue Apr 15 02:00:24 +0000 2014 RT @MyBelieberSide: THIS TWEET GOES OUT TO ALL THE BELIEBERS WHOS BEEN HERE SINCE YOU SEARCHED ON \"JUSTIN BIEBER\" AND THIS CAME UP http://t\u2026\n",
        "neutral"
       ]
      },
      {
       "output_type": "stream",
       "stream": "stdout",
       "text": [
        " jumpthetaxi Tue Apr 15 02:00:27 +0000 2014 Guyabano fruit and leaves natural cancer cell killer...:) - News - Bubblews #Bieber #NBA #Heat #Pacquiao http://t.co/kZQgElMGeh #bubblews\n",
        "negative"
       ]
      },
      {
       "output_type": "stream",
       "stream": "stdout",
       "text": [
        " Lilya38112 Tue Apr 15 02:00:30 +0000 2014 RT @Given_ch: @TeamYesLock @Lilya38112 of course RT..Justin bieber have messed up United States..he must go far away from US\n",
        "neutral"
       ]
      },
      {
       "output_type": "stream",
       "stream": "stdout",
       "text": [
        " carol__staback Tue Apr 15 02:00:30 +0000 2014 Should singer Justin Bieber be included on the #TIME100? I voted YES. Vote now http://t.co/r6jea3mYMM via @TIME\n",
        "negative"
       ]
      },
      {
       "output_type": "stream",
       "stream": "stdout",
       "text": [
        " sandyyyyyy18 Tue Apr 15 02:00:33 +0000 2014 @D4nI3lm3nd3z Watch Justin Bieber and Selena Gomez's sex tape here: http://t.co/79eZYJNe2r http://t.co/nWWqPeYCDO\"\n",
        "negative"
       ]
      },
      {
       "output_type": "stream",
       "stream": "stdout",
       "text": [
        " JShoreWetpaint Tue Apr 15 02:00:35 +0000 2014 Selena Gomez Wants to Date Older Men \u2014 Sorry Justin Bieber (VIDEO) http://t.co/FR6Yl2J44Q\n",
        "positive"
       ]
      },
      {
       "output_type": "stream",
       "stream": "stdout",
       "text": [
        " agoosvergara1 Tue Apr 15 02:00:35 +0000 2014 RT @AgustinMachadoL: Justin Bieber - All That Matters\n",
        "negative"
       ]
      },
      {
       "output_type": "stream",
       "stream": "stdout",
       "text": [
        " TheMetalKingxD Tue Apr 15 02:00:37 +0000 2014 Cesaro's new theme song is still more talented than any justin bieber and one direction song ever #RAW\n",
        "negative"
       ]
      },
      {
       "output_type": "stream",
       "stream": "stdout",
       "text": [
        " jemcatunao Tue Apr 15 02:00:39 +0000 2014 RT @itstinatbh: Seth Rogan calls Bieber 'obnoxious, dangerous, ungrateful' http://t.co/E1Lz0yfd77\n",
        "positive"
       ]
      },
      {
       "output_type": "stream",
       "stream": "stdout",
       "text": [
        " JessicaATilley Tue Apr 15 02:00:39 +0000 2014 RT @MyBelieberSide: THIS TWEET GOES OUT TO ALL THE BELIEBERS WHOS BEEN HERE SINCE YOU SEARCHED ON \"JUSTIN BIEBER\" AND THIS CAME UP http://t\u2026\n",
        "positive"
       ]
      },
      {
       "output_type": "stream",
       "stream": "stdout",
       "text": [
        " BieberRTTeam Tue Apr 15 02:00:42 +0000 2014 RT @MyBelieberSide: THIS TWEET GOES OUT TO ALL THE BELIEBERS WHOS BEEN HERE SINCE YOU SEARCHED ON \"JUSTIN BIEBER\" AND THIS CAME UP http://t\u2026\n",
        "positive"
       ]
      },
      {
       "output_type": "stream",
       "stream": "stdout",
       "text": [
        " Sofia_Gee Tue Apr 15 02:00:44 +0000 2014 Love Listening To Justin Bieber \ud83d\ude0d\ud83d\ude0d\ud83d\ude0d\ud83d\ude0d\n",
        "positive"
       ]
      },
      {
       "output_type": "stream",
       "stream": "stdout",
       "text": [
        " Thersa_Bechtold Tue Apr 15 02:00:44 +0000 2014 #Google #Hot #Trend Justin Bieber and Selena Gomez Get Cozy at Coachella: Get the... http://t.co/zYVHYRQdk4 #InstantFollowBack GANews\n",
        "positive"
       ]
      },
      {
       "output_type": "stream",
       "stream": "stdout",
       "text": [
        " teenagetag Tue Apr 15 02:00:44 +0000 2014 RT @Thersa_Bechtold: #Google #Hot #Trend Justin Bieber and Selena Gomez Get Cozy at Coachella: Get the... http://t.co/zYVHYRQdk4 #InstantFo\u2026\n",
        "positive"
       ]
      },
      {
       "output_type": "stream",
       "stream": "stdout",
       "text": [
        " CandeeBiiebeer Tue Apr 15 02:00:44 +0000 2014 RT @AgustinMachadoL: Justin Bieber - All That Matters\n",
        "neutral"
       ]
      },
      {
       "output_type": "stream",
       "stream": "stdout",
       "text": [
        " DaisyOyebo_ Tue Apr 15 02:00:45 +0000 2014 \"@marz_pray: #RidicSketches #Abuad @justinbieber @DaisyOyebo_ @DammyO_ colour sketch of Justin Bieber http://t.co/4x5tVcaRA8\"\n",
        "positive"
       ]
      },
      {
       "output_type": "stream",
       "stream": "stdout",
       "text": [
        " iSelenaGomezHub Tue Apr 15 02:00:46 +0000 2014 Justin Bieber and Selena Gomez Get Cozy at Coachella: Get the Scoop! http://t.co/kFKBnyrVNB\n",
        "positive"
       ]
      },
      {
       "output_type": "stream",
       "stream": "stdout",
       "text": [
        " purple_ninja345 Tue Apr 15 02:00:47 +0000 2014 RT @MyBelieberSide: THIS TWEET GOES OUT TO ALL THE BELIEBERS WHOS BEEN HERE SINCE YOU SEARCHED ON \"JUSTIN BIEBER\" AND THIS CAME UP http://t\u2026\n",
        "positive"
       ]
      },
      {
       "output_type": "stream",
       "stream": "stdout",
       "text": [
        " KayQuattalaro Tue Apr 15 02:00:47 +0000 2014 Just finished watching the believe movie best movie I have ever seen keep up the good work Justin Bieber love u soo much @justinbieber\n",
        "positive"
       ]
      },
      {
       "output_type": "stream",
       "stream": "stdout",
       "text": [
        " kidrauxltribe Tue Apr 15 02:00:49 +0000 2014 Me listening to Justin Bieber: *cries and fangirls*\n",
        "neutral"
       ]
      },
      {
       "output_type": "stream",
       "stream": "stdout",
       "text": [
        " drwshots Tue Apr 15 02:00:49 +0000 2014 RT @killerdrauhl: o casal de hamster starring justin bieber e selena gomez http://t.co/Y6EHZkRwNi\n"
       ]
      }
     ],
     "prompt_number": 42
    },
    {
     "cell_type": "code",
     "collapsed": false,
     "input": [],
     "language": "python",
     "metadata": {},
     "outputs": []
    }
   ],
   "metadata": {}
  }
 ]
}