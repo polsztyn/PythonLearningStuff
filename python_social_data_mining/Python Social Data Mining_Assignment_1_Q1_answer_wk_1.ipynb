{
 "metadata": {
  "name": "Week 1 Assignments Completed"
 },
 "nbformat": 3,
 "nbformat_minor": 0,
 "worksheets": [
  {
   "cells": [
    {
     "cell_type": "markdown",
     "metadata": {},
     "source": "#Social data mining, Shilad Sen\n#Assignment 1: Q1 answer\n\n##Question 1: Modeling tweets\n\n<style type=\"text/css\">\niframe.twitter-tweet {\nwidth:800px !important;\n}\n</style>\n\n**Background:** In this question you will practice creating and navigating data structures that represent real world social media. At the end of this question you should be more comfortable translating social media into Python data structures. \n\n**Completion time:** This question should take you approximately one hour. \n\n**Point value:** Ungraded, immediate feedback.\n\n**Part A.** Write Python code that declares a variable called `tweets` and fills it with three tweets.\n\n * The top level `tweets` data structure should be organized by username. Given a username, we should be able to easily retrieve the user's tweets.\n * Each tweet should contain three attributes: an author's username, the text of the tweet, and the usernames that have favorited the tweet. **You only need to include a few usernames that favorite each tweet.**\n * You may find it easier to fill the tweets variable in several steps, instead of defining it all at once.\n\n<blockquote class=\"twitter-tweet\" lang=\"en\" width=\"100%\"><p>News! Based on <a href=\"https://twitter.com/NateSilver538\">@NateSilver538</a>&#39;s calculations, there&#39;s a 90.617854% chance we\u2019re relaunching FiveThirtyEight on March 17.</p>&mdash; FiveThirtyEight (@FiveThirtyEight) <a href=\"https://twitter.com/FiveThirtyEight/statuses/442372247379247105\">March 8, 2014</a></blockquote>\n<script async src=\"//platform.twitter.com/widgets.js\" charset=\"utf-8\"></script>\n\n<blockquote class=\"twitter-tweet\" lang=\"en\"><p>The Fox knows many little things; The hedgehog knows one big thing. <a href=\"http://t.co/GWSmHaatPD\">http://t.co/GWSmHaatPD</a> <a href=\"http://t.co/4s6rNpp5zi\">http://t.co/4s6rNpp5zi</a></p>&mdash; FiveThirtyEight (@FiveThirtyEight) <a href=\"https://twitter.com/FiveThirtyEight/statuses/442384984540999680\">March 8, 2014</a></blockquote>\n<script async src=\"//platform.twitter.com/widgets.js\" charset=\"utf-8\"></script>\n\n<blockquote class=\"twitter-tweet\" lang=\"en\"><p>What scientific idea is ready for retirement? It is the standard deviation! (according to Nassim Taleb) <a href=\"http://t.co/0xvKRa1UNb\">http://t.co/0xvKRa1UNb</a></p>&mdash; Jure Leskovec (@jure) <a href=\"https://twitter.com/jure/statuses/423611752417202176\">January 16, 2014</a></blockquote>\n<script async src=\"//platform.twitter.com/widgets.js\" charset=\"utf-8\"></script>\n\n\n**Part B.** Write Python code to count and print out the total number of times each users' tweets have been favorited. As of March 9, 2014, this would be:\n\n<pre>\n    ('number of favorites for tweeter', 'FiveThirtyEight', 273)\n    ('number of favorites for tweeter', 'Jure Leskovec', 13)\n</pre>"
    },
    {
     "cell_type": "code",
     "collapsed": false,
     "input": "import collections\n\n# if we ask for a user that doesn't yet occur, python will return an empty list.\nuser_tweets = collections.defaultdict(list)\n\nuser_tweets['FiveThirtyEight'].append({\n           'username' : 'FiveThirtyEight',\n           'text' : 'News! Based on @NateSilver538\\'s calculations, there\\'s a 90.617854% chance we\u2019re relaunching FiveThirtyEight on March 17',\n           'favorited' : set(['danielconnor', 'ericleeclark'])\n    })\nuser_tweets['FiveThirtyEight'].append({\n           'username' : 'FiveThirtyEight',\n           'text' : 'The Fox knows many little things; The hedgehog knows one big thing.  http://www.fivethirtyeight.com/2014/03/fivethirtyeight-to-relaunch-on-march-17.html http://bit.ly/1ilaNwl',\n           'favorited' : set(['jess_chesh', 'LindiEmoungu'])\n    })\n\nuser_tweets['jure'].append({\n           'username' : 'jure',\n           'text' : 'What scientific idea is ready for retirement? It is the standard deviation! (according to Nassim Taleb) http://www.edge.org/response-detail/25401 \u2026',\n           'favorited' : set(['quenochetete', 'TomHCAnderson'])\n    })\n\n# loop over each user\nfor user in user_tweets:\n    \n    # accumulate sum over all tweets by that user    \n    # alternately, with fancy list comprehensions: \n    # n = sum([len(tweet['favorited']) for tweet in user_tweets[user])\n    n = 0\n    for tweet in user_tweets[user]:\n        n += len(tweet['favorited'])\n        \n    print('number of favorties for tweeter', user, n)",
     "language": "python",
     "metadata": {},
     "outputs": [
      {
       "output_type": "stream",
       "stream": "stdout",
       "text": "('number of favorties for tweeter', 'jure', 2)\n('number of favorties for tweeter', 'FiveThirtyEight', 4)\n"
      }
     ],
     "prompt_number": 1
    }
   ],
   "metadata": {}
  }
 ]
}