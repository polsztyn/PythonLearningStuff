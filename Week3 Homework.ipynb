{
 "metadata": {
  "name": "",
  "signature": "sha256:3d0f3ebd13384bfa10820388003bf6c3cc62bcf4fda10860d7da0d26b4492096"
 },
 "nbformat": 3,
 "nbformat_minor": 0,
 "worksheets": [
  {
   "cells": [
    {
     "cell_type": "markdown",
     "metadata": {},
     "source": [
      "<h1> Week 3 Homework: Working with Pandas </h1>\n",
      "    \n",
      "Create a new IPython Notebook and use it to answer the following assignments, using what you've learned\n",
      "this week. Note that the last sections for each are meant to be a little more challenging    \n"
     ]
    },
    {
     "cell_type": "markdown",
     "metadata": {},
     "source": [
      "<h2> Question 1 </h2>\n",
      "\n",
      "<p> Load the MovieData.csv dataset into a pandas DataFrame as described in this week's lesson, and use it to\n",
      "find the following values:\n",
      "</p>\n",
      "\n"
     ]
    },
    {
     "cell_type": "markdown",
     "metadata": {},
     "source": [
      "<h3> a. What is the median profit (in dollars instead of ratio, this time) of movies with budgets of over $50M? </h3>"
     ]
    },
    {
     "cell_type": "code",
     "collapsed": false,
     "input": [
      "import pandas"
     ],
     "language": "python",
     "metadata": {},
     "outputs": [],
     "prompt_number": 3
    },
    {
     "cell_type": "code",
     "collapsed": false,
     "input": [
      "import datetime as dt\n",
      "def make_date(date_str):\n",
      "    '''\n",
      "    Turn a MM/DD/YY string into a datetime object\n",
      "    '''\n",
      "    m, d, y = date_str.split(\"/\")\n",
      "    m = int(m)\n",
      "    d = int(d)\n",
      "    y = int(y)\n",
      "    if y > 13:\n",
      "        y += 1900\n",
      "    else:\n",
      "        y += 2000\n",
      "    return dt.datetime(y, m, d)"
     ],
     "language": "python",
     "metadata": {},
     "outputs": [],
     "prompt_number": 4
    },
    {
     "cell_type": "code",
     "collapsed": false,
     "input": [
      "movies = pandas.read_csv(\"MovieData.csv\", sep='\\t', na_values=[\"Unknown\",\"Unkno\"],parse_dates=[0], date_parser=make_date)"
     ],
     "language": "python",
     "metadata": {},
     "outputs": [],
     "prompt_number": 65
    },
    {
     "cell_type": "code",
     "collapsed": false,
     "input": [
      "movies[\"Profit\"] = movies[\"Worldwide Gross\"]-movies[\"Budget\"]"
     ],
     "language": "python",
     "metadata": {},
     "outputs": [],
     "prompt_number": 66
    },
    {
     "cell_type": "code",
     "collapsed": false,
     "input": [
      "big_budget = movies[movies.Budget > 50000000]"
     ],
     "language": "python",
     "metadata": {},
     "outputs": [],
     "prompt_number": 67
    },
    {
     "cell_type": "code",
     "collapsed": false,
     "input": [
      "big_budget.head()"
     ],
     "language": "python",
     "metadata": {},
     "outputs": [
      {
       "html": [
        "<div style=\"max-height:1000px;max-width:1500px;overflow:auto;\">\n",
        "<table border=\"1\" class=\"dataframe\">\n",
        "  <thead>\n",
        "    <tr style=\"text-align: right;\">\n",
        "      <th></th>\n",
        "      <th>Release_Date</th>\n",
        "      <th>Movie</th>\n",
        "      <th>Distributor</th>\n",
        "      <th>Budget</th>\n",
        "      <th>US Gross</th>\n",
        "      <th>Worldwide Gross</th>\n",
        "      <th>Profit</th>\n",
        "    </tr>\n",
        "  </thead>\n",
        "  <tbody>\n",
        "    <tr>\n",
        "      <th>0</th>\n",
        "      <td>2012-03-09</td>\n",
        "      <td>                              John Carter</td>\n",
        "      <td>         NaN</td>\n",
        "      <td> 300000000</td>\n",
        "      <td>  66439100</td>\n",
        "      <td> 254439100</td>\n",
        "      <td> -45560900</td>\n",
        "    </tr>\n",
        "    <tr>\n",
        "      <th>1</th>\n",
        "      <td>2007-05-25</td>\n",
        "      <td> Pirates of the Caribbean: At World's End</td>\n",
        "      <td> Buena Vista</td>\n",
        "      <td> 300000000</td>\n",
        "      <td> 309420425</td>\n",
        "      <td> 960996492</td>\n",
        "      <td> 660996492</td>\n",
        "    </tr>\n",
        "    <tr>\n",
        "      <th>2</th>\n",
        "      <td>2013-12-13</td>\n",
        "      <td>         The Hobbit: There and Back Again</td>\n",
        "      <td>    New Line</td>\n",
        "      <td> 270000000</td>\n",
        "      <td>       NaN</td>\n",
        "      <td>       NaN</td>\n",
        "      <td>       NaN</td>\n",
        "    </tr>\n",
        "    <tr>\n",
        "      <th>3</th>\n",
        "      <td>2012-12-14</td>\n",
        "      <td>        The Hobbit: An Unexpected Journey</td>\n",
        "      <td>    New Line</td>\n",
        "      <td> 270000000</td>\n",
        "      <td>       NaN</td>\n",
        "      <td>       NaN</td>\n",
        "      <td>       NaN</td>\n",
        "    </tr>\n",
        "    <tr>\n",
        "      <th>4</th>\n",
        "      <td>2010-11-24</td>\n",
        "      <td>                                  Tangled</td>\n",
        "      <td> Buena Vista</td>\n",
        "      <td> 260000000</td>\n",
        "      <td> 200821936</td>\n",
        "      <td> 586581936</td>\n",
        "      <td> 326581936</td>\n",
        "    </tr>\n",
        "  </tbody>\n",
        "</table>\n",
        "</div>"
       ],
       "metadata": {},
       "output_type": "pyout",
       "prompt_number": 68,
       "text": [
        "  Release_Date                                     Movie  Distributor  \\\n",
        "0   2012-03-09                               John Carter          NaN   \n",
        "1   2007-05-25  Pirates of the Caribbean: At World's End  Buena Vista   \n",
        "2   2013-12-13          The Hobbit: There and Back Again     New Line   \n",
        "3   2012-12-14         The Hobbit: An Unexpected Journey     New Line   \n",
        "4   2010-11-24                                   Tangled  Buena Vista   \n",
        "\n",
        "      Budget   US Gross  Worldwide Gross     Profit  \n",
        "0  300000000   66439100        254439100  -45560900  \n",
        "1  300000000  309420425        960996492  660996492  \n",
        "2  270000000        NaN              NaN        NaN  \n",
        "3  270000000        NaN              NaN        NaN  \n",
        "4  260000000  200821936        586581936  326581936  "
       ]
      }
     ],
     "prompt_number": 68
    },
    {
     "cell_type": "code",
     "collapsed": false,
     "input": [
      "big_budget.info()"
     ],
     "language": "python",
     "metadata": {},
     "outputs": [
      {
       "output_type": "stream",
       "stream": "stdout",
       "text": [
        "<class 'pandas.core.frame.DataFrame'>\n",
        "Int64Index: 705 entries, 0 to 704\n",
        "Data columns (total 7 columns):\n",
        "Release_Date       705 non-null datetime64[ns]\n",
        "Movie              705 non-null object\n",
        "Distributor        650 non-null object\n",
        "Budget             705 non-null int64\n",
        "US Gross           696 non-null float64\n",
        "Worldwide Gross    652 non-null float64\n",
        "Profit             652 non-null float64\n",
        "dtypes: datetime64[ns](1), float64(3), int64(1), object(2)"
       ]
      }
     ],
     "prompt_number": 10
    },
    {
     "cell_type": "code",
     "collapsed": false,
     "input": [
      "print \"The median profit for movies with a budget greater than $50M is \", big_budget[\"Profit\"].median()"
     ],
     "language": "python",
     "metadata": {},
     "outputs": [
      {
       "output_type": "stream",
       "stream": "stdout",
       "text": [
        "The median profit for movies with a budget greater than $50M is  102085318.0\n"
       ]
      }
     ],
     "prompt_number": 15
    },
    {
     "cell_type": "markdown",
     "metadata": {},
     "source": [
      "<h3> b. What are the mean and median movie profits by decade? Which decade was the most profitable? </h3>\n"
     ]
    },
    {
     "cell_type": "code",
     "collapsed": false,
     "input": [
      "def get_year(date):\n",
      "    return date.year\n",
      "movies[\"Year\"] = movies.Release_Date.apply(get_year)"
     ],
     "language": "python",
     "metadata": {},
     "outputs": [],
     "prompt_number": 69
    },
    {
     "cell_type": "code",
     "collapsed": false,
     "input": [
      "import math\n",
      "def get_decade(year):\n",
      "    century = year/100\n",
      "    decade = int((math.fmod(year,100))/10) * 10\n",
      "    return (century*100)+decade\n",
      "movies[\"Decade\"] = movies.Year.apply(get_decade)\n"
     ],
     "language": "python",
     "metadata": {},
     "outputs": [],
     "prompt_number": 70
    },
    {
     "cell_type": "code",
     "collapsed": false,
     "input": [
      "print movies.Decade.min()\n",
      "print movies.Decade.max()\n",
      "movies.head()"
     ],
     "language": "python",
     "metadata": {},
     "outputs": [
      {
       "output_type": "stream",
       "stream": "stdout",
       "text": [
        "1910\n",
        "2010\n"
       ]
      },
      {
       "html": [
        "<div style=\"max-height:1000px;max-width:1500px;overflow:auto;\">\n",
        "<table border=\"1\" class=\"dataframe\">\n",
        "  <thead>\n",
        "    <tr style=\"text-align: right;\">\n",
        "      <th></th>\n",
        "      <th>Release_Date</th>\n",
        "      <th>Movie</th>\n",
        "      <th>Distributor</th>\n",
        "      <th>Budget</th>\n",
        "      <th>US Gross</th>\n",
        "      <th>Worldwide Gross</th>\n",
        "      <th>Profit</th>\n",
        "      <th>Year</th>\n",
        "      <th>Decade</th>\n",
        "    </tr>\n",
        "  </thead>\n",
        "  <tbody>\n",
        "    <tr>\n",
        "      <th>0</th>\n",
        "      <td>2012-03-09</td>\n",
        "      <td>                              John Carter</td>\n",
        "      <td>         NaN</td>\n",
        "      <td> 300000000</td>\n",
        "      <td>  66439100</td>\n",
        "      <td> 254439100</td>\n",
        "      <td> -45560900</td>\n",
        "      <td> 2012</td>\n",
        "      <td> 2010</td>\n",
        "    </tr>\n",
        "    <tr>\n",
        "      <th>1</th>\n",
        "      <td>2007-05-25</td>\n",
        "      <td> Pirates of the Caribbean: At World's End</td>\n",
        "      <td> Buena Vista</td>\n",
        "      <td> 300000000</td>\n",
        "      <td> 309420425</td>\n",
        "      <td> 960996492</td>\n",
        "      <td> 660996492</td>\n",
        "      <td> 2007</td>\n",
        "      <td> 2000</td>\n",
        "    </tr>\n",
        "    <tr>\n",
        "      <th>2</th>\n",
        "      <td>2013-12-13</td>\n",
        "      <td>         The Hobbit: There and Back Again</td>\n",
        "      <td>    New Line</td>\n",
        "      <td> 270000000</td>\n",
        "      <td>       NaN</td>\n",
        "      <td>       NaN</td>\n",
        "      <td>       NaN</td>\n",
        "      <td> 2013</td>\n",
        "      <td> 2010</td>\n",
        "    </tr>\n",
        "    <tr>\n",
        "      <th>3</th>\n",
        "      <td>2012-12-14</td>\n",
        "      <td>        The Hobbit: An Unexpected Journey</td>\n",
        "      <td>    New Line</td>\n",
        "      <td> 270000000</td>\n",
        "      <td>       NaN</td>\n",
        "      <td>       NaN</td>\n",
        "      <td>       NaN</td>\n",
        "      <td> 2012</td>\n",
        "      <td> 2010</td>\n",
        "    </tr>\n",
        "    <tr>\n",
        "      <th>4</th>\n",
        "      <td>2010-11-24</td>\n",
        "      <td>                                  Tangled</td>\n",
        "      <td> Buena Vista</td>\n",
        "      <td> 260000000</td>\n",
        "      <td> 200821936</td>\n",
        "      <td> 586581936</td>\n",
        "      <td> 326581936</td>\n",
        "      <td> 2010</td>\n",
        "      <td> 2010</td>\n",
        "    </tr>\n",
        "  </tbody>\n",
        "</table>\n",
        "</div>"
       ],
       "metadata": {},
       "output_type": "pyout",
       "prompt_number": 74,
       "text": [
        "  Release_Date                                     Movie  Distributor  \\\n",
        "0   2012-03-09                               John Carter          NaN   \n",
        "1   2007-05-25  Pirates of the Caribbean: At World's End  Buena Vista   \n",
        "2   2013-12-13          The Hobbit: There and Back Again     New Line   \n",
        "3   2012-12-14         The Hobbit: An Unexpected Journey     New Line   \n",
        "4   2010-11-24                                   Tangled  Buena Vista   \n",
        "\n",
        "      Budget   US Gross  Worldwide Gross     Profit  Year  Decade  \n",
        "0  300000000   66439100        254439100  -45560900  2012    2010  \n",
        "1  300000000  309420425        960996492  660996492  2007    2000  \n",
        "2  270000000        NaN              NaN        NaN  2013    2010  \n",
        "3  270000000        NaN              NaN        NaN  2012    2010  \n",
        "4  260000000  200821936        586581936  326581936  2010    2010  "
       ]
      }
     ],
     "prompt_number": 74
    },
    {
     "cell_type": "code",
     "collapsed": false,
     "input": [
      "by_decade = movies.groupby(\"Decade\")"
     ],
     "language": "python",
     "metadata": {},
     "outputs": [],
     "prompt_number": 79
    },
    {
     "cell_type": "code",
     "collapsed": false,
     "input": [
      "by_decade.groups.keys()\n"
     ],
     "language": "python",
     "metadata": {},
     "outputs": [
      {
       "metadata": {},
       "output_type": "pyout",
       "prompt_number": 81,
       "text": [
        "[1920, 1990, 1960, 1930, 2000, 1970, 1940, 1910, 2010, 1980, 1950]"
       ]
      }
     ],
     "prompt_number": 81
    },
    {
     "cell_type": "code",
     "collapsed": false,
     "input": [
      "decade_means = by_decade.Profit.mean()\n",
      "print \"The Meidan Profits by Decade are:\"\n",
      "print decade_median"
     ],
     "language": "python",
     "metadata": {},
     "outputs": [],
     "prompt_number": 91
    },
    {
     "cell_type": "code",
     "collapsed": false,
     "input": [
      "print decade_means"
     ],
     "language": "python",
     "metadata": {},
     "outputs": [
      {
       "output_type": "stream",
       "stream": "stdout",
       "text": [
        "Decade\n",
        "1910      1.089000e+07\n",
        "1920      1.286700e+07\n",
        "1930      9.875830e+07\n",
        "1940      7.866000e+06\n",
        "1950               NaN\n",
        "1960      7.174161e+07\n",
        "1970      1.729143e+08\n",
        "1980      1.678445e+08\n",
        "1990      1.120926e+08\n",
        "2000      6.853341e+07\n",
        "2010      8.922441e+07\n",
        "Name: Profit, dtype: float64\n"
       ]
      }
     ],
     "prompt_number": 87
    },
    {
     "cell_type": "code",
     "collapsed": false,
     "input": [
      "decade_median = by_decade.Profit.median()\n",
      "print \"The Meidan Profits by Decade are:\"\n",
      "print decade_median"
     ],
     "language": "python",
     "metadata": {},
     "outputs": [
      {
       "output_type": "stream",
       "stream": "stdout",
       "text": [
        "The Meidan Profits by Decade are:\n",
        "Decade\n",
        "1910       10890000\n",
        "1920       12867000\n",
        "1930        3283000\n",
        "1940        7866000\n",
        "1950            NaN\n",
        "1960       54995385\n",
        "1970      132461500\n",
        "1980      114167015\n",
        "1990       57920866\n",
        "2000       21627454\n",
        "2010       28680977\n",
        "Name: Profit, dtype: float64\n"
       ]
      }
     ],
     "prompt_number": 90
    },
    {
     "cell_type": "code",
     "collapsed": false,
     "input": [
      "most_profit = 0\n",
      "for x in decade_median.keys():\n",
      "\n",
      "    if decade_median[x] > most_profit:\n",
      "        most_profit_decade = x\n",
      "        most_profit = decade_median[x]\n",
      "print   \"The decade with the highest median profit was \", most_profit_decade, \" with a median profit of \", most_profit    \n",
      "    "
     ],
     "language": "python",
     "metadata": {},
     "outputs": [
      {
       "output_type": "stream",
       "stream": "stdout",
       "text": [
        "The decade with the highest median profit was  1970  with a median profit of  132461500.0\n"
       ]
      }
     ],
     "prompt_number": 98
    },
    {
     "cell_type": "markdown",
     "metadata": {},
     "source": [
      "<h3> c. How many movies were released by each film distributor? Output the results to a csv file </h3>"
     ]
    },
    {
     "cell_type": "code",
     "collapsed": false,
     "input": [
      "by_distributor = movies.groupby(\"Distributor\")"
     ],
     "language": "python",
     "metadata": {},
     "outputs": [],
     "prompt_number": 101
    },
    {
     "cell_type": "code",
     "collapsed": false,
     "input": [
      "counts = by_distributor.Movie.aggregate(len)\n",
      "print \"The count of movies by distributor is :\"\n",
      "print counts"
     ],
     "language": "python",
     "metadata": {},
     "outputs": [
      {
       "output_type": "stream",
       "stream": "stdout",
       "text": [
        "The count of movies by distributor is :\n",
        "Distributor\n",
        "20th Century Fox                   230\n",
        "3D Entertainment                     1\n",
        "8 X Entertainment                    1\n",
        "ART                                  1\n",
        "Access                               1\n",
        "Alliance                             4\n",
        "American International Pictures      1\n",
        "Anchor Bay                           4\n",
        "Apparition                           4\n",
        "Artisan                             23\n",
        "Artistic License                     1\n",
        "Atlantic                             1\n",
        "Attitude Films                       1\n",
        "Avatar                               1\n",
        "Avco Embassy                         5\n",
        "...\n",
        "Warner Bros.                   311\n",
        "Warner Independent               3\n",
        "Warner Independent Pictures      7\n",
        "Weinstein                        1\n",
        "Weinstein Ci.                    1\n",
        "Weinstein Co.                   33\n",
        "Weinstein/Dimension              1\n",
        "Weintraub                        2\n",
        "WellSpring                       2\n",
        "Wellspring                       1\n",
        "WinStar                          1\n",
        "Winstar                          1\n",
        "Yash Raj                         1\n",
        "Zeitgeist                        7\n",
        "Zion                             1\n",
        "Name: Movie, Length: 208, dtype: int64\n"
       ]
      }
     ],
     "prompt_number": 104
    },
    {
     "cell_type": "code",
     "collapsed": false,
     "input": [
      "#wrting out result set to CSV\n",
      "import csv\n",
      "f = open(\"movie_distributor_counts.csv\", \"wb\")\n",
      "my_writer = csv.writer(f)\n",
      "header = [\"Disributor\", \"Film Count\"]\n",
      "my_writer.writerow(header)\n",
      "for row in counts.keys():\n",
      "    y = []\n",
      "    y.append(row)\n",
      "    y.append(counts[row])\n",
      "    my_writer.writerow(y)\n",
      "f.close()"
     ],
     "language": "python",
     "metadata": {},
     "outputs": [],
     "prompt_number": 120
    },
    {
     "cell_type": "markdown",
     "metadata": {},
     "source": [
      "<h2> Question 2 </h2>\n",
      "\n",
      "Load the earthquake data in QuakeData.csv into a DataFrame, and use it to answer the following questions:\n"
     ]
    },
    {
     "cell_type": "code",
     "collapsed": false,
     "input": [
      "def make_date2(date_str):\n",
      "    '''\n",
      "    turn a MM/DD/YY string into a datetime object.\n",
      "    '''\n",
      "\n",
      "\n",
      "    y = int(date_str[0:4])\n",
      "    #print y\n",
      "    #print date_str[5:7]\n",
      "    m = int(date_str[5:7])\n",
      "    #print m\n",
      "    d = int(date_str[8:10])\n",
      "    #print d\n",
      "    h = int (date_str[11:13])\n",
      "    #print h\n",
      "    mi = int (date_str[14:16])\n",
      "    #print mi\n",
      "    s  = int (date_str[17:19])\n",
      "    return(dt.datetime(year=y, month=m, day=d, hour=h, minute=mi, second=s))\n"
     ],
     "language": "python",
     "metadata": {},
     "outputs": [],
     "prompt_number": 119
    },
    {
     "cell_type": "code",
     "collapsed": false,
     "input": [
      "Quakes = pandas.read_csv(\"QuakeData.csv\", na_values=[\"Unknown\",\"Unkno\"],parse_dates=[0], date_parser=make_date2)"
     ],
     "language": "python",
     "metadata": {},
     "outputs": [],
     "prompt_number": 196
    },
    {
     "cell_type": "code",
     "collapsed": false,
     "input": [
      "Quakes.tail()"
     ],
     "language": "python",
     "metadata": {},
     "outputs": [
      {
       "html": [
        "<div style=\"max-height:1000px;max-width:1500px;overflow:auto;\">\n",
        "<table border=\"1\" class=\"dataframe\">\n",
        "  <thead>\n",
        "    <tr style=\"text-align: right;\">\n",
        "      <th></th>\n",
        "      <th>DateTime</th>\n",
        "      <th>Latitude</th>\n",
        "      <th>Longitude</th>\n",
        "      <th>Depth</th>\n",
        "      <th>Magnitude</th>\n",
        "      <th>MagType</th>\n",
        "      <th>NbStations</th>\n",
        "      <th>Gap</th>\n",
        "      <th>Distance</th>\n",
        "      <th>RMS</th>\n",
        "      <th>Source</th>\n",
        "      <th>EventID</th>\n",
        "      <th>Version</th>\n",
        "    </tr>\n",
        "  </thead>\n",
        "  <tbody>\n",
        "    <tr>\n",
        "      <th>12679</th>\n",
        "      <td>2013-01-01 15:18:35</td>\n",
        "      <td> -1.085</td>\n",
        "      <td> 126.956</td>\n",
        "      <td>  20.6</td>\n",
        "      <td> 4.9</td>\n",
        "      <td> mb</td>\n",
        "      <td> 68</td>\n",
        "      <td>  58</td>\n",
        "      <td>NaN</td>\n",
        "      <td> 0.87</td>\n",
        "      <td> pde</td>\n",
        "      <td>  pde20130101151835300_20</td>\n",
        "      <td> 1363392592259</td>\n",
        "    </tr>\n",
        "    <tr>\n",
        "      <th>12680</th>\n",
        "      <td>2013-01-01 16:59:29</td>\n",
        "      <td> -5.302</td>\n",
        "      <td> 104.149</td>\n",
        "      <td>  80.7</td>\n",
        "      <td> 4.5</td>\n",
        "      <td> mb</td>\n",
        "      <td> 66</td>\n",
        "      <td> 113</td>\n",
        "      <td>NaN</td>\n",
        "      <td> 0.89</td>\n",
        "      <td> pde</td>\n",
        "      <td>  pde20130101165929760_80</td>\n",
        "      <td> 1363392592269</td>\n",
        "    </tr>\n",
        "    <tr>\n",
        "      <th>12681</th>\n",
        "      <td>2013-01-01 17:43:57</td>\n",
        "      <td>-55.991</td>\n",
        "      <td> -24.865</td>\n",
        "      <td>  42.0</td>\n",
        "      <td> 5.0</td>\n",
        "      <td> mb</td>\n",
        "      <td> 45</td>\n",
        "      <td>  58</td>\n",
        "      <td>NaN</td>\n",
        "      <td> 1.16</td>\n",
        "      <td> pde</td>\n",
        "      <td>  pde20130101174357700_42</td>\n",
        "      <td> 1363392592287</td>\n",
        "    </tr>\n",
        "    <tr>\n",
        "      <th>12682</th>\n",
        "      <td>2013-01-01 20:05:03</td>\n",
        "      <td>  2.374</td>\n",
        "      <td>  96.110</td>\n",
        "      <td>  38.4</td>\n",
        "      <td> 4.7</td>\n",
        "      <td> mb</td>\n",
        "      <td> 67</td>\n",
        "      <td> 111</td>\n",
        "      <td>NaN</td>\n",
        "      <td> 0.73</td>\n",
        "      <td> pde</td>\n",
        "      <td>  pde20130101200503100_38</td>\n",
        "      <td> 1363392592413</td>\n",
        "    </tr>\n",
        "    <tr>\n",
        "      <th>12683</th>\n",
        "      <td>2013-01-01 23:40:40</td>\n",
        "      <td> 36.613</td>\n",
        "      <td>  71.460</td>\n",
        "      <td> 141.4</td>\n",
        "      <td> 4.0</td>\n",
        "      <td> mb</td>\n",
        "      <td> 20</td>\n",
        "      <td>  72</td>\n",
        "      <td>NaN</td>\n",
        "      <td> 1.07</td>\n",
        "      <td> pde</td>\n",
        "      <td> pde20130101234040540_141</td>\n",
        "      <td> 1363392592426</td>\n",
        "    </tr>\n",
        "  </tbody>\n",
        "</table>\n",
        "</div>"
       ],
       "metadata": {},
       "output_type": "pyout",
       "prompt_number": 122,
       "text": [
        "                 DateTime  Latitude  Longitude  Depth  Magnitude MagType  \\\n",
        "12679 2013-01-01 15:18:35    -1.085    126.956   20.6        4.9      mb   \n",
        "12680 2013-01-01 16:59:29    -5.302    104.149   80.7        4.5      mb   \n",
        "12681 2013-01-01 17:43:57   -55.991    -24.865   42.0        5.0      mb   \n",
        "12682 2013-01-01 20:05:03     2.374     96.110   38.4        4.7      mb   \n",
        "12683 2013-01-01 23:40:40    36.613     71.460  141.4        4.0      mb   \n",
        "\n",
        "       NbStations  Gap  Distance   RMS Source                   EventID  \\\n",
        "12679          68   58       NaN  0.87    pde   pde20130101151835300_20   \n",
        "12680          66  113       NaN  0.89    pde   pde20130101165929760_80   \n",
        "12681          45   58       NaN  1.16    pde   pde20130101174357700_42   \n",
        "12682          67  111       NaN  0.73    pde   pde20130101200503100_38   \n",
        "12683          20   72       NaN  1.07    pde  pde20130101234040540_141   \n",
        "\n",
        "             Version  \n",
        "12679  1363392592259  \n",
        "12680  1363392592269  \n",
        "12681  1363392592287  \n",
        "12682  1363392592413  \n",
        "12683  1363392592426  "
       ]
      }
     ],
     "prompt_number": 122
    },
    {
     "cell_type": "code",
     "collapsed": false,
     "input": [
      "Quakes.info()\n"
     ],
     "language": "python",
     "metadata": {},
     "outputs": [
      {
       "output_type": "stream",
       "stream": "stdout",
       "text": [
        "<class 'pandas.core.frame.DataFrame'>\n",
        "Int64Index: 12684 entries, 0 to 12683\n",
        "Data columns (total 13 columns):\n",
        "DateTime      12684 non-null datetime64[ns]\n",
        "Latitude      12684 non-null float64\n",
        "Longitude     12684 non-null float64\n",
        "Depth         12676 non-null float64\n",
        "Magnitude     12684 non-null float64\n",
        "MagType       12684 non-null object\n",
        "NbStations    12684 non-null int64\n",
        "Gap           12684 non-null int64\n",
        "Distance      1 non-null float64\n",
        "RMS           10544 non-null float64\n",
        "Source        12684 non-null object\n",
        "EventID       12684 non-null object\n",
        "Version       12684 non-null int64\n",
        "dtypes: datetime64[ns](1), float64(6), int64(3), object(3)"
       ]
      }
     ],
     "prompt_number": 123
    },
    {
     "cell_type": "markdown",
     "metadata": {},
     "source": [
      "<h3> a. What is the median earthquake magnitude? </h3>"
     ]
    },
    {
     "cell_type": "code",
     "collapsed": false,
     "input": [
      "print \"The Median earthquake magnitude is \" , Quakes.Magnitude.median()"
     ],
     "language": "python",
     "metadata": {},
     "outputs": [
      {
       "output_type": "stream",
       "stream": "stdout",
       "text": [
        "The Median earthquake magnitude is  4.5\n"
       ]
      }
     ],
     "prompt_number": 197
    },
    {
     "cell_type": "markdown",
     "metadata": {},
     "source": [
      "<h3> b. What is the correlation between magnitude and depth? </h3>"
     ]
    },
    {
     "cell_type": "code",
     "collapsed": false,
     "input": [
      "QuakesCorr = Quakes.corr()"
     ],
     "language": "python",
     "metadata": {},
     "outputs": [],
     "prompt_number": 156
    },
    {
     "cell_type": "code",
     "collapsed": false,
     "input": [
      "QuakesCorr"
     ],
     "language": "python",
     "metadata": {},
     "outputs": [
      {
       "html": [
        "<div style=\"max-height:1000px;max-width:1500px;overflow:auto;\">\n",
        "<table border=\"1\" class=\"dataframe\">\n",
        "  <thead>\n",
        "    <tr style=\"text-align: right;\">\n",
        "      <th></th>\n",
        "      <th>Latitude</th>\n",
        "      <th>Longitude</th>\n",
        "      <th>Depth</th>\n",
        "      <th>Magnitude</th>\n",
        "      <th>NbStations</th>\n",
        "      <th>Gap</th>\n",
        "      <th>Distance</th>\n",
        "      <th>RMS</th>\n",
        "      <th>Version</th>\n",
        "    </tr>\n",
        "  </thead>\n",
        "  <tbody>\n",
        "    <tr>\n",
        "      <th>Latitude</th>\n",
        "      <td> 1.000000</td>\n",
        "      <td> 0.151126</td>\n",
        "      <td>-0.152737</td>\n",
        "      <td>-0.094021</td>\n",
        "      <td> 0.169994</td>\n",
        "      <td>-0.002338</td>\n",
        "      <td>NaN</td>\n",
        "      <td>-0.059844</td>\n",
        "      <td> 0.028847</td>\n",
        "    </tr>\n",
        "    <tr>\n",
        "      <th>Longitude</th>\n",
        "      <td> 0.151126</td>\n",
        "      <td> 1.000000</td>\n",
        "      <td>-0.056669</td>\n",
        "      <td> 0.094502</td>\n",
        "      <td>-0.062045</td>\n",
        "      <td>-0.158388</td>\n",
        "      <td>NaN</td>\n",
        "      <td>-0.162260</td>\n",
        "      <td>-0.031297</td>\n",
        "    </tr>\n",
        "    <tr>\n",
        "      <th>Depth</th>\n",
        "      <td>-0.152737</td>\n",
        "      <td>-0.056669</td>\n",
        "      <td> 1.000000</td>\n",
        "      <td> 0.029175</td>\n",
        "      <td> 0.130701</td>\n",
        "      <td>-0.132728</td>\n",
        "      <td>NaN</td>\n",
        "      <td>-0.100127</td>\n",
        "      <td>-0.014670</td>\n",
        "    </tr>\n",
        "    <tr>\n",
        "      <th>Magnitude</th>\n",
        "      <td>-0.094021</td>\n",
        "      <td> 0.094502</td>\n",
        "      <td> 0.029175</td>\n",
        "      <td> 1.000000</td>\n",
        "      <td> 0.703717</td>\n",
        "      <td>-0.523315</td>\n",
        "      <td>NaN</td>\n",
        "      <td>-0.012080</td>\n",
        "      <td> 0.106513</td>\n",
        "    </tr>\n",
        "    <tr>\n",
        "      <th>NbStations</th>\n",
        "      <td> 0.169994</td>\n",
        "      <td>-0.062045</td>\n",
        "      <td> 0.130701</td>\n",
        "      <td> 0.703717</td>\n",
        "      <td> 1.000000</td>\n",
        "      <td>-0.483381</td>\n",
        "      <td>NaN</td>\n",
        "      <td>-0.080913</td>\n",
        "      <td> 0.114673</td>\n",
        "    </tr>\n",
        "    <tr>\n",
        "      <th>Gap</th>\n",
        "      <td>-0.002338</td>\n",
        "      <td>-0.158388</td>\n",
        "      <td>-0.132728</td>\n",
        "      <td>-0.523315</td>\n",
        "      <td>-0.483381</td>\n",
        "      <td> 1.000000</td>\n",
        "      <td>NaN</td>\n",
        "      <td>-0.010979</td>\n",
        "      <td>-0.030786</td>\n",
        "    </tr>\n",
        "    <tr>\n",
        "      <th>Distance</th>\n",
        "      <td>      NaN</td>\n",
        "      <td>      NaN</td>\n",
        "      <td>      NaN</td>\n",
        "      <td>      NaN</td>\n",
        "      <td>      NaN</td>\n",
        "      <td>      NaN</td>\n",
        "      <td>NaN</td>\n",
        "      <td>      NaN</td>\n",
        "      <td>      NaN</td>\n",
        "    </tr>\n",
        "    <tr>\n",
        "      <th>RMS</th>\n",
        "      <td>-0.059844</td>\n",
        "      <td>-0.162260</td>\n",
        "      <td>-0.100127</td>\n",
        "      <td>-0.012080</td>\n",
        "      <td>-0.080913</td>\n",
        "      <td>-0.010979</td>\n",
        "      <td>NaN</td>\n",
        "      <td> 1.000000</td>\n",
        "      <td> 0.018472</td>\n",
        "    </tr>\n",
        "    <tr>\n",
        "      <th>Version</th>\n",
        "      <td> 0.028847</td>\n",
        "      <td>-0.031297</td>\n",
        "      <td>-0.014670</td>\n",
        "      <td> 0.106513</td>\n",
        "      <td> 0.114673</td>\n",
        "      <td>-0.030786</td>\n",
        "      <td>NaN</td>\n",
        "      <td> 0.018472</td>\n",
        "      <td> 1.000000</td>\n",
        "    </tr>\n",
        "  </tbody>\n",
        "</table>\n",
        "</div>"
       ],
       "metadata": {},
       "output_type": "pyout",
       "prompt_number": 157,
       "text": [
        "            Latitude  Longitude     Depth  Magnitude  NbStations       Gap  \\\n",
        "Latitude    1.000000   0.151126 -0.152737  -0.094021    0.169994 -0.002338   \n",
        "Longitude   0.151126   1.000000 -0.056669   0.094502   -0.062045 -0.158388   \n",
        "Depth      -0.152737  -0.056669  1.000000   0.029175    0.130701 -0.132728   \n",
        "Magnitude  -0.094021   0.094502  0.029175   1.000000    0.703717 -0.523315   \n",
        "NbStations  0.169994  -0.062045  0.130701   0.703717    1.000000 -0.483381   \n",
        "Gap        -0.002338  -0.158388 -0.132728  -0.523315   -0.483381  1.000000   \n",
        "Distance         NaN        NaN       NaN        NaN         NaN       NaN   \n",
        "RMS        -0.059844  -0.162260 -0.100127  -0.012080   -0.080913 -0.010979   \n",
        "Version     0.028847  -0.031297 -0.014670   0.106513    0.114673 -0.030786   \n",
        "\n",
        "            Distance       RMS   Version  \n",
        "Latitude         NaN -0.059844  0.028847  \n",
        "Longitude        NaN -0.162260 -0.031297  \n",
        "Depth            NaN -0.100127 -0.014670  \n",
        "Magnitude        NaN -0.012080  0.106513  \n",
        "NbStations       NaN -0.080913  0.114673  \n",
        "Gap              NaN -0.010979 -0.030786  \n",
        "Distance         NaN       NaN       NaN  \n",
        "RMS              NaN  1.000000  0.018472  \n",
        "Version          NaN  0.018472  1.000000  "
       ]
      }
     ],
     "prompt_number": 157
    },
    {
     "cell_type": "code",
     "collapsed": false,
     "input": [
      "print \"The Correlation Between Magnitude and Depth is \", QuakesCorr[\"Magnitude\"][\"Depth\"]"
     ],
     "language": "python",
     "metadata": {},
     "outputs": [
      {
       "output_type": "stream",
       "stream": "stdout",
       "text": [
        "The Correlation Between Magnitude and Depth is  0.02917515916\n"
       ]
      }
     ],
     "prompt_number": 162
    },
    {
     "cell_type": "markdown",
     "metadata": {},
     "source": [
      "<h3> c. What fraction (not count) of earthquakes happen each month (across all years)? Do some months\n",
      "have significantly more or fewer quakes than others? </h3>"
     ]
    },
    {
     "cell_type": "code",
     "collapsed": false,
     "input": [
      "def get_month(date):\n",
      "    return date.month\n",
      "Quakes[\"Month\"] = Quakes.DateTime.apply(get_month)"
     ],
     "language": "python",
     "metadata": {},
     "outputs": [],
     "prompt_number": 198
    },
    {
     "cell_type": "code",
     "collapsed": false,
     "input": [
      "by_months = Quakes.groupby(\"Month\")"
     ],
     "language": "python",
     "metadata": {},
     "outputs": [],
     "prompt_number": 199
    },
    {
     "cell_type": "code",
     "collapsed": false,
     "input": [
      "x = by_months.count()"
     ],
     "language": "python",
     "metadata": {},
     "outputs": [],
     "prompt_number": 174
    },
    {
     "cell_type": "code",
     "collapsed": false,
     "input": [
      "all_quake_cnt = x[\"Magnitude\"].sum()\n",
      "\n",
      "x[\"QuakePercent\"] = x[\"Magnitude\"]/all_quake_cnt"
     ],
     "language": "python",
     "metadata": {},
     "outputs": [],
     "prompt_number": 200
    },
    {
     "cell_type": "code",
     "collapsed": false,
     "input": [],
     "language": "python",
     "metadata": {},
     "outputs": [],
     "prompt_number": 187
    },
    {
     "cell_type": "code",
     "collapsed": false,
     "input": [
      "QuakeByMonthPercents = x[\"QuakePercent\"]\n",
      "print \"The Quake Percentages by Month are : \" , QuakeByMonthPercents"
     ],
     "language": "python",
     "metadata": {},
     "outputs": [
      {
       "output_type": "stream",
       "stream": "stdout",
       "text": [
        "The Quake Percentages by Month are :  Month\n",
        "1        0.080732\n",
        "2        0.085225\n",
        "3        0.090271\n",
        "4        0.109823\n",
        "5        0.083412\n",
        "6        0.070956\n",
        "7        0.069536\n",
        "8        0.080574\n",
        "9        0.089246\n",
        "10       0.082860\n",
        "11       0.078524\n",
        "12       0.078839\n",
        "Name: QuakePercent, dtype: float64\n"
       ]
      }
     ],
     "prompt_number": 201
    },
    {
     "cell_type": "code",
     "collapsed": false,
     "input": [
      "average_monthly_quakes = QuakeByMonthPercents.mean()\n",
      "std_monthly_quakes = QuakeByMonthPercents.std()\n",
      "\n",
      "\n",
      "big_quake_cnt = 0\n",
      "for i in QuakeByMonthPercents:\n",
      "    if (i > (average_monthly_quakes + 3*std_monthly_quakes)) or (i < (average_monthly_quakes - 3*std_monthly_quakes)):\n",
      "        print \"big quake\" , i\n",
      "        big_quake_cnt += 1\n",
      "print \"There were \" , big_quake_cnt , \" quakes greater than 3 standard deviations compared to the monthly average\"\n"
     ],
     "language": "python",
     "metadata": {},
     "outputs": [
      {
       "output_type": "stream",
       "stream": "stdout",
       "text": [
        "There were  0  quakes greater than 3 standard deviations compared to the monthly average\n"
       ]
      }
     ],
     "prompt_number": 208
    },
    {
     "cell_type": "code",
     "collapsed": false,
     "input": [],
     "language": "python",
     "metadata": {},
     "outputs": []
    },
    {
     "cell_type": "code",
     "collapsed": false,
     "input": [],
     "language": "python",
     "metadata": {},
     "outputs": []
    }
   ],
   "metadata": {}
  }
 ]
}