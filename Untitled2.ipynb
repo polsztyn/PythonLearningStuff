{
 "cells": [
  {
   "cell_type": "code",
   "execution_count": 18,
   "metadata": {
    "collapsed": false
   },
   "outputs": [
    {
     "name": "stdout",
     "output_type": "stream",
     "text": [
      "0.04402592  0.04472897  0.04709948  0.05150932  0.05790115  0.06530187 0.07224947  0.07787257  0.08203505  0.08491872  0.08675657  0.08774848 0.08805184  0.04786295  0.02422476  0.01776351  0.00849355  0.00477189 0.00290712  0.00201576  0.00176104\n",
      "['0.04402592', '', '0.04472897', '', '0.04709948', '', '0.05150932', '', '0.05790115', '', '0.06530187', '0.07224947', '', '0.07787257', '', '0.08203505', '', '0.08491872', '', '0.08675657', '', '0.08774848', '0.08805184', '', '0.04786295', '', '0.02422476', '', '0.01776351', '', '0.00849355', '', '0.00477189', '0.00290712', '', '0.00201576', '', '0.00176104']\n",
      "0.04402592\n",
      "0.04472897\n",
      "0.04709948\n",
      "0.05150932\n",
      "0.05790115\n",
      "0.06530187\n",
      "0.07224947\n",
      "0.07787257\n",
      "0.08203505\n",
      "0.08491872\n",
      "0.08675657\n",
      "0.08774848\n",
      "0.08805184\n",
      "0.04786295\n",
      "0.02422476\n",
      "0.01776351\n",
      "0.00849355\n",
      "0.00477189\n",
      "0.00290712\n",
      "0.00201576\n",
      "0.00176104\n"
     ]
    }
   ],
   "source": [
    "def is_number(s):\n",
    "    try:\n",
    "        float(s)\n",
    "        return True\n",
    "    except ValueError:\n",
    "        return False\n",
    "\n",
    "str1 = \"0.04402592  0.04472897  0.04709948  0.05150932  0.05790115  0.06530187 0.07224947  0.07787257  0.08203505  0.08491872  0.08675657  0.08774848 0.08805184  0.04786295  0.02422476  0.01776351  0.00849355  0.00477189 0.00290712  0.00201576  0.00176104\"\n",
    "print str1\n",
    "\n",
    "list1 = str1.split(\" \")\n",
    "print list1\n",
    "for i in list1:\n",
    "    if is_number(i):\n",
    "        x = float(i)\n",
    "        print x\n"
   ]
  },
  {
   "cell_type": "code",
   "execution_count": 17,
   "metadata": {
    "collapsed": false
   },
   "outputs": [
    {
     "ename": "AttributeError",
     "evalue": "'str' object has no attribute 'isnumber'",
     "output_type": "error",
     "traceback": [
      "\u001b[1;31m---------------------------------------------------------------------------\u001b[0m",
      "\u001b[1;31mAttributeError\u001b[0m                            Traceback (most recent call last)",
      "\u001b[1;32m<ipython-input-17-f5f3c069c239>\u001b[0m in \u001b[0;36m<module>\u001b[1;34m()\u001b[0m\n\u001b[1;32m----> 1\u001b[1;33m \u001b[1;32mprint\u001b[0m \u001b[1;34m'0.04402592'\u001b[0m\u001b[1;33m.\u001b[0m\u001b[0misnumber\u001b[0m\u001b[1;33m(\u001b[0m\u001b[1;33m)\u001b[0m\u001b[1;33m\u001b[0m\u001b[0m\n\u001b[0m",
      "\u001b[1;31mAttributeError\u001b[0m: 'str' object has no attribute 'isnumber'"
     ]
    }
   ],
   "source": [
    "print '0.04402592'.isnumber()"
   ]
  },
  {
   "cell_type": "code",
   "execution_count": null,
   "metadata": {
    "collapsed": true
   },
   "outputs": [],
   "source": []
  }
 ],
 "metadata": {
  "kernelspec": {
   "display_name": "Python 2",
   "language": "python",
   "name": "python2"
  },
  "language_info": {
   "codemirror_mode": {
    "name": "ipython",
    "version": 2
   },
   "file_extension": ".py",
   "mimetype": "text/x-python",
   "name": "python",
   "nbconvert_exporter": "python",
   "pygments_lexer": "ipython2",
   "version": "2.7.10"
  }
 },
 "nbformat": 4,
 "nbformat_minor": 0
}
