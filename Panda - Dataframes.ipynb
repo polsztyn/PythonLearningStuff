{
 "cells": [
  {
   "cell_type": "markdown",
   "metadata": {},
   "source": [
    "<h1> Panda Dataframes </h1>"
   ]
  },
  {
   "cell_type": "markdown",
   "metadata": {},
   "source": [
    "<p> If you've worked in R, you're already familiar with the general concept of dataframes. You probably know the\n",
    "same concept by different names in other languages and tools too -- it's just data organized into a table, with\n",
    "columns of specific variables and rows of observations </p>\n",
    "\n",
    "<p> Technically, in Pandas, a DataFrame is a composed of Series with a shared index; each Series is a column, and\n",
    "each index value is a row. </p>\n",
    "\n",
    "<h2> Creating a Panda Dataframe </h2>\n",
    "\n",
    "<p> We can create a DataFrame from series by creating a dictionary associating each series with a column name,\n",
    "like this: </p>\n"
   ]
  },
  {
   "cell_type": "code",
   "execution_count": 1,
   "metadata": {
    "collapsed": false
   },
   "outputs": [],
   "source": [
    "import pandas\n",
    "import random\n",
    "\n",
    "dates = pandas.date_range('1/1/2000', periods=120, freq='M') # create a list of 120 dates, starting  January 1, 2000, \n",
    "                                                             # incremented by 1 month\n",
    "\n",
    "\n",
    "ts1 = pandas.Series([random.normalvariate(0,1) for x in range(120)], index=dates)\n",
    "ts2 = pandas.Series([random.normalvariate(0,1) for x in range(120)], index=dates)\n",
    "ts1 = ts1.cumsum()\n",
    "ts2 = ts2.cumsum()\n",
    "\n",
    "\n",
    "df = pandas.DataFrame({\"Column1\": ts1, \"Column2\": ts2})\n",
    "\n"
   ]
  },
  {
   "cell_type": "code",
   "execution_count": 9,
   "metadata": {
    "collapsed": false
   },
   "outputs": [
    {
     "data": {
      "text/html": [
       "<div style=\"max-height:1000px;max-width:1500px;overflow:auto;\">\n",
       "<table border=\"1\" class=\"dataframe\">\n",
       "  <thead>\n",
       "    <tr style=\"text-align: right;\">\n",
       "      <th></th>\n",
       "      <th>Column1</th>\n",
       "      <th>Column2</th>\n",
       "    </tr>\n",
       "  </thead>\n",
       "  <tbody>\n",
       "    <tr>\n",
       "      <th>2000-01-31</th>\n",
       "      <td> -0.321829</td>\n",
       "      <td> -1.735891</td>\n",
       "    </tr>\n",
       "    <tr>\n",
       "      <th>2000-02-29</th>\n",
       "      <td> -0.914268</td>\n",
       "      <td> -1.481103</td>\n",
       "    </tr>\n",
       "    <tr>\n",
       "      <th>2000-03-31</th>\n",
       "      <td>  0.101797</td>\n",
       "      <td> -1.176621</td>\n",
       "    </tr>\n",
       "    <tr>\n",
       "      <th>2000-04-30</th>\n",
       "      <td>  1.221134</td>\n",
       "      <td>  0.044792</td>\n",
       "    </tr>\n",
       "    <tr>\n",
       "      <th>2000-05-31</th>\n",
       "      <td>  1.726044</td>\n",
       "      <td>  1.137000</td>\n",
       "    </tr>\n",
       "    <tr>\n",
       "      <th>2000-06-30</th>\n",
       "      <td>  1.714007</td>\n",
       "      <td>  1.089871</td>\n",
       "    </tr>\n",
       "    <tr>\n",
       "      <th>2000-07-31</th>\n",
       "      <td>  2.567738</td>\n",
       "      <td>  0.254439</td>\n",
       "    </tr>\n",
       "    <tr>\n",
       "      <th>2000-08-31</th>\n",
       "      <td>  1.592573</td>\n",
       "      <td>  1.341344</td>\n",
       "    </tr>\n",
       "    <tr>\n",
       "      <th>2000-09-30</th>\n",
       "      <td>  1.397019</td>\n",
       "      <td>  0.185584</td>\n",
       "    </tr>\n",
       "    <tr>\n",
       "      <th>2000-10-31</th>\n",
       "      <td>  1.412941</td>\n",
       "      <td> -0.315829</td>\n",
       "    </tr>\n",
       "    <tr>\n",
       "      <th>2000-11-30</th>\n",
       "      <td>  0.552583</td>\n",
       "      <td> -0.859290</td>\n",
       "    </tr>\n",
       "    <tr>\n",
       "      <th>2000-12-31</th>\n",
       "      <td>  1.364963</td>\n",
       "      <td> -2.162421</td>\n",
       "    </tr>\n",
       "    <tr>\n",
       "      <th>2001-01-31</th>\n",
       "      <td>  2.569648</td>\n",
       "      <td> -3.188907</td>\n",
       "    </tr>\n",
       "    <tr>\n",
       "      <th>2001-02-28</th>\n",
       "      <td>  2.452076</td>\n",
       "      <td> -2.997649</td>\n",
       "    </tr>\n",
       "    <tr>\n",
       "      <th>2001-03-31</th>\n",
       "      <td>  2.900731</td>\n",
       "      <td> -2.659978</td>\n",
       "    </tr>\n",
       "    <tr>\n",
       "      <th>2001-04-30</th>\n",
       "      <td>  4.049248</td>\n",
       "      <td>  0.017300</td>\n",
       "    </tr>\n",
       "    <tr>\n",
       "      <th>2001-05-31</th>\n",
       "      <td>  0.732682</td>\n",
       "      <td>  0.447329</td>\n",
       "    </tr>\n",
       "    <tr>\n",
       "      <th>2001-06-30</th>\n",
       "      <td>  0.981584</td>\n",
       "      <td> -0.742811</td>\n",
       "    </tr>\n",
       "    <tr>\n",
       "      <th>2001-07-31</th>\n",
       "      <td> -0.372237</td>\n",
       "      <td> -0.594911</td>\n",
       "    </tr>\n",
       "    <tr>\n",
       "      <th>2001-08-31</th>\n",
       "      <td>  0.064400</td>\n",
       "      <td> -0.636903</td>\n",
       "    </tr>\n",
       "    <tr>\n",
       "      <th>2001-09-30</th>\n",
       "      <td> -0.265589</td>\n",
       "      <td>  0.935590</td>\n",
       "    </tr>\n",
       "    <tr>\n",
       "      <th>2001-10-31</th>\n",
       "      <td> -0.202377</td>\n",
       "      <td>  0.797361</td>\n",
       "    </tr>\n",
       "    <tr>\n",
       "      <th>2001-11-30</th>\n",
       "      <td> -0.615163</td>\n",
       "      <td>  0.776010</td>\n",
       "    </tr>\n",
       "    <tr>\n",
       "      <th>2001-12-31</th>\n",
       "      <td> -0.828173</td>\n",
       "      <td>  1.969460</td>\n",
       "    </tr>\n",
       "    <tr>\n",
       "      <th>2002-01-31</th>\n",
       "      <td> -2.472527</td>\n",
       "      <td>  1.392722</td>\n",
       "    </tr>\n",
       "    <tr>\n",
       "      <th>2002-02-28</th>\n",
       "      <td> -2.185900</td>\n",
       "      <td>  1.942566</td>\n",
       "    </tr>\n",
       "    <tr>\n",
       "      <th>2002-03-31</th>\n",
       "      <td> -1.218282</td>\n",
       "      <td>  1.969931</td>\n",
       "    </tr>\n",
       "    <tr>\n",
       "      <th>2002-04-30</th>\n",
       "      <td> -0.049631</td>\n",
       "      <td>  1.421112</td>\n",
       "    </tr>\n",
       "    <tr>\n",
       "      <th>2002-05-31</th>\n",
       "      <td> -0.848886</td>\n",
       "      <td>  1.396291</td>\n",
       "    </tr>\n",
       "    <tr>\n",
       "      <th>2002-06-30</th>\n",
       "      <td> -1.197209</td>\n",
       "      <td>  2.115021</td>\n",
       "    </tr>\n",
       "    <tr>\n",
       "      <th>...</th>\n",
       "      <td>...</td>\n",
       "      <td>...</td>\n",
       "    </tr>\n",
       "    <tr>\n",
       "      <th>2007-07-31</th>\n",
       "      <td> 10.375963</td>\n",
       "      <td>-10.892340</td>\n",
       "    </tr>\n",
       "    <tr>\n",
       "      <th>2007-08-31</th>\n",
       "      <td> 10.490887</td>\n",
       "      <td>-11.670701</td>\n",
       "    </tr>\n",
       "    <tr>\n",
       "      <th>2007-09-30</th>\n",
       "      <td> 11.203748</td>\n",
       "      <td>-13.755187</td>\n",
       "    </tr>\n",
       "    <tr>\n",
       "      <th>2007-10-31</th>\n",
       "      <td> 10.212614</td>\n",
       "      <td>-13.744984</td>\n",
       "    </tr>\n",
       "    <tr>\n",
       "      <th>2007-11-30</th>\n",
       "      <td>  9.451319</td>\n",
       "      <td>-13.448996</td>\n",
       "    </tr>\n",
       "    <tr>\n",
       "      <th>2007-12-31</th>\n",
       "      <td>  9.506937</td>\n",
       "      <td>-13.899540</td>\n",
       "    </tr>\n",
       "    <tr>\n",
       "      <th>2008-01-31</th>\n",
       "      <td>  8.911851</td>\n",
       "      <td>-14.235438</td>\n",
       "    </tr>\n",
       "    <tr>\n",
       "      <th>2008-02-29</th>\n",
       "      <td>  9.238023</td>\n",
       "      <td>-14.220827</td>\n",
       "    </tr>\n",
       "    <tr>\n",
       "      <th>2008-03-31</th>\n",
       "      <td>  9.505325</td>\n",
       "      <td>-14.309131</td>\n",
       "    </tr>\n",
       "    <tr>\n",
       "      <th>2008-04-30</th>\n",
       "      <td>  8.334155</td>\n",
       "      <td>-14.517812</td>\n",
       "    </tr>\n",
       "    <tr>\n",
       "      <th>2008-05-31</th>\n",
       "      <td>  6.291862</td>\n",
       "      <td>-14.231235</td>\n",
       "    </tr>\n",
       "    <tr>\n",
       "      <th>2008-06-30</th>\n",
       "      <td>  4.608101</td>\n",
       "      <td>-14.726798</td>\n",
       "    </tr>\n",
       "    <tr>\n",
       "      <th>2008-07-31</th>\n",
       "      <td>  6.966601</td>\n",
       "      <td>-15.961596</td>\n",
       "    </tr>\n",
       "    <tr>\n",
       "      <th>2008-08-31</th>\n",
       "      <td>  6.581198</td>\n",
       "      <td>-15.563191</td>\n",
       "    </tr>\n",
       "    <tr>\n",
       "      <th>2008-09-30</th>\n",
       "      <td>  6.279766</td>\n",
       "      <td>-15.218152</td>\n",
       "    </tr>\n",
       "    <tr>\n",
       "      <th>2008-10-31</th>\n",
       "      <td>  6.983998</td>\n",
       "      <td>-17.670411</td>\n",
       "    </tr>\n",
       "    <tr>\n",
       "      <th>2008-11-30</th>\n",
       "      <td>  6.872468</td>\n",
       "      <td>-18.156083</td>\n",
       "    </tr>\n",
       "    <tr>\n",
       "      <th>2008-12-31</th>\n",
       "      <td>  7.166619</td>\n",
       "      <td>-19.475359</td>\n",
       "    </tr>\n",
       "    <tr>\n",
       "      <th>2009-01-31</th>\n",
       "      <td>  6.918732</td>\n",
       "      <td>-17.999284</td>\n",
       "    </tr>\n",
       "    <tr>\n",
       "      <th>2009-02-28</th>\n",
       "      <td>  7.595446</td>\n",
       "      <td>-19.589021</td>\n",
       "    </tr>\n",
       "    <tr>\n",
       "      <th>2009-03-31</th>\n",
       "      <td>  8.832729</td>\n",
       "      <td>-18.360002</td>\n",
       "    </tr>\n",
       "    <tr>\n",
       "      <th>2009-04-30</th>\n",
       "      <td>  7.794085</td>\n",
       "      <td>-18.618105</td>\n",
       "    </tr>\n",
       "    <tr>\n",
       "      <th>2009-05-31</th>\n",
       "      <td>  7.351411</td>\n",
       "      <td>-18.294367</td>\n",
       "    </tr>\n",
       "    <tr>\n",
       "      <th>2009-06-30</th>\n",
       "      <td>  7.969676</td>\n",
       "      <td>-16.675064</td>\n",
       "    </tr>\n",
       "    <tr>\n",
       "      <th>2009-07-31</th>\n",
       "      <td>  6.806484</td>\n",
       "      <td>-16.370622</td>\n",
       "    </tr>\n",
       "    <tr>\n",
       "      <th>2009-08-31</th>\n",
       "      <td>  7.777411</td>\n",
       "      <td>-16.622169</td>\n",
       "    </tr>\n",
       "    <tr>\n",
       "      <th>2009-09-30</th>\n",
       "      <td>  8.777822</td>\n",
       "      <td>-16.835628</td>\n",
       "    </tr>\n",
       "    <tr>\n",
       "      <th>2009-10-31</th>\n",
       "      <td>  8.964207</td>\n",
       "      <td>-16.716131</td>\n",
       "    </tr>\n",
       "    <tr>\n",
       "      <th>2009-11-30</th>\n",
       "      <td>  8.152751</td>\n",
       "      <td>-17.091817</td>\n",
       "    </tr>\n",
       "    <tr>\n",
       "      <th>2009-12-31</th>\n",
       "      <td>  9.097141</td>\n",
       "      <td>-16.644581</td>\n",
       "    </tr>\n",
       "  </tbody>\n",
       "</table>\n",
       "<p>120 rows × 2 columns</p>\n",
       "</div>"
      ],
      "text/plain": [
       "              Column1    Column2\n",
       "2000-01-31  -0.321829  -1.735891\n",
       "2000-02-29  -0.914268  -1.481103\n",
       "2000-03-31   0.101797  -1.176621\n",
       "2000-04-30   1.221134   0.044792\n",
       "2000-05-31   1.726044   1.137000\n",
       "2000-06-30   1.714007   1.089871\n",
       "2000-07-31   2.567738   0.254439\n",
       "2000-08-31   1.592573   1.341344\n",
       "2000-09-30   1.397019   0.185584\n",
       "2000-10-31   1.412941  -0.315829\n",
       "2000-11-30   0.552583  -0.859290\n",
       "2000-12-31   1.364963  -2.162421\n",
       "2001-01-31   2.569648  -3.188907\n",
       "2001-02-28   2.452076  -2.997649\n",
       "2001-03-31   2.900731  -2.659978\n",
       "2001-04-30   4.049248   0.017300\n",
       "2001-05-31   0.732682   0.447329\n",
       "2001-06-30   0.981584  -0.742811\n",
       "2001-07-31  -0.372237  -0.594911\n",
       "2001-08-31   0.064400  -0.636903\n",
       "2001-09-30  -0.265589   0.935590\n",
       "2001-10-31  -0.202377   0.797361\n",
       "2001-11-30  -0.615163   0.776010\n",
       "2001-12-31  -0.828173   1.969460\n",
       "2002-01-31  -2.472527   1.392722\n",
       "2002-02-28  -2.185900   1.942566\n",
       "2002-03-31  -1.218282   1.969931\n",
       "2002-04-30  -0.049631   1.421112\n",
       "2002-05-31  -0.848886   1.396291\n",
       "2002-06-30  -1.197209   2.115021\n",
       "...               ...        ...\n",
       "2007-07-31  10.375963 -10.892340\n",
       "2007-08-31  10.490887 -11.670701\n",
       "2007-09-30  11.203748 -13.755187\n",
       "2007-10-31  10.212614 -13.744984\n",
       "2007-11-30   9.451319 -13.448996\n",
       "2007-12-31   9.506937 -13.899540\n",
       "2008-01-31   8.911851 -14.235438\n",
       "2008-02-29   9.238023 -14.220827\n",
       "2008-03-31   9.505325 -14.309131\n",
       "2008-04-30   8.334155 -14.517812\n",
       "2008-05-31   6.291862 -14.231235\n",
       "2008-06-30   4.608101 -14.726798\n",
       "2008-07-31   6.966601 -15.961596\n",
       "2008-08-31   6.581198 -15.563191\n",
       "2008-09-30   6.279766 -15.218152\n",
       "2008-10-31   6.983998 -17.670411\n",
       "2008-11-30   6.872468 -18.156083\n",
       "2008-12-31   7.166619 -19.475359\n",
       "2009-01-31   6.918732 -17.999284\n",
       "2009-02-28   7.595446 -19.589021\n",
       "2009-03-31   8.832729 -18.360002\n",
       "2009-04-30   7.794085 -18.618105\n",
       "2009-05-31   7.351411 -18.294367\n",
       "2009-06-30   7.969676 -16.675064\n",
       "2009-07-31   6.806484 -16.370622\n",
       "2009-08-31   7.777411 -16.622169\n",
       "2009-09-30   8.777822 -16.835628\n",
       "2009-10-31   8.964207 -16.716131\n",
       "2009-11-30   8.152751 -17.091817\n",
       "2009-12-31   9.097141 -16.644581\n",
       "\n",
       "[120 rows x 2 columns]"
      ]
     },
     "execution_count": 9,
     "metadata": {},
     "output_type": "execute_result"
    }
   ],
   "source": [
    "df"
   ]
  },
  {
   "cell_type": "markdown",
   "metadata": {},
   "source": [
    "<h2> Pandas - Dataframe info(), head() tail() methods, column, dtypes, index attribute </h2>"
   ]
  },
  {
   "cell_type": "markdown",
   "metadata": {},
   "source": [
    "Viewing the DataFrame may either display the whole thing, or else just a quick summary of the index and the\n",
    "columns, depending on the version of pandas you have and how it's conigured. To view the summary, use the\n",
    ".info() method:\n"
   ]
  },
  {
   "cell_type": "code",
   "execution_count": 10,
   "metadata": {
    "collapsed": false
   },
   "outputs": [
    {
     "name": "stdout",
     "output_type": "stream",
     "text": [
      "<class 'pandas.core.frame.DataFrame'>\n",
      "DatetimeIndex: 120 entries, 2000-01-31 00:00:00 to 2009-12-31 00:00:00\n",
      "Freq: M\n",
      "Data columns (total 2 columns):\n",
      "Column1    120 non-null float64\n",
      "Column2    120 non-null float64\n",
      "dtypes: float64(2)"
     ]
    }
   ],
   "source": [
    "df.info()\n"
   ]
  },
  {
   "cell_type": "markdown",
   "metadata": {},
   "source": [
    "The column headers are stored in the columns property:"
   ]
  },
  {
   "cell_type": "code",
   "execution_count": 12,
   "metadata": {
    "collapsed": false
   },
   "outputs": [
    {
     "data": {
      "text/plain": [
       "Index([u'Column1', u'Column2'], dtype='object')"
      ]
     },
     "execution_count": 12,
     "metadata": {},
     "output_type": "execute_result"
    }
   ],
   "source": [
    "df.columns"
   ]
  },
  {
   "cell_type": "markdown",
   "metadata": {},
   "source": [
    "We can quickly see the data types of each column using the dtypes property:"
   ]
  },
  {
   "cell_type": "code",
   "execution_count": 13,
   "metadata": {
    "collapsed": false
   },
   "outputs": [
    {
     "data": {
      "text/plain": [
       "Column1    float64\n",
       "Column2    float64\n",
       "dtype: object"
      ]
     },
     "execution_count": 13,
     "metadata": {},
     "output_type": "execute_result"
    }
   ],
   "source": [
    "df.dtypes"
   ]
  },
  {
   "cell_type": "markdown",
   "metadata": {},
   "source": [
    "And we can see the index using the index property:\n"
   ]
  },
  {
   "cell_type": "code",
   "execution_count": 16,
   "metadata": {
    "collapsed": false
   },
   "outputs": [
    {
     "data": {
      "text/plain": [
       "<class 'pandas.tseries.index.DatetimeIndex'>\n",
       "[2000-01-31, ..., 2009-12-31]\n",
       "Length: 120, Freq: M, Timezone: None"
      ]
     },
     "execution_count": 16,
     "metadata": {},
     "output_type": "execute_result"
    }
   ],
   "source": [
    "df.index # The index is a datetime, just like it was for the series. Each row is associated with a date.\n",
    "\n"
   ]
  },
  {
   "cell_type": "markdown",
   "metadata": {},
   "source": [
    "We can quickly look at the top and bottom rows using the head() and tail() methods.\n"
   ]
  },
  {
   "cell_type": "code",
   "execution_count": 15,
   "metadata": {
    "collapsed": false
   },
   "outputs": [
    {
     "data": {
      "text/html": [
       "<div style=\"max-height:1000px;max-width:1500px;overflow:auto;\">\n",
       "<table border=\"1\" class=\"dataframe\">\n",
       "  <thead>\n",
       "    <tr style=\"text-align: right;\">\n",
       "      <th></th>\n",
       "      <th>Column1</th>\n",
       "      <th>Column2</th>\n",
       "    </tr>\n",
       "  </thead>\n",
       "  <tbody>\n",
       "    <tr>\n",
       "      <th>2000-01-31</th>\n",
       "      <td>-0.321829</td>\n",
       "      <td>-1.735891</td>\n",
       "    </tr>\n",
       "    <tr>\n",
       "      <th>2000-02-29</th>\n",
       "      <td>-0.914268</td>\n",
       "      <td>-1.481103</td>\n",
       "    </tr>\n",
       "    <tr>\n",
       "      <th>2000-03-31</th>\n",
       "      <td> 0.101797</td>\n",
       "      <td>-1.176621</td>\n",
       "    </tr>\n",
       "    <tr>\n",
       "      <th>2000-04-30</th>\n",
       "      <td> 1.221134</td>\n",
       "      <td> 0.044792</td>\n",
       "    </tr>\n",
       "    <tr>\n",
       "      <th>2000-05-31</th>\n",
       "      <td> 1.726044</td>\n",
       "      <td> 1.137000</td>\n",
       "    </tr>\n",
       "  </tbody>\n",
       "</table>\n",
       "</div>"
      ],
      "text/plain": [
       "             Column1   Column2\n",
       "2000-01-31 -0.321829 -1.735891\n",
       "2000-02-29 -0.914268 -1.481103\n",
       "2000-03-31  0.101797 -1.176621\n",
       "2000-04-30  1.221134  0.044792\n",
       "2000-05-31  1.726044  1.137000"
      ]
     },
     "execution_count": 15,
     "metadata": {},
     "output_type": "execute_result"
    }
   ],
   "source": [
    "df.head()"
   ]
  },
  {
   "cell_type": "code",
   "execution_count": 17,
   "metadata": {
    "collapsed": false
   },
   "outputs": [
    {
     "data": {
      "text/html": [
       "<div style=\"max-height:1000px;max-width:1500px;overflow:auto;\">\n",
       "<table border=\"1\" class=\"dataframe\">\n",
       "  <thead>\n",
       "    <tr style=\"text-align: right;\">\n",
       "      <th></th>\n",
       "      <th>Column1</th>\n",
       "      <th>Column2</th>\n",
       "    </tr>\n",
       "  </thead>\n",
       "  <tbody>\n",
       "    <tr>\n",
       "      <th>2009-11-30</th>\n",
       "      <td> 8.152751</td>\n",
       "      <td>-17.091817</td>\n",
       "    </tr>\n",
       "    <tr>\n",
       "      <th>2009-12-31</th>\n",
       "      <td> 9.097141</td>\n",
       "      <td>-16.644581</td>\n",
       "    </tr>\n",
       "  </tbody>\n",
       "</table>\n",
       "</div>"
      ],
      "text/plain": [
       "             Column1    Column2\n",
       "2009-11-30  8.152751 -17.091817\n",
       "2009-12-31  9.097141 -16.644581"
      ]
     },
     "execution_count": 17,
     "metadata": {},
     "output_type": "execute_result"
    }
   ],
   "source": [
    "df.tail(2) # A number specifies how many rows to include\n"
   ]
  },
  {
   "cell_type": "markdown",
   "metadata": {},
   "source": [
    "<h2> Pandas dataframe corr() method </h2>\n",
    "\n",
    "Using the corr() method will produce a correlation table for all the columns in the DataFrame"
   ]
  },
  {
   "cell_type": "code",
   "execution_count": 18,
   "metadata": {
    "collapsed": false
   },
   "outputs": [
    {
     "data": {
      "text/html": [
       "<div style=\"max-height:1000px;max-width:1500px;overflow:auto;\">\n",
       "<table border=\"1\" class=\"dataframe\">\n",
       "  <thead>\n",
       "    <tr style=\"text-align: right;\">\n",
       "      <th></th>\n",
       "      <th>Column1</th>\n",
       "      <th>Column2</th>\n",
       "    </tr>\n",
       "  </thead>\n",
       "  <tbody>\n",
       "    <tr>\n",
       "      <th>Column1</th>\n",
       "      <td> 1.000000</td>\n",
       "      <td>-0.560091</td>\n",
       "    </tr>\n",
       "    <tr>\n",
       "      <th>Column2</th>\n",
       "      <td>-0.560091</td>\n",
       "      <td> 1.000000</td>\n",
       "    </tr>\n",
       "  </tbody>\n",
       "</table>\n",
       "</div>"
      ],
      "text/plain": [
       "          Column1   Column2\n",
       "Column1  1.000000 -0.560091\n",
       "Column2 -0.560091  1.000000"
      ]
     },
     "execution_count": 18,
     "metadata": {},
     "output_type": "execute_result"
    }
   ],
   "source": [
    "df.corr()\n"
   ]
  },
  {
   "cell_type": "markdown",
   "metadata": {},
   "source": [
    "<h2> Panda dataframe columns </h2>"
   ]
  },
  {
   "cell_type": "markdown",
   "metadata": {},
   "source": [
    "Selecting columns\n",
    "There are two ways to access specific columns within the DataFrame. The first is by putting the columns name\n",
    "(in quotation marks) in square brackets"
   ]
  },
  {
   "cell_type": "code",
   "execution_count": 20,
   "metadata": {
    "collapsed": false
   },
   "outputs": [
    {
     "data": {
      "text/plain": [
       "2000-01-31   -0.321829\n",
       "2000-02-29   -0.914268\n",
       "2000-03-31    0.101797\n",
       "2000-04-30    1.221134\n",
       "2000-05-31    1.726044\n",
       "2000-06-30    1.714007\n",
       "2000-07-31    2.567738\n",
       "2000-08-31    1.592573\n",
       "2000-09-30    1.397019\n",
       "2000-10-31    1.412941\n",
       "2000-11-30    0.552583\n",
       "2000-12-31    1.364963\n",
       "2001-01-31    2.569648\n",
       "2001-02-28    2.452076\n",
       "2001-03-31    2.900731\n",
       "...\n",
       "2008-10-31    6.983998\n",
       "2008-11-30    6.872468\n",
       "2008-12-31    7.166619\n",
       "2009-01-31    6.918732\n",
       "2009-02-28    7.595446\n",
       "2009-03-31    8.832729\n",
       "2009-04-30    7.794085\n",
       "2009-05-31    7.351411\n",
       "2009-06-30    7.969676\n",
       "2009-07-31    6.806484\n",
       "2009-08-31    7.777411\n",
       "2009-09-30    8.777822\n",
       "2009-10-31    8.964207\n",
       "2009-11-30    8.152751\n",
       "2009-12-31    9.097141\n",
       "Freq: M, Name: Column1, Length: 120"
      ]
     },
     "execution_count": 20,
     "metadata": {},
     "output_type": "execute_result"
    }
   ],
   "source": [
    "df[\"Column1\"]\n"
   ]
  },
  {
   "cell_type": "markdown",
   "metadata": {},
   "source": [
    "If there are no spaces in the column name, we can also reference it as a property:"
   ]
  },
  {
   "cell_type": "code",
   "execution_count": 21,
   "metadata": {
    "collapsed": false
   },
   "outputs": [
    {
     "data": {
      "text/plain": [
       "2000-01-31   -1.735891\n",
       "2000-02-29   -1.481103\n",
       "2000-03-31   -1.176621\n",
       "2000-04-30    0.044792\n",
       "2000-05-31    1.137000\n",
       "2000-06-30    1.089871\n",
       "2000-07-31    0.254439\n",
       "2000-08-31    1.341344\n",
       "2000-09-30    0.185584\n",
       "2000-10-31   -0.315829\n",
       "2000-11-30   -0.859290\n",
       "2000-12-31   -2.162421\n",
       "2001-01-31   -3.188907\n",
       "2001-02-28   -2.997649\n",
       "2001-03-31   -2.659978\n",
       "...\n",
       "2008-10-31   -17.670411\n",
       "2008-11-30   -18.156083\n",
       "2008-12-31   -19.475359\n",
       "2009-01-31   -17.999284\n",
       "2009-02-28   -19.589021\n",
       "2009-03-31   -18.360002\n",
       "2009-04-30   -18.618105\n",
       "2009-05-31   -18.294367\n",
       "2009-06-30   -16.675064\n",
       "2009-07-31   -16.370622\n",
       "2009-08-31   -16.622169\n",
       "2009-09-30   -16.835628\n",
       "2009-10-31   -16.716131\n",
       "2009-11-30   -17.091817\n",
       "2009-12-31   -16.644581\n",
       "Freq: M, Name: Column2, Length: 120"
      ]
     },
     "execution_count": 21,
     "metadata": {},
     "output_type": "execute_result"
    }
   ],
   "source": [
    "df.Column2 #If there are no spaces in the column name, we can also reference it as a property:\n"
   ]
  },
  {
   "cell_type": "markdown",
   "metadata": {},
   "source": [
    "<h2> Adding a column to a dataframe </h2>\n",
    "\n",
    "The square bracket notation is also how we create new columns:"
   ]
  },
  {
   "cell_type": "code",
   "execution_count": 23,
   "metadata": {
    "collapsed": false
   },
   "outputs": [
    {
     "data": {
      "text/html": [
       "<div style=\"max-height:1000px;max-width:1500px;overflow:auto;\">\n",
       "<table border=\"1\" class=\"dataframe\">\n",
       "  <thead>\n",
       "    <tr style=\"text-align: right;\">\n",
       "      <th></th>\n",
       "      <th>Column1</th>\n",
       "      <th>Column2</th>\n",
       "      <th>New Column</th>\n",
       "    </tr>\n",
       "  </thead>\n",
       "  <tbody>\n",
       "    <tr>\n",
       "      <th>2000-01-31</th>\n",
       "      <td>-0.321829</td>\n",
       "      <td>-1.735891</td>\n",
       "      <td> 1</td>\n",
       "    </tr>\n",
       "    <tr>\n",
       "      <th>2000-02-29</th>\n",
       "      <td>-0.914268</td>\n",
       "      <td>-1.481103</td>\n",
       "      <td> 1</td>\n",
       "    </tr>\n",
       "    <tr>\n",
       "      <th>2000-03-31</th>\n",
       "      <td> 0.101797</td>\n",
       "      <td>-1.176621</td>\n",
       "      <td> 1</td>\n",
       "    </tr>\n",
       "    <tr>\n",
       "      <th>2000-04-30</th>\n",
       "      <td> 1.221134</td>\n",
       "      <td> 0.044792</td>\n",
       "      <td> 1</td>\n",
       "    </tr>\n",
       "    <tr>\n",
       "      <th>2000-05-31</th>\n",
       "      <td> 1.726044</td>\n",
       "      <td> 1.137000</td>\n",
       "      <td> 1</td>\n",
       "    </tr>\n",
       "  </tbody>\n",
       "</table>\n",
       "</div>"
      ],
      "text/plain": [
       "             Column1   Column2  New Column\n",
       "2000-01-31 -0.321829 -1.735891           1\n",
       "2000-02-29 -0.914268 -1.481103           1\n",
       "2000-03-31  0.101797 -1.176621           1\n",
       "2000-04-30  1.221134  0.044792           1\n",
       "2000-05-31  1.726044  1.137000           1"
      ]
     },
     "execution_count": 23,
     "metadata": {},
     "output_type": "execute_result"
    }
   ],
   "source": [
    "df[\"New Column\"] = 1  #\"New Column\" is the column name.  It assigns 1 to all rows \n",
    "df.head()\n"
   ]
  },
  {
   "cell_type": "markdown",
   "metadata": {},
   "source": [
    "Notice that since there's a space in the name, we can't reference it as df. anything\n"
   ]
  },
  {
   "cell_type": "markdown",
   "metadata": {},
   "source": [
    "<h2> Working with real data - Reading data into a Pandas dataframe </h2>\n",
    "\n",
    "<p>Playing with toy data is fine, but to really dive into pandas let's use it to replicate and expand on some of our\n",
    "analysis last week.</p>\n",
    "\n",
    "<p> We can load a CSV file into a pandas DataFrame using the read_csv(...) function. Let's step through and try to\n",
    "load last week's MovieData.csv:  </p>\n"
   ]
  },
  {
   "cell_type": "code",
   "execution_count": 24,
   "metadata": {
    "collapsed": false
   },
   "outputs": [
    {
     "ename": "CParserError",
     "evalue": "Error tokenizing data. C error: Expected 1 fields in line 38, saw 2\n",
     "output_type": "error",
     "traceback": [
      "\u001b[1;31m---------------------------------------------------------------------------\u001b[0m\n\u001b[1;31mCParserError\u001b[0m                              Traceback (most recent call last)",
      "\u001b[1;32m<ipython-input-24-55de52888241>\u001b[0m in \u001b[0;36m<module>\u001b[1;34m()\u001b[0m\n\u001b[1;32m----> 1\u001b[1;33m \u001b[0mmovies\u001b[0m \u001b[1;33m=\u001b[0m \u001b[0mpandas\u001b[0m\u001b[1;33m.\u001b[0m\u001b[0mread_csv\u001b[0m\u001b[1;33m(\u001b[0m\u001b[1;34m\"MovieData.csv\"\u001b[0m\u001b[1;33m)\u001b[0m\u001b[1;33m\u001b[0m\u001b[0m\n\u001b[0m",
      "\u001b[1;32mC:\\Anaconda\\lib\\site-packages\\pandas\\io\\parsers.pyc\u001b[0m in \u001b[0;36mparser_f\u001b[1;34m(filepath_or_buffer, sep, dialect, compression, doublequote, escapechar, quotechar, quoting, skipinitialspace, lineterminator, header, index_col, names, prefix, skiprows, skipfooter, skip_footer, na_values, na_fvalues, true_values, false_values, delimiter, converters, dtype, usecols, engine, delim_whitespace, as_recarray, na_filter, compact_ints, use_unsigned, low_memory, buffer_lines, warn_bad_lines, error_bad_lines, keep_default_na, thousands, comment, decimal, parse_dates, keep_date_col, dayfirst, date_parser, memory_map, nrows, iterator, chunksize, verbose, encoding, squeeze, mangle_dupe_cols, tupleize_cols, infer_datetime_format)\u001b[0m\n\u001b[0;32m    450\u001b[0m                     infer_datetime_format=infer_datetime_format)\n\u001b[0;32m    451\u001b[0m \u001b[1;33m\u001b[0m\u001b[0m\n\u001b[1;32m--> 452\u001b[1;33m         \u001b[1;32mreturn\u001b[0m \u001b[0m_read\u001b[0m\u001b[1;33m(\u001b[0m\u001b[0mfilepath_or_buffer\u001b[0m\u001b[1;33m,\u001b[0m \u001b[0mkwds\u001b[0m\u001b[1;33m)\u001b[0m\u001b[1;33m\u001b[0m\u001b[0m\n\u001b[0m\u001b[0;32m    453\u001b[0m \u001b[1;33m\u001b[0m\u001b[0m\n\u001b[0;32m    454\u001b[0m     \u001b[0mparser_f\u001b[0m\u001b[1;33m.\u001b[0m\u001b[0m__name__\u001b[0m \u001b[1;33m=\u001b[0m \u001b[0mname\u001b[0m\u001b[1;33m\u001b[0m\u001b[0m\n",
      "\u001b[1;32mC:\\Anaconda\\lib\\site-packages\\pandas\\io\\parsers.pyc\u001b[0m in \u001b[0;36m_read\u001b[1;34m(filepath_or_buffer, kwds)\u001b[0m\n\u001b[0;32m    242\u001b[0m         \u001b[1;32mreturn\u001b[0m \u001b[0mparser\u001b[0m\u001b[1;33m\u001b[0m\u001b[0m\n\u001b[0;32m    243\u001b[0m \u001b[1;33m\u001b[0m\u001b[0m\n\u001b[1;32m--> 244\u001b[1;33m     \u001b[1;32mreturn\u001b[0m \u001b[0mparser\u001b[0m\u001b[1;33m.\u001b[0m\u001b[0mread\u001b[0m\u001b[1;33m(\u001b[0m\u001b[1;33m)\u001b[0m\u001b[1;33m\u001b[0m\u001b[0m\n\u001b[0m\u001b[0;32m    245\u001b[0m \u001b[1;33m\u001b[0m\u001b[0m\n\u001b[0;32m    246\u001b[0m _parser_defaults = {\n",
      "\u001b[1;32mC:\\Anaconda\\lib\\site-packages\\pandas\\io\\parsers.pyc\u001b[0m in \u001b[0;36mread\u001b[1;34m(self, nrows)\u001b[0m\n\u001b[0;32m    693\u001b[0m                 \u001b[1;32mraise\u001b[0m \u001b[0mValueError\u001b[0m\u001b[1;33m(\u001b[0m\u001b[1;34m'skip_footer not supported for iteration'\u001b[0m\u001b[1;33m)\u001b[0m\u001b[1;33m\u001b[0m\u001b[0m\n\u001b[0;32m    694\u001b[0m \u001b[1;33m\u001b[0m\u001b[0m\n\u001b[1;32m--> 695\u001b[1;33m         \u001b[0mret\u001b[0m \u001b[1;33m=\u001b[0m \u001b[0mself\u001b[0m\u001b[1;33m.\u001b[0m\u001b[0m_engine\u001b[0m\u001b[1;33m.\u001b[0m\u001b[0mread\u001b[0m\u001b[1;33m(\u001b[0m\u001b[0mnrows\u001b[0m\u001b[1;33m)\u001b[0m\u001b[1;33m\u001b[0m\u001b[0m\n\u001b[0m\u001b[0;32m    696\u001b[0m \u001b[1;33m\u001b[0m\u001b[0m\n\u001b[0;32m    697\u001b[0m         \u001b[1;32mif\u001b[0m \u001b[0mself\u001b[0m\u001b[1;33m.\u001b[0m\u001b[0moptions\u001b[0m\u001b[1;33m.\u001b[0m\u001b[0mget\u001b[0m\u001b[1;33m(\u001b[0m\u001b[1;34m'as_recarray'\u001b[0m\u001b[1;33m)\u001b[0m\u001b[1;33m:\u001b[0m\u001b[1;33m\u001b[0m\u001b[0m\n",
      "\u001b[1;32mC:\\Anaconda\\lib\\site-packages\\pandas\\io\\parsers.pyc\u001b[0m in \u001b[0;36mread\u001b[1;34m(self, nrows)\u001b[0m\n\u001b[0;32m   1137\u001b[0m \u001b[1;33m\u001b[0m\u001b[0m\n\u001b[0;32m   1138\u001b[0m         \u001b[1;32mtry\u001b[0m\u001b[1;33m:\u001b[0m\u001b[1;33m\u001b[0m\u001b[0m\n\u001b[1;32m-> 1139\u001b[1;33m             \u001b[0mdata\u001b[0m \u001b[1;33m=\u001b[0m \u001b[0mself\u001b[0m\u001b[1;33m.\u001b[0m\u001b[0m_reader\u001b[0m\u001b[1;33m.\u001b[0m\u001b[0mread\u001b[0m\u001b[1;33m(\u001b[0m\u001b[0mnrows\u001b[0m\u001b[1;33m)\u001b[0m\u001b[1;33m\u001b[0m\u001b[0m\n\u001b[0m\u001b[0;32m   1140\u001b[0m         \u001b[1;32mexcept\u001b[0m \u001b[0mStopIteration\u001b[0m\u001b[1;33m:\u001b[0m\u001b[1;33m\u001b[0m\u001b[0m\n\u001b[0;32m   1141\u001b[0m             \u001b[1;32mif\u001b[0m \u001b[0mnrows\u001b[0m \u001b[1;32mis\u001b[0m \u001b[0mNone\u001b[0m\u001b[1;33m:\u001b[0m\u001b[1;33m\u001b[0m\u001b[0m\n",
      "\u001b[1;32mC:\\Anaconda\\lib\\site-packages\\pandas\\parser.pyd\u001b[0m in \u001b[0;36mpandas.parser.TextReader.read (pandas\\parser.c:7145)\u001b[1;34m()\u001b[0m\n",
      "\u001b[1;32mC:\\Anaconda\\lib\\site-packages\\pandas\\parser.pyd\u001b[0m in \u001b[0;36mpandas.parser.TextReader._read_low_memory (pandas\\parser.c:7369)\u001b[1;34m()\u001b[0m\n",
      "\u001b[1;32mC:\\Anaconda\\lib\\site-packages\\pandas\\parser.pyd\u001b[0m in \u001b[0;36mpandas.parser.TextReader._read_rows (pandas\\parser.c:7978)\u001b[1;34m()\u001b[0m\n",
      "\u001b[1;32mC:\\Anaconda\\lib\\site-packages\\pandas\\parser.pyd\u001b[0m in \u001b[0;36mpandas.parser.TextReader._tokenize_rows (pandas\\parser.c:7852)\u001b[1;34m()\u001b[0m\n",
      "\u001b[1;32mC:\\Anaconda\\lib\\site-packages\\pandas\\parser.pyd\u001b[0m in \u001b[0;36mpandas.parser.raise_parser_error (pandas\\parser.c:19591)\u001b[1;34m()\u001b[0m\n",
      "\u001b[1;31mCParserError\u001b[0m: Error tokenizing data. C error: Expected 1 fields in line 38, saw 2\n"
     ]
    }
   ],
   "source": [
    "movies = pandas.read_csv(\"MovieData.csv\")\n"
   ]
  },
  {
   "cell_type": "markdown",
   "metadata": {},
   "source": [
    "That's a scary-looking error, but read down to the end. \"Error tokenizing data\" probably means that there's an\n",
    "issue splitting the data into columns. It turns out that read_csv assumes by default that the data is commadelimited.\n",
    "We need to explicitly give it a separator ('sep') if it's something different, like this:\n"
   ]
  },
  {
   "cell_type": "code",
   "execution_count": 2,
   "metadata": {
    "collapsed": false
   },
   "outputs": [],
   "source": [
    "movies = pandas.read_csv(\"MovieData.csv\", sep='\\t')\n"
   ]
  },
  {
   "cell_type": "code",
   "execution_count": 5,
   "metadata": {
    "collapsed": false
   },
   "outputs": [
    {
     "data": {
      "text/plain": [
       "Int64Index([   0,    1,    2,    3,    4,    5,    6,    7,    8,    9, \n",
       "            ...\n",
       "            3617, 3618, 3619, 3620, 3621, 3622, 3623, 3624, 3625, 3626],\n",
       "           dtype='int64', length=3627)"
      ]
     },
     "execution_count": 5,
     "metadata": {},
     "output_type": "execute_result"
    }
   ],
   "source": [
    "# it looks like the read_csv routine creates an index of integers when we we read in a file.\n",
    "movies.index"
   ]
  },
  {
   "cell_type": "markdown",
   "metadata": {},
   "source": [
    "Okay, no errors now! Let's see what it's loaded:"
   ]
  },
  {
   "cell_type": "code",
   "execution_count": 3,
   "metadata": {
    "collapsed": false
   },
   "outputs": [
    {
     "name": "stdout",
     "output_type": "stream",
     "text": [
      "<class 'pandas.core.frame.DataFrame'>\n",
      "Int64Index: 3627 entries, 0 to 3626\n",
      "Data columns (total 6 columns):\n",
      "Release_Date       3627 non-null object\n",
      "Movie              3627 non-null object\n",
      "Distributor        2968 non-null object\n",
      "Budget             3627 non-null int64\n",
      "US Gross           3627 non-null object\n",
      "Worldwide Gross    3627 non-null object\n",
      "dtypes: int64(1), object(5)\n",
      "memory usage: 198.4+ KB\n"
     ]
    }
   ],
   "source": [
    "movies.info()\n"
   ]
  },
  {
   "cell_type": "code",
   "execution_count": 29,
   "metadata": {
    "collapsed": false
   },
   "outputs": [
    {
     "data": {
      "text/plain": [
       "Index([u'Release_Date', u'Movie', u'Distributor', u'Budget', u'US Gross', u'Worldwide Gross'], dtype='object')"
      ]
     },
     "execution_count": 29,
     "metadata": {},
     "output_type": "execute_result"
    }
   ],
   "source": [
    "movies.columns"
   ]
  },
  {
   "cell_type": "code",
   "execution_count": 30,
   "metadata": {
    "collapsed": false
   },
   "outputs": [
    {
     "data": {
      "text/plain": [
       "Release_Date       object\n",
       "Movie              object\n",
       "Distributor        object\n",
       "Budget              int64\n",
       "US Gross           object\n",
       "Worldwide Gross    object\n",
       "dtype: object"
      ]
     },
     "execution_count": 30,
     "metadata": {},
     "output_type": "execute_result"
    }
   ],
   "source": [
    " movies.dtypes"
   ]
  },
  {
   "cell_type": "markdown",
   "metadata": {},
   "source": [
    "<p>Looks pretty good, up until the end. We've got the correct column names, and a correct-seeming number of\n",
    "values. But we know that Budget, US Gross and Worldwide Gross are all supposed to be numbers; why is it\n",
    "reading them in as objects (which, in cases like this, generally means 'strings', since Pandas doesn't provide an\n",
    "explicit string datatype the way it does for ints and floats). </p>\n",
    "\n",
    "<h2> Pandas dataframe unique() method </h2>\n",
    "\n",
    "<p>As you may remember from last week, missing values were actually filled with a text string denoting this.\n",
    "Helpfully, read_csv lets you specify one or more 'na_values' which it should read as indicating missing data. To\n",
    "figure out what we should include there, however, we can use the unique() method, which returns all the unique\n",
    "values of a Series: </p>\n"
   ]
  },
  {
   "cell_type": "code",
   "execution_count": 31,
   "metadata": {
    "collapsed": false
   },
   "outputs": [
    {
     "data": {
      "text/plain": [
       "array(['66439100', '309420425', 'Unknown', ..., '48482', '1338', '181041'], dtype=object)"
      ]
     },
     "execution_count": 31,
     "metadata": {},
     "output_type": "execute_result"
    }
   ],
   "source": [
    "movies[\"US Gross\"].unique()\n"
   ]
  },
  {
   "cell_type": "markdown",
   "metadata": {},
   "source": [
    "Ah, see it? It's the word 'Unknown', so let's give that as our N/A Value:\n"
   ]
  },
  {
   "cell_type": "code",
   "execution_count": 32,
   "metadata": {
    "collapsed": false
   },
   "outputs": [],
   "source": [
    "movies = pandas.read_csv(\"MovieData.csv\", sep='\\t', na_values=\"Unknown\")\n"
   ]
  },
  {
   "cell_type": "code",
   "execution_count": 33,
   "metadata": {
    "collapsed": false
   },
   "outputs": [
    {
     "data": {
      "text/plain": [
       "Release_Date        object\n",
       "Movie               object\n",
       "Distributor         object\n",
       "Budget               int64\n",
       "US Gross           float64\n",
       "Worldwide Gross     object\n",
       "dtype: object"
      ]
     },
     "execution_count": 33,
     "metadata": {},
     "output_type": "execute_result"
    }
   ],
   "source": [
    "movies.dtypes"
   ]
  },
  {
   "cell_type": "markdown",
   "metadata": {},
   "source": [
    "Almost there! US Gross is now a numeric column, but Worldwide Gross isn't. So let's check again:"
   ]
  },
  {
   "cell_type": "code",
   "execution_count": 35,
   "metadata": {
    "collapsed": false
   },
   "outputs": [
    {
     "data": {
      "text/plain": [
       "array(['254439100', '960996492', nan, ..., '71644', '240495', 'Unkno'], dtype=object)"
      ]
     },
     "execution_count": 35,
     "metadata": {},
     "output_type": "execute_result"
    }
   ],
   "source": [
    "movies[\"Worldwide Gross\"].unique()"
   ]
  },
  {
   "cell_type": "markdown",
   "metadata": {},
   "source": [
    "It looks like at least one record has 'Unkno' as its value. Luckily, we can pass na_values a list of values, and it\n",
    "will treat all of them as indicators of no data.\n",
    "\n",
    "(Incidentally, to make your code more readable, you can insert line-breaks inside of parentheses, and Python\n",
    "will treat them as the same line)\n"
   ]
  },
  {
   "cell_type": "code",
   "execution_count": 36,
   "metadata": {
    "collapsed": false
   },
   "outputs": [],
   "source": [
    " movies = pandas.read_csv(\"MovieData.csv\", sep='\\t',na_values=[\"Unknown\", \"Unkno\"])\n"
   ]
  },
  {
   "cell_type": "code",
   "execution_count": 37,
   "metadata": {
    "collapsed": false
   },
   "outputs": [
    {
     "data": {
      "text/html": [
       "<div style=\"max-height:1000px;max-width:1500px;overflow:auto;\">\n",
       "<table border=\"1\" class=\"dataframe\">\n",
       "  <thead>\n",
       "    <tr style=\"text-align: right;\">\n",
       "      <th></th>\n",
       "      <th>Release_Date</th>\n",
       "      <th>Movie</th>\n",
       "      <th>Distributor</th>\n",
       "      <th>Budget</th>\n",
       "      <th>US Gross</th>\n",
       "      <th>Worldwide Gross</th>\n",
       "    </tr>\n",
       "  </thead>\n",
       "  <tbody>\n",
       "    <tr>\n",
       "      <th>0</th>\n",
       "      <td> 03/09/12</td>\n",
       "      <td>                              John Carter</td>\n",
       "      <td>         NaN</td>\n",
       "      <td> 300000000</td>\n",
       "      <td>  66439100</td>\n",
       "      <td> 254439100</td>\n",
       "    </tr>\n",
       "    <tr>\n",
       "      <th>1</th>\n",
       "      <td> 05/25/07</td>\n",
       "      <td> Pirates of the Caribbean: At World's End</td>\n",
       "      <td> Buena Vista</td>\n",
       "      <td> 300000000</td>\n",
       "      <td> 309420425</td>\n",
       "      <td> 960996492</td>\n",
       "    </tr>\n",
       "    <tr>\n",
       "      <th>2</th>\n",
       "      <td> 12/13/13</td>\n",
       "      <td>         The Hobbit: There and Back Again</td>\n",
       "      <td>    New Line</td>\n",
       "      <td> 270000000</td>\n",
       "      <td>       NaN</td>\n",
       "      <td>       NaN</td>\n",
       "    </tr>\n",
       "    <tr>\n",
       "      <th>3</th>\n",
       "      <td> 12/14/12</td>\n",
       "      <td>        The Hobbit: An Unexpected Journey</td>\n",
       "      <td>    New Line</td>\n",
       "      <td> 270000000</td>\n",
       "      <td>       NaN</td>\n",
       "      <td>       NaN</td>\n",
       "    </tr>\n",
       "    <tr>\n",
       "      <th>4</th>\n",
       "      <td> 11/24/10</td>\n",
       "      <td>                                  Tangled</td>\n",
       "      <td> Buena Vista</td>\n",
       "      <td> 260000000</td>\n",
       "      <td> 200821936</td>\n",
       "      <td> 586581936</td>\n",
       "    </tr>\n",
       "  </tbody>\n",
       "</table>\n",
       "</div>"
      ],
      "text/plain": [
       "  Release_Date                                     Movie  Distributor  \\\n",
       "0     03/09/12                               John Carter          NaN   \n",
       "1     05/25/07  Pirates of the Caribbean: At World's End  Buena Vista   \n",
       "2     12/13/13          The Hobbit: There and Back Again     New Line   \n",
       "3     12/14/12         The Hobbit: An Unexpected Journey     New Line   \n",
       "4     11/24/10                                   Tangled  Buena Vista   \n",
       "\n",
       "      Budget   US Gross  Worldwide Gross  \n",
       "0  300000000   66439100        254439100  \n",
       "1  300000000  309420425        960996492  \n",
       "2  270000000        NaN              NaN  \n",
       "3  270000000        NaN              NaN  \n",
       "4  260000000  200821936        586581936  "
      ]
     },
     "execution_count": 37,
     "metadata": {},
     "output_type": "execute_result"
    }
   ],
   "source": [
    "movies.head()"
   ]
  },
  {
   "cell_type": "markdown",
   "metadata": {},
   "source": [
    "<h2> Pandas dataframe.fillna() method </h2>\n",
    "\n",
    "Notice the 'NaN' cells -- NaN stands for Not a Number. If we want, we can replace NaN values with 0s using\n",
    "the fillna(...) method:\n"
   ]
  },
  {
   "cell_type": "code",
   "execution_count": 39,
   "metadata": {
    "collapsed": false
   },
   "outputs": [
    {
     "data": {
      "text/html": [
       "<div style=\"max-height:1000px;max-width:1500px;overflow:auto;\">\n",
       "<table border=\"1\" class=\"dataframe\">\n",
       "  <thead>\n",
       "    <tr style=\"text-align: right;\">\n",
       "      <th></th>\n",
       "      <th>Release_Date</th>\n",
       "      <th>Movie</th>\n",
       "      <th>Distributor</th>\n",
       "      <th>Budget</th>\n",
       "      <th>US Gross</th>\n",
       "      <th>Worldwide Gross</th>\n",
       "    </tr>\n",
       "  </thead>\n",
       "  <tbody>\n",
       "    <tr>\n",
       "      <th>0</th>\n",
       "      <td> 03/09/12</td>\n",
       "      <td>                              John Carter</td>\n",
       "      <td>           0</td>\n",
       "      <td> 300000000</td>\n",
       "      <td>  66439100</td>\n",
       "      <td> 254439100</td>\n",
       "    </tr>\n",
       "    <tr>\n",
       "      <th>1</th>\n",
       "      <td> 05/25/07</td>\n",
       "      <td> Pirates of the Caribbean: At World's End</td>\n",
       "      <td> Buena Vista</td>\n",
       "      <td> 300000000</td>\n",
       "      <td> 309420425</td>\n",
       "      <td> 960996492</td>\n",
       "    </tr>\n",
       "    <tr>\n",
       "      <th>2</th>\n",
       "      <td> 12/13/13</td>\n",
       "      <td>         The Hobbit: There and Back Again</td>\n",
       "      <td>    New Line</td>\n",
       "      <td> 270000000</td>\n",
       "      <td>         0</td>\n",
       "      <td>         0</td>\n",
       "    </tr>\n",
       "    <tr>\n",
       "      <th>3</th>\n",
       "      <td> 12/14/12</td>\n",
       "      <td>        The Hobbit: An Unexpected Journey</td>\n",
       "      <td>    New Line</td>\n",
       "      <td> 270000000</td>\n",
       "      <td>         0</td>\n",
       "      <td>         0</td>\n",
       "    </tr>\n",
       "    <tr>\n",
       "      <th>4</th>\n",
       "      <td> 11/24/10</td>\n",
       "      <td>                                  Tangled</td>\n",
       "      <td> Buena Vista</td>\n",
       "      <td> 260000000</td>\n",
       "      <td> 200821936</td>\n",
       "      <td> 586581936</td>\n",
       "    </tr>\n",
       "  </tbody>\n",
       "</table>\n",
       "</div>"
      ],
      "text/plain": [
       "  Release_Date                                     Movie  Distributor  \\\n",
       "0     03/09/12                               John Carter            0   \n",
       "1     05/25/07  Pirates of the Caribbean: At World's End  Buena Vista   \n",
       "2     12/13/13          The Hobbit: There and Back Again     New Line   \n",
       "3     12/14/12         The Hobbit: An Unexpected Journey     New Line   \n",
       "4     11/24/10                                   Tangled  Buena Vista   \n",
       "\n",
       "      Budget   US Gross  Worldwide Gross  \n",
       "0  300000000   66439100        254439100  \n",
       "1  300000000  309420425        960996492  \n",
       "2  270000000          0                0  \n",
       "3  270000000          0                0  \n",
       "4  260000000  200821936        586581936  "
      ]
     },
     "execution_count": 39,
     "metadata": {},
     "output_type": "execute_result"
    }
   ],
   "source": [
    "movies = movies.fillna(0)\n",
    "movies.head()"
   ]
  },
  {
   "cell_type": "markdown",
   "metadata": {},
   "source": [
    "<h2> Panda dataframes - parsing dates using read_csv </h2>\n",
    "\n",
    "Like before, though, we want to be able to actually work with the dates. We can tell pandas to parse one or\n",
    "more columns as dates when it loads the data, using the parse_dates parameter. If we assign a list of column\n",
    "numbers to it, it will attempt to automatically parse those columns as dates:"
   ]
  },
  {
   "cell_type": "code",
   "execution_count": 41,
   "metadata": {
    "collapsed": false
   },
   "outputs": [],
   "source": [
    "movies = pandas.read_csv(\"MovieData.csv\", sep='\\t', na_values=[\"Unknown\", \"Unkno\"], parse_dates=[0])\n"
   ]
  },
  {
   "cell_type": "code",
   "execution_count": 42,
   "metadata": {
    "collapsed": false
   },
   "outputs": [
    {
     "data": {
      "text/plain": [
       "Release_Date       datetime64[ns]\n",
       "Movie                      object\n",
       "Distributor                object\n",
       "Budget                      int64\n",
       "US Gross                  float64\n",
       "Worldwide Gross           float64\n",
       "dtype: object"
      ]
     },
     "execution_count": 42,
     "metadata": {},
     "output_type": "execute_result"
    }
   ],
   "source": [
    "movies.dtypes\n"
   ]
  },
  {
   "cell_type": "code",
   "execution_count": 43,
   "metadata": {
    "collapsed": false
   },
   "outputs": [
    {
     "data": {
      "text/plain": [
       "Timestamp('1965-02-15 00:00:00')"
      ]
     },
     "execution_count": 43,
     "metadata": {},
     "output_type": "execute_result"
    }
   ],
   "source": [
    "min(movies[\"Release_Date\"])\n"
   ]
  },
  {
   "cell_type": "code",
   "execution_count": 44,
   "metadata": {
    "collapsed": false
   },
   "outputs": [
    {
     "data": {
      "text/plain": [
       "Timestamp('2064-12-22 00:00:00')"
      ]
     },
     "execution_count": 44,
     "metadata": {},
     "output_type": "execute_result"
    }
   ],
   "source": [
    "max(movies.Release_Date)\n"
   ]
  },
  {
   "cell_type": "markdown",
   "metadata": {},
   "source": [
    "<h3> Providing a custom date parser </h3> \n",
    "\n",
    "So it looks like the built-in date parser isn't very good at figuring out which dates are in the 20th century, and\n",
    "which are in the 21st. Fortunately, we already solved this problem last week; we can bring in our custom parser,\n",
    "and tell Pandas to use that, using the date_parser parameter.\n"
   ]
  },
  {
   "cell_type": "code",
   "execution_count": 48,
   "metadata": {
    "collapsed": false
   },
   "outputs": [],
   "source": [
    "import datetime as dt\n",
    "def make_date(date_str):\n",
    "    '''\n",
    "    Turn a MM/DD/YY string into a datetime object\n",
    "    '''\n",
    "    m, d, y = date_str.split(\"/\")\n",
    "    m = int(m)\n",
    "    d = int(d)\n",
    "    y = int(y)\n",
    "    if y > 13:\n",
    "        y += 1900\n",
    "    else:\n",
    "        y += 2000\n",
    "    return dt.datetime(y, m, d)\n"
   ]
  },
  {
   "cell_type": "code",
   "execution_count": 49,
   "metadata": {
    "collapsed": false
   },
   "outputs": [],
   "source": [
    "movies = pandas.read_csv(\"MovieData.csv\", sep='\\t', na_values=[\"Unknown\",\"Unkno\"],parse_dates=[0], date_parser=make_date)\n"
   ]
  },
  {
   "cell_type": "markdown",
   "metadata": {},
   "source": [
    "Notice that we're only passing the name of the function, without the usual parentheses. Conceptually, think of\n",
    "this as simply passing the name of our parser function, which the read_csv(...) function can call on its own. For\n",
    "each entry, pandas will automatically call the function, and put its return value in the column. (More technically,\n",
    "functions in Python are first-class objects, and can be passed as arguments just like any other data type).\n"
   ]
  },
  {
   "cell_type": "code",
   "execution_count": 50,
   "metadata": {
    "collapsed": false
   },
   "outputs": [
    {
     "name": "stdout",
     "output_type": "stream",
     "text": [
      "2013-12-13 00:00:00\n",
      "1915-02-08 00:00:00\n"
     ]
    }
   ],
   "source": [
    "print movies.Release_Date.max()\n",
    "print movies.Release_Date.min()\n"
   ]
  },
  {
   "cell_type": "markdown",
   "metadata": {},
   "source": [
    "There, that's better.\n",
    "\n",
    "<h2> Creating new dataframe columns from other columns </h2>\n",
    "\n",
    "I mentioned earlier that we can easily create columns from other columns. Now that we have data, let's look at\n",
    "it again:\n"
   ]
  },
  {
   "cell_type": "code",
   "execution_count": 53,
   "metadata": {
    "collapsed": false
   },
   "outputs": [],
   "source": [
    "\n",
    "movies[\"Non_US_Gross\"] = movies[\"Worldwide Gross\"] - movies[\"US Gross\"]\n"
   ]
  },
  {
   "cell_type": "markdown",
   "metadata": {},
   "source": [
    "For each movie, the value of the \"Non_US_Gross\" will be its Worldwide Gross minus its US Gross. The\n",
    "underscore in the name aren't mandatory, but they let us reference the column like this:\n"
   ]
  },
  {
   "cell_type": "code",
   "execution_count": 54,
   "metadata": {
    "collapsed": false
   },
   "outputs": [
    {
     "data": {
      "text/plain": [
       "0.0"
      ]
     },
     "execution_count": 54,
     "metadata": {},
     "output_type": "execute_result"
    }
   ],
   "source": [
    "movies.Non_US_Gross.min()"
   ]
  },
  {
   "cell_type": "markdown",
   "metadata": {},
   "source": [
    "<h2> dataframe column describe method </h2>\n",
    "\n",
    "As you see above, min() (and max() as well) are built-in series functions, which can be called for columns as well.\n",
    "In fact, there are several standard ways of describing a set of numbers (i.e. a series); we can get them all\n",
    "together using the describe() method.\n"
   ]
  },
  {
   "cell_type": "code",
   "execution_count": 55,
   "metadata": {
    "collapsed": false
   },
   "outputs": [],
   "source": [
    " movies[\"Profits\"] = movies[\"Worldwide Gross\"]/movies[\"Budget\"]\n"
   ]
  },
  {
   "cell_type": "code",
   "execution_count": 57,
   "metadata": {
    "collapsed": false
   },
   "outputs": [
    {
     "data": {
      "text/plain": [
       "count     2350.000000\n",
       "mean        11.293342\n",
       "std        271.249795\n",
       "min          0.001058\n",
       "25%          1.093912\n",
       "50%          2.314627\n",
       "75%          4.470410\n",
       "max      13112.110400\n",
       "dtype: float64"
      ]
     },
     "execution_count": 57,
     "metadata": {},
     "output_type": "execute_result"
    }
   ],
   "source": [
    "movies.Profits.describe() # Gives basic column stats\n"
   ]
  },
  {
   "cell_type": "markdown",
   "metadata": {},
   "source": [
    "<h2> Subsetting dataframes - like sql where clause -  </h2>\n",
    "\n",
    "Just because we have one big dataset doesn't mean we want to work with it all at once. Often, we want to be\n",
    "able to select only a subset of the data. In pandas, we do this by putting the condition we're selecting on in\n",
    "square brackets. For example, if we want only big-budget movies, where the budget exceeds $20M, we would\n",
    "use the following code:\n",
    "\n",
    "    "
   ]
  },
  {
   "cell_type": "code",
   "execution_count": 58,
   "metadata": {
    "collapsed": false
   },
   "outputs": [],
   "source": [
    "big_budget = movies[movies.Budget > 20000000]\n"
   ]
  },
  {
   "cell_type": "code",
   "execution_count": 59,
   "metadata": {
    "collapsed": false
   },
   "outputs": [
    {
     "name": "stdout",
     "output_type": "stream",
     "text": [
      "<class 'pandas.core.frame.DataFrame'>\n",
      "Int64Index: 1657 entries, 0 to 1656\n",
      "Data columns (total 8 columns):\n",
      "Release_Date       1657 non-null datetime64[ns]\n",
      "Movie              1657 non-null object\n",
      "Distributor        1485 non-null object\n",
      "Budget             1657 non-null int64\n",
      "US Gross           1637 non-null float64\n",
      "Worldwide Gross    1357 non-null float64\n",
      "Non_US_Gross       1351 non-null float64\n",
      "Profits            1357 non-null float64\n",
      "dtypes: datetime64[ns](1), float64(4), int64(1), object(2)"
     ]
    }
   ],
   "source": [
    "big_budget.info()\n"
   ]
  },
  {
   "cell_type": "code",
   "execution_count": 60,
   "metadata": {
    "collapsed": false
   },
   "outputs": [
    {
     "name": "stdout",
     "output_type": "stream",
     "text": [
      "1963-06-12 00:00:00\n"
     ]
    }
   ],
   "source": [
    "#We can also check when the first movie in our dataset crossed the $20M budget threshold:\n",
    "print big_budget.Release_Date.min()\n"
   ]
  },
  {
   "cell_type": "markdown",
   "metadata": {},
   "source": [
    "Notice that any new columns we created (Profits, in this case) also become part of the subsetted dataframe:\n"
   ]
  },
  {
   "cell_type": "code",
   "execution_count": 61,
   "metadata": {
    "collapsed": false
   },
   "outputs": [
    {
     "data": {
      "text/plain": [
       "count    1357.000000\n",
       "mean        2.873381\n",
       "std         2.674981\n",
       "min         0.025012\n",
       "25%         1.140839\n",
       "50%         2.184805\n",
       "75%         3.625537\n",
       "max        24.475977\n",
       "dtype: float64"
      ]
     },
     "execution_count": 61,
     "metadata": {},
     "output_type": "execute_result"
    }
   ],
   "source": [
    "big_budget.Profits.describe()\n"
   ]
  },
  {
   "cell_type": "markdown",
   "metadata": {},
   "source": [
    "<h2> dataframe grouping - like an sql group by clause and aggregation function</h2>\n",
    "\n",
    "<p>Often, what you care about aren't individual records, but summaries aggregated at some level. For example,\n",
    "you may want to know how many movies were released each year, or whether certain months of the year have\n",
    "more earthquakes than others.\n",
    "</p>\n",
    "\n",
    "<p>Pandas uses the Split-Apply-Combine paradigm; we split the data into groups, apply a certain calculation to\n",
    "each group separately, and combine the results back into a new data structure.\n",
    "</p>\n",
    "\n",
    "<p>Let's start by getting the annual mean of each numeric column: finding the average US Gross, Worldwide\n",
    "Gross, etc. by year. </p>\n",
    "\n",
    "<p> First, we need to create a new column to aggregate on -- the Release Year. Since the values of the\n",
    "Release_Date column are datetime-like objects, they have a year property: </p>\n"
   ]
  },
  {
   "cell_type": "code",
   "execution_count": 63,
   "metadata": {
    "collapsed": false
   },
   "outputs": [
    {
     "data": {
      "text/plain": [
       "2005"
      ]
     },
     "execution_count": 63,
     "metadata": {},
     "output_type": "execute_result"
    }
   ],
   "source": [
    "movies.Release_Date[19].year # Some arbitrary row\n",
    "\n"
   ]
  },
  {
   "cell_type": "markdown",
   "metadata": {},
   "source": [
    "<h3> Apply Method - Create a new column from other columns with a user provided function </h3>\n",
    "\n",
    "To create a new column based on another column, with an operation that isn't basic arithmetic, we use the\n",
    "apply(...) method. This method takes another function as an input, and applies it (hence the name) to each value\n",
    "in a column or series. The function being applied should take a single value as an input, and produce a similar\n",
    "output which can be assigned to the new series.\n"
   ]
  },
  {
   "cell_type": "code",
   "execution_count": 64,
   "metadata": {
    "collapsed": false
   },
   "outputs": [],
   "source": [
    "# this is our custom function which parses out the year from a date value\n",
    "def get_year(date):\n",
    "    return date.year\n"
   ]
  },
  {
   "cell_type": "code",
   "execution_count": 65,
   "metadata": {
    "collapsed": false
   },
   "outputs": [],
   "source": [
    "# now we create a new column, in which our custom function is applied to an existing column\n",
    "movies[\"Year\"] = movies.Release_Date.apply(get_year)"
   ]
  },
  {
   "cell_type": "markdown",
   "metadata": {},
   "source": [
    "<p> In fact, we don't even have to define an entire function; Python allows us to use the lambda keyword to create\n",
    "a simple one-line function directly inside the apply(...) parentheses (you may have encountered this concept as\n",
    "anonymous functions in other languages).\n",
    "</p>\n",
    "\n",
    "We could simplify the lines above to:\n"
   ]
  },
  {
   "cell_type": "code",
   "execution_count": 67,
   "metadata": {
    "collapsed": false
   },
   "outputs": [],
   "source": [
    "movies[\"Year\"] = movies.Release_Date.apply(lambda x: x.year)\n"
   ]
  },
  {
   "cell_type": "code",
   "execution_count": 68,
   "metadata": {
    "collapsed": false
   },
   "outputs": [
    {
     "name": "stdout",
     "output_type": "stream",
     "text": [
      "1915\n",
      "2013\n"
     ]
    }
   ],
   "source": [
    "print movies.Year.min()\n",
    "print movies.Year.max()\n"
   ]
  },
  {
   "cell_type": "markdown",
   "metadata": {},
   "source": [
    "Now that we've created a Year column, we need to divide the data by its different values. We go this using the\n",
    "DataFrame's groupby(...) method, like this:\n"
   ]
  },
  {
   "cell_type": "code",
   "execution_count": 69,
   "metadata": {
    "collapsed": false
   },
   "outputs": [],
   "source": [
    "#by_year is a special object that provides ability to do aggregate type functions on a data frame.\n",
    "by_year = movies.groupby('Year')\n"
   ]
  },
  {
   "cell_type": "markdown",
   "metadata": {},
   "source": [
    "<p> The argument we give groupby(...) is the name of the column to group by. The result of the method, which is\n",
    "assigned here to by_year is a special pandas object that stores a grouped dataframe. The groups themselves\n",
    "are stored as a dictionary, associating group labels (e.g. years, in this case) with the indices of all the rows that\n",
    "belong to that group. </p>\n"
   ]
  },
  {
   "cell_type": "code",
   "execution_count": 70,
   "metadata": {
    "collapsed": false
   },
   "outputs": [
    {
     "name": "stdout",
     "output_type": "stream",
     "text": [
      "[1915, 1916, 1920, 1925, 1927, 1929, 1930, 1931, 1933, 1934, 1935, 1936, 1937, 1938, 1939, 1940, 1941, 1942, 1943, 1944, 1945, 1946, 1947, 1948, 1949, 1950, 1951, 1952, 1953, 1954, 1955, 1956, 1957, 1958, 1959, 1960, 1961, 1962, 1963, 1964, 1965, 1966, 1967, 1968, 1969, 1970, 1971, 1972, 1973, 1974, 1975, 1976, 1977, 1978, 1979, 1980, 1981, 1982, 1983, 1984, 1985, 1986, 1987, 1988, 1989, 1990, 1991, 1992, 1993, 1994, 1995, 1996, 1997, 1998, 1999, 2000, 2001, 2002, 2003, 2004, 2005, 2006, 2007, 2008, 2009, 2010, 2011, 2012, 2013]\n"
     ]
    }
   ],
   "source": [
    " print by_year.groups.keys()\n"
   ]
  },
  {
   "cell_type": "code",
   "execution_count": 71,
   "metadata": {
    "collapsed": false
   },
   "outputs": [
    {
     "data": {
      "text/plain": [
       "[3501L, 3558L]"
      ]
     },
     "execution_count": 71,
     "metadata": {},
     "output_type": "execute_result"
    }
   ],
   "source": [
    " by_year.groups[1916]"
   ]
  },
  {
   "cell_type": "markdown",
   "metadata": {},
   "source": [
    "\n",
    "We can carry out operations on the grouped object to yield aggragated DataFrames.\n",
    "\n",
    "<p>\n",
    "The simplest of the operations built-in to the grouped data object is mean(), which simply returns the mean of\n",
    "each column for each of the groups -- in this case, the mean of each column by year. The result is a new\n",
    "DataFrame, indexed by year:\n",
    "</p>"
   ]
  },
  {
   "cell_type": "code",
   "execution_count": 73,
   "metadata": {
    "collapsed": false
   },
   "outputs": [],
   "source": [
    "annual_means = by_year.mean()\n"
   ]
  },
  {
   "cell_type": "code",
   "execution_count": 74,
   "metadata": {
    "collapsed": false
   },
   "outputs": [
    {
     "name": "stdout",
     "output_type": "stream",
     "text": [
      "<class 'pandas.core.frame.DataFrame'>\n",
      "Int64Index: 89 entries, 1915 to 2013\n",
      "Data columns (total 5 columns):\n",
      "Budget             89 non-null int64\n",
      "US Gross           85 non-null float64\n",
      "Worldwide Gross    59 non-null float64\n",
      "Non_US_Gross       59 non-null float64\n",
      "Profits            59 non-null float64\n",
      "dtypes: float64(4), int64(1)"
     ]
    }
   ],
   "source": [
    "annual_means.info()\n"
   ]
  },
  {
   "cell_type": "code",
   "execution_count": 75,
   "metadata": {
    "collapsed": false
   },
   "outputs": [
    {
     "data": {
      "text/html": [
       "<div style=\"max-height:1000px;max-width:1500px;overflow:auto;\">\n",
       "<table border=\"1\" class=\"dataframe\">\n",
       "  <thead>\n",
       "    <tr style=\"text-align: right;\">\n",
       "      <th></th>\n",
       "      <th>Budget</th>\n",
       "      <th>US Gross</th>\n",
       "      <th>Worldwide Gross</th>\n",
       "      <th>Non_US_Gross</th>\n",
       "      <th>Profits</th>\n",
       "    </tr>\n",
       "    <tr>\n",
       "      <th>Year</th>\n",
       "      <th></th>\n",
       "      <th></th>\n",
       "      <th></th>\n",
       "      <th></th>\n",
       "      <th></th>\n",
       "    </tr>\n",
       "  </thead>\n",
       "  <tbody>\n",
       "    <tr>\n",
       "      <th>1915</th>\n",
       "      <td>  110000</td>\n",
       "      <td> 10000000</td>\n",
       "      <td> 11000000</td>\n",
       "      <td>  1000000</td>\n",
       "      <td> 100.000000</td>\n",
       "    </tr>\n",
       "    <tr>\n",
       "      <th>1916</th>\n",
       "      <td>  292953</td>\n",
       "      <td>  8000000</td>\n",
       "      <td>      NaN</td>\n",
       "      <td>      NaN</td>\n",
       "      <td>        NaN</td>\n",
       "    </tr>\n",
       "    <tr>\n",
       "      <th>1920</th>\n",
       "      <td>  100000</td>\n",
       "      <td>  3000000</td>\n",
       "      <td>      NaN</td>\n",
       "      <td>      NaN</td>\n",
       "      <td>        NaN</td>\n",
       "    </tr>\n",
       "    <tr>\n",
       "      <th>1925</th>\n",
       "      <td> 2072500</td>\n",
       "      <td> 10000000</td>\n",
       "      <td> 22000000</td>\n",
       "      <td> 11000000</td>\n",
       "      <td>  89.795918</td>\n",
       "    </tr>\n",
       "    <tr>\n",
       "      <th>1927</th>\n",
       "      <td> 2000000</td>\n",
       "      <td>      NaN</td>\n",
       "      <td>      NaN</td>\n",
       "      <td>      NaN</td>\n",
       "      <td>        NaN</td>\n",
       "    </tr>\n",
       "  </tbody>\n",
       "</table>\n",
       "</div>"
      ],
      "text/plain": [
       "       Budget  US Gross  Worldwide Gross  Non_US_Gross     Profits\n",
       "Year                                                              \n",
       "1915   110000  10000000         11000000       1000000  100.000000\n",
       "1916   292953   8000000              NaN           NaN         NaN\n",
       "1920   100000   3000000              NaN           NaN         NaN\n",
       "1925  2072500  10000000         22000000      11000000   89.795918\n",
       "1927  2000000       NaN              NaN           NaN         NaN"
      ]
     },
     "execution_count": 75,
     "metadata": {},
     "output_type": "execute_result"
    }
   ],
   "source": [
    "annual_means.head()\n"
   ]
  },
  {
   "cell_type": "markdown",
   "metadata": {},
   "source": [
    "We can apply our own functions to each group as well, by passing them to the group object's aggregate(...)\n",
    "method. For example, if we want a count of how many movies were released in each year, we could simply\n",
    "pass Python's built-in len function, to count the length of each group:\n"
   ]
  },
  {
   "cell_type": "code",
   "execution_count": 76,
   "metadata": {
    "collapsed": false
   },
   "outputs": [],
   "source": [
    "counts = by_year.aggregate(len)\n"
   ]
  },
  {
   "cell_type": "code",
   "execution_count": 77,
   "metadata": {
    "collapsed": false
   },
   "outputs": [
    {
     "data": {
      "text/html": [
       "<div style=\"max-height:1000px;max-width:1500px;overflow:auto;\">\n",
       "<table border=\"1\" class=\"dataframe\">\n",
       "  <thead>\n",
       "    <tr style=\"text-align: right;\">\n",
       "      <th></th>\n",
       "      <th>Release_Date</th>\n",
       "      <th>Movie</th>\n",
       "      <th>Distributor</th>\n",
       "      <th>Budget</th>\n",
       "      <th>US Gross</th>\n",
       "      <th>Worldwide Gross</th>\n",
       "      <th>Non_US_Gross</th>\n",
       "      <th>Profits</th>\n",
       "    </tr>\n",
       "    <tr>\n",
       "      <th>Year</th>\n",
       "      <th></th>\n",
       "      <th></th>\n",
       "      <th></th>\n",
       "      <th></th>\n",
       "      <th></th>\n",
       "      <th></th>\n",
       "      <th></th>\n",
       "      <th></th>\n",
       "    </tr>\n",
       "  </thead>\n",
       "  <tbody>\n",
       "    <tr>\n",
       "      <th>1915</th>\n",
       "      <td>1970-01-01 00:00:00.000000001</td>\n",
       "      <td> 1</td>\n",
       "      <td> 1</td>\n",
       "      <td> 1</td>\n",
       "      <td> 1</td>\n",
       "      <td> 1</td>\n",
       "      <td> 1</td>\n",
       "      <td> 1</td>\n",
       "    </tr>\n",
       "    <tr>\n",
       "      <th>1916</th>\n",
       "      <td>1970-01-01 00:00:00.000000002</td>\n",
       "      <td> 2</td>\n",
       "      <td> 2</td>\n",
       "      <td> 2</td>\n",
       "      <td> 2</td>\n",
       "      <td> 2</td>\n",
       "      <td> 2</td>\n",
       "      <td> 2</td>\n",
       "    </tr>\n",
       "    <tr>\n",
       "      <th>1920</th>\n",
       "      <td>1970-01-01 00:00:00.000000001</td>\n",
       "      <td> 1</td>\n",
       "      <td> 1</td>\n",
       "      <td> 1</td>\n",
       "      <td> 1</td>\n",
       "      <td> 1</td>\n",
       "      <td> 1</td>\n",
       "      <td> 1</td>\n",
       "    </tr>\n",
       "    <tr>\n",
       "      <th>1925</th>\n",
       "      <td>1970-01-01 00:00:00.000000002</td>\n",
       "      <td> 2</td>\n",
       "      <td> 2</td>\n",
       "      <td> 2</td>\n",
       "      <td> 2</td>\n",
       "      <td> 2</td>\n",
       "      <td> 2</td>\n",
       "      <td> 2</td>\n",
       "    </tr>\n",
       "    <tr>\n",
       "      <th>1927</th>\n",
       "      <td>1970-01-01 00:00:00.000000001</td>\n",
       "      <td> 1</td>\n",
       "      <td> 1</td>\n",
       "      <td> 1</td>\n",
       "      <td> 1</td>\n",
       "      <td> 1</td>\n",
       "      <td> 1</td>\n",
       "      <td> 1</td>\n",
       "    </tr>\n",
       "  </tbody>\n",
       "</table>\n",
       "</div>"
      ],
      "text/plain": [
       "                      Release_Date  Movie  Distributor  Budget  US Gross  \\\n",
       "Year                                                                       \n",
       "1915 1970-01-01 00:00:00.000000001      1            1       1         1   \n",
       "1916 1970-01-01 00:00:00.000000002      2            2       2         2   \n",
       "1920 1970-01-01 00:00:00.000000001      1            1       1         1   \n",
       "1925 1970-01-01 00:00:00.000000002      2            2       2         2   \n",
       "1927 1970-01-01 00:00:00.000000001      1            1       1         1   \n",
       "\n",
       "      Worldwide Gross  Non_US_Gross  Profits  \n",
       "Year                                          \n",
       "1915                1             1        1  \n",
       "1916                2             2        2  \n",
       "1920                1             1        1  \n",
       "1925                2             2        2  \n",
       "1927                1             1        1  "
      ]
     },
     "execution_count": 77,
     "metadata": {},
     "output_type": "execute_result"
    }
   ],
   "source": [
    "counts.head()\n"
   ]
  },
  {
   "cell_type": "code",
   "execution_count": 78,
   "metadata": {
    "collapsed": false
   },
   "outputs": [
    {
     "name": "stdout",
     "output_type": "stream",
     "text": [
      "<class 'pandas.core.frame.DataFrame'>\n",
      "Int64Index: 89 entries, 1915 to 2013\n",
      "Data columns (total 8 columns):\n",
      "Release_Date       89 non-null datetime64[ns]\n",
      "Movie              89 non-null int64\n",
      "Distributor        89 non-null int64\n",
      "Budget             89 non-null int64\n",
      "US Gross           89 non-null float64\n",
      "Worldwide Gross    89 non-null float64\n",
      "Non_US_Gross       89 non-null float64\n",
      "Profits            89 non-null float64\n",
      "dtypes: datetime64[ns](1), float64(4), int64(3)"
     ]
    }
   ],
   "source": [
    "counts.info()\n"
   ]
  },
  {
   "cell_type": "markdown",
   "metadata": {},
   "source": [
    "<p>Notice how all the columns (except the first one) in each row have the same value -- we're just counting the\n",
    "number of rows per group (movies per year, in this case), which won't vary from column to column. (The\n",
    "Release_Date column 'remembers' that it's holding a date, and converts the count number accordingly). </p>\n",
    "\n",
    "<p>\n",
    "\n",
    "In fact, there's no need for a whole data frame: the count of movies per year is just a series. If we only want a\n",
    "single series, we can select a column from the grouped object just like from a DataFrame. For the movie counts,\n",
    "it doesn't matter which column we pick (with the exception of the Release_Date column).\n",
    "</p>\n"
   ]
  },
  {
   "cell_type": "code",
   "execution_count": 79,
   "metadata": {
    "collapsed": false
   },
   "outputs": [],
   "source": [
    "# specifing a single column to count\n",
    "counts = by_year.Movie.aggregate(len)\n"
   ]
  },
  {
   "cell_type": "code",
   "execution_count": 81,
   "metadata": {
    "collapsed": false
   },
   "outputs": [
    {
     "name": "stdout",
     "output_type": "stream",
     "text": [
      "Year\n",
      "1915    1\n",
      "1916    2\n",
      "1920    1\n",
      "1925    2\n",
      "1927    1\n",
      "1929    1\n",
      "1930    1\n",
      "1931    1\n",
      "1933    3\n",
      "1934    1\n",
      "1935    1\n",
      "1936    3\n",
      "1937    1\n",
      "1938    2\n",
      "1939    3\n",
      "...\n",
      "1999    179\n",
      "2000    189\n",
      "2001    176\n",
      "2002    207\n",
      "2003    186\n",
      "2004    196\n",
      "2005    211\n",
      "2006    229\n",
      "2007    178\n",
      "2008    177\n",
      "2009    172\n",
      "2010    212\n",
      "2011    154\n",
      "2012     30\n",
      "2013      1\n",
      "Name: Movie, Length: 89, dtype: int64\n"
     ]
    }
   ],
   "source": [
    "print counts\n"
   ]
  },
  {
   "cell_type": "markdown",
   "metadata": {},
   "source": [
    "<h2> Merging dataframes - like a SQL join </h2>\n",
    "\n",
    "<p> You'll frequently find yourself working with more than one dataset at a time, or needing to combine data from\n",
    "several sources for analysis. Fortunately, pandas makes this simple as well. </p>\n",
    "\n",
    "<p>\n",
    "For this example, suppose we're interested in how movies are affected by the state of the American economy.</p>\n",
    "\n",
    "<p>\n",
    "First, let's put together three series: the number of movies released per year, their average budget, and their\n",
    "average profit.\n",
    "</p>\n",
    "\n",
    "<p>\n",
    "The latter two come from the annual_means DataFrame. We can create a DataFrame by subsetting a list of\n",
    "columns from another DataFrame, like this:\n",
    "</p>\n"
   ]
  },
  {
   "cell_type": "code",
   "execution_count": 82,
   "metadata": {
    "collapsed": false
   },
   "outputs": [],
   "source": [
    "annual_data = annual_means[[\"Budget\", \"Profits\"]]\n"
   ]
  },
  {
   "cell_type": "code",
   "execution_count": 83,
   "metadata": {
    "collapsed": false
   },
   "outputs": [
    {
     "name": "stdout",
     "output_type": "stream",
     "text": [
      "<class 'pandas.core.frame.DataFrame'>\n",
      "Int64Index: 89 entries, 1915 to 2013\n",
      "Data columns (total 2 columns):\n",
      "Budget     89 non-null int64\n",
      "Profits    59 non-null float64\n",
      "dtypes: float64(1), int64(1)"
     ]
    }
   ],
   "source": [
    "annual_data.info()\n"
   ]
  },
  {
   "cell_type": "markdown",
   "metadata": {},
   "source": [
    "<h3> Renaming dataframe columns </h3>\n",
    "\n",
    "<p> To make it clear that we're looking at averages now, we may want to rename the columns. We do this using the\n",
    "rename method, and passing a dictionary to the columns argument, associating the old names and new names\n",
    "for columns we want to rename:\n",
    "</p>"
   ]
  },
  {
   "cell_type": "code",
   "execution_count": 85,
   "metadata": {
    "collapsed": false
   },
   "outputs": [],
   "source": [
    "annual_data = annual_data.rename(columns={\"Budget\": \"Mean_Budget\", \"Profits\": \"Mean_Profit\"})"
   ]
  },
  {
   "cell_type": "code",
   "execution_count": 86,
   "metadata": {
    "collapsed": false
   },
   "outputs": [
    {
     "data": {
      "text/html": [
       "<div style=\"max-height:1000px;max-width:1500px;overflow:auto;\">\n",
       "<table border=\"1\" class=\"dataframe\">\n",
       "  <thead>\n",
       "    <tr style=\"text-align: right;\">\n",
       "      <th></th>\n",
       "      <th>Mean_Budget</th>\n",
       "      <th>Mean_Profit</th>\n",
       "    </tr>\n",
       "    <tr>\n",
       "      <th>Year</th>\n",
       "      <th></th>\n",
       "      <th></th>\n",
       "    </tr>\n",
       "  </thead>\n",
       "  <tbody>\n",
       "    <tr>\n",
       "      <th>1915</th>\n",
       "      <td>  110000</td>\n",
       "      <td> 100.000000</td>\n",
       "    </tr>\n",
       "    <tr>\n",
       "      <th>1916</th>\n",
       "      <td>  292953</td>\n",
       "      <td>        NaN</td>\n",
       "    </tr>\n",
       "    <tr>\n",
       "      <th>1920</th>\n",
       "      <td>  100000</td>\n",
       "      <td>        NaN</td>\n",
       "    </tr>\n",
       "    <tr>\n",
       "      <th>1925</th>\n",
       "      <td> 2072500</td>\n",
       "      <td>  89.795918</td>\n",
       "    </tr>\n",
       "    <tr>\n",
       "      <th>1927</th>\n",
       "      <td> 2000000</td>\n",
       "      <td>        NaN</td>\n",
       "    </tr>\n",
       "  </tbody>\n",
       "</table>\n",
       "</div>"
      ],
      "text/plain": [
       "      Mean_Budget  Mean_Profit\n",
       "Year                          \n",
       "1915       110000   100.000000\n",
       "1916       292953          NaN\n",
       "1920       100000          NaN\n",
       "1925      2072500    89.795918\n",
       "1927      2000000          NaN"
      ]
     },
     "execution_count": 86,
     "metadata": {},
     "output_type": "execute_result"
    }
   ],
   "source": [
    "annual_data.head()\n"
   ]
  },
  {
   "cell_type": "code",
   "execution_count": 87,
   "metadata": {
    "collapsed": false
   },
   "outputs": [
    {
     "data": {
      "text/html": [
       "<div style=\"max-height:1000px;max-width:1500px;overflow:auto;\">\n",
       "<table border=\"1\" class=\"dataframe\">\n",
       "  <thead>\n",
       "    <tr style=\"text-align: right;\">\n",
       "      <th></th>\n",
       "      <th>Mean_Budget</th>\n",
       "      <th>Mean_Profit</th>\n",
       "    </tr>\n",
       "    <tr>\n",
       "      <th>Year</th>\n",
       "      <th></th>\n",
       "      <th></th>\n",
       "    </tr>\n",
       "  </thead>\n",
       "  <tbody>\n",
       "    <tr>\n",
       "      <th>2009</th>\n",
       "      <td>  42974651</td>\n",
       "      <td> 91.226580</td>\n",
       "    </tr>\n",
       "    <tr>\n",
       "      <th>2010</th>\n",
       "      <td>  39710400</td>\n",
       "      <td>  3.276562</td>\n",
       "    </tr>\n",
       "    <tr>\n",
       "      <th>2011</th>\n",
       "      <td>  43270404</td>\n",
       "      <td>  3.934096</td>\n",
       "    </tr>\n",
       "    <tr>\n",
       "      <th>2012</th>\n",
       "      <td>  75050300</td>\n",
       "      <td>  9.694820</td>\n",
       "    </tr>\n",
       "    <tr>\n",
       "      <th>2013</th>\n",
       "      <td> 270000000</td>\n",
       "      <td>       NaN</td>\n",
       "    </tr>\n",
       "  </tbody>\n",
       "</table>\n",
       "</div>"
      ],
      "text/plain": [
       "      Mean_Budget  Mean_Profit\n",
       "Year                          \n",
       "2009     42974651    91.226580\n",
       "2010     39710400     3.276562\n",
       "2011     43270404     3.934096\n",
       "2012     75050300     9.694820\n",
       "2013    270000000          NaN"
      ]
     },
     "execution_count": 87,
     "metadata": {},
     "output_type": "execute_result"
    }
   ],
   "source": [
    "annual_data.tail()"
   ]
  },
  {
   "cell_type": "markdown",
   "metadata": {},
   "source": [
    "Since the counts dataframe and annual_data datafraem have overlapping index values, pandas automatically knows how to merge them.\n"
   ]
  },
  {
   "cell_type": "code",
   "execution_count": 89,
   "metadata": {
    "collapsed": false
   },
   "outputs": [],
   "source": [
    "#Now we want to add the movie count. In this case, we can simply assign it like this:\n",
    "annual_data[\"Count\"] = counts\n"
   ]
  },
  {
   "cell_type": "code",
   "execution_count": 90,
   "metadata": {
    "collapsed": false
   },
   "outputs": [
    {
     "data": {
      "text/html": [
       "<div style=\"max-height:1000px;max-width:1500px;overflow:auto;\">\n",
       "<table border=\"1\" class=\"dataframe\">\n",
       "  <thead>\n",
       "    <tr style=\"text-align: right;\">\n",
       "      <th></th>\n",
       "      <th>Mean_Budget</th>\n",
       "      <th>Mean_Profit</th>\n",
       "      <th>Count</th>\n",
       "    </tr>\n",
       "    <tr>\n",
       "      <th>Year</th>\n",
       "      <th></th>\n",
       "      <th></th>\n",
       "      <th></th>\n",
       "    </tr>\n",
       "  </thead>\n",
       "  <tbody>\n",
       "    <tr>\n",
       "      <th>1915</th>\n",
       "      <td>  110000</td>\n",
       "      <td> 100.000000</td>\n",
       "      <td> 1</td>\n",
       "    </tr>\n",
       "    <tr>\n",
       "      <th>1916</th>\n",
       "      <td>  292953</td>\n",
       "      <td>        NaN</td>\n",
       "      <td> 2</td>\n",
       "    </tr>\n",
       "    <tr>\n",
       "      <th>1920</th>\n",
       "      <td>  100000</td>\n",
       "      <td>        NaN</td>\n",
       "      <td> 1</td>\n",
       "    </tr>\n",
       "    <tr>\n",
       "      <th>1925</th>\n",
       "      <td> 2072500</td>\n",
       "      <td>  89.795918</td>\n",
       "      <td> 2</td>\n",
       "    </tr>\n",
       "    <tr>\n",
       "      <th>1927</th>\n",
       "      <td> 2000000</td>\n",
       "      <td>        NaN</td>\n",
       "      <td> 1</td>\n",
       "    </tr>\n",
       "  </tbody>\n",
       "</table>\n",
       "</div>"
      ],
      "text/plain": [
       "      Mean_Budget  Mean_Profit  Count\n",
       "Year                                 \n",
       "1915       110000   100.000000      1\n",
       "1916       292953          NaN      2\n",
       "1920       100000          NaN      1\n",
       "1925      2072500    89.795918      2\n",
       "1927      2000000          NaN      1"
      ]
     },
     "execution_count": 90,
     "metadata": {},
     "output_type": "execute_result"
    }
   ],
   "source": [
    "annual_data.head()\n"
   ]
  },
  {
   "cell_type": "code",
   "execution_count": 91,
   "metadata": {
    "collapsed": false
   },
   "outputs": [
    {
     "data": {
      "text/html": [
       "<div style=\"max-height:1000px;max-width:1500px;overflow:auto;\">\n",
       "<table border=\"1\" class=\"dataframe\">\n",
       "  <thead>\n",
       "    <tr style=\"text-align: right;\">\n",
       "      <th></th>\n",
       "      <th>Mean_Budget</th>\n",
       "      <th>Mean_Profit</th>\n",
       "      <th>Count</th>\n",
       "    </tr>\n",
       "    <tr>\n",
       "      <th>Year</th>\n",
       "      <th></th>\n",
       "      <th></th>\n",
       "      <th></th>\n",
       "    </tr>\n",
       "  </thead>\n",
       "  <tbody>\n",
       "    <tr>\n",
       "      <th>2009</th>\n",
       "      <td>  42974651</td>\n",
       "      <td> 91.226580</td>\n",
       "      <td> 172</td>\n",
       "    </tr>\n",
       "    <tr>\n",
       "      <th>2010</th>\n",
       "      <td>  39710400</td>\n",
       "      <td>  3.276562</td>\n",
       "      <td> 212</td>\n",
       "    </tr>\n",
       "    <tr>\n",
       "      <th>2011</th>\n",
       "      <td>  43270404</td>\n",
       "      <td>  3.934096</td>\n",
       "      <td> 154</td>\n",
       "    </tr>\n",
       "    <tr>\n",
       "      <th>2012</th>\n",
       "      <td>  75050300</td>\n",
       "      <td>  9.694820</td>\n",
       "      <td>  30</td>\n",
       "    </tr>\n",
       "    <tr>\n",
       "      <th>2013</th>\n",
       "      <td> 270000000</td>\n",
       "      <td>       NaN</td>\n",
       "      <td>   1</td>\n",
       "    </tr>\n",
       "  </tbody>\n",
       "</table>\n",
       "</div>"
      ],
      "text/plain": [
       "      Mean_Budget  Mean_Profit  Count\n",
       "Year                                 \n",
       "2009     42974651    91.226580    172\n",
       "2010     39710400     3.276562    212\n",
       "2011     43270404     3.934096    154\n",
       "2012     75050300     9.694820     30\n",
       "2013    270000000          NaN      1"
      ]
     },
     "execution_count": 91,
     "metadata": {},
     "output_type": "execute_result"
    }
   ],
   "source": [
    "annual_data.tail()\n"
   ]
  },
  {
   "cell_type": "markdown",
   "metadata": {},
   "source": [
    "Next, let's load an additional dataset to merge in. We'll load a simple time series with annual unemployment\n",
    "rates. After loading the dataset above, this is a piece of cake:\n"
   ]
  },
  {
   "cell_type": "code",
   "execution_count": 92,
   "metadata": {
    "collapsed": false
   },
   "outputs": [],
   "source": [
    " unemp = pandas.read_csv(\"Unemployment.csv\")\n"
   ]
  },
  {
   "cell_type": "code",
   "execution_count": 93,
   "metadata": {
    "collapsed": false
   },
   "outputs": [
    {
     "data": {
      "text/html": [
       "<div style=\"max-height:1000px;max-width:1500px;overflow:auto;\">\n",
       "<table border=\"1\" class=\"dataframe\">\n",
       "  <thead>\n",
       "    <tr style=\"text-align: right;\">\n",
       "      <th></th>\n",
       "      <th>Year</th>\n",
       "      <th>Unemployment</th>\n",
       "    </tr>\n",
       "  </thead>\n",
       "  <tbody>\n",
       "    <tr>\n",
       "      <th>0 </th>\n",
       "      <td> 1948</td>\n",
       "      <td> 3.8</td>\n",
       "    </tr>\n",
       "    <tr>\n",
       "      <th>1 </th>\n",
       "      <td> 1949</td>\n",
       "      <td> 6.1</td>\n",
       "    </tr>\n",
       "    <tr>\n",
       "      <th>2 </th>\n",
       "      <td> 1950</td>\n",
       "      <td> 5.2</td>\n",
       "    </tr>\n",
       "    <tr>\n",
       "      <th>3 </th>\n",
       "      <td> 1951</td>\n",
       "      <td> 3.3</td>\n",
       "    </tr>\n",
       "    <tr>\n",
       "      <th>4 </th>\n",
       "      <td> 1952</td>\n",
       "      <td> 3.0</td>\n",
       "    </tr>\n",
       "    <tr>\n",
       "      <th>5 </th>\n",
       "      <td> 1953</td>\n",
       "      <td> 2.9</td>\n",
       "    </tr>\n",
       "    <tr>\n",
       "      <th>6 </th>\n",
       "      <td> 1954</td>\n",
       "      <td> 5.6</td>\n",
       "    </tr>\n",
       "    <tr>\n",
       "      <th>7 </th>\n",
       "      <td> 1955</td>\n",
       "      <td> 4.4</td>\n",
       "    </tr>\n",
       "    <tr>\n",
       "      <th>8 </th>\n",
       "      <td> 1956</td>\n",
       "      <td> 4.1</td>\n",
       "    </tr>\n",
       "    <tr>\n",
       "      <th>9 </th>\n",
       "      <td> 1957</td>\n",
       "      <td> 4.3</td>\n",
       "    </tr>\n",
       "    <tr>\n",
       "      <th>10</th>\n",
       "      <td> 1958</td>\n",
       "      <td> 6.8</td>\n",
       "    </tr>\n",
       "    <tr>\n",
       "      <th>11</th>\n",
       "      <td> 1959</td>\n",
       "      <td> 5.5</td>\n",
       "    </tr>\n",
       "    <tr>\n",
       "      <th>12</th>\n",
       "      <td> 1960</td>\n",
       "      <td> 5.5</td>\n",
       "    </tr>\n",
       "    <tr>\n",
       "      <th>13</th>\n",
       "      <td> 1961</td>\n",
       "      <td> 6.7</td>\n",
       "    </tr>\n",
       "    <tr>\n",
       "      <th>14</th>\n",
       "      <td> 1962</td>\n",
       "      <td> 5.6</td>\n",
       "    </tr>\n",
       "    <tr>\n",
       "      <th>15</th>\n",
       "      <td> 1963</td>\n",
       "      <td> 5.6</td>\n",
       "    </tr>\n",
       "    <tr>\n",
       "      <th>16</th>\n",
       "      <td> 1964</td>\n",
       "      <td> 5.2</td>\n",
       "    </tr>\n",
       "    <tr>\n",
       "      <th>17</th>\n",
       "      <td> 1965</td>\n",
       "      <td> 4.5</td>\n",
       "    </tr>\n",
       "    <tr>\n",
       "      <th>18</th>\n",
       "      <td> 1966</td>\n",
       "      <td> 3.8</td>\n",
       "    </tr>\n",
       "    <tr>\n",
       "      <th>19</th>\n",
       "      <td> 1967</td>\n",
       "      <td> 3.8</td>\n",
       "    </tr>\n",
       "    <tr>\n",
       "      <th>20</th>\n",
       "      <td> 1968</td>\n",
       "      <td> 3.6</td>\n",
       "    </tr>\n",
       "    <tr>\n",
       "      <th>21</th>\n",
       "      <td> 1969</td>\n",
       "      <td> 3.5</td>\n",
       "    </tr>\n",
       "    <tr>\n",
       "      <th>22</th>\n",
       "      <td> 1970</td>\n",
       "      <td> 5.0</td>\n",
       "    </tr>\n",
       "    <tr>\n",
       "      <th>23</th>\n",
       "      <td> 1971</td>\n",
       "      <td> 6.0</td>\n",
       "    </tr>\n",
       "    <tr>\n",
       "      <th>24</th>\n",
       "      <td> 1972</td>\n",
       "      <td> 5.6</td>\n",
       "    </tr>\n",
       "    <tr>\n",
       "      <th>25</th>\n",
       "      <td> 1973</td>\n",
       "      <td> 4.9</td>\n",
       "    </tr>\n",
       "    <tr>\n",
       "      <th>26</th>\n",
       "      <td> 1974</td>\n",
       "      <td> 5.6</td>\n",
       "    </tr>\n",
       "    <tr>\n",
       "      <th>27</th>\n",
       "      <td> 1975</td>\n",
       "      <td> 8.5</td>\n",
       "    </tr>\n",
       "    <tr>\n",
       "      <th>28</th>\n",
       "      <td> 1976</td>\n",
       "      <td> 7.7</td>\n",
       "    </tr>\n",
       "    <tr>\n",
       "      <th>29</th>\n",
       "      <td> 1977</td>\n",
       "      <td> 7.1</td>\n",
       "    </tr>\n",
       "    <tr>\n",
       "      <th>...</th>\n",
       "      <td>...</td>\n",
       "      <td>...</td>\n",
       "    </tr>\n",
       "    <tr>\n",
       "      <th>35</th>\n",
       "      <td> 1983</td>\n",
       "      <td> 9.6</td>\n",
       "    </tr>\n",
       "    <tr>\n",
       "      <th>36</th>\n",
       "      <td> 1984</td>\n",
       "      <td> 7.5</td>\n",
       "    </tr>\n",
       "    <tr>\n",
       "      <th>37</th>\n",
       "      <td> 1985</td>\n",
       "      <td> 7.2</td>\n",
       "    </tr>\n",
       "    <tr>\n",
       "      <th>38</th>\n",
       "      <td> 1986</td>\n",
       "      <td> 7.0</td>\n",
       "    </tr>\n",
       "    <tr>\n",
       "      <th>39</th>\n",
       "      <td> 1987</td>\n",
       "      <td> 6.2</td>\n",
       "    </tr>\n",
       "    <tr>\n",
       "      <th>40</th>\n",
       "      <td> 1988</td>\n",
       "      <td> 5.5</td>\n",
       "    </tr>\n",
       "    <tr>\n",
       "      <th>41</th>\n",
       "      <td> 1989</td>\n",
       "      <td> 5.3</td>\n",
       "    </tr>\n",
       "    <tr>\n",
       "      <th>42</th>\n",
       "      <td> 1990</td>\n",
       "      <td> 5.6</td>\n",
       "    </tr>\n",
       "    <tr>\n",
       "      <th>43</th>\n",
       "      <td> 1991</td>\n",
       "      <td> 6.9</td>\n",
       "    </tr>\n",
       "    <tr>\n",
       "      <th>44</th>\n",
       "      <td> 1992</td>\n",
       "      <td> 7.5</td>\n",
       "    </tr>\n",
       "    <tr>\n",
       "      <th>45</th>\n",
       "      <td> 1993</td>\n",
       "      <td> 6.9</td>\n",
       "    </tr>\n",
       "    <tr>\n",
       "      <th>46</th>\n",
       "      <td> 1994</td>\n",
       "      <td> 6.1</td>\n",
       "    </tr>\n",
       "    <tr>\n",
       "      <th>47</th>\n",
       "      <td> 1995</td>\n",
       "      <td> 5.6</td>\n",
       "    </tr>\n",
       "    <tr>\n",
       "      <th>48</th>\n",
       "      <td> 1996</td>\n",
       "      <td> 5.4</td>\n",
       "    </tr>\n",
       "    <tr>\n",
       "      <th>49</th>\n",
       "      <td> 1997</td>\n",
       "      <td> 4.9</td>\n",
       "    </tr>\n",
       "    <tr>\n",
       "      <th>50</th>\n",
       "      <td> 1998</td>\n",
       "      <td> 4.5</td>\n",
       "    </tr>\n",
       "    <tr>\n",
       "      <th>51</th>\n",
       "      <td> 1999</td>\n",
       "      <td> 4.2</td>\n",
       "    </tr>\n",
       "    <tr>\n",
       "      <th>52</th>\n",
       "      <td> 2000</td>\n",
       "      <td> 4.0</td>\n",
       "    </tr>\n",
       "    <tr>\n",
       "      <th>53</th>\n",
       "      <td> 2001</td>\n",
       "      <td> 4.7</td>\n",
       "    </tr>\n",
       "    <tr>\n",
       "      <th>54</th>\n",
       "      <td> 2002</td>\n",
       "      <td> 5.8</td>\n",
       "    </tr>\n",
       "    <tr>\n",
       "      <th>55</th>\n",
       "      <td> 2003</td>\n",
       "      <td> 6.0</td>\n",
       "    </tr>\n",
       "    <tr>\n",
       "      <th>56</th>\n",
       "      <td> 2004</td>\n",
       "      <td> 5.5</td>\n",
       "    </tr>\n",
       "    <tr>\n",
       "      <th>57</th>\n",
       "      <td> 2005</td>\n",
       "      <td> 5.1</td>\n",
       "    </tr>\n",
       "    <tr>\n",
       "      <th>58</th>\n",
       "      <td> 2006</td>\n",
       "      <td> 4.6</td>\n",
       "    </tr>\n",
       "    <tr>\n",
       "      <th>59</th>\n",
       "      <td> 2007</td>\n",
       "      <td> 4.6</td>\n",
       "    </tr>\n",
       "    <tr>\n",
       "      <th>60</th>\n",
       "      <td> 2008</td>\n",
       "      <td> 5.8</td>\n",
       "    </tr>\n",
       "    <tr>\n",
       "      <th>61</th>\n",
       "      <td> 2009</td>\n",
       "      <td> 9.3</td>\n",
       "    </tr>\n",
       "    <tr>\n",
       "      <th>62</th>\n",
       "      <td> 2010</td>\n",
       "      <td> 9.6</td>\n",
       "    </tr>\n",
       "    <tr>\n",
       "      <th>63</th>\n",
       "      <td> 2011</td>\n",
       "      <td> 8.9</td>\n",
       "    </tr>\n",
       "    <tr>\n",
       "      <th>64</th>\n",
       "      <td> 2012</td>\n",
       "      <td> 8.1</td>\n",
       "    </tr>\n",
       "  </tbody>\n",
       "</table>\n",
       "<p>65 rows × 2 columns</p>\n",
       "</div>"
      ],
      "text/plain": [
       "    Year  Unemployment\n",
       "0   1948           3.8\n",
       "1   1949           6.1\n",
       "2   1950           5.2\n",
       "3   1951           3.3\n",
       "4   1952           3.0\n",
       "5   1953           2.9\n",
       "6   1954           5.6\n",
       "7   1955           4.4\n",
       "8   1956           4.1\n",
       "9   1957           4.3\n",
       "10  1958           6.8\n",
       "11  1959           5.5\n",
       "12  1960           5.5\n",
       "13  1961           6.7\n",
       "14  1962           5.6\n",
       "15  1963           5.6\n",
       "16  1964           5.2\n",
       "17  1965           4.5\n",
       "18  1966           3.8\n",
       "19  1967           3.8\n",
       "20  1968           3.6\n",
       "21  1969           3.5\n",
       "22  1970           5.0\n",
       "23  1971           6.0\n",
       "24  1972           5.6\n",
       "25  1973           4.9\n",
       "26  1974           5.6\n",
       "27  1975           8.5\n",
       "28  1976           7.7\n",
       "29  1977           7.1\n",
       "..   ...           ...\n",
       "35  1983           9.6\n",
       "36  1984           7.5\n",
       "37  1985           7.2\n",
       "38  1986           7.0\n",
       "39  1987           6.2\n",
       "40  1988           5.5\n",
       "41  1989           5.3\n",
       "42  1990           5.6\n",
       "43  1991           6.9\n",
       "44  1992           7.5\n",
       "45  1993           6.9\n",
       "46  1994           6.1\n",
       "47  1995           5.6\n",
       "48  1996           5.4\n",
       "49  1997           4.9\n",
       "50  1998           4.5\n",
       "51  1999           4.2\n",
       "52  2000           4.0\n",
       "53  2001           4.7\n",
       "54  2002           5.8\n",
       "55  2003           6.0\n",
       "56  2004           5.5\n",
       "57  2005           5.1\n",
       "58  2006           4.6\n",
       "59  2007           4.6\n",
       "60  2008           5.8\n",
       "61  2009           9.3\n",
       "62  2010           9.6\n",
       "63  2011           8.9\n",
       "64  2012           8.1\n",
       "\n",
       "[65 rows x 2 columns]"
      ]
     },
     "execution_count": 93,
     "metadata": {},
     "output_type": "execute_result"
    }
   ],
   "source": [
    "unemp\n"
   ]
  },
  {
   "cell_type": "code",
   "execution_count": 94,
   "metadata": {
    "collapsed": false
   },
   "outputs": [
    {
     "data": {
      "text/plain": [
       "Year              int64\n",
       "Unemployment    float64\n",
       "dtype: object"
      ]
     },
     "execution_count": 94,
     "metadata": {},
     "output_type": "execute_result"
    }
   ],
   "source": [
    "unemp.dtypes\n"
   ]
  },
  {
   "cell_type": "code",
   "execution_count": 95,
   "metadata": {
    "collapsed": false
   },
   "outputs": [
    {
     "name": "stdout",
     "output_type": "stream",
     "text": [
      "1948\n",
      "2012\n"
     ]
    }
   ],
   "source": [
    "print unemp.Year.min()\n",
    "print unemp.Year.max()\n"
   ]
  },
  {
   "cell_type": "code",
   "execution_count": 96,
   "metadata": {
    "collapsed": false
   },
   "outputs": [],
   "source": [
    "data_merged = annual_data.merge(unemp, how='left', left_index=True, right_on=\"Year\")"
   ]
  },
  {
   "cell_type": "code",
   "execution_count": 97,
   "metadata": {
    "collapsed": false
   },
   "outputs": [
    {
     "data": {
      "text/html": [
       "<div style=\"max-height:1000px;max-width:1500px;overflow:auto;\">\n",
       "<table border=\"1\" class=\"dataframe\">\n",
       "  <thead>\n",
       "    <tr style=\"text-align: right;\">\n",
       "      <th></th>\n",
       "      <th>Mean_Budget</th>\n",
       "      <th>Mean_Profit</th>\n",
       "      <th>Count</th>\n",
       "      <th>Year</th>\n",
       "      <th>Unemployment</th>\n",
       "    </tr>\n",
       "  </thead>\n",
       "  <tbody>\n",
       "    <tr>\n",
       "      <th>64</th>\n",
       "      <td>  110000</td>\n",
       "      <td> 100.000000</td>\n",
       "      <td> 1</td>\n",
       "      <td> 1915</td>\n",
       "      <td>NaN</td>\n",
       "    </tr>\n",
       "    <tr>\n",
       "      <th>64</th>\n",
       "      <td>  292953</td>\n",
       "      <td>        NaN</td>\n",
       "      <td> 2</td>\n",
       "      <td> 1916</td>\n",
       "      <td>NaN</td>\n",
       "    </tr>\n",
       "    <tr>\n",
       "      <th>64</th>\n",
       "      <td>  100000</td>\n",
       "      <td>        NaN</td>\n",
       "      <td> 1</td>\n",
       "      <td> 1920</td>\n",
       "      <td>NaN</td>\n",
       "    </tr>\n",
       "    <tr>\n",
       "      <th>64</th>\n",
       "      <td> 2072500</td>\n",
       "      <td>  89.795918</td>\n",
       "      <td> 2</td>\n",
       "      <td> 1925</td>\n",
       "      <td>NaN</td>\n",
       "    </tr>\n",
       "    <tr>\n",
       "      <th>64</th>\n",
       "      <td> 2000000</td>\n",
       "      <td>        NaN</td>\n",
       "      <td> 1</td>\n",
       "      <td> 1927</td>\n",
       "      <td>NaN</td>\n",
       "    </tr>\n",
       "  </tbody>\n",
       "</table>\n",
       "</div>"
      ],
      "text/plain": [
       "    Mean_Budget  Mean_Profit  Count  Year  Unemployment\n",
       "64       110000   100.000000      1  1915           NaN\n",
       "64       292953          NaN      2  1916           NaN\n",
       "64       100000          NaN      1  1920           NaN\n",
       "64      2072500    89.795918      2  1925           NaN\n",
       "64      2000000          NaN      1  1927           NaN"
      ]
     },
     "execution_count": 97,
     "metadata": {},
     "output_type": "execute_result"
    }
   ],
   "source": [
    " data_merged.head()\n"
   ]
  },
  {
   "cell_type": "code",
   "execution_count": 98,
   "metadata": {
    "collapsed": false
   },
   "outputs": [
    {
     "data": {
      "text/html": [
       "<div style=\"max-height:1000px;max-width:1500px;overflow:auto;\">\n",
       "<table border=\"1\" class=\"dataframe\">\n",
       "  <thead>\n",
       "    <tr style=\"text-align: right;\">\n",
       "      <th></th>\n",
       "      <th>Mean_Budget</th>\n",
       "      <th>Mean_Profit</th>\n",
       "      <th>Count</th>\n",
       "      <th>Year</th>\n",
       "      <th>Unemployment</th>\n",
       "    </tr>\n",
       "  </thead>\n",
       "  <tbody>\n",
       "    <tr>\n",
       "      <th>61</th>\n",
       "      <td>  42974651</td>\n",
       "      <td> 91.226580</td>\n",
       "      <td> 172</td>\n",
       "      <td> 2009</td>\n",
       "      <td> 9.3</td>\n",
       "    </tr>\n",
       "    <tr>\n",
       "      <th>62</th>\n",
       "      <td>  39710400</td>\n",
       "      <td>  3.276562</td>\n",
       "      <td> 212</td>\n",
       "      <td> 2010</td>\n",
       "      <td> 9.6</td>\n",
       "    </tr>\n",
       "    <tr>\n",
       "      <th>63</th>\n",
       "      <td>  43270404</td>\n",
       "      <td>  3.934096</td>\n",
       "      <td> 154</td>\n",
       "      <td> 2011</td>\n",
       "      <td> 8.9</td>\n",
       "    </tr>\n",
       "    <tr>\n",
       "      <th>64</th>\n",
       "      <td>  75050300</td>\n",
       "      <td>  9.694820</td>\n",
       "      <td>  30</td>\n",
       "      <td> 2012</td>\n",
       "      <td> 8.1</td>\n",
       "    </tr>\n",
       "    <tr>\n",
       "      <th>64</th>\n",
       "      <td> 270000000</td>\n",
       "      <td>       NaN</td>\n",
       "      <td>   1</td>\n",
       "      <td> 2013</td>\n",
       "      <td> NaN</td>\n",
       "    </tr>\n",
       "  </tbody>\n",
       "</table>\n",
       "</div>"
      ],
      "text/plain": [
       "    Mean_Budget  Mean_Profit  Count  Year  Unemployment\n",
       "61     42974651    91.226580    172  2009           9.3\n",
       "62     39710400     3.276562    212  2010           9.6\n",
       "63     43270404     3.934096    154  2011           8.9\n",
       "64     75050300     9.694820     30  2012           8.1\n",
       "64    270000000          NaN      1  2013           NaN"
      ]
     },
     "execution_count": 98,
     "metadata": {},
     "output_type": "execute_result"
    }
   ],
   "source": [
    "data_merged.tail()\n"
   ]
  },
  {
   "cell_type": "markdown",
   "metadata": {},
   "source": [
    "<h2> Explaining the .merge dataframe arguments </h2>\n",
    "\n",
    "<p>\n",
    "Let's take a closer look at what happened here. The merge(...) method of a DataFrame is used to merge that\n",
    "DataFrame (known by convention as the left-hand DataFrame) with another one (the right-hand DataFrame),\n",
    "provided as the first argument. DataFrames are merged by finding rows that match on some criteria, and\n",
    "combining them. We provide the criteria in in the left_ or right_ index= or on= arguments. In the example above,\n",
    "we're saying to merge rows where the left-hand index matches right-hand Year column.\n",
    "</p>\n",
    "\n",
    "<p>\n",
    "The how= argument is the type of join to use, a concept you may be familiar with from SQL. There are three\n",
    "types of joins:\n",
    "<p>\n",
    "\n",
    "<list>\n",
    "<li>\n",
    "left-join means keep all the rows from the left-hand dataset, and merge in any matching right-hand\n",
    "rows.\n",
    "</li>\n",
    "\n",
    "<li>\n",
    "right-join means keep all the rows from the right-hand dataset, and merge in any matching left-hand\n",
    "rows.\n",
    "</li>\n",
    "\n",
    "<li>\n",
    "inner-join means keep and merge only rows where there's a match between the left- and right-hand\n",
    "datasets\n",
    "</li>\n",
    "\n",
    "</list>\n",
    "\n",
    "\n"
   ]
  },
  {
   "cell_type": "markdown",
   "metadata": {},
   "source": [
    "In this case, the indices on the right-hand dataset are a subset of the left-hand indices, so a right and an inner\n",
    "join are equivalent. Let's quickly see what those results would look like:\n"
   ]
  },
  {
   "cell_type": "code",
   "execution_count": 100,
   "metadata": {
    "collapsed": false
   },
   "outputs": [],
   "source": [
    "temp = annual_data.merge(unemp, how='right', left_index=True, right_on=\"Year\")\n"
   ]
  },
  {
   "cell_type": "code",
   "execution_count": 101,
   "metadata": {
    "collapsed": false
   },
   "outputs": [
    {
     "data": {
      "text/html": [
       "<div style=\"max-height:1000px;max-width:1500px;overflow:auto;\">\n",
       "<table border=\"1\" class=\"dataframe\">\n",
       "  <thead>\n",
       "    <tr style=\"text-align: right;\">\n",
       "      <th></th>\n",
       "      <th>Mean_Budget</th>\n",
       "      <th>Mean_Profit</th>\n",
       "      <th>Count</th>\n",
       "      <th>Year</th>\n",
       "      <th>Unemployment</th>\n",
       "    </tr>\n",
       "  </thead>\n",
       "  <tbody>\n",
       "    <tr>\n",
       "      <th>0</th>\n",
       "      <td> 3350000</td>\n",
       "      <td>NaN</td>\n",
       "      <td> 2</td>\n",
       "      <td> 1948</td>\n",
       "      <td> 3.8</td>\n",
       "    </tr>\n",
       "    <tr>\n",
       "      <th>1</th>\n",
       "      <td> 1300000</td>\n",
       "      <td>NaN</td>\n",
       "      <td> 2</td>\n",
       "      <td> 1949</td>\n",
       "      <td> 6.1</td>\n",
       "    </tr>\n",
       "    <tr>\n",
       "      <th>2</th>\n",
       "      <td> 3334392</td>\n",
       "      <td>NaN</td>\n",
       "      <td> 2</td>\n",
       "      <td> 1950</td>\n",
       "      <td> 5.2</td>\n",
       "    </tr>\n",
       "    <tr>\n",
       "      <th>3</th>\n",
       "      <td> 2958333</td>\n",
       "      <td>NaN</td>\n",
       "      <td> 6</td>\n",
       "      <td> 1951</td>\n",
       "      <td> 3.3</td>\n",
       "    </tr>\n",
       "    <tr>\n",
       "      <th>4</th>\n",
       "      <td> 2423333</td>\n",
       "      <td>NaN</td>\n",
       "      <td> 3</td>\n",
       "      <td> 1952</td>\n",
       "      <td> 3.0</td>\n",
       "    </tr>\n",
       "  </tbody>\n",
       "</table>\n",
       "</div>"
      ],
      "text/plain": [
       "   Mean_Budget  Mean_Profit  Count  Year  Unemployment\n",
       "0      3350000          NaN      2  1948           3.8\n",
       "1      1300000          NaN      2  1949           6.1\n",
       "2      3334392          NaN      2  1950           5.2\n",
       "3      2958333          NaN      6  1951           3.3\n",
       "4      2423333          NaN      3  1952           3.0"
      ]
     },
     "execution_count": 101,
     "metadata": {},
     "output_type": "execute_result"
    }
   ],
   "source": [
    "temp.head()\n"
   ]
  },
  {
   "cell_type": "code",
   "execution_count": 102,
   "metadata": {
    "collapsed": false
   },
   "outputs": [
    {
     "data": {
      "text/html": [
       "<div style=\"max-height:1000px;max-width:1500px;overflow:auto;\">\n",
       "<table border=\"1\" class=\"dataframe\">\n",
       "  <thead>\n",
       "    <tr style=\"text-align: right;\">\n",
       "      <th></th>\n",
       "      <th>Mean_Budget</th>\n",
       "      <th>Mean_Profit</th>\n",
       "      <th>Count</th>\n",
       "      <th>Year</th>\n",
       "      <th>Unemployment</th>\n",
       "    </tr>\n",
       "  </thead>\n",
       "  <tbody>\n",
       "    <tr>\n",
       "      <th>60</th>\n",
       "      <td> 38956836</td>\n",
       "      <td>  2.981165</td>\n",
       "      <td> 177</td>\n",
       "      <td> 2008</td>\n",
       "      <td> 5.8</td>\n",
       "    </tr>\n",
       "    <tr>\n",
       "      <th>61</th>\n",
       "      <td> 42974651</td>\n",
       "      <td> 91.226580</td>\n",
       "      <td> 172</td>\n",
       "      <td> 2009</td>\n",
       "      <td> 9.3</td>\n",
       "    </tr>\n",
       "    <tr>\n",
       "      <th>62</th>\n",
       "      <td> 39710400</td>\n",
       "      <td>  3.276562</td>\n",
       "      <td> 212</td>\n",
       "      <td> 2010</td>\n",
       "      <td> 9.6</td>\n",
       "    </tr>\n",
       "    <tr>\n",
       "      <th>63</th>\n",
       "      <td> 43270404</td>\n",
       "      <td>  3.934096</td>\n",
       "      <td> 154</td>\n",
       "      <td> 2011</td>\n",
       "      <td> 8.9</td>\n",
       "    </tr>\n",
       "    <tr>\n",
       "      <th>64</th>\n",
       "      <td> 75050300</td>\n",
       "      <td>  9.694820</td>\n",
       "      <td>  30</td>\n",
       "      <td> 2012</td>\n",
       "      <td> 8.1</td>\n",
       "    </tr>\n",
       "  </tbody>\n",
       "</table>\n",
       "</div>"
      ],
      "text/plain": [
       "    Mean_Budget  Mean_Profit  Count  Year  Unemployment\n",
       "60     38956836     2.981165    177  2008           5.8\n",
       "61     42974651    91.226580    172  2009           9.3\n",
       "62     39710400     3.276562    212  2010           9.6\n",
       "63     43270404     3.934096    154  2011           8.9\n",
       "64     75050300     9.694820     30  2012           8.1"
      ]
     },
     "execution_count": 102,
     "metadata": {},
     "output_type": "execute_result"
    }
   ],
   "source": [
    "temp.tail()\n"
   ]
  },
  {
   "cell_type": "markdown",
   "metadata": {},
   "source": [
    "<p> Notice that the merge(...) method returns a new DataFrame, without modifying the original DataFrame. Notice\n",
    "also that the resulting DataFrame has a different index; whereas previously the left-hand DataFrame was\n",
    "indexed on Year, the merged DataFrame has a simple row-count index, with Year now an ordinary column.\n",
    "</p>\n",
    "\n",
    "if we want to, we can set the Year column as the index, using the set_index(...) method:"
   ]
  },
  {
   "cell_type": "code",
   "execution_count": 104,
   "metadata": {
    "collapsed": false
   },
   "outputs": [],
   "source": [
    "data_merged = data_merged.set_index(\"Year\")\n"
   ]
  },
  {
   "cell_type": "code",
   "execution_count": 105,
   "metadata": {
    "collapsed": false
   },
   "outputs": [
    {
     "data": {
      "text/html": [
       "<div style=\"max-height:1000px;max-width:1500px;overflow:auto;\">\n",
       "<table border=\"1\" class=\"dataframe\">\n",
       "  <thead>\n",
       "    <tr style=\"text-align: right;\">\n",
       "      <th></th>\n",
       "      <th>Mean_Budget</th>\n",
       "      <th>Mean_Profit</th>\n",
       "      <th>Count</th>\n",
       "      <th>Unemployment</th>\n",
       "    </tr>\n",
       "    <tr>\n",
       "      <th>Year</th>\n",
       "      <th></th>\n",
       "      <th></th>\n",
       "      <th></th>\n",
       "      <th></th>\n",
       "    </tr>\n",
       "  </thead>\n",
       "  <tbody>\n",
       "    <tr>\n",
       "      <th>1915</th>\n",
       "      <td>  110000</td>\n",
       "      <td> 100.000000</td>\n",
       "      <td> 1</td>\n",
       "      <td>NaN</td>\n",
       "    </tr>\n",
       "    <tr>\n",
       "      <th>1916</th>\n",
       "      <td>  292953</td>\n",
       "      <td>        NaN</td>\n",
       "      <td> 2</td>\n",
       "      <td>NaN</td>\n",
       "    </tr>\n",
       "    <tr>\n",
       "      <th>1920</th>\n",
       "      <td>  100000</td>\n",
       "      <td>        NaN</td>\n",
       "      <td> 1</td>\n",
       "      <td>NaN</td>\n",
       "    </tr>\n",
       "    <tr>\n",
       "      <th>1925</th>\n",
       "      <td> 2072500</td>\n",
       "      <td>  89.795918</td>\n",
       "      <td> 2</td>\n",
       "      <td>NaN</td>\n",
       "    </tr>\n",
       "    <tr>\n",
       "      <th>1927</th>\n",
       "      <td> 2000000</td>\n",
       "      <td>        NaN</td>\n",
       "      <td> 1</td>\n",
       "      <td>NaN</td>\n",
       "    </tr>\n",
       "  </tbody>\n",
       "</table>\n",
       "</div>"
      ],
      "text/plain": [
       "      Mean_Budget  Mean_Profit  Count  Unemployment\n",
       "Year                                               \n",
       "1915       110000   100.000000      1           NaN\n",
       "1916       292953          NaN      2           NaN\n",
       "1920       100000          NaN      1           NaN\n",
       "1925      2072500    89.795918      2           NaN\n",
       "1927      2000000          NaN      1           NaN"
      ]
     },
     "execution_count": 105,
     "metadata": {},
     "output_type": "execute_result"
    }
   ],
   "source": [
    "data_merged.head()\n"
   ]
  },
  {
   "cell_type": "markdown",
   "metadata": {},
   "source": [
    "Notice that we're assigning the result of set_index(...) to the data_merged DataFrame itself -- again, by default it\n",
    "returns a new DataFrame, without modifying the original one. With most methods, instead of assigning the new\n",
    "DataFrame to the old name, we can use the inplace argument, like this:\n"
   ]
  },
  {
   "cell_type": "code",
   "execution_count": 106,
   "metadata": {
    "collapsed": false
   },
   "outputs": [],
   "source": [
    "# Reset the index, and make the old index\n",
    "data_merged.reset_index(inplace=True)\n"
   ]
  },
  {
   "cell_type": "code",
   "execution_count": 107,
   "metadata": {
    "collapsed": false
   },
   "outputs": [
    {
     "data": {
      "text/html": [
       "<div style=\"max-height:1000px;max-width:1500px;overflow:auto;\">\n",
       "<table border=\"1\" class=\"dataframe\">\n",
       "  <thead>\n",
       "    <tr style=\"text-align: right;\">\n",
       "      <th></th>\n",
       "      <th>Year</th>\n",
       "      <th>Mean_Budget</th>\n",
       "      <th>Mean_Profit</th>\n",
       "      <th>Count</th>\n",
       "      <th>Unemployment</th>\n",
       "    </tr>\n",
       "  </thead>\n",
       "  <tbody>\n",
       "    <tr>\n",
       "      <th>0</th>\n",
       "      <td> 1915</td>\n",
       "      <td>  110000</td>\n",
       "      <td> 100.000000</td>\n",
       "      <td> 1</td>\n",
       "      <td>NaN</td>\n",
       "    </tr>\n",
       "    <tr>\n",
       "      <th>1</th>\n",
       "      <td> 1916</td>\n",
       "      <td>  292953</td>\n",
       "      <td>        NaN</td>\n",
       "      <td> 2</td>\n",
       "      <td>NaN</td>\n",
       "    </tr>\n",
       "    <tr>\n",
       "      <th>2</th>\n",
       "      <td> 1920</td>\n",
       "      <td>  100000</td>\n",
       "      <td>        NaN</td>\n",
       "      <td> 1</td>\n",
       "      <td>NaN</td>\n",
       "    </tr>\n",
       "    <tr>\n",
       "      <th>3</th>\n",
       "      <td> 1925</td>\n",
       "      <td> 2072500</td>\n",
       "      <td>  89.795918</td>\n",
       "      <td> 2</td>\n",
       "      <td>NaN</td>\n",
       "    </tr>\n",
       "    <tr>\n",
       "      <th>4</th>\n",
       "      <td> 1927</td>\n",
       "      <td> 2000000</td>\n",
       "      <td>        NaN</td>\n",
       "      <td> 1</td>\n",
       "      <td>NaN</td>\n",
       "    </tr>\n",
       "  </tbody>\n",
       "</table>\n",
       "</div>"
      ],
      "text/plain": [
       "   Year  Mean_Budget  Mean_Profit  Count  Unemployment\n",
       "0  1915       110000   100.000000      1           NaN\n",
       "1  1916       292953          NaN      2           NaN\n",
       "2  1920       100000          NaN      1           NaN\n",
       "3  1925      2072500    89.795918      2           NaN\n",
       "4  1927      2000000          NaN      1           NaN"
      ]
     },
     "execution_count": 107,
     "metadata": {},
     "output_type": "execute_result"
    }
   ],
   "source": [
    "data_merged.head()\n"
   ]
  },
  {
   "cell_type": "code",
   "execution_count": 108,
   "metadata": {
    "collapsed": false
   },
   "outputs": [
    {
     "data": {
      "text/html": [
       "<div style=\"max-height:1000px;max-width:1500px;overflow:auto;\">\n",
       "<table border=\"1\" class=\"dataframe\">\n",
       "  <thead>\n",
       "    <tr style=\"text-align: right;\">\n",
       "      <th></th>\n",
       "      <th>Year</th>\n",
       "      <th>Mean_Budget</th>\n",
       "      <th>Mean_Profit</th>\n",
       "      <th>Count</th>\n",
       "      <th>Unemployment</th>\n",
       "    </tr>\n",
       "  </thead>\n",
       "  <tbody>\n",
       "    <tr>\n",
       "      <th>0</th>\n",
       "      <td> 1915</td>\n",
       "      <td>  110000</td>\n",
       "      <td> 100.000000</td>\n",
       "      <td> 1</td>\n",
       "      <td>NaN</td>\n",
       "    </tr>\n",
       "    <tr>\n",
       "      <th>1</th>\n",
       "      <td> 1916</td>\n",
       "      <td>  292953</td>\n",
       "      <td>        NaN</td>\n",
       "      <td> 2</td>\n",
       "      <td>NaN</td>\n",
       "    </tr>\n",
       "    <tr>\n",
       "      <th>2</th>\n",
       "      <td> 1920</td>\n",
       "      <td>  100000</td>\n",
       "      <td>        NaN</td>\n",
       "      <td> 1</td>\n",
       "      <td>NaN</td>\n",
       "    </tr>\n",
       "    <tr>\n",
       "      <th>3</th>\n",
       "      <td> 1925</td>\n",
       "      <td> 2072500</td>\n",
       "      <td>  89.795918</td>\n",
       "      <td> 2</td>\n",
       "      <td>NaN</td>\n",
       "    </tr>\n",
       "    <tr>\n",
       "      <th>4</th>\n",
       "      <td> 1927</td>\n",
       "      <td> 2000000</td>\n",
       "      <td>        NaN</td>\n",
       "      <td> 1</td>\n",
       "      <td>NaN</td>\n",
       "    </tr>\n",
       "  </tbody>\n",
       "</table>\n",
       "</div>"
      ],
      "text/plain": [
       "   Year  Mean_Budget  Mean_Profit  Count  Unemployment\n",
       "0  1915       110000   100.000000      1           NaN\n",
       "1  1916       292953          NaN      2           NaN\n",
       "2  1920       100000          NaN      1           NaN\n",
       "3  1925      2072500    89.795918      2           NaN\n",
       "4  1927      2000000          NaN      1           NaN"
      ]
     },
     "execution_count": 108,
     "metadata": {},
     "output_type": "execute_result"
    }
   ],
   "source": [
    "data_merged.head()\n"
   ]
  },
  {
   "cell_type": "code",
   "execution_count": 109,
   "metadata": {
    "collapsed": false
   },
   "outputs": [
    {
     "data": {
      "text/html": [
       "<div style=\"max-height:1000px;max-width:1500px;overflow:auto;\">\n",
       "<table border=\"1\" class=\"dataframe\">\n",
       "  <thead>\n",
       "    <tr style=\"text-align: right;\">\n",
       "      <th></th>\n",
       "      <th>Year</th>\n",
       "      <th>Mean_Budget</th>\n",
       "      <th>Mean_Profit</th>\n",
       "      <th>Count</th>\n",
       "      <th>Unemployment</th>\n",
       "    </tr>\n",
       "  </thead>\n",
       "  <tbody>\n",
       "    <tr>\n",
       "      <th>Year</th>\n",
       "      <td> 1.000000</td>\n",
       "      <td> 0.556962</td>\n",
       "      <td>-0.327954</td>\n",
       "      <td> 0.707824</td>\n",
       "      <td> 0.389024</td>\n",
       "    </tr>\n",
       "    <tr>\n",
       "      <th>Mean_Budget</th>\n",
       "      <td> 0.556962</td>\n",
       "      <td> 1.000000</td>\n",
       "      <td>-0.326110</td>\n",
       "      <td> 0.308479</td>\n",
       "      <td> 0.296792</td>\n",
       "    </tr>\n",
       "    <tr>\n",
       "      <th>Mean_Profit</th>\n",
       "      <td>-0.327954</td>\n",
       "      <td>-0.326110</td>\n",
       "      <td> 1.000000</td>\n",
       "      <td>-0.297851</td>\n",
       "      <td> 0.079646</td>\n",
       "    </tr>\n",
       "    <tr>\n",
       "      <th>Count</th>\n",
       "      <td> 0.707824</td>\n",
       "      <td> 0.308479</td>\n",
       "      <td>-0.297851</td>\n",
       "      <td> 1.000000</td>\n",
       "      <td> 0.068876</td>\n",
       "    </tr>\n",
       "    <tr>\n",
       "      <th>Unemployment</th>\n",
       "      <td> 0.389024</td>\n",
       "      <td> 0.296792</td>\n",
       "      <td> 0.079646</td>\n",
       "      <td> 0.068876</td>\n",
       "      <td> 1.000000</td>\n",
       "    </tr>\n",
       "  </tbody>\n",
       "</table>\n",
       "</div>"
      ],
      "text/plain": [
       "                  Year  Mean_Budget  Mean_Profit     Count  Unemployment\n",
       "Year          1.000000     0.556962    -0.327954  0.707824      0.389024\n",
       "Mean_Budget   0.556962     1.000000    -0.326110  0.308479      0.296792\n",
       "Mean_Profit  -0.327954    -0.326110     1.000000 -0.297851      0.079646\n",
       "Count         0.707824     0.308479    -0.297851  1.000000      0.068876\n",
       "Unemployment  0.389024     0.296792     0.079646  0.068876      1.000000"
      ]
     },
     "execution_count": 109,
     "metadata": {},
     "output_type": "execute_result"
    }
   ],
   "source": [
    "#Now that we have our data together, we could see whether there are any annual correlations in our data:\n",
    "\n",
    "data_merged.corr()\n",
    "    "
   ]
  },
  {
   "cell_type": "markdown",
   "metadata": {},
   "source": [
    "It looks like unemployment doesn't correlate at all with either the number of movies, or how profitable they are,\n",
    "and only slightly correlates with their budget.\n"
   ]
  },
  {
   "cell_type": "code",
   "execution_count": 2,
   "metadata": {
    "collapsed": false
   },
   "outputs": [],
   "source": [
    "import pandas\n",
    "import random\n",
    "z = [random.normalvariate(0,1) for x in range(120)]"
   ]
  },
  {
   "cell_type": "code",
   "execution_count": 4,
   "metadata": {
    "collapsed": false
   },
   "outputs": [
    {
     "data": {
      "text/plain": [
       "list"
      ]
     },
     "execution_count": 4,
     "metadata": {},
     "output_type": "execute_result"
    }
   ],
   "source": [
    "type(z)\n"
   ]
  },
  {
   "cell_type": "code",
   "execution_count": null,
   "metadata": {
    "collapsed": true
   },
   "outputs": [],
   "source": []
  }
 ],
 "metadata": {
  "kernelspec": {
   "display_name": "Python 2",
   "language": "python",
   "name": "python2"
  },
  "language_info": {
   "codemirror_mode": {
    "name": "ipython",
    "version": 2
   },
   "file_extension": ".py",
   "mimetype": "text/x-python",
   "name": "python",
   "nbconvert_exporter": "python",
   "pygments_lexer": "ipython2",
   "version": "2.7.10"
  }
 },
 "nbformat": 4,
 "nbformat_minor": 0
}
