{
 "cells": [
  {
   "cell_type": "markdown",
   "metadata": {},
   "source": [
    "\n",
    "<h1>Python Strings </h1>\n",
    "\n",
    "<p>\n",
    "Python strings are a built in datatype.  Python strings are an immutable sequence, that is they have a left-to-right order and\n",
    "can't be changed in place </p>"
   ]
  },
  {
   "cell_type": "markdown",
   "metadata": {},
   "source": [
    "<h2>Common String Litterals and Operations</h2>"
   ]
  },
  {
   "cell_type": "code",
   "execution_count": 34,
   "metadata": {},
   "outputs": [
    {
     "name": "stdout",
     "output_type": "stream",
     "text": [
      "Empty String Assignment - (s1='') =>  \n",
      "Lenght of an empty string (len(s1) => 0\n"
     ]
    }
   ],
   "source": [
    "# string using single quotes\n",
    "s1 = '' # empty string using single quotes\n",
    "print \"Empty String Assignment - (s1='') => \", s1\n",
    "print \"Lenght of an empty string (len(s1) =>\", len(s1)"
   ]
  },
  {
   "cell_type": "code",
   "execution_count": 25,
   "metadata": {},
   "outputs": [
    {
     "name": "stdout",
     "output_type": "stream",
     "text": [
      "Single Quote Litteral within String - (s2=\"spam's\") =>  spam's\n"
     ]
    }
   ],
   "source": [
    "#String using double quotes\n",
    "s2 = \"spam's\" \n",
    "print \"Single Quote Litteral within String - (s2=\\\"spam's\\\") => \", s2 # note using excape to print double quote"
   ]
  },
  {
   "cell_type": "code",
   "execution_count": 26,
   "metadata": {},
   "outputs": [
    {
     "name": "stdout",
     "output_type": "stream",
     "text": [
      "Hello World\n",
      "how are you\n",
      "this is great\n"
     ]
    }
   ],
   "source": [
    "# String Block Quote\n",
    "block=\"\"\"Hello World\n",
    "how are you\n",
    "this is great\"\"\"  # block quotes allow string to span multiple lines, and will embed the <CR>\n",
    "print block"
   ]
  },
  {
   "cell_type": "code",
   "execution_count": 27,
   "metadata": {},
   "outputs": [
    {
     "name": "stdout",
     "output_type": "stream",
     "text": [
      "\\temp\\spam\n"
     ]
    }
   ],
   "source": [
    "#Raw Strings\n",
    "s3 = r'\\temp\\spam'  # Note when printed out, the \\ escape sequence is ignored.\n",
    "print s3"
   ]
  },
  {
   "cell_type": "code",
   "execution_count": 1,
   "metadata": {},
   "outputs": [
    {
     "name": "stdout",
     "output_type": "stream",
     "text": [
      "eggs\u00020spam\n"
     ]
    }
   ],
   "source": [
    "#unicode characters\n",
    "s4 = u'eggs\\0020spam'\n",
    "print s4"
   ]
  },
  {
   "cell_type": "markdown",
   "metadata": {},
   "source": [
    "<h2>String Concatenation <b><font style=\"color:blue\"> '+' </b> </mark> Operator and Implicit Concatenation </h2>\n"
   ]
  },
  {
   "cell_type": "code",
   "execution_count": 7,
   "metadata": {},
   "outputs": [
    {
     "name": "stdout",
     "output_type": "stream",
     "text": [
      "eggs & spam\n",
      "Hello World\n"
     ]
    }
   ],
   "source": [
    "#String concatenate\n",
    "s1 = \"eggs\"\n",
    "s2 = \" & spam\"\n",
    "print s1+s2\n",
    "\n",
    "print  \"Hello\" \" World\" # an alnerative concatenation syntax.  Python automatically concatenates adjacent strings LITERALS"
   ]
  },
  {
   "cell_type": "code",
   "execution_count": 30,
   "metadata": {},
   "outputs": [
    {
     "name": "stdout",
     "output_type": "stream",
     "text": [
      " Again and  Again and  Again and \n"
     ]
    }
   ],
   "source": [
    "#repeat string \n",
    "s1 = \" Again and \"\n",
    "print s1*3"
   ]
  },
  {
   "cell_type": "markdown",
   "metadata": {},
   "source": [
    "<h2>String Indexing and Slicing </h2>"
   ]
  },
  {
   "cell_type": "code",
   "execution_count": 31,
   "metadata": {},
   "outputs": [
    {
     "name": "stdout",
     "output_type": "stream",
     "text": [
      "3\n"
     ]
    }
   ],
   "source": [
    "# String Indexing\n",
    "s1=\"123456789\"\n",
    "print s1[2] # note that arrays are 0 indexed in python"
   ]
  },
  {
   "cell_type": "code",
   "execution_count": 12,
   "metadata": {},
   "outputs": [
    {
     "name": "stdout",
     "output_type": "stream",
     "text": [
      "\n",
      "1\n",
      "12\n",
      "123\n",
      "123\n",
      "123\n",
      "456789\n",
      "123456789\n"
     ]
    }
   ],
   "source": [
    "# String Slice\n",
    "s1 = \"123456789\"\n",
    "print s1[0:0] # empty string\n",
    "print s1[0:1] # note, this starts at one and goes up to end index - \n",
    "print s1[0:2] # note, this starts at one and goes up to end index - \n",
    "print s1[0:3] # note, this starts at one and goes up to end index - \n",
    "print s1[0:3] # note, this starts at one and goes up to end index - \n",
    "print s1[:3] # omitting the start value defaults to beginning of string\n",
    "print s1[3:] # omitting end value defaults to end of string.\n",
    "print s1[:] # omitting both values returns the entire string."
   ]
  },
  {
   "cell_type": "markdown",
   "metadata": {},
   "source": [
    "<h2>String Length Method <font style=\"color:blue\">.len </fon> </h2>"
   ]
  },
  {
   "cell_type": "code",
   "execution_count": 38,
   "metadata": {},
   "outputs": [
    {
     "name": "stdout",
     "output_type": "stream",
     "text": [
      "9\n"
     ]
    }
   ],
   "source": [
    "# string length\n",
    "s1 = \"123456789\"\n",
    "print len(s1)"
   ]
  },
  {
   "cell_type": "markdown",
   "metadata": {},
   "source": [
    "<h2>Substring Find Method <font style=\"color:blue\">.find </fon> </h2>"
   ]
  },
  {
   "cell_type": "code",
   "execution_count": 41,
   "metadata": {},
   "outputs": [
    {
     "name": "stdout",
     "output_type": "stream",
     "text": [
      "3\n",
      "-1\n"
     ]
    }
   ],
   "source": [
    "# find substring within string\n",
    "s1 = \"123456789\"\n",
    "print s1.find(\"45\")   # finds it at position 3\n",
    "print s1.find(\"Hello\") # can't find it, returns -1"
   ]
  },
  {
   "cell_type": "markdown",
   "metadata": {},
   "source": [
    "<h2>String Editing - Replace Method <font style=\"color:blue\">.replace </fon> </h2>"
   ]
  },
  {
   "cell_type": "code",
   "execution_count": 42,
   "metadata": {},
   "outputs": [
    {
     "name": "stdout",
     "output_type": "stream",
     "text": [
      "123XX6789\n"
     ]
    }
   ],
   "source": [
    "# replace string within string\n",
    "s1 = \"123456789\"\n",
    "print s1.replace('45','XX')"
   ]
  },
  {
   "cell_type": "markdown",
   "metadata": {},
   "source": [
    "<h2>String Editing - Split Method <font style=\"color:blue\">.split </fon> </h2>"
   ]
  },
  {
   "cell_type": "code",
   "execution_count": 45,
   "metadata": {},
   "outputs": [
    {
     "name": "stdout",
     "output_type": "stream",
     "text": [
      "['123', '6789']\n"
     ]
    }
   ],
   "source": [
    "# split, returns a list of strings.  It breaks apart the string on a specified substring\n",
    "s1 = \"123456789\"\n",
    "l1 = s1.split(\"45\") # note the splitting token is removed from the string on splitting\n",
    "print l1"
   ]
  },
  {
   "cell_type": "code",
   "execution_count": 4,
   "metadata": {},
   "outputs": [
    {
     "name": "stdout",
     "output_type": "stream",
     "text": [
      "ABC 0.04402592  0.04472897  0.04709948  0.05150932  0.05790115  0.06530187 0.07224947  0.07787257  0.08203505  0.08491872  0.08675657  0.08774848 0.08805184  0.04786295  0.02422476  0.01776351  0.00849355  0.00477189 0.00290712  0.00201576  0.00176104\n",
      "['ABC', '0.04402592', '', '0.04472897', '', '0.04709948', '', '0.05150932', '', '0.05790115', '', '0.06530187', '0.07224947', '', '0.07787257', '', '0.08203505', '', '0.08491872', '', '0.08675657', '', '0.08774848', '0.08805184', '', '0.04786295', '', '0.02422476', '', '0.01776351', '', '0.00849355', '', '0.00477189', '0.00290712', '', '0.00201576', '', '0.00176104']\n",
      "0.04402592\n",
      "0.04472897\n",
      "0.04709948\n",
      "0.05150932\n",
      "0.05790115\n",
      "0.06530187\n",
      "0.07224947\n",
      "0.07787257\n",
      "0.08203505\n",
      "0.08491872\n",
      "0.08675657\n",
      "0.08774848\n",
      "0.08805184\n",
      "0.04786295\n",
      "0.02422476\n",
      "0.01776351\n",
      "0.00849355\n",
      "0.00477189\n",
      "0.00290712\n",
      "0.00201576\n",
      "0.00176104\n",
      "True\n",
      "True\n"
     ]
    }
   ],
   "source": [
    "# Check if a string is a number.  Useful when converting an input text file to data. .\n",
    "def is_number(s):\n",
    "    try:\n",
    "        float(s)\n",
    "        return True\n",
    "    except ValueError:\n",
    "        return False\n",
    "\n",
    "str1 = \"ABC 0.04402592  0.04472897  0.04709948  0.05150932  0.05790115  0.06530187 0.07224947  0.07787257  0.08203505  0.08491872  0.08675657  0.08774848 0.08805184  0.04786295  0.02422476  0.01776351  0.00849355  0.00477189 0.00290712  0.00201576  0.00176104\"\n",
    "print str1\n",
    "\n",
    "list1 = str1.split(\" \")\n",
    "print list1\n",
    "for i in list1:\n",
    "    if is_number(i):\n",
    "        x = float(i)\n",
    "        print x\n",
    "\n",
    "print is_number('1');\n",
    "\n",
    "print is_number(' 1 ');"
   ]
  },
  {
   "cell_type": "code",
   "execution_count": null,
   "metadata": {
    "collapsed": true
   },
   "outputs": [],
   "source": []
  }
 ],
 "metadata": {
  "kernelspec": {
   "display_name": "Python 2",
   "language": "python",
   "name": "python2"
  },
  "language_info": {
   "codemirror_mode": {
    "name": "ipython",
    "version": 2
   },
   "file_extension": ".py",
   "mimetype": "text/x-python",
   "name": "python",
   "nbconvert_exporter": "python",
   "pygments_lexer": "ipython2",
   "version": "2.7.15"
  }
 },
 "nbformat": 4,
 "nbformat_minor": 1
}
