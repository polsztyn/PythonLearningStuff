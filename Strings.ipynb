{
 "metadata": {
  "name": "",
  "signature": "sha256:b4d883e1a094bfcc62607c2bcb2d5a0d27855a0d8d37931b73456d64fce05a0b"
 },
 "nbformat": 3,
 "nbformat_minor": 0,
 "worksheets": [
  {
   "cells": [
    {
     "cell_type": "markdown",
     "metadata": {},
     "source": [
      "\n",
      "<h1>Python Strings </h1>\n",
      "\n",
      "<p>\n",
      "Python strings are a built in datatype.  Python strings are an immutable sequence, that is they have a left-to-right order and\n",
      "can't be changed in place </p>"
     ]
    },
    {
     "cell_type": "markdown",
     "metadata": {},
     "source": [
      "<h2>Common String Litterals and Operations</h2>"
     ]
    },
    {
     "cell_type": "code",
     "collapsed": false,
     "input": [
      "# string using single quotes\n",
      "s1 = '' # empty string using single quotes\n",
      "print \"Empty String Assignment - (s1='') => \", s1\n",
      "print \"Lenght of an empty string (len(s1) =>\", len(s1)"
     ],
     "language": "python",
     "metadata": {},
     "outputs": [
      {
       "output_type": "stream",
       "stream": "stdout",
       "text": [
        "Empty String Assignment - (s1='') =>  \n",
        "Lenght of an empty string (len(s1) => 0\n"
       ]
      }
     ],
     "prompt_number": 34
    },
    {
     "cell_type": "code",
     "collapsed": false,
     "input": [
      "#String using double quotes\n",
      "s2 = \"spam's\" \n",
      "print \"Single Quote Litteral within String - (s2=\\\"spam's\\\") => \", s2 # note using excape to print double quote"
     ],
     "language": "python",
     "metadata": {},
     "outputs": [
      {
       "output_type": "stream",
       "stream": "stdout",
       "text": [
        "Single Quote Litteral within String - (s2=\"spam's\") =>  spam's\n"
       ]
      }
     ],
     "prompt_number": 25
    },
    {
     "cell_type": "code",
     "collapsed": false,
     "input": [
      "# String Block Quote\n",
      "block=\"\"\"Hello World\n",
      "how are you\n",
      "this is great\"\"\"  # block quotes allow string to span multiple lines, and will embed the <CR>\n",
      "print block"
     ],
     "language": "python",
     "metadata": {},
     "outputs": [
      {
       "output_type": "stream",
       "stream": "stdout",
       "text": [
        "Hello World\n",
        "how are you\n",
        "this is great\n"
       ]
      }
     ],
     "prompt_number": 26
    },
    {
     "cell_type": "code",
     "collapsed": false,
     "input": [
      "#Raw Strings\n",
      "s3 = r'\\temp\\spam'  # Note when printed out, the \\ escape sequence is ignored.\n",
      "print s3"
     ],
     "language": "python",
     "metadata": {},
     "outputs": [
      {
       "output_type": "stream",
       "stream": "stdout",
       "text": [
        "\\temp\\spam\n"
       ]
      }
     ],
     "prompt_number": 27
    },
    {
     "cell_type": "code",
     "collapsed": false,
     "input": [
      "#unicode characters\n",
      "s4 = u'eggs\\0020spam'\n",
      "print s4"
     ],
     "language": "python",
     "metadata": {},
     "outputs": [
      {
       "output_type": "stream",
       "stream": "stdout",
       "text": [
        "eggs\u00020spam\n"
       ]
      }
     ],
     "prompt_number": 28
    },
    {
     "cell_type": "code",
     "collapsed": false,
     "input": [
      "#String concatenate\n",
      "s1 = \"eggs\"\n",
      "s2 = \" & spam\"\n",
      "print s1+s2\n",
      "\n",
      "print  \"Hello\" \" World\" # an alnerative concatenation syntax.  Python automatically concatenates adjacent strings LITERALS\n"
     ],
     "language": "python",
     "metadata": {},
     "outputs": [
      {
       "ename": "SyntaxError",
       "evalue": "invalid syntax (<ipython-input-49-cb4b1df0a1d8>, line 7)",
       "output_type": "pyerr",
       "traceback": [
        "\u001b[1;36m  File \u001b[1;32m\"<ipython-input-49-cb4b1df0a1d8>\"\u001b[1;36m, line \u001b[1;32m7\u001b[0m\n\u001b[1;33m    print s1 s2\u001b[0m\n\u001b[1;37m              ^\u001b[0m\n\u001b[1;31mSyntaxError\u001b[0m\u001b[1;31m:\u001b[0m invalid syntax\n"
       ]
      }
     ],
     "prompt_number": 49
    },
    {
     "cell_type": "code",
     "collapsed": false,
     "input": [
      "#repeat string \n",
      "s1 = \" Again and \"\n",
      "print s1*3"
     ],
     "language": "python",
     "metadata": {},
     "outputs": [
      {
       "output_type": "stream",
       "stream": "stdout",
       "text": [
        " Again and  Again and  Again and \n"
       ]
      }
     ],
     "prompt_number": 30
    },
    {
     "cell_type": "code",
     "collapsed": false,
     "input": [
      "# String Indexing\n",
      "s1=\"123456789\"\n",
      "print s1[2] # note that arrays are 0 indexed in python"
     ],
     "language": "python",
     "metadata": {},
     "outputs": [
      {
       "output_type": "stream",
       "stream": "stdout",
       "text": [
        "3\n"
       ]
      }
     ],
     "prompt_number": 31
    },
    {
     "cell_type": "code",
     "collapsed": false,
     "input": [
      "# String Slice\n",
      "s1 = \"123456789\"\n",
      "print s1[0:0] # empty string\n",
      "print s1[0:1] # note, this starts at one and goes up to end index - \n",
      "print s1[0:2] # note, this starts at one and goes up to end index - \n",
      "print s1[0:3] # note, this starts at one and goes up to end index - \n",
      "print s1[0:3] # note, this starts at one and goes up to end index - "
     ],
     "language": "python",
     "metadata": {},
     "outputs": [
      {
       "output_type": "stream",
       "stream": "stdout",
       "text": [
        "\n",
        "1\n",
        "12\n",
        "123\n",
        "123\n"
       ]
      }
     ],
     "prompt_number": 37
    },
    {
     "cell_type": "code",
     "collapsed": false,
     "input": [
      "# string length\n",
      "s1 = \"123456789\"\n",
      "print len(s1)"
     ],
     "language": "python",
     "metadata": {},
     "outputs": [
      {
       "output_type": "stream",
       "stream": "stdout",
       "text": [
        "9\n"
       ]
      }
     ],
     "prompt_number": 38
    },
    {
     "cell_type": "code",
     "collapsed": false,
     "input": [
      "# find substring within string\n",
      "s1 = \"123456789\"\n",
      "print s1.find(\"45\")   # finds it at position 3\n",
      "print s1.find(\"Hello\") # can't find it, returns -1"
     ],
     "language": "python",
     "metadata": {},
     "outputs": [
      {
       "output_type": "stream",
       "stream": "stdout",
       "text": [
        "3\n",
        "-1\n"
       ]
      }
     ],
     "prompt_number": 41
    },
    {
     "cell_type": "code",
     "collapsed": false,
     "input": [
      "# replace string within string\n",
      "s1 = \"123456789\"\n",
      "print s1.replace('45','XX')"
     ],
     "language": "python",
     "metadata": {},
     "outputs": [
      {
       "output_type": "stream",
       "stream": "stdout",
       "text": [
        "123XX6789\n"
       ]
      }
     ],
     "prompt_number": 42
    },
    {
     "cell_type": "code",
     "collapsed": false,
     "input": [
      "# split, returns a list of strings.  It breaks apart the string on a specified substring\n",
      "s1 = \"123456789\"\n",
      "l1 = s1.split(\"45\") # note the splitting token is removed from the string on splitting\n",
      "print l1"
     ],
     "language": "python",
     "metadata": {},
     "outputs": [
      {
       "output_type": "stream",
       "stream": "stdout",
       "text": [
        "['123', '6789']\n"
       ]
      }
     ],
     "prompt_number": 45
    },
    {
     "cell_type": "code",
     "collapsed": false,
     "input": [],
     "language": "python",
     "metadata": {},
     "outputs": []
    }
   ],
   "metadata": {}
  }
 ]
}