{
 "metadata": {
  "name": "",
  "signature": "sha256:daf19f34f90cb02e2d3c4946b8a2224da863bd8c5972137aa4cb86e9455c7fd2"
 },
 "nbformat": 3,
 "nbformat_minor": 0,
 "worksheets": [
  {
   "cells": [
    {
     "cell_type": "markdown",
     "metadata": {},
     "source": [
      "<h1> Random Variables </h1>\n",
      "\n",
      "<p> To get the noise, we'll use the built-in random module, which provides several random number generators. The\n",
      "most basic one, also called random(), simply picks a random number with uniform probability from the interval </p>"
     ]
    },
    {
     "cell_type": "code",
     "collapsed": false,
     "input": [
      "import random\n"
     ],
     "language": "python",
     "metadata": {},
     "outputs": [],
     "prompt_number": 2
    },
    {
     "cell_type": "code",
     "collapsed": false,
     "input": [
      "print random.random() # Your results will obviously be different.\n",
      "   "
     ],
     "language": "python",
     "metadata": {},
     "outputs": [
      {
       "output_type": "stream",
       "stream": "stdout",
       "text": [
        "0.821023171203\n"
       ]
      }
     ],
     "prompt_number": 3
    },
    {
     "cell_type": "markdown",
     "metadata": {},
     "source": [
      "We can also draw a number from a normal (Gaussian) distribution\n",
      "(http://en.wikipedia.org/wiki/Normal_distribution), with specified mean and standard deviations:\n"
     ]
    },
    {
     "cell_type": "code",
     "collapsed": false,
     "input": [
      "random.normalvariate(0, 1) # Mean 0 and standard deviation 1\n"
     ],
     "language": "python",
     "metadata": {},
     "outputs": [
      {
       "metadata": {},
       "output_type": "pyout",
       "prompt_number": 4,
       "text": [
        "1.1220444766376532"
       ]
      }
     ],
     "prompt_number": 4
    },
    {
     "cell_type": "code",
     "collapsed": false,
     "input": [],
     "language": "python",
     "metadata": {},
     "outputs": []
    }
   ],
   "metadata": {}
  }
 ]
}