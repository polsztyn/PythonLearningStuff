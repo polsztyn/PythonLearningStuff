{
 "cells": [
  {
   "cell_type": "markdown",
   "metadata": {},
   "source": [
    "<h1> Moving through your code: loops and conditions </h1>\n",
    "\n",
    "<h2> For loops </h2>\n",
    "\n",
    "Of course, we don't usually want to operate on values one at a time; we're analyzing data, so we want to operate on\n",
    "multiple values together. The basic way to do this is a for loop.\n",
    "The idea of a for loop is to take a block of code, and repeat (iterate) it for each value in a list, in order. The simplest\n",
    "example would look like this:\n"
   ]
  },
  {
   "cell_type": "code",
   "execution_count": 16,
   "metadata": {},
   "outputs": [
    {
     "name": "stdout",
     "output_type": "stream",
     "text": [
      "2\n",
      "5\n",
      "7\n",
      "1\n",
      "101\n",
      "9\n",
      "9\n"
     ]
    }
   ],
   "source": [
    "some_numbers = [2, 5, 7, 1, 101, 9, 9]\n",
    "\n",
    "# loop over each element of list some_numbers and print value\n",
    "for x in some_numbers:\n",
    "    print x\n",
    "\n"
   ]
  },
  {
   "cell_type": "markdown",
   "metadata": {},
   "source": [
    "This is telling Python to assign each value in the list to the variable x, in order, and then print the value of x. The variable\n",
    "we assign in the loop is just an ordinary variable, and can have any name we want.\n",
    "\n",
    "Suppose we wanted to double each value and print it, we could do something like:\n"
   ]
  },
  {
   "cell_type": "code",
   "execution_count": 17,
   "metadata": {},
   "outputs": [
    {
     "name": "stdout",
     "output_type": "stream",
     "text": [
      "4\n",
      "10\n",
      "14\n",
      "2\n",
      "202\n",
      "18\n",
      "18\n"
     ]
    }
   ],
   "source": [
    "for x in some_numbers:\n",
    "    print 2*x\n",
    "    \n"
   ]
  },
  {
   "cell_type": "markdown",
   "metadata": {},
   "source": [
    "<h2> Sidebar: Indentation </h2>\n",
    "\n",
    "Indentation is very important, and is part of what makes Python different from many other languages. Python treats\n",
    "indents / whitespace the way many other languages treat curly braces. Notice how the lines below the for command are\n",
    "indented? That tells Python that those lines are part of the for-loop's block. It will repeat those lines, and only then go to\n",
    "the next line at the previous level of indentation.\n",
    "\n",
    "\n",
    "Your indentations need to be consistent. You can use tabs or a certain number of spaces, but you need to use the same\n",
    "throughout your program. The convention is to offset blocks with four spaces. The IPython Notebook, and most good\n",
    "programming text editors, will let you choose to automatically insert four spaces when you hit the TAB key. The IPython\n",
    "Notebook does this by default.\n",
    "\n",
    "But sometimes the mistake will be something more subtle, like this:\n",
    "\n"
   ]
  },
  {
   "cell_type": "code",
   "execution_count": 18,
   "metadata": {},
   "outputs": [
    {
     "ename": "IndentationError",
     "evalue": "expected an indented block (<ipython-input-18-95dabad31c4b>, line 3)",
     "output_type": "error",
     "traceback": [
      "\u001b[1;36m  File \u001b[1;32m\"<ipython-input-18-95dabad31c4b>\"\u001b[1;36m, line \u001b[1;32m3\u001b[0m\n\u001b[1;33m    print x\u001b[0m\n\u001b[1;37m        ^\u001b[0m\n\u001b[1;31mIndentationError\u001b[0m\u001b[1;31m:\u001b[0m expected an indented block\n"
     ]
    }
   ],
   "source": [
    "# bad code to show what happens when indentation is off\n",
    "for x in some_numbers:\n",
    "print x"
   ]
  },
  {
   "cell_type": "markdown",
   "metadata": {},
   "source": [
    "<h2> Looping Examples </h2>\n"
   ]
  },
  {
   "cell_type": "markdown",
   "metadata": {},
   "source": [
    "<h3> Looping over a list </h3>"
   ]
  },
  {
   "cell_type": "code",
   "execution_count": null,
   "metadata": {},
   "outputs": [],
   "source": [
    "# The code below computes and prints the mean value of an array of integers\n",
    "\n",
    "# create our data array\n",
    "some_numbers = [1, 2, 10, 99, 37, 45, 62, 78, 19]\n",
    "\n",
    "accumulator = 0\n",
    "for x in some_numbers:\n",
    "    accumulator += x\n",
    "\n",
    "print \"mean = \", float (accumulator)/len(some_numbers)\n",
    "    "
   ]
  },
  {
   "cell_type": "markdown",
   "metadata": {},
   "source": [
    "We can do something similar with dictionaries, too. Suppose we have a dictionary associating several stock market\n",
    "shares with their current value, and we wanted to find the average. It would look something like this:\n",
    "I"
   ]
  },
  {
   "cell_type": "markdown",
   "metadata": {},
   "source": [
    "<h3> Looping over a dictionary </h3>\n"
   ]
  },
  {
   "cell_type": "code",
   "execution_count": null,
   "metadata": {},
   "outputs": [],
   "source": [
    "# initialize our dictionary with stock prices\n",
    "prices = {\"AAPL\": 454.45, \"MSFT\": 32.70, \"AMZN\": 297.26, \"ORCL\": 32.92}\n",
    "\n",
    "total = 0.0\n",
    "for stock in prices: # When we use a for loop on a dictionary, it iterates over the *keys*\n",
    "    total += prices[stock]\n",
    "mean = total / len(prices)\n",
    "print \"The average stock price is\", mean\n",
    "\n"
   ]
  },
  {
   "cell_type": "markdown",
   "metadata": {},
   "source": [
    "Remember how we can get lists of dictionary keys and values? If we don't want to look up the dictionary value every\n",
    "time, we can write:\n"
   ]
  },
  {
   "cell_type": "code",
   "execution_count": null,
   "metadata": {},
   "outputs": [],
   "source": [
    " prices = {\"AAPL\": 454.45, \"MSFT\": 32.70, \"AMZN\": 297.26, \"ORCL\": 32.92}\n",
    "total = 0.0\n",
    "\n",
    "for price in prices.values(): # Get the list of values, and iterate over those\n",
    "    total += price\n",
    "mean = total / len(prices)\n",
    "print \"The average stock price is\", mean\n",
    "\n"
   ]
  },
  {
   "cell_type": "markdown",
   "metadata": {},
   "source": [
    "<h1> Conditions: If-else statements </h1>\n",
    "\n",
    "Another important thing we want to do is to have some code execute only if a certain condition is true. We do this using\n",
    "the if command, followed by a condition for the system to check. Everything indented under the if command will\n",
    "execute only if the condition is true.\n"
   ]
  },
  {
   "cell_type": "code",
   "execution_count": null,
   "metadata": {},
   "outputs": [],
   "source": [
    "if 5 > 0:\n",
    "    print \"True!\"\n"
   ]
  },
  {
   "cell_type": "markdown",
   "metadata": {},
   "source": [
    "We can follow an if with an else, giving code to execute if the condition is false.\n"
   ]
  },
  {
   "cell_type": "code",
   "execution_count": null,
   "metadata": {},
   "outputs": [],
   "source": [
    "a = 5\n",
    "b = 4\n",
    "if a < b:\n",
    "    print \"a smaller than b\" # this code won't get executed here.\n",
    "else:\n",
    "    print \"b greater than or equal to a\" # This code will.\n"
   ]
  },
  {
   "cell_type": "markdown",
   "metadata": {},
   "source": [
    "There's one last command that can go along with an if: elif, for else if. This means 'if the previous condition is false AND\n",
    "this condition is true'. For example"
   ]
  },
  {
   "cell_type": "code",
   "execution_count": null,
   "metadata": {},
   "outputs": [],
   "source": [
    "a = 5\n",
    "b = 5\n",
    "if a < b:\n",
    "    print \"a smaller than b\"\n",
    "elif a > b:\n",
    "    print \"a greater than b\"\n",
    "else:\n",
    "    print \"a and b are equal!\"\n"
   ]
  },
  {
   "cell_type": "markdown",
   "metadata": {},
   "source": [
    "If we have a few conditions we want to check together, we can combine them with the keywords and, meaning only if all\n",
    "the conditions are true; and or, meaning if any of the conditons are true.\n",
    "            "
   ]
  },
  {
   "cell_type": "code",
   "execution_count": null,
   "metadata": {},
   "outputs": [],
   "source": [
    "if 5 > 0 and 2 > 5:\n",
    "    print \"Never gonna happen\"\n",
    "else:\n",
    "    print \"Here\"\n"
   ]
  },
  {
   "cell_type": "code",
   "execution_count": null,
   "metadata": {},
   "outputs": [],
   "source": [
    "if 5 > 0 or 2 > 5:\n",
    "    print \"Now this will print\"\n",
    "else:\n",
    "    print \"Nope.\"\n"
   ]
  },
  {
   "cell_type": "markdown",
   "metadata": {},
   "source": [
    "<h2> Looking for specific elements in a List or Dictionary </h2>\n",
    "\n",
    "We can also check to see whether a certain item appears in a list or dictionary or not, using the in keyword. For\n",
    "example:"
   ]
  },
  {
   "cell_type": "code",
   "execution_count": null,
   "metadata": {},
   "outputs": [],
   "source": [
    "some_numbers = [1, 5, -2, 18, 6.312375]\n",
    "if 2 in some_numbers:\n",
    "    print \"Yes\"\n",
    "else:\n",
    "    print \"No.\"\n",
    "if 5 in some_numbers:\n",
    "    print \"And yes.\"\n"
   ]
  },
  {
   "cell_type": "code",
   "execution_count": null,
   "metadata": {},
   "outputs": [],
   "source": [
    "some_values = {\"One\": 1, \"Two\": 2, \"Three\": 3}\n",
    "if \"One\" in some_values:  # When looking inside dictionares we are looking at the Keys not the Values.\n",
    "    print \"Yes.\"\n",
    "    \n",
    "if 1 in some_values:\n",
    "    print \"And yes.\"\n",
    "else:\n",
    "    print \"But no\"\n"
   ]
  },
  {
   "cell_type": "markdown",
   "metadata": {},
   "source": [
    "<b> Notice that with dictionaries, the in keyword checks only the keys, not the values. </b>\n"
   ]
  },
  {
   "cell_type": "markdown",
   "metadata": {},
   "source": [
    "<h2><font color=blue>break</font> statement</h2>\n",
    "\n",
    "<p>The break statement, like in C, breaks out of the innermost enclosing for or while loop.</p>\n",
    "\n"
   ]
  },
  {
   "cell_type": "code",
   "execution_count": null,
   "metadata": {},
   "outputs": [],
   "source": [
    "# A very simple example\n",
    "\n",
    "for val in \"string\":\n",
    "    if val == \"i\":\n",
    "        break\n",
    "    print(val)\n",
    "\n",
    "print(\"The end\")"
   ]
  },
  {
   "cell_type": "code",
   "execution_count": null,
   "metadata": {},
   "outputs": [],
   "source": [
    "for x in range (1,3):\n",
    "    print \"Outerloop x = \" + str(x)\n",
    "    for n in range(1, 10):\n",
    "        print \"...... Innerloop n = \" + str(n)\n",
    "        if (n%5==0):\n",
    "            break # break exits from the innter loop, not the outer loop\n",
    "        print \"after break\"\n",
    "            \n"
   ]
  },
  {
   "cell_type": "markdown",
   "metadata": {},
   "source": [
    "<h2><font color=blue>else</font> statement in a loop</h2>\n",
    "\n",
    "<p>Loop statements may have an <b><font color=blue>else</b><font> clause; it is executed when the loop terminates through exhaustion of the list (with for) or when the condition becomes false (with while), but not when the loop is terminated by a break statement. </p>\n",
    "\n"
   ]
  },
  {
   "cell_type": "code",
   "execution_count": null,
   "metadata": {},
   "outputs": [],
   "source": [
    "n=0\n",
    "while (n<5):\n",
    "    print \"in while loop : n = \" + str(n)\n",
    "    n=n+1\n",
    "else:\n",
    "    print \"in else : n = \" + str(n) + \"\\n\" #these statement when n=5, because while's loop has terminated due to exhaustion.\n",
    "    \n",
    "\n",
    "\n",
    "for n in range (0,5):\n",
    "    print \"in for loop : n = \" + str(n)\n",
    "else:\n",
    "    print \"in else : n = \" + str(n) #these statement for loop is exhausted\n",
    "    \n",
    "\n",
    "n=0\n",
    "while (n<5):\n",
    "    print \"in while loop : n = \" + str(n)\n",
    "    n=n+1\n",
    "    if n==3:\n",
    "        break\n",
    "else:\n",
    "    print \"in else : n = \" + str(n) + \"\\n\" #this statemnt won't execute because break will break out of loop.\n"
   ]
  },
  {
   "cell_type": "markdown",
   "metadata": {},
   "source": [
    "<h2><font color=blue>continue</font> Statement</h2>\n",
    "\n",
    "<p>The <font color=blue>continue</font> statement, also borrowed from C, continues with the next iteration of the loop:<p>"
   ]
  },
  {
   "cell_type": "code",
   "execution_count": null,
   "metadata": {},
   "outputs": [],
   "source": [
    "# Program to show the use of continue statement inside loops\n",
    "\n",
    "for val in \"string\":\n",
    "    if val == \"i\":\n",
    "        continue\n",
    "    print(val)\n",
    "\n",
    "print(\"The end\")"
   ]
  },
  {
   "cell_type": "code",
   "execution_count": null,
   "metadata": {},
   "outputs": [],
   "source": [
    "for num in range(2, 10):\n",
    "    if num % 2 == 0:\n",
    "        print \"Found an even number\", num, \"\\n\"\n",
    "        continue # this will cause the anything that follows after this statment that is inside the for loop to be skipped,\n",
    "                 # basically it branches back to the for loop, skipping the two print statements below.\n",
    "    print \"Found a number\", num\n",
    "    print \"Life is good\\n\""
   ]
  },
  {
   "cell_type": "markdown",
   "metadata": {},
   "source": [
    "<h2><font color=blue>pass</font> Statement</h2>\n",
    "\n",
    "<p>The <font color=blue>pass</font> statement does nothing. It can be used when a statement is required syntactically but the program requires no action. For example:</p>"
   ]
  },
  {
   "cell_type": "code",
   "execution_count": null,
   "metadata": {},
   "outputs": [],
   "source": [
    "while True:\n",
    "    pass # Busy-wait for keyboard interrupt (Ctrl+C)"
   ]
  },
  {
   "cell_type": "markdown",
   "metadata": {},
   "source": [
    "This is commonly used for creating minimal classes:"
   ]
  },
  {
   "cell_type": "code",
   "execution_count": null,
   "metadata": {},
   "outputs": [],
   "source": [
    "class MyEmptyClass:\n",
    "    pass\n"
   ]
  },
  {
   "cell_type": "markdown",
   "metadata": {},
   "source": [
    "Another place pass can be used is as a place-holder for a function or conditional body when you are working on new code, allowing you to keep thinking at a more abstract level. The pass is silently ignored:"
   ]
  },
  {
   "cell_type": "code",
   "execution_count": null,
   "metadata": {},
   "outputs": [],
   "source": [
    "def initlog(*args):\n",
    "    pass   # Remember to implement this!\n"
   ]
  },
  {
   "cell_type": "markdown",
   "metadata": {
    "collapsed": true
   },
   "source": [
    "<h2><font color=blue>Enumerate</font> Statement</h2>\n",
    "\n",
    "\n",
    "<p><font color=blue>enumerate</font> is a built-in function of Python. Its usefulness can not be summarized in a single line. Yet most of the newcomers and even some advanced programmers are unaware of it. It allows us to loop over something and have an automatic counter. Here is an example:</p>"
   ]
  },
  {
   "cell_type": "code",
   "execution_count": null,
   "metadata": {},
   "outputs": [],
   "source": [
    "some_list = ['apple', 'banana', 'grapes', 'pear']\n",
    "for counter, value in enumerate(some_list):\n",
    "    print counter, value"
   ]
  },
  {
   "cell_type": "markdown",
   "metadata": {},
   "source": [
    "<p>And there is more! enumerate also accepts an optional argument which makes it even more useful. The optional argument allows us to tell enumerate from where to start the index. </p>"
   ]
  },
  {
   "cell_type": "code",
   "execution_count": null,
   "metadata": {},
   "outputs": [],
   "source": [
    "my_list = ['apple', 'banana', 'grapes', 'pear']\n",
    "for c, value in enumerate(my_list, 2):\n",
    "    print \"type c = \", type(c), \"type value = \" , type(value)\n",
    "    print c, value"
   ]
  },
  {
   "cell_type": "markdown",
   "metadata": {},
   "source": [
    "<p>You can also create tuples containing the index and list item using a list. Here is an example:</p>"
   ]
  },
  {
   "cell_type": "code",
   "execution_count": 19,
   "metadata": {},
   "outputs": [
    {
     "name": "stdout",
     "output_type": "stream",
     "text": [
      "[(1, 'apple'), (2, 'banana'), (3, 'grapes'), (4, 'pear')]\n",
      "type counter_list= <type 'list'>\n",
      "type counter_list[0]= <type 'tuple'>\n",
      "type counter_list[0][0]= <type 'int'>\n",
      "type counter_list[0][1]= <type 'str'>\n"
     ]
    }
   ],
   "source": [
    "my_list = ['apple', 'banana', 'grapes', 'pear']\n",
    "counter_list = list(enumerate(my_list, 1))\n",
    "\n",
    "print(counter_list)\n",
    "\n",
    "print \"type counter_list=\", type(counter_list)\n",
    "print \"type counter_list[0]=\", type(counter_list[0])\n",
    "print \"type counter_list[0][0]=\", type(counter_list[0][0])\n",
    "print \"type counter_list[0][1]=\", type(counter_list[0][1])"
   ]
  },
  {
   "cell_type": "code",
   "execution_count": null,
   "metadata": {},
   "outputs": [],
   "source": []
  }
 ],
 "metadata": {
  "kernelspec": {
   "display_name": "Python 2",
   "language": "python",
   "name": "python2"
  },
  "language_info": {
   "codemirror_mode": {
    "name": "ipython",
    "version": 2
   },
   "file_extension": ".py",
   "mimetype": "text/x-python",
   "name": "python",
   "nbconvert_exporter": "python",
   "pygments_lexer": "ipython2",
   "version": "2.7.15"
  }
 },
 "nbformat": 4,
 "nbformat_minor": 1
}
