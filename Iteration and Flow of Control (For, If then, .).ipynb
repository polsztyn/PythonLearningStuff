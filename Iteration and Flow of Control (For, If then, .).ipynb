{
 "metadata": {
  "name": "",
  "signature": "sha256:1dfcf34433c0a51eaaf2b90ce2a69116d0266f6afbc5d96e1ea344c4492887c3"
 },
 "nbformat": 3,
 "nbformat_minor": 0,
 "worksheets": [
  {
   "cells": [
    {
     "cell_type": "markdown",
     "metadata": {},
     "source": [
      "<h1> Moving through your code: loops and conditions </h1>\n",
      "\n",
      "<h2> For loops </h2>\n",
      "\n",
      "Of course, we don't usually want to operate on values one at a time; we're analyzing data, so we want to operate on\n",
      "multiple values together. The basic way to do this is a for loop.\n",
      "The idea of a for loop is to take a block of code, and repeat (iterate) it for each value in a list, in order. The simplest\n",
      "example would look like this:\n"
     ]
    },
    {
     "cell_type": "code",
     "collapsed": false,
     "input": [
      "some_numbers = [2, 5, 7, 1, 101, 9, 9]\n",
      "\n",
      "# loop over each element of list some_numbers and print value\n",
      "for x in some_numbers:\n",
      "    print x\n",
      "\n"
     ],
     "language": "python",
     "metadata": {},
     "outputs": [
      {
       "output_type": "stream",
       "stream": "stdout",
       "text": [
        "2\n",
        "5\n",
        "7\n",
        "1\n",
        "101\n",
        "9\n",
        "9\n"
       ]
      }
     ],
     "prompt_number": 1
    },
    {
     "cell_type": "markdown",
     "metadata": {},
     "source": [
      "This is telling Python to assign each value in the list to the variable x, in order, and then print the value of x. The variable\n",
      "we assign in the loop is just an ordinary variable, and can have any name we want.\n",
      "\n",
      "Suppose we wanted to double each value and print it, we could do something like:\n"
     ]
    },
    {
     "cell_type": "code",
     "collapsed": false,
     "input": [
      "for x in some_numbers:\n",
      "    print 2*x\n",
      "    \n"
     ],
     "language": "python",
     "metadata": {},
     "outputs": [
      {
       "output_type": "stream",
       "stream": "stdout",
       "text": [
        "4\n",
        "10\n",
        "14\n",
        "2\n",
        "202\n",
        "18\n",
        "18\n"
       ]
      }
     ],
     "prompt_number": 2
    },
    {
     "cell_type": "markdown",
     "metadata": {},
     "source": [
      "<h2> Sidebar: Indentation </h2>\n",
      "\n",
      "Indentation is very important, and is part of what makes Python different from many other languages. Python treats\n",
      "indents / whitespace the way many other languages treat curly braces. Notice how the lines below the for command are\n",
      "indented? That tells Python that those lines are part of the for-loop's block. It will repeat those lines, and only then go to\n",
      "the next line at the previous level of indentation.\n",
      "\n",
      "\n",
      "Your indentations need to be consistent. You can use tabs or a certain number of spaces, but you need to use the same\n",
      "throughout your program. The convention is to offset blocks with four spaces. The IPython Notebook, and most good\n",
      "programming text editors, will let you choose to automatically insert four spaces when you hit the TAB key. The IPython\n",
      "Notebook does this by default.\n",
      "\n",
      "But sometimes the mistake will be something more subtle, like this:\n",
      "\n"
     ]
    },
    {
     "cell_type": "code",
     "collapsed": false,
     "input": [
      "# bad code to show what happens when indentation is off\n",
      "for x in some_numbers:\n",
      "print x"
     ],
     "language": "python",
     "metadata": {},
     "outputs": [
      {
       "ename": "IndentationError",
       "evalue": "expected an indented block (<ipython-input-3-0e6662eb9b64>, line 3)",
       "output_type": "pyerr",
       "traceback": [
        "\u001b[1;36m  File \u001b[1;32m\"<ipython-input-3-0e6662eb9b64>\"\u001b[1;36m, line \u001b[1;32m3\u001b[0m\n\u001b[1;33m    print x\u001b[0m\n\u001b[1;37m        ^\u001b[0m\n\u001b[1;31mIndentationError\u001b[0m\u001b[1;31m:\u001b[0m expected an indented block\n"
       ]
      }
     ],
     "prompt_number": 3
    },
    {
     "cell_type": "markdown",
     "metadata": {},
     "source": [
      "<h2> Looping Examples </h2>\n"
     ]
    },
    {
     "cell_type": "markdown",
     "metadata": {},
     "source": [
      "<h3> Looping over a list </h3>"
     ]
    },
    {
     "cell_type": "code",
     "collapsed": false,
     "input": [
      "# The code below computes and prints the mean value of an array of integers\n",
      "\n",
      "# create our data array\n",
      "some_numbers = [1, 2, 10, 99, 37, 45, 62, 78, 19]\n",
      "\n",
      "accumulator = 0\n",
      "for x in some_numbers:\n",
      "    accumulator += x\n",
      "\n",
      "print \"mean = \", float (accumulator)/len(some_numbers)\n",
      "    "
     ],
     "language": "python",
     "metadata": {},
     "outputs": [
      {
       "output_type": "stream",
       "stream": "stdout",
       "text": [
        "mean =  39.2222222222\n"
       ]
      }
     ],
     "prompt_number": 12
    },
    {
     "cell_type": "markdown",
     "metadata": {},
     "source": [
      "We can do something similar with dictionaries, too. Suppose we have a dictionary associating several stock market\n",
      "shares with their current value, and we wanted to find the average. It would look something like this:\n",
      "I"
     ]
    },
    {
     "cell_type": "markdown",
     "metadata": {},
     "source": [
      "<h3> Looping over a dictionary </h3>\n"
     ]
    },
    {
     "cell_type": "code",
     "collapsed": false,
     "input": [
      "# initialize our dictionary with stock prices\n",
      "prices = {\"AAPL\": 454.45, \"MSFT\": 32.70, \"AMZN\": 297.26, \"ORCL\": 32.92}\n",
      "\n",
      "total = 0.0\n",
      "for stock in prices: # When we use a for loop on a dictionary, it iterates over the *keys*\n",
      "    total += prices[stock]\n",
      "mean = total / len(prices)\n",
      "print \"The average stock price is\", mean\n",
      "\n"
     ],
     "language": "python",
     "metadata": {},
     "outputs": [
      {
       "output_type": "stream",
       "stream": "stdout",
       "text": [
        "The average stock price is 204.3325\n"
       ]
      }
     ],
     "prompt_number": 18
    },
    {
     "cell_type": "markdown",
     "metadata": {},
     "source": [
      "Remember how we can get lists of dictionary keys and values? If we don't want to look up the dictionary value every\n",
      "time, we can write:\n"
     ]
    },
    {
     "cell_type": "code",
     "collapsed": false,
     "input": [
      " prices = {\"AAPL\": 454.45, \"MSFT\": 32.70, \"AMZN\": 297.26, \"ORCL\": 32.92}\n",
      "total = 0.0\n",
      "\n",
      "for price in prices.values(): # Get the list of values, and iterate over those\n",
      "    total += price\n",
      "mean = total / len(prices)\n",
      "print \"The average stock price is\", mean\n",
      "\n"
     ],
     "language": "python",
     "metadata": {},
     "outputs": [
      {
       "output_type": "stream",
       "stream": "stdout",
       "text": [
        "The average stock price is 204.3325\n"
       ]
      }
     ],
     "prompt_number": 19
    },
    {
     "cell_type": "markdown",
     "metadata": {},
     "source": [
      "<h1> Conditions: If-else statements </h1>\n",
      "\n",
      "Another important thing we want to do is to have some code execute only if a certain condition is true. We do this using\n",
      "the if command, followed by a condition for the system to check. Everything indented under the if command will\n",
      "execute only if the condition is true.\n"
     ]
    },
    {
     "cell_type": "code",
     "collapsed": false,
     "input": [
      "if 5 > 0:\n",
      "    print \"True!\"\n"
     ],
     "language": "python",
     "metadata": {},
     "outputs": [
      {
       "output_type": "stream",
       "stream": "stdout",
       "text": [
        "True!\n"
       ]
      }
     ],
     "prompt_number": 20
    },
    {
     "cell_type": "markdown",
     "metadata": {},
     "source": [
      "We can follow an if with an else, giving code to execute if the condition is false.\n"
     ]
    },
    {
     "cell_type": "code",
     "collapsed": false,
     "input": [
      "a = 5\n",
      "b = 4\n",
      "if a < b:\n",
      "    print \"a smaller than b\" # this code won't get executed here.\n",
      "else:\n",
      "    print \"b greater than or equal to a\" # This code will.\n"
     ],
     "language": "python",
     "metadata": {},
     "outputs": [
      {
       "output_type": "stream",
       "stream": "stdout",
       "text": [
        "b greater than or equal to a\n"
       ]
      }
     ],
     "prompt_number": 21
    },
    {
     "cell_type": "markdown",
     "metadata": {},
     "source": [
      "There's one last command that can go along with an if: elif, for else if. This means 'if the previous condition is false AND\n",
      "this condition is true'. For example"
     ]
    },
    {
     "cell_type": "code",
     "collapsed": false,
     "input": [
      "a = 5\n",
      "b = 5\n",
      "if a < b:\n",
      "    print \"a smaller than b\"\n",
      "elif a > b:\n",
      "    print \"a greater than b\"\n",
      "else:\n",
      "    print \"a and b are equal!\"\n"
     ],
     "language": "python",
     "metadata": {},
     "outputs": [
      {
       "output_type": "stream",
       "stream": "stdout",
       "text": [
        "a and b are equal!\n"
       ]
      }
     ],
     "prompt_number": 22
    },
    {
     "cell_type": "markdown",
     "metadata": {},
     "source": [
      "If we have a few conditions we want to check together, we can combine them with the keywords and, meaning only if all\n",
      "the conditions are true; and or, meaning if any of the conditons are true.\n",
      "            "
     ]
    },
    {
     "cell_type": "code",
     "collapsed": false,
     "input": [
      "if 5 > 0 and 2 > 5:\n",
      "    print \"Never gonna happen\"\n",
      "else:\n",
      "    print \"Here\"\n"
     ],
     "language": "python",
     "metadata": {},
     "outputs": [
      {
       "output_type": "stream",
       "stream": "stdout",
       "text": [
        "Here\n"
       ]
      }
     ],
     "prompt_number": 2
    },
    {
     "cell_type": "code",
     "collapsed": false,
     "input": [
      "if 5 > 0 or 2 > 5:\n",
      "    print \"Now this will print\"\n",
      "else:\n",
      "    print \"Nope.\"\n"
     ],
     "language": "python",
     "metadata": {},
     "outputs": [
      {
       "output_type": "stream",
       "stream": "stdout",
       "text": [
        "Now this will print\n"
       ]
      }
     ],
     "prompt_number": 3
    },
    {
     "cell_type": "markdown",
     "metadata": {},
     "source": [
      "<h2> Looking for specific elements in a List or Dictionary </h2>\n",
      "\n",
      "We can also check to see whether a certain item appears in a list or dictionary or not, using the in keyword. For\n",
      "example:"
     ]
    },
    {
     "cell_type": "code",
     "collapsed": false,
     "input": [
      "some_numbers = [1, 5, -2, 18, 6.312375]\n",
      "if 2 in some_numbers:\n",
      "    print \"Yes\"\n",
      "else:\n",
      "    print \"No.\"\n",
      "if 5 in some_numbers:\n",
      "    print \"And yes.\"\n"
     ],
     "language": "python",
     "metadata": {},
     "outputs": [
      {
       "output_type": "stream",
       "stream": "stdout",
       "text": [
        "No.\n",
        "And yes.\n"
       ]
      }
     ],
     "prompt_number": 4
    },
    {
     "cell_type": "code",
     "collapsed": false,
     "input": [
      "some_values = {\"One\": 1, \"Two\": 2, \"Three\": 3}\n",
      "if \"One\" in some_values:  # When looking inside dictionares we are looking at the Keys not the Values.\n",
      "    print \"Yes.\"\n",
      "    \n",
      "if 1 in some_values:\n",
      "    print \"And yes.\"\n",
      "else:\n",
      "    print \"But no\"\n"
     ],
     "language": "python",
     "metadata": {},
     "outputs": [
      {
       "output_type": "stream",
       "stream": "stdout",
       "text": [
        "Yes.\n",
        "But no\n"
       ]
      }
     ],
     "prompt_number": 7
    },
    {
     "cell_type": "markdown",
     "metadata": {},
     "source": [
      "<b> Notice that with dictionaries, the in keyword checks only the keys, not the values. </b>\n"
     ]
    },
    {
     "cell_type": "code",
     "collapsed": false,
     "input": [],
     "language": "python",
     "metadata": {},
     "outputs": []
    }
   ],
   "metadata": {}
  }
 ]
}