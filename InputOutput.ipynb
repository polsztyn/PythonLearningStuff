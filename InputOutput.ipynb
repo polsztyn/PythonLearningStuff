{
 "cells": [
  {
   "cell_type": "markdown",
   "metadata": {},
   "source": [
    "#Terminal IO \n",
    "\n",
    "Python's basic Terminal IO function is the command print"
   ]
  },
  {
   "cell_type": "code",
   "execution_count": 1,
   "metadata": {},
   "outputs": [
    {
     "name": "stdout",
     "output_type": "stream",
     "text": [
      "Hello World\n"
     ]
    }
   ],
   "source": [
    "print \"Hello World\""
   ]
  },
  {
   "cell_type": "code",
   "execution_count": 2,
   "metadata": {},
   "outputs": [
    {
     "name": "stdout",
     "output_type": "stream",
     "text": [
      "2\n"
     ]
    }
   ],
   "source": [
    "print 1 + 1"
   ]
  },
  {
   "cell_type": "code",
   "execution_count": 3,
   "metadata": {},
   "outputs": [
    {
     "name": "stdout",
     "output_type": "stream",
     "text": [
      "Hello World 2\n"
     ]
    }
   ],
   "source": [
    "print \"Hello World \" + str(1 + 1)\n"
   ]
  },
  {
   "cell_type": "code",
   "execution_count": 4,
   "metadata": {},
   "outputs": [
    {
     "name": "stdout",
     "output_type": "stream",
     "text": [
      "696\n"
     ]
    }
   ],
   "source": [
    "a = 696\n",
    "print a"
   ]
  },
  {
   "cell_type": "markdown",
   "metadata": {},
   "source": [
    "<h1> Reading Files from Disk </h1>"
   ]
  },
  {
   "attachments": {},
   "cell_type": "markdown",
   "metadata": {},
   "source": [
    "<p>A rule of thumb is that just loading data into the format that you want is going to be harder than expected. Here I'm going\n",
    "to walk through loading a typical data file step by step, dealing with all the issues as they come up.\n",
    "The first thing we need to do is open the file with the data, like this:</p>\n",
    "\n",
    "<table>\n",
    "    \n",
    "<th><td>Function</td><td>Description</td></th>\n",
    "<tr><td>format()</td><td>Converts a value to a formatted representation</td></tr>\n",
    "<tr><td>input()</td><td>Reads input from the console</td></tr>\n",
    "<tr><td>open()</td><td>Opens a file and returns a file object</td></tr>\n",
    "<tr><td>print()</td><td>Prints to a text stream or the console</td></tr>\n",
    "\n",
    "</table>\n"
   ]
  },
  {
   "cell_type": "markdown",
   "metadata": {},
   "source": [
    "<h2> Open a file with the <i> open </i> function </h2>"
   ]
  },
  {
   "cell_type": "code",
   "execution_count": 5,
   "metadata": {},
   "outputs": [
    {
     "ename": "IOError",
     "evalue": "[Errno 2] No such file or directory: 'MovieData.csv'",
     "output_type": "error",
     "traceback": [
      "\u001b[1;31m---------------------------------------------------------------------------\u001b[0m",
      "\u001b[1;31mIOError\u001b[0m                                   Traceback (most recent call last)",
      "\u001b[1;32m<ipython-input-5-a93af94f1abe>\u001b[0m in \u001b[0;36m<module>\u001b[1;34m()\u001b[0m\n\u001b[1;32m----> 1\u001b[1;33m \u001b[0mf\u001b[0m \u001b[1;33m=\u001b[0m \u001b[0mopen\u001b[0m\u001b[1;33m(\u001b[0m\u001b[1;34m\"MovieData.csv\"\u001b[0m\u001b[1;33m)\u001b[0m\u001b[1;33m\u001b[0m\u001b[0m\n\u001b[0m",
      "\u001b[1;31mIOError\u001b[0m: [Errno 2] No such file or directory: 'MovieData.csv'"
     ]
    }
   ],
   "source": [
    "f = open(\"MovieData.csv\")"
   ]
  },
  {
   "cell_type": "markdown",
   "metadata": {},
   "source": [
    "f is now storing our connection to the file. Python assumes that we've opened a text file, and knows that text files are\n",
    "divided into lines. CSV stands for comma-separated values but it is the accepted extension for all tabular data stored in\n",
    "text files whether or not columns are separated by commas, tabs, or any other character.\n",
    "Let's look at what the contents of the file look like by printing the first few rows:\n"
   ]
  },
  {
   "cell_type": "markdown",
   "metadata": {},
   "source": [
    "<h2> Read lines from a file sequentially with the <i>read</i> function </h2>"
   ]
  },
  {
   "cell_type": "code",
   "execution_count": null,
   "metadata": {},
   "outputs": [],
   "source": [
    "for i in range(5):\n",
    "    print f.readline()\n"
   ]
  },
  {
   "cell_type": "markdown",
   "metadata": {},
   "source": [
    "There are a few things going on here. First, notice the table structure of the data: the first row consists of column\n",
    "headers, and the next rows are data. The columns are separated by whitespace (actually tabs, as we'll see soon). Don't\n",
    "forget about the column headers -- you don't want to confuse them with the data (for example, by including 'Movie' in\n",
    "your list of movie titles).\n"
   ]
  },
  {
   "cell_type": "markdown",
   "metadata": {},
   "source": [
    "Now look at the code. The file object f internally stores what line it's on. Every time you call the readline() function, which\n",
    "is a built-in function of the file object it reads in the next line, then moves down a line. So if you call the function again:\n"
   ]
  },
  {
   "cell_type": "code",
   "execution_count": null,
   "metadata": {},
   "outputs": [],
   "source": [
    " print f.readline()"
   ]
  },
  {
   "cell_type": "markdown",
   "metadata": {},
   "source": [
    "<h2>Go back to beginning of a file with seek </h2>"
   ]
  },
  {
   "cell_type": "markdown",
   "metadata": {},
   "source": [
    "it'll go down to the next line, until it gets to the end of the file. If you want to 'reset' f and return to the top of the file, you\n",
    "do it with the .seek(0), which sets the file reader back to the beginning, like this:"
   ]
  },
  {
   "cell_type": "code",
   "execution_count": null,
   "metadata": {},
   "outputs": [],
   "source": [
    "f.seek(0)\n",
    "print f.readline()\n"
   ]
  },
  {
   "cell_type": "code",
   "execution_count": null,
   "metadata": {},
   "outputs": [],
   "source": [
    "# seek actually is more general purpose and treats text files like lists and the input argument specifies the index into file\n",
    "f.seek(3) # puts file read cursor at character 4 (lists are zero indexed)\n",
    "print f.readline()"
   ]
  },
  {
   "cell_type": "code",
   "execution_count": null,
   "metadata": {},
   "outputs": [],
   "source": [
    "f.seek(0);\n",
    "a = f.readline()\n",
    "print a\n",
    "print a[3:]"
   ]
  },
  {
   "cell_type": "markdown",
   "metadata": {},
   "source": [
    "Notice the spacing between the blocks of text -- this suggests that the data is tab-delimited. To check, let's view one\n",
    "line 'raw', without being formatted by the print function:\n"
   ]
  },
  {
   "cell_type": "code",
   "execution_count": null,
   "metadata": {},
   "outputs": [],
   "source": [
    "f.readline()\n"
   ]
  },
  {
   "cell_type": "markdown",
   "metadata": {},
   "source": [
    "See the <b> '\\t' </b> that appears where the gaps were before? That's the code for the tab character. Most of the time, columns in\n",
    "csv files are separated by commas (csv stands for \"comma-separated values\" after all), but not always. In this case,\n",
    "tabs were probably a good choice because some movie titles might have commas in the title.\n"
   ]
  },
  {
   "cell_type": "markdown",
   "metadata": {},
   "source": [
    "We don't want to just print rows one at a time -- we want to store them in a variable, where we can work with them. So\n",
    "the first thing we want to do is read the rows in and put them in a list, like this:\n"
   ]
  },
  {
   "cell_type": "markdown",
   "metadata": {},
   "source": [
    "<h2> Read a whole text file with <i>for loop</i> </h2>"
   ]
  },
  {
   "cell_type": "code",
   "execution_count": null,
   "metadata": {},
   "outputs": [],
   "source": [
    "rows = [] # List to store rows:\n",
    "f = open(\"MovieData.csv\")\n",
    "for row in f:   # iterates over all lines in file\n",
    "    rows.append(row)\n",
    "\n",
    "\n"
   ]
  },
  {
   "cell_type": "code",
   "execution_count": null,
   "metadata": {},
   "outputs": [],
   "source": [
    "print rows[9]"
   ]
  },
  {
   "cell_type": "code",
   "execution_count": null,
   "metadata": {},
   "outputs": [],
   "source": [
    "print len(rows) ## how many rows?"
   ]
  },
  {
   "cell_type": "code",
   "execution_count": null,
   "metadata": {},
   "outputs": [],
   "source": [
    "print rows[0] # first row is header"
   ]
  },
  {
   "cell_type": "code",
   "execution_count": null,
   "metadata": {},
   "outputs": [],
   "source": [
    "print rows[111]"
   ]
  },
  {
   "cell_type": "markdown",
   "metadata": {},
   "source": [
    "<h2> Parsing Text Lines Read with the string splite method </h2>\n",
    "\n",
    "Right now rows is just a list of strings, with each row just one long piece of raw text -- not data we can work with yet.\n",
    "The next step is to split each string on the dividing character, the tab. Splitting a string works like this:\n",
    "\n",
    "For our data, we want to split each row on the tab character, or ''. Then we add the split row to our list of rows:"
   ]
  },
  {
   "cell_type": "code",
   "execution_count": null,
   "metadata": {},
   "outputs": [],
   "source": [
    "rows = []\n",
    "f = open(\"MovieData.csv\")\n",
    "for raw_row in f:\n",
    "    row = raw_row.split(\"\\t\")  # each row is split up into sub strings, using the tab a a delimeter.\n",
    "    rows.append(row)\n",
    "\n",
    "print rows[0] # first line of file, split on tab results in a list of strings\n",
    "print rows[0][0]# first element of first line is a string.\n",
    "print rows[1]\n"
   ]
  },
  {
   "cell_type": "markdown",
   "metadata": {},
   "source": [
    "<h2> Convering read string values into numeric variables </h2>"
   ]
  },
  {
   "cell_type": "markdown",
   "metadata": {},
   "source": [
    "Notice that even the numbers above have quotation marks around them, meaning that they're being read in as text. On\n",
    "its own, Python doesn't know the difference between 'John Carter' and '66439100' -- both are just raw text. We want to\n",
    "convert the numeric columns to numbers, using casting, which we touched on last week. We do it like this:\n"
   ]
  },
  {
   "cell_type": "code",
   "execution_count": null,
   "metadata": {},
   "outputs": [],
   "source": [
    "f = open(\"MovieData.csv\")\n",
    "rows = []\n",
    "first_row = f.readline() # Save the first row, and move to the next one\n",
    "print first_row\n",
    "for raw_row in f: # This will actually start from the second row.\n",
    "    row = raw_row.split(\"\\t\")\n",
    "    row[3] = int(row[3]) # Convert Budget to number using explicit casting function int()\n",
    "    row[4] = int(row[4]) # \"\" US Gross\n",
    "    row[5] = int(row[5]) # \"\" Worldwide Gross\n",
    "    rows.append(row)\n"
   ]
  },
  {
   "cell_type": "markdown",
   "metadata": {},
   "source": [
    "We're still getting a similar error, except now the string that isn't converting is the word Unknown. It looks like when\n",
    "there's missing data, it isn't just left blank; instead, the table has the word \"Unknown\" in that space. That's pretty\n",
    "common; often missing records in a dataset will be filled with \"Unknown\" or \"NA\" or something similar.\n",
    "\n",
    "So how to get around this problem? There are a few things we can do -- we can use an if statement to check whether\n",
    "each record is equal to \"Unknown\" or not; or, we can catch the error using the try: ... except: statements.\n"
   ]
  },
  {
   "cell_type": "markdown",
   "metadata": {},
   "source": [
    "<h2> Using try-except to handle unexpected values in data file </h2>\n",
    "\n",
    "Now let's implement this as we read in the movie dataset. To be on the safe side, let's wrap all the int() conversions in\n",
    "try-except, since they will probably have the same problem. \n",
    "\n",
    "If a string can't be converted to a number, we'll replace it with <b>None</b>, a special value meaning (you guessed it) a missing value.\n"
   ]
  },
  {
   "cell_type": "code",
   "execution_count": null,
   "metadata": {},
   "outputs": [],
   "source": [
    "f = open(\"MovieData.csv\")\n",
    "rows = []\n",
    "first_row = f.readline() # Save the first row, and move to the next one\n",
    "print first_row\n",
    "for raw_row in f: # This will actually start from the second row.\n",
    "    row = raw_row.split(\"\\t\")\n",
    "    row[3] = int(row[3]) # Budget\n",
    "    try:\n",
    "        row[4] = int(row[4]) # US Gross\n",
    "    except:\n",
    "        row[4] = None  \n",
    "    try:\n",
    "        row[5] = int(row[5]) # Worldwide Gross\n",
    "    except:\n",
    "        row[5] = None\n",
    "    rows.append(row)\n"
   ]
  },
  {
   "cell_type": "code",
   "execution_count": null,
   "metadata": {},
   "outputs": [],
   "source": [
    "rows[2]"
   ]
  },
  {
   "cell_type": "markdown",
   "metadata": {},
   "source": [
    "Okay, looking good! However, putting try-except pairs around each line is cumbersome. In data analysis, good code\n",
    "and lazy code often go together, and the solution that requires the leasts repetitive typing is probably the more elegant\n",
    "one too. Notice how we're essentially repeating the same operation several times: converting to int when possible,\n",
    "otherwise assigning None. So let's wrap these all up in a function, and use it to do the conversion.\n"
   ]
  },
  {
   "cell_type": "code",
   "execution_count": null,
   "metadata": {},
   "outputs": [],
   "source": [
    "def convert_to_int(text):\n",
    "    try:\n",
    "        return int(text)\n",
    "    except:\n",
    "        return None\n"
   ]
  },
  {
   "cell_type": "code",
   "execution_count": null,
   "metadata": {},
   "outputs": [],
   "source": [
    "f = open(\"MovieData.csv\")\n",
    "rows = []\n",
    "first_row = f.readline() # Save the first row, and move to the next one\n",
    "print first_row\n",
    "for raw_row in f: # This will actually start from the second row.\n",
    "    row = raw_row.split(\"\\t\")\n",
    "    row[3] = convert_to_int(row[3]) # Budget\n",
    "    row[4] = convert_to_int(row[4]) # US Gross\n",
    "    row[5] = convert_to_int(row[5]) # Worldwide Gross\n",
    "    rows.append(row)\n"
   ]
  },
  {
   "cell_type": "code",
   "execution_count": null,
   "metadata": {},
   "outputs": [],
   "source": [
    " rows[1000]\n"
   ]
  },
  {
   "cell_type": "markdown",
   "metadata": {},
   "source": [
    "So how do we convert the date strings in our data to a datetime object. First, we have to split them, the same way as\n",
    "we split the rows. Let's remind ourselves what the strings look like:\n"
   ]
  },
  {
   "cell_type": "code",
   "execution_count": null,
   "metadata": {},
   "outputs": [],
   "source": [
    " import datetime as dt"
   ]
  },
  {
   "cell_type": "code",
   "execution_count": null,
   "metadata": {},
   "outputs": [],
   "source": [
    "print rows[1000]"
   ]
  },
  {
   "cell_type": "code",
   "execution_count": null,
   "metadata": {},
   "outputs": [],
   "source": [
    "test_date = \"03/01/91\"\n",
    "print test_date.split(\"/\")\n"
   ]
  },
  {
   "cell_type": "markdown",
   "metadata": {},
   "source": [
    "When we do a split where we know how many values we expect, we can immediately assign each to a variable, like\n",
    "this:\n"
   ]
  },
  {
   "cell_type": "code",
   "execution_count": null,
   "metadata": {},
   "outputs": [],
   "source": [
    "month, day, year = test_date.split(\"/\") # Assign three variables at once\n",
    "print year\n",
    "print month\n",
    "print day\n"
   ]
  },
  {
   "cell_type": "markdown",
   "metadata": {},
   "source": [
    "In a case like this where we know exactly how many characters each element consists of, we can treat the string like a\n",
    "list of characters\n"
   ]
  },
  {
   "cell_type": "code",
   "execution_count": null,
   "metadata": {},
   "outputs": [],
   "source": [
    "print test_date[:2] # First two characters, 0 and 1\n",
    "print test_date[2] # The third character, the '/'\n",
    "print test_date[3:5] # Characters 3 and 4\n",
    "print test_date[6:] # Character 6 to the end\n"
   ]
  },
  {
   "cell_type": "markdown",
   "metadata": {},
   "source": [
    "Of course, these are still strings. We need to convert them to integers, just like we did above:\n"
   ]
  },
  {
   "cell_type": "code",
   "execution_count": null,
   "metadata": {},
   "outputs": [],
   "source": [
    "month, day, year = test_date.split(\"/\") # Assign three variables at once\n",
    "# Convert strings to integers\n",
    "month = int(month)\n",
    "day = int(day)\n",
    "year = int(year)"
   ]
  },
  {
   "cell_type": "markdown",
   "metadata": {},
   "source": [
    "Note that the datetime object requires a four-digit year, while our data only has two-digit years. If we use only two digits,\n",
    "Python we'll assume we mean a date in the first century.\n"
   ]
  },
  {
   "cell_type": "code",
   "execution_count": null,
   "metadata": {},
   "outputs": [],
   "source": [
    "test_date = dt.datetime(year, month, day)\n",
    "print test_date.year\n",
    "if test_date.year > 1900:\n",
    "    print \"Date in the near past\"\n",
    "else:\n",
    "    print \"Date in the far past\"\n"
   ]
  },
  {
   "cell_type": "markdown",
   "metadata": {},
   "source": [
    "The solution is to manually add the century to the date:"
   ]
  },
  {
   "cell_type": "code",
   "execution_count": null,
   "metadata": {},
   "outputs": [],
   "source": [
    "year = year + 1900\n",
    "test_date = dt.datetime(year, month, day)\n",
    "print test_date.year\n",
    "if test_date.year > 1990:\n",
    "    print \"Date in the near past\"\n",
    "else:\n",
    "    print \"Date in the far past\""
   ]
  },
  {
   "cell_type": "markdown",
   "metadata": {},
   "source": [
    "However, a quick examination shows us that the data has dates on both sides of the millenium:"
   ]
  },
  {
   "cell_type": "code",
   "execution_count": null,
   "metadata": {},
   "outputs": [],
   "source": [
    "print rows[2]\n"
   ]
  },
  {
   "cell_type": "code",
   "execution_count": null,
   "metadata": {},
   "outputs": [],
   "source": [
    "print rows[1000]\n"
   ]
  },
  {
   "cell_type": "markdown",
   "metadata": {},
   "source": [
    "So we need a cutoff to figure out what to add to the year. Let's start with 50, and then check to see whether that works.\n",
    "Let's also wrap all the conversion in a function, to make the code more readable:"
   ]
  },
  {
   "cell_type": "code",
   "execution_count": null,
   "metadata": {},
   "outputs": [],
   "source": [
    "def make_date(date_str):\n",
    "    '''\n",
    "    turn a MM/DD/YY string into a datetime object.\n",
    "    '''\n",
    "    m, d, y = date_str.split(\"/\")\n",
    "    m = int(m)\n",
    "    d = int(m)\n",
    "    y = int(y)\n",
    "    if y > 50:\n",
    "        y += 1900\n",
    "    else:\n",
    "        y += 2000\n",
    "    return dt.datetime(y, m, d)\n"
   ]
  },
  {
   "cell_type": "code",
   "execution_count": null,
   "metadata": {},
   "outputs": [],
   "source": [
    "# Testing:\n",
    "print make_date(rows[1000][0])\n",
    "print make_date(rows[2][0])\n"
   ]
  },
  {
   "cell_type": "markdown",
   "metadata": {},
   "source": [
    "Now that we've tested the function, let's integrate it into the data reading. The code below should start to look pretty\n",
    "familiar by this point:\n"
   ]
  },
  {
   "cell_type": "code",
   "execution_count": null,
   "metadata": {},
   "outputs": [],
   "source": [
    "f = open(\"MovieData.csv\")\n",
    "rows = []\n",
    "first_row = f.readline() # Save the first row, and move to the next one\n",
    "print first_row\n",
    "for raw_row in f: # This will actually start from the second row.\n",
    "    row = raw_row.split(\"\\t\")\n",
    "    row[0] = make_date(row[0]) # Convert the date string to the datetime object\n",
    "    row[3] = convert_to_int(row[3]) # Budget\n",
    "    row[4] = convert_to_int(row[4]) # US Gross\n",
    "    row[5] = convert_to_int(row[5]) # Worldwide Gross\n",
    "    rows.append(row)\n"
   ]
  },
  {
   "cell_type": "code",
   "execution_count": null,
   "metadata": {},
   "outputs": [],
   "source": [
    "# Test on some arbitrary rows.\n",
    "print rows[1000]\n",
    "print rows[2022]"
   ]
  },
  {
   "cell_type": "markdown",
   "metadata": {},
   "source": [
    "<h2>List Comprehension : slicing Up Tabular Data by Column using special [] notation </h2>\n",
    "\n",
    "So we actually have all the records in the format we want them; now, how do we do analysis on them?\n",
    "\n",
    "By and large, we want to do analysis column-wise: for example, finding the average film budget or gross -- or initially in\n",
    "this case, finding the range of dates. To do this here, we need to create new lists of only the rows we want -- think of it\n",
    "as selecting columns.\n",
    "\n",
    "We can do this in a for loop, by creating a new list and then iterating over all the rows, and adding only the value we're\n",
    "interested in to the list, like this:"
   ]
  },
  {
   "cell_type": "code",
   "execution_count": null,
   "metadata": {},
   "outputs": [],
   "source": [
    "all_dates = []\n",
    "for row in rows:\n",
    "    all_dates.append(row[0])\n",
    "print len(all_dates) # Number of records\n",
    "print all_dates[0] # First record\n"
   ]
  },
  {
   "cell_type": "markdown",
   "metadata": {},
   "source": [
    "This sort of thing comes up often enough that Python provides a specific idiom for creating lists from other lists, called\n",
    "<b>list comprehension</b>. It puts the for loop inside of the square brackets. It works like this:\n"
   ]
  },
  {
   "cell_type": "code",
   "execution_count": null,
   "metadata": {},
   "outputs": [],
   "source": [
    "all_dates = [row[0] for row in rows] # List comprehension\n",
    "print len(all_dates) # Number of records\n",
    "print all_dates[0] # First record\n"
   ]
  },
  {
   "cell_type": "markdown",
   "metadata": {},
   "source": [
    "<h3>Built in list functions min and max </h3>\n",
    "\n",
    "As you can see, this produces results that are identical to the for loop method above in more compact code.\n",
    "\n",
    "Now that we have our list of dates, we can quickly use built-in functions min and max to find the start and stop points\n",
    "of the data.\n",
    "   "
   ]
  },
  {
   "cell_type": "code",
   "execution_count": null,
   "metadata": {},
   "outputs": [],
   "source": [
    "\n",
    "print \"Earliest date: \", min(all_dates)\n",
    "print \"Latest date: \", max(all_dates)\n"
   ]
  },
  {
   "cell_type": "markdown",
   "metadata": {},
   "source": [
    "Uh-oh, it looks like there are pre-1950s movies the dataset, so splitting on 1950 won't work.\n",
    "\n",
    "Let's go for something more sure: if the two-digit year is greater than 13, we'll assume it was a 20th-century year. Below\n",
    "13 and it's a 21st-century year. Let's revise the code accordingly.\n"
   ]
  },
  {
   "cell_type": "code",
   "execution_count": null,
   "metadata": {},
   "outputs": [],
   "source": [
    "def make_date(date_str):\n",
    "    '''\n",
    "    Turn a MM/DD/YY string into a datetime object\n",
    "    '''\n",
    "    m, d, y = date_str.split(\"/\")\n",
    "    m = int(m)\n",
    "    d = int(m)\n",
    "    y = int(y)\n",
    "    if y > 13:\n",
    "        y += 1900\n",
    "    else:\n",
    "        y += 2000\n",
    "    return dt.datetime(y, m, d)\n"
   ]
  },
  {
   "cell_type": "code",
   "execution_count": null,
   "metadata": {},
   "outputs": [],
   "source": [
    "f = open(\"MovieData.csv\")\n",
    "rows = []\n",
    "first_row = f.readline() # Save the first row, and move to the next one\n",
    "print first_row\n",
    "for raw_row in f: # This will actually start from the second row.\n",
    "    row = raw_row.split(\"\\t\")\n",
    "    row[0] = make_date(row[0])\n",
    "    row[3] = convert_to_int(row[3]) # Budget\n",
    "    row[4] = convert_to_int(row[4]) # US Gross\n",
    "    row[5] = convert_to_int(row[5]) # Worldwide Gross\n",
    "    rows.append(row)\n"
   ]
  },
  {
   "cell_type": "markdown",
   "metadata": {},
   "source": [
    "Now let's just repeat the list comprehension to get the new dates:"
   ]
  },
  {
   "cell_type": "code",
   "execution_count": null,
   "metadata": {},
   "outputs": [],
   "source": [
    "all_dates = [row[0] for row in rows]\n",
    "print \"Earliest date: \", min(all_dates)\n",
    "print \"Latest date: \", max(all_dates)\n"
   ]
  },
  {
   "cell_type": "markdown",
   "metadata": {},
   "source": [
    "That 2013-12-12 still looks suspect, since the file was created earlier than that. Are we sure that it should be 2013 and\n",
    "not 1913? So let's take a closer look at the row it appears in -- but first we need to find it. We can do that by iterating\n",
    "over all the rows:\n"
   ]
  },
  {
   "cell_type": "code",
   "execution_count": null,
   "metadata": {},
   "outputs": [],
   "source": [
    "target_date = max(all_dates)\n",
    "for row in rows:\n",
    "    if row[0] == target_date:\n",
    "        print row\n"
   ]
  },
  {
   "cell_type": "markdown",
   "metadata": {},
   "source": [
    "We know that The Hobbit couldn't have been released in 1913, since the book it's based on was still many years in the\n",
    "future. In fact, however, a quick Google search will us that 'The Hobbit: There and Back Again', the third in the Hobbit\n",
    "trilogy, won't be released until December of 2014. This row seems to be an earlier estimate, possibly from when The\n",
    "Hobbit was meant to be only two movies instead of three.\n",
    "This is a reminder that parsing the data correctly doesn't ensure that the data is a correct reflection of the world. If\n",
    "something looks wrong or weird in the data, it's worth following up on and examining closely.\n",
    "For completeness's sake, let's check and see what the earliest movie is in the dataset -- to make sure we aren't\n",
    "recording the future release date (for example) of a movie slated for 2015:\n"
   ]
  },
  {
   "cell_type": "code",
   "execution_count": null,
   "metadata": {},
   "outputs": [],
   "source": [
    "target_date = min(all_dates)\n",
    "for row in rows:\n",
    "    if row[0] == target_date:\n",
    "        print row"
   ]
  },
  {
   "cell_type": "markdown",
   "metadata": {},
   "source": [
    "This looks correct; a quick Google search will confirm that 'Birth of a Nation' was indeed released in 1915.\n",
    "Now that we've roughly verified the dates, we can go on to analyze some of the other fields, such as the budgets:\n"
   ]
  },
  {
   "cell_type": "code",
   "execution_count": null,
   "metadata": {},
   "outputs": [],
   "source": [
    "all_budgets = [row[3] for row in rows]\n",
    "print len(all_budgets)\n"
   ]
  },
  {
   "cell_type": "markdown",
   "metadata": {},
   "source": [
    "If we have all the budgets, we can analyze them like we discussed last week. For example, let's recreate the function\n",
    "that computes the mean of a list:\n"
   ]
  },
  {
   "cell_type": "code",
   "execution_count": null,
   "metadata": {},
   "outputs": [],
   "source": [
    "def find_mean(num_list):\n",
    "    '''\n",
    "    Find the average of num_list\n",
    "    '''\n",
    "    total = 0.0\n",
    "    for x in num_list:\n",
    "        total += x\n",
    "    return total / len(num_list)\n",
    "\n"
   ]
  },
  {
   "cell_type": "code",
   "execution_count": null,
   "metadata": {},
   "outputs": [],
   "source": [
    "find_mean(all_budgets)\n"
   ]
  },
  {
   "cell_type": "code",
   "execution_count": null,
   "metadata": {},
   "outputs": [],
   "source": [
    "#We can also use min and max:\n",
    "print min(all_budgets)\n",
    "print max(all_budgets)"
   ]
  },
  {
   "cell_type": "markdown",
   "metadata": {},
   "source": [
    "<h1>Writing Files </h1>\n",
    "\n",
    "Finally, let's see how to output data. The first step is to open a new file to write some output to. We do it like this:"
   ]
  },
  {
   "cell_type": "code",
   "execution_count": null,
   "metadata": {},
   "outputs": [],
   "source": [
    "f = open(\"My_file.txt\", \"wb\") # Open a file\n",
    "f.close() # And immediately close it.\n"
   ]
  },
  {
   "cell_type": "markdown",
   "metadata": {},
   "source": [
    "<p>Notice the 'wb' after the comma: the 'w' means write -- it tells Python that you're opening a file for writing. By default, if\n",
    "the file doesn't exist, Python will create it. </p>\n",
    "\n",
    "<p> <b>warning:</b> If the file does exist, this will overwrite its entire contents. Be careful with your file naming, since you won't get\n",
    "a warning that you've overwriting an existing file. </p>\n",
    "\n",
    "<p>The <b>b</b> means binary. On Mac and Linux, this doesn't make a difference, but on Windows machines it makes sure the\n",
    "file only takes the exact input you give it, and doesn't add any additional characters to the end of the line like it would\n",
    "for a text file. It's good practice to include the b for cross-platform compatibility.</p>\n",
    "\n"
   ]
  },
  {
   "cell_type": "markdown",
   "metadata": {},
   "source": [
    "Now that you've opened a file, you can write to it. For practice, let's write some sample text to a new file. It's very\n",
    "important to close a file once you're done with it -- otherwise,the data you wrote to it may not be saved.\n"
   ]
  },
  {
   "cell_type": "code",
   "execution_count": null,
   "metadata": {},
   "outputs": [],
   "source": [
    "f = open(\"My_file.txt\", \"wb\")\n",
    "f.write(\"Hello world.\")\n",
    "f.close()\n"
   ]
  },
  {
   "cell_type": "markdown",
   "metadata": {},
   "source": [
    "Open the file up in a text editor. You'll see that it contains the \"Hello world.\" string we put there. Let's try another one:"
   ]
  },
  {
   "cell_type": "code",
   "execution_count": null,
   "metadata": {},
   "outputs": [],
   "source": [
    "f = open(\"My_file.txt\", \"wb\")\n",
    "f.write(\"Here is some text.\")\n",
    "f.write(\"And here is some more text.\")\n",
    "f.close()\n"
   ]
  },
  {
   "cell_type": "markdown",
   "metadata": {},
   "source": [
    "Open the file; you'll notice that we've overwritten the previous text, and that there's no line break between the two lines\n",
    "we wrote to the file; we need to insert them manually, using the '\\n' character, the special character for a line break.\n"
   ]
  },
  {
   "cell_type": "code",
   "execution_count": null,
   "metadata": {},
   "outputs": [],
   "source": [
    "f = open(\"My_file.txt\", \"wb\")\n",
    "f.write(\"Here is some text.\\n\")\n",
    "f.write(\"And here is some more text.\\n\\nThis text should have an empty line above it.\")\n",
    "f.close()\n"
   ]
  },
  {
   "cell_type": "markdown",
   "metadata": {},
   "source": [
    "Let's try to write some actual data. Suppose we have a few rows of coordinates, just some x and y values:\n"
   ]
  },
  {
   "cell_type": "code",
   "execution_count": null,
   "metadata": {},
   "outputs": [],
   "source": [
    "data = [\n",
    "[1, 2],\n",
    "[3, 5],\n",
    "[2, 2],\n",
    "[4, 3]\n",
    "]\n"
   ]
  },
  {
   "cell_type": "code",
   "execution_count": null,
   "metadata": {},
   "outputs": [],
   "source": [
    "f = open(\"my_data.csv\", \"wb\")\n",
    "for row in data:\n",
    "    f.write(row)\n",
    "    f.write(\"\\n\")\n",
    "f.close()\n"
   ]
  },
  {
   "cell_type": "markdown",
   "metadata": {},
   "source": [
    "as you can see, we need to translate the list into a string to be able to write it. Let's try that again:\n"
   ]
  },
  {
   "cell_type": "code",
   "execution_count": null,
   "metadata": {},
   "outputs": [],
   "source": [
    "f = open(\"my_data.csv\", \"wb\")\n",
    "for row in data:\n",
    "    f.write(str(row)) #converts list to a string\n",
    "    f.write(\"\\n\")\n",
    "f.close()\n"
   ]
  },
  {
   "cell_type": "markdown",
   "metadata": {},
   "source": [
    "Open the file and you'll see that it's indeed written the lists, square brackets and all. Almost there, but we don't want\n",
    "the square brackets, just the data. So instead of converting the entire list to a string at once, we'll convert one record at\n",
    "a time. And let's add some column headings while we're at it.\n"
   ]
  },
  {
   "cell_type": "code",
   "execution_count": null,
   "metadata": {},
   "outputs": [],
   "source": [
    "f = open(\"my_data.csv\", \"wb\")\n",
    "f.write(\"x, y\\n\") # The column headings.\n",
    "for row in data:\n",
    "    f.write(str(row[0])) # Write the first value\n",
    "    f.write(\",\") # Add the comma to separate the values\n",
    "    f.write(str(row[1])) # Write the second value\n",
    "    f.write(\"\\n\") # Add the line break\n",
    "f.close()"
   ]
  },
  {
   "cell_type": "markdown",
   "metadata": {},
   "source": [
    "Now we've got pretty much exactly what we wanted. The downside is that is was cumbersome to code, and would get\n",
    "more so the more columns we'd add. Fortunately, Python comes with a built-in module for writing and reading csv data,\n",
    "called csv. Pretty easy name to remember.\n",
    "\n",
    "First, we need to import it:\n",
    "\n"
   ]
  },
  {
   "cell_type": "code",
   "execution_count": null,
   "metadata": {},
   "outputs": [],
   "source": [
    "import csv\n",
    "\n"
   ]
  },
  {
   "cell_type": "markdown",
   "metadata": {},
   "source": [
    "To output using the csv module, we first create a file, then create a CSV Writer with the file object, like this:\n"
   ]
  },
  {
   "cell_type": "code",
   "execution_count": null,
   "metadata": {},
   "outputs": [],
   "source": [
    "f = open(\"my_data.csv\", \"wb\")\n",
    "my_writer = csv.writer(f) # Create the CSV writer connected to f\n"
   ]
  },
  {
   "cell_type": "markdown",
   "metadata": {},
   "source": [
    "my_writer now holds a CSV writer object; think of it as a translator from Python data to how we want the data stored in\n",
    "the CSV file. Unlike the basic file object, the CSV writer knows how to write entire lists as a single line of CSV data. So:"
   ]
  },
  {
   "cell_type": "code",
   "execution_count": null,
   "metadata": {},
   "outputs": [],
   "source": [
    "for row in data:\n",
    "    my_writer.writerow(row)\n",
    "f.close()\n"
   ]
  },
  {
   "cell_type": "markdown",
   "metadata": {},
   "source": [
    "You'll see that the file has written exactly the way we want it to, with fewer lines of code. Just one thing is missing -- the\n",
    "column headers.\n"
   ]
  },
  {
   "cell_type": "code",
   "execution_count": null,
   "metadata": {},
   "outputs": [],
   "source": [
    "f = open(\"my_data.csv\", \"wb\")\n",
    "my_writer = csv.writer(f)\n",
    "header = [\"x\", \"y\"]\n",
    "my_writer.writerow(header)\n",
    "for row in data:\n",
    "    my_writer.writerow(row)\n",
    "f.close()\n"
   ]
  },
  {
   "cell_type": "markdown",
   "metadata": {},
   "source": [
    "The csv module can also be used as a reader, which works similarly; here, the Reader object acts as a translator from\n",
    "file text to Python lists.\n"
   ]
  },
  {
   "cell_type": "code",
   "execution_count": null,
   "metadata": {},
   "outputs": [],
   "source": [
    "f = open(\"my_data.csv\") # For reading, not writing this time.\n",
    "my_reader = csv.reader(f)\n",
    "new_rows = [row for row in my_reader]\n",
    "f.close()\n",
    "\n",
    "for row in new_rows:\n",
    "    print row\n"
   ]
  },
  {
   "cell_type": "code",
   "execution_count": null,
   "metadata": {},
   "outputs": [],
   "source": [
    "stopWords = [] # List to store rows:\n",
    "f = open(\"stopwords.txt\")\n",
    "for stopWord in f:   # iterates over all lines in file\n",
    "    stopWords.append(stopWord.upper().strip())\n"
   ]
  },
  {
   "cell_type": "code",
   "execution_count": null,
   "metadata": {},
   "outputs": [],
   "source": [
    "print len(stopWords)\n",
    "print stopWords[0]\n",
    "print stopWords[2]\n",
    "print stopWords[5]\n",
    "\n",
    "if (\"I\" in stopWords):\n",
    "    print \"hello\""
   ]
  },
  {
   "cell_type": "code",
   "execution_count": null,
   "metadata": {},
   "outputs": [],
   "source": [
    "import re\n",
    "a = re.findall(r\"[=]+|[\\d]+\", \"================================== 14826 ==================================\")"
   ]
  },
  {
   "cell_type": "code",
   "execution_count": null,
   "metadata": {},
   "outputs": [],
   "source": [
    "a[1]"
   ]
  },
  {
   "cell_type": "code",
   "execution_count": null,
   "metadata": {},
   "outputs": [],
   "source": [
    "import re\n",
    "\n",
    "def check_for_new_doc(doc_line):\n",
    "        # the new document string looks like this\n",
    "        # ================================== 14826 ==================================\n",
    "        # where the number is a document id.\n",
    "\n",
    "        # first we parse the to see if it looks like a new document string \n",
    "        doc_line_tokes = re.findall(r\"[=]+|[\\d]+\", doc_line)\n",
    "        if len(doc_line_tokes) == 3:\n",
    "                try:\n",
    "                    new_file_id = int(doc_line_tokes[1])\n",
    "                except:\n",
    "                    new_file_id = -1\n",
    "                else:\n",
    "                    new_file_id\n",
    "        else:\n",
    "                new_file_id = -1\n",
    "                \n",
    "        return new_file_id\n"
   ]
  },
  {
   "cell_type": "code",
   "execution_count": null,
   "metadata": {},
   "outputs": [],
   "source": [
    "z = check_for_new_doc(\"================================== 09978 ==================================\");"
   ]
  },
  {
   "cell_type": "code",
   "execution_count": null,
   "metadata": {},
   "outputs": [],
   "source": [
    "current_doc_id = 1\n",
    "if current_doc_id is None:\n",
    "    print \"None\"\n",
    "else:\n",
    "    print \"Some\""
   ]
  },
  {
   "cell_type": "code",
   "execution_count": null,
   "metadata": {},
   "outputs": [],
   "source": [
    "print z"
   ]
  },
  {
   "cell_type": "code",
   "execution_count": null,
   "metadata": {},
   "outputs": [],
   "source": [
    "b"
   ]
  },
  {
   "cell_type": "code",
   "execution_count": null,
   "metadata": {},
   "outputs": [],
   "source": [
    "x = \"Hello\\tWorld\"\n",
    "print x"
   ]
  },
  {
   "cell_type": "code",
   "execution_count": null,
   "metadata": {},
   "outputs": [],
   "source": [
    "x.split(\"\\t\")"
   ]
  },
  {
   "cell_type": "markdown",
   "metadata": {},
   "source": [
    "<h2>Specifying a File Path</h2>\n",
    "\n",
    "<p>There be monsters when ever you specify a directory path.  The operating system that python is running under has a profound impact on how you specify a file path</p>\n",
    "\n",
    "<p>In Python, there are a number of functions in the os.path module that change forward slashes in a string to the appropriate filename separator for the platform that you are on. One of these function is os.path.normpath()The trick is to enter all of your filename strings using forward slashes, and then let os.path.normpath() change them to backslashes for you, this way.</p>"
   ]
  },
  {
   "cell_type": "code",
   "execution_count": 6,
   "metadata": {},
   "outputs": [
    {
     "name": "stdout",
     "output_type": "stream",
     "text": [
      "c:\\test\\bob.txt\n"
     ]
    }
   ],
   "source": [
    "# the code below should work on a Linux or Window platform.  I haven't verified that this works on Linux but \n",
    "# I have verified that it works on Windows.   \n",
    "import os.path\n",
    "myDirname = os.path.normpath(\"c:/test/bob.txt\")\n",
    "print myDirname # notice in the output window that if you ran this on a Windows platform the slashes are reversed.\n",
    "f = open(myDirname, \"wb\")\n",
    "f.write(\"Here is some text.\\n\")\n",
    "f.write(\"And here is some more text.\\n\\nThis text should have an empty line above it.\")\n",
    "f.close()\n"
   ]
  },
  {
   "cell_type": "code",
   "execution_count": null,
   "metadata": {},
   "outputs": [],
   "source": []
  }
 ],
 "metadata": {
  "kernelspec": {
   "display_name": "Python 2",
   "language": "python",
   "name": "python2"
  },
  "language_info": {
   "codemirror_mode": {
    "name": "ipython",
    "version": 2
   },
   "file_extension": ".py",
   "mimetype": "text/x-python",
   "name": "python",
   "nbconvert_exporter": "python",
   "pygments_lexer": "ipython2",
   "version": "2.7.15"
  }
 },
 "nbformat": 4,
 "nbformat_minor": 1
}
