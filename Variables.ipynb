{
 "cells": [
  {
   "cell_type": "markdown",
   "metadata": {},
   "source": [
    "<h1>Python Identifiers</h1>\n",
    "\n",
    "<p>\n",
    "A Python identifier is a name used to identify a variable, function, class, module or other object. An identifier starts with a letter A to Z or a to z or an underscore (_) followed by zero or more letters, underscores and digits (0 to 9).</p>\n",
    "\n",
    "<p>\n",
    "Python does not allow punctuation characters such as @, $, and % within identifiers. Python is a case sensitive programming language. Thus, Manpower and manpower are two different identifiers in Python.\n",
    "</p>\n",
    "\n",
    "<p>\n",
    "Here are naming conventions for Python identifiers −\n",
    "</p>\n",
    "\n",
    "<list>\n",
    "<li>\n",
    "Class names start with an uppercase letter. All other identifiers start with a lowercase letter.\n",
    "</li>\n",
    "<li>\n",
    "Starting an identifier with a single leading underscore indicates that the identifier is private.\n",
    "</li>\n",
    "<li>\n",
    "Starting an identifier with two leading underscores indicates a strongly private identifier.\n",
    "</li>\n",
    "<li>\n",
    "If the identifier also ends with two trailing underscores, the identifier is a language-defined special name.\n",
    "</li>\n",
    "</list>\n",
    "\n",
    "<hr style=\"height:2px;color:blue\">\n",
    "\n"
   ]
  },
  {
   "attachments": {},
   "cell_type": "markdown",
   "metadata": {},
   "source": [
    "<h1>Reserved Words</h1>\n",
    "\n",
    "<p>The following list shows the Python keywords. These are reserved words and you cannot use them as constant or variable or any other identifier names. All the Python keywords contain lowercase letters only.</p>\n",
    "\n",
    "<table>\n",
    "<tr><td>and</td><td>exec</td><td>not</td></tr>\n",
    "<tr><td>assert</td><td>finally</td><td>or</td></tr>\n",
    "<tr><td>break</td><td>for</td><td>pass</td></tr>\n",
    "<tr><td>class</td><td>from</td><td>print</td></tr>\n",
    "<tr><td>continue</td><td>global</td><td>raise</td></tr>\n",
    "<tr><td>def</td><td>if</td><td>return</td></tr>\n",
    "<tr><td>del</td><td>import</td><td>try</td></tr>\n",
    "<tr><td>elif</td><td>in</td><td>while</td></tr>\n",
    "<tr><td>else</td><td>is</td><td>with</td></tr>\n",
    "<tr><td>except</td><td>lambda</td><td>yield</td></tr>\n",
    "\n",
    "</table>\n",
    "\n",
    "<hr style=\"height:2px;color:blue\">\n"
   ]
  },
  {
   "cell_type": "markdown",
   "metadata": {},
   "source": [
    "<h1>Lines and Indentation</h1>\n",
    "\n",
    "<p>Python provides no braces to indicate blocks of code for class and function definitions or flow control. Blocks of code are denoted by line indentation, which is rigidly enforced.</p>\n",
    "\n",
    "<p>\n",
    "The number of spaces in the indentation is variable, but all statements within the block must be indented the same amount. For example −\n",
    "</p>\n"
   ]
  },
  {
   "cell_type": "code",
   "execution_count": 190,
   "metadata": {},
   "outputs": [
    {
     "name": "stdout",
     "output_type": "stream",
     "text": [
      "True\n"
     ]
    }
   ],
   "source": [
    "if True:\n",
    "   print \"True\"\n",
    "else:\n",
    "   print \"False\""
   ]
  },
  {
   "cell_type": "markdown",
   "metadata": {},
   "source": [
    "However, the following block generates an error −"
   ]
  },
  {
   "cell_type": "code",
   "execution_count": 191,
   "metadata": {},
   "outputs": [
    {
     "ename": "IndentationError",
     "evalue": "expected an indented block (<ipython-input-191-d606b8800b57>, line 2)",
     "output_type": "error",
     "traceback": [
      "\u001b[1;36m  File \u001b[1;32m\"<ipython-input-191-d606b8800b57>\"\u001b[1;36m, line \u001b[1;32m2\u001b[0m\n\u001b[1;33m    print \"Answer\"\u001b[0m\n\u001b[1;37m        ^\u001b[0m\n\u001b[1;31mIndentationError\u001b[0m\u001b[1;31m:\u001b[0m expected an indented block\n"
     ]
    }
   ],
   "source": [
    "if True:\n",
    "print \"Answer\"\n",
    "print \"True\"\n",
    "else:\n",
    "print \"Answer\"\n",
    "print \"False\""
   ]
  },
  {
   "cell_type": "markdown",
   "metadata": {},
   "source": [
    "<hr style=\"height:2px;color:blue\">"
   ]
  },
  {
   "cell_type": "markdown",
   "metadata": {},
   "source": [
    "<h1> Multi-Line Statements </h1>\n",
    "\n",
    "<p>\n",
    "Statements in Python typically end with a new line. Python does, however, allow the use of the line continuation character (<b><mark style=\"color:BLUE\"> \\\\ </mark></b>) to denote that the line should continue. For example −<p>\n",
    "    "
   ]
  },
  {
   "cell_type": "code",
   "execution_count": 198,
   "metadata": {},
   "outputs": [
    {
     "name": "stdout",
     "output_type": "stream",
     "text": [
      "6\n"
     ]
    }
   ],
   "source": [
    "item_one = 1\n",
    "item_two = 2\n",
    "item_three = 3\n",
    "total = item_one + \\\n",
    "        item_two + \\\n",
    "        item_three\n",
    "print total"
   ]
  },
  {
   "cell_type": "markdown",
   "metadata": {},
   "source": [
    "<p>Statements contained within the [], {}, or () brackets do not need to use the line continuation character. For example − </p>"
   ]
  },
  {
   "cell_type": "code",
   "execution_count": 196,
   "metadata": {},
   "outputs": [
    {
     "name": "stdout",
     "output_type": "stream",
     "text": [
      "['Monday', 'Tuesday', 'Wednesday', 'Thursday', 'Friday']\n"
     ]
    }
   ],
   "source": [
    "days = ['Monday', 'Tuesday', 'Wednesday',\n",
    "        'Thursday', 'Friday']\n",
    "print days"
   ]
  },
  {
   "cell_type": "markdown",
   "metadata": {},
   "source": [
    "<hr style=\"height:2px;color:blue\">\n",
    "<h1>Comments in Python </h1>\n",
    "\n",
    "<p>A hash sign <b><mark style=\"color:BLUE\">(#)</mark></b> that is not inside a string literal begins a comment. All characters after the # and up to the end of the physical line are part of the comment and the Python interpreter ignores them.<p>"
   ]
  },
  {
   "cell_type": "code",
   "execution_count": 200,
   "metadata": {},
   "outputs": [
    {
     "name": "stdout",
     "output_type": "stream",
     "text": [
      "Hello, Python!\n"
     ]
    }
   ],
   "source": [
    "#!/usr/bin/python\n",
    "\n",
    "# First comment\n",
    "print \"Hello, Python!\" # second comment, note you can put comment at end of statment line"
   ]
  },
  {
   "cell_type": "markdown",
   "metadata": {},
   "source": [
    "<hr style=\"height:2px;color:blue\">\n",
    "<h1>Multiple Statements on a Single Line </h1>\n",
    "\n",
    "<p>The semicolon <b><mark style=\"color:BLUE\">( ; )</mark></b>  allows multiple statements on the single line given that neither statement starts a new code block. Here is a sample snip using the semicolon −</p>\n"
   ]
  },
  {
   "cell_type": "code",
   "execution_count": 201,
   "metadata": {},
   "outputs": [
    {
     "name": "stdout",
     "output_type": "stream",
     "text": [
      "1 2 3\n"
     ]
    }
   ],
   "source": [
    "x=1 ; y=2 ; z=3  # semi colon separates statements on single line\n",
    "print x,y,z"
   ]
  },
  {
   "cell_type": "markdown",
   "metadata": {},
   "source": [
    "<hr style=\"height:2px;color:blue\">\n",
    "<H1>Variables</H1>\n",
    "\n",
    "<p>A variable is just a chunk of data you've given a name, so that you can refer to it later. </p>\n",
    "\n",
    "<p>A variable might refer to a singlenumber or some text, or to a massive table with many rows and columns.</p>\n",
    "<h2> Creating Variables </h2>\n",
    "<p>For the most part, you don't need to declare a variable in advance the way you do in many other languages; you just\n",
    "start using it. For example:</p>"
   ]
  },
  {
   "cell_type": "code",
   "execution_count": 55,
   "metadata": {},
   "outputs": [],
   "source": [
    "a = 5 # Create a variable called 'a' and assign the number 5 to it."
   ]
  },
  {
   "cell_type": "code",
   "execution_count": 56,
   "metadata": {},
   "outputs": [
    {
     "name": "stdout",
     "output_type": "stream",
     "text": [
      "5\n"
     ]
    }
   ],
   "source": [
    "print a # Output the value of a"
   ]
  },
  {
   "cell_type": "markdown",
   "metadata": {},
   "source": [
    "-- ipyton notes:\n",
    "\n",
    "Notice that variables carry over from cell to cell in the Notebook. \n",
    "\n",
    "Even though you're running the cells one at a time, all the data created in the notebook you're using is being held in memory. \n",
    "\n",
    "*Variables don't carry over between notebooks, or between sessions*\n"
   ]
  },
  {
   "cell_type": "code",
   "execution_count": 57,
   "metadata": {},
   "outputs": [
    {
     "name": "stdout",
     "output_type": "stream",
     "text": [
      "10\n"
     ]
    }
   ],
   "source": [
    "print a * 2  # Multiply a by 2, and output the result\n"
   ]
  },
  {
   "cell_type": "code",
   "execution_count": 58,
   "metadata": {},
   "outputs": [],
   "source": [
    "b =  a + 5 # Create a new variable 'b', and set it to a+5.\n"
   ]
  },
  {
   "cell_type": "code",
   "execution_count": 59,
   "metadata": {},
   "outputs": [],
   "source": [
    "a = 7 # Change a's value to 7."
   ]
  },
  {
   "cell_type": "code",
   "execution_count": 60,
   "metadata": {},
   "outputs": [
    {
     "name": "stdout",
     "output_type": "stream",
     "text": [
      "7 10\n"
     ]
    }
   ],
   "source": [
    "print a, b # Output the values of variables a and b"
   ]
  },
  {
   "cell_type": "markdown",
   "metadata": {},
   "source": [
    "<b> *Note. b's value has been set, and doesn't depend on a anymore.* </b>\n",
    "\n",
    "Notice the comma in the print command. You can string together multiple things to print on the same line, separated by\n",
    "a comma.\n"
   ]
  },
  {
   "cell_type": "markdown",
   "metadata": {},
   "source": [
    "<h2>Deleting a variable </h2>\n",
    "\n",
    "<p> You can also delete the reference to a number object by using the del statement. The syntax of the del statement is −</p>\n"
   ]
  },
  {
   "cell_type": "code",
   "execution_count": 144,
   "metadata": {},
   "outputs": [
    {
     "name": "stdout",
     "output_type": "stream",
     "text": [
      "<type 'str'>\n",
      "Paul is great\n"
     ]
    },
    {
     "ename": "NameError",
     "evalue": "name 'P' is not defined",
     "output_type": "error",
     "traceback": [
      "\u001b[1;31m---------------------------------------------------------------------------\u001b[0m",
      "\u001b[1;31mNameError\u001b[0m                                 Traceback (most recent call last)",
      "\u001b[1;32m<ipython-input-144-f3e5beba673f>\u001b[0m in \u001b[0;36m<module>\u001b[1;34m()\u001b[0m\n\u001b[0;32m      6\u001b[0m \u001b[1;31m# remove variable from interpreter space\u001b[0m\u001b[1;33m\u001b[0m\u001b[1;33m\u001b[0m\u001b[0m\n\u001b[0;32m      7\u001b[0m \u001b[1;32mdel\u001b[0m \u001b[0mP\u001b[0m\u001b[1;33m\u001b[0m\u001b[0m\n\u001b[1;32m----> 8\u001b[1;33m \u001b[1;32mprint\u001b[0m \u001b[0mP\u001b[0m \u001b[1;31m# This will throw an error.\u001b[0m\u001b[1;33m\u001b[0m\u001b[0m\n\u001b[0m",
      "\u001b[1;31mNameError\u001b[0m: name 'P' is not defined"
     ]
    }
   ],
   "source": [
    "# create a variable\n",
    "P = \"Paul is great\"\n",
    "print type(P)\n",
    "print P\n",
    "\n",
    "# remove variable from interpreter space\n",
    "del P\n",
    "print P # This will throw an error.\n"
   ]
  },
  {
   "cell_type": "markdown",
   "metadata": {},
   "source": [
    "<h3>Case Sensitivity </h3>\n",
    "<p><mark style=\"background-color: #FFFF00\">Python variables are case sensitive as the example below shows</mark> </p>"
   ]
  },
  {
   "cell_type": "code",
   "execution_count": 61,
   "metadata": {},
   "outputs": [
    {
     "name": "stdout",
     "output_type": "stream",
     "text": [
      "A = 1  a =  2\n"
     ]
    }
   ],
   "source": [
    "A = 1\n",
    "a = 2\n",
    "print \"A =\", A, \" a = \", a"
   ]
  },
  {
   "cell_type": "markdown",
   "metadata": {},
   "source": [
    "# Dynamic Variable Typing\n",
    "\n",
    "<mark style=\"background-color: #FFFF00\">Variables in Python are dynamically typed, <b>meaning that the type of data a variable stores isn't fixed.</b> </mark>\n",
    "\n",
    "So you can assign a number to a variable one line, and a string (the computer-sciency word for text) to it the next. \n",
    "\n",
    "For example:\n",
    " "
   ]
  },
  {
   "cell_type": "code",
   "execution_count": 62,
   "metadata": {},
   "outputs": [
    {
     "name": "stdout",
     "output_type": "stream",
     "text": [
      "2\n",
      "Hello, Python!\n"
     ]
    }
   ],
   "source": [
    "print a\n",
    "a = \"Hello, Python!\"\n",
    "print a\n"
   ]
  },
  {
   "cell_type": "markdown",
   "metadata": {},
   "source": [
    "Note that the old value of a is gone now. Even though you can use the same variable name to refer to different data\n",
    "doesn't mean that you should. It's generally a good idea to have each variable serve one particular purpose in your\n",
    "code.\n",
    "\n",
    "You can't use a variable before you've assigned something to it. Since the computer doesn't know what kind of data\n",
    "your variable is going to hold, it can't prepare a default value for it. If you get this wrong, the computer will usually tell\n",
    "you. For example:\n"
   ]
  },
  {
   "cell_type": "code",
   "execution_count": 63,
   "metadata": {},
   "outputs": [
    {
     "ename": "NameError",
     "evalue": "name 'c' is not defined",
     "output_type": "error",
     "traceback": [
      "\u001b[1;31m---------------------------------------------------------------------------\u001b[0m",
      "\u001b[1;31mNameError\u001b[0m                                 Traceback (most recent call last)",
      "\u001b[1;32m<ipython-input-63-f22a9db12977>\u001b[0m in \u001b[0;36m<module>\u001b[1;34m()\u001b[0m\n\u001b[1;32m----> 1\u001b[1;33m \u001b[1;32mprint\u001b[0m \u001b[0mc\u001b[0m \u001b[1;31m# We haven't assigned anything to c yet.\u001b[0m\u001b[1;33m\u001b[0m\u001b[0m\n\u001b[0m",
      "\u001b[1;31mNameError\u001b[0m: name 'c' is not defined"
     ]
    }
   ],
   "source": [
    "print c # We haven't assigned anything to c yet.\n"
   ]
  },
  {
   "cell_type": "markdown",
   "metadata": {},
   "source": [
    "print c # We haven't This is an error. Errors are annoying, but they're your friends: they let you know that you probably made a mistake, and\n",
    "hopefully will help you fix it. You'll probably see these a lot. Don't worry, you haven't broken anything.\n",
    "\n",
    "The error above, for example, is a NameError, and lets you know that you tried to use a variable that wasn't defined.\n",
    "Naturally, you can also use variables together. For example:\n",
    "assigned anything to c yet.\n"
   ]
  },
  {
   "cell_type": "code",
   "execution_count": 64,
   "metadata": {
    "scrolled": true
   },
   "outputs": [
    {
     "name": "stdout",
     "output_type": "stream",
     "text": [
      "a =  7\n",
      "b =  2\n",
      "a + b =  9\n",
      "a - b =  5\n",
      "a * b =  14\n",
      "a / b =  3.5\n",
      "a % b =  1\n"
     ]
    }
   ],
   "source": [
    "# Naturally, you can also use variables together. For example:\n",
    "a = 7\n",
    "b = 2\n",
    "print \"a = \", a\n",
    "print \"b = \", b\n",
    "print \"a + b = \", a+b #addition\n",
    "print \"a - b = \", a-b #subtraction\n",
    "print \"a * b = \", a*b #multiplication\n",
    "print \"a / b = \", a/b #Division : Note when both operands Euclidean division is implemented which is the floor(quotient)\n",
    "print \"a % b = \", a%b #Modulo Division : returns the remainder of integer division\n"
   ]
  },
  {
   "cell_type": "markdown",
   "metadata": {},
   "source": [
    "<h2>Standard Data Types </h2>\n",
    "\n",
    "<p>\n",
    "The data stored in memory can be of many types. For example, a person's age is stored as a numeric value and his or her address is stored as alphanumeric characters. Python has various standard data types that are used to define the operations possible on them and the storage method for each of them.    \n",
    "</p>\n",
    "\n",
    "<p><mark style=\"background-color:yellow\">Python has five standard data types − </mark> <p>\n",
    "    \n",
    "<list>\n",
    "    <li> Numbers </li>\n",
    "    <li> String </li>\n",
    "    <li> List </li>\n",
    "    <li> Tuple </li>\n",
    "    <li> Dictionary </li>\n",
    "</list>"
   ]
  },
  {
   "cell_type": "markdown",
   "metadata": {},
   "source": [
    "<h2>Python Numbers</h2>\n",
    "\n",
    "<p><mark style=\"background-color:yellow\">Python supports four different numerical types − </mark> </p>\n",
    "\n",
    "<list>\n",
    "    <li> int (signed integers) </li>\n",
    "    <li> long (long integers, they can also be represented in octal and hexadecimal) </li>\n",
    "    <li> float (floating point real values) </li>\n",
    "    <li> complex (complex numbers) </li>\n",
    "    \n",
    "</list>"
   ]
  },
  {
   "cell_type": "markdown",
   "metadata": {},
   "source": [
    "<h2>Representing Numbers in Python Code</h2>\n",
    "\n",
    "<p>The code below shows the various ways to depict the four number types </p>\n"
   ]
  },
  {
   "cell_type": "code",
   "execution_count": 173,
   "metadata": {},
   "outputs": [
    {
     "name": "stdout",
     "output_type": "stream",
     "text": [
      "<type 'int'>\n",
      "51924361\n",
      "<type 'int'>\n",
      "-10\n",
      "<type 'int'>\n",
      "-17\n",
      "<type 'long'>\n",
      "51924361\n",
      "<type 'long'>\n",
      "123456789012345678\n",
      "<type 'long'>\n",
      "4113244760468049623982\n",
      "<type 'float'>\n",
      "0.0\n",
      "<type 'float'>\n",
      "15.2\n",
      "<type 'float'>\n",
      "3.23e+19\n",
      "<type 'float'>\n",
      "3.14\n",
      "<type 'complex'>\n",
      "3.14j\n",
      "<type 'complex'>\n",
      "9.322e-36j\n",
      "(-0.6545+0j)\n"
     ]
    }
   ],
   "source": [
    "# int variables\n",
    "a = 51924361   # Decimal literal\n",
    "print type(a)\n",
    "print a\n",
    "a = -10  # literal negative\n",
    "print type(a)\n",
    "print a\n",
    "a = -0x11 # Hexadecimal Negative Literal, note \"0x\" prefix.\n",
    "print type(a)\n",
    "print a\n",
    "\n",
    "# long integer\n",
    "#Python allows you to use a lowercase l with long, but it is recommended \n",
    "#that you use only an uppercase L to avoid confusion with the number 1. \n",
    "#Python displays long integers with an uppercase L\n",
    "a = 51924361L # explicit long integer typing,notice \"L\" character at end.\n",
    "print type(a)\n",
    "print a\n",
    "a = 123456789012345678 # number so large needs to be a long\n",
    "print type(a)\n",
    "print a\n",
    "\n",
    "a=0xDEFABCECBDAECBFBAEl # hexadecimal long\n",
    "print type(a)\n",
    "print a\n",
    "\n",
    "# float variables\n",
    "a = 0.0       # decimal point makes a variable is a float.\n",
    "print type(a)\n",
    "print a\n",
    "a=15.20\n",
    "print type(a)\n",
    "print a\n",
    "a = 32.3E18  # scientific notataion. \n",
    "print type(a)\n",
    "print a\n",
    "a = 314.0e-2 # Pi\n",
    "print type(a)\n",
    "print a\n",
    "\n",
    "# Complex variables\n",
    "# A complex number consists of an ordered pair of real floating-point numbers denoted by x + yj, where x and y are the \n",
    "# real numbers and j is the imaginary unit.  Note you can use upper and lower case J\n",
    "a =3.14j\n",
    "print type(a)\n",
    "print a\n",
    "a = 9.322e-36j\n",
    "print type(a)\n",
    "print a\n",
    "a=-.6545+0J\n",
    "print a"
   ]
  },
  {
   "cell_type": "markdown",
   "metadata": {},
   "source": [
    "<h2> Numbers - Integer and Floating Point </h2>\n",
    "\n",
    "Uh oh, notice something weird? Everything looks right, except for the last operation. So what's going on?\n",
    "\n",
    "Python (like most programming languages) doesn't treat all numbers the same. \n",
    "\n",
    "There are basically two types ofnumbers, as far as Python is concerned: round numbers (integers) and numbers with values after the decimal point\n",
    "(floating points, or just floats). \n",
    "\n",
    "When you divide an integer by an integer, Python assumes that the result is also going to be an integer and drops any value after the decimal point.\n",
    "\n",
    "There are a few ways around this: we can tell Python that a variable is a floating point; we can cast it to a floating point,\n",
    "telling the computer to temporarily treat it like one. For example:\n"
   ]
  },
  {
   "cell_type": "code",
   "execution_count": 65,
   "metadata": {},
   "outputs": [
    {
     "name": "stdout",
     "output_type": "stream",
     "text": [
      "a / b =  3.5\n"
     ]
    }
   ],
   "source": [
    "a = 7.0 # By putting the decimal point in, we tell Python that 'a' is a float\n",
    "b = 2\n",
    "print \"a / b = \", a/b"
   ]
  },
  {
   "cell_type": "code",
   "execution_count": 66,
   "metadata": {},
   "outputs": [
    {
     "name": "stdout",
     "output_type": "stream",
     "text": [
      "a / b =  3.5\n"
     ]
    }
   ],
   "source": [
    "# explicit variable casting to float\n",
    "a = 7\n",
    "b = 2\n",
    "print \"a / b = \", float(a)/b # Temporarily cast a as a float.\n"
   ]
  },
  {
   "cell_type": "markdown",
   "metadata": {},
   "source": [
    "<h1> Import <b>future</b>  package to avoid integer division issues.</h1>\n",
    "\n",
    "If you're worried that this will happen a lot in your program, you can tell Python to automatically check whether division\n",
    "will result in an int or a float. We do this using the import command, which is how we bring additional features and code\n",
    "into our program, like this:\n"
   ]
  },
  {
   "cell_type": "code",
   "execution_count": 67,
   "metadata": {},
   "outputs": [
    {
     "name": "stdout",
     "output_type": "stream",
     "text": [
      "3.5\n"
     ]
    }
   ],
   "source": [
    "# Before:\n",
    "print 7/2\n"
   ]
  },
  {
   "cell_type": "code",
   "execution_count": 68,
   "metadata": {},
   "outputs": [],
   "source": [
    "from __future__ import division"
   ]
  },
  {
   "cell_type": "code",
   "execution_count": 69,
   "metadata": {},
   "outputs": [
    {
     "name": "stdout",
     "output_type": "stream",
     "text": [
      "3.5\n"
     ]
    }
   ],
   "source": [
    "# After\n",
    "print 7/2\n"
   ]
  },
  {
   "cell_type": "markdown",
   "metadata": {},
   "source": [
    "<h1>Working with Strings </h2>\n"
   ]
  },
  {
   "cell_type": "markdown",
   "metadata": {},
   "source": [
    "<p>Strings in Python are identified as a contiguous set of characters represented in the quotation marks. </p>\n",
    "\n",
    "<p>Python accepts single ('), double (\") and triple (''' or \"\"\") quotes to denote string literals, as long as the same type of quote starts and ends the string.</p>\n",
    "\n",
    "<p>The triple quotes are used to span the string across multiple lines. −</p> \n",
    "    \n",
    "\n",
    "<p>The plus (+) sign is the string concatenation operator and the asterisk (*) is the repetition operator. For example −</p>"
   ]
  },
  {
   "cell_type": "code",
   "execution_count": 197,
   "metadata": {
    "scrolled": true
   },
   "outputs": [
    {
     "name": "stdout",
     "output_type": "stream",
     "text": [
      "word\n",
      "This is a sentence.\n",
      "This is a paragraph. It is    \n",
      "made up of multiple lines and sentences.\n"
     ]
    }
   ],
   "source": [
    "word = 'word'                                # String literals can be created with single quotes\n",
    "sentence = \"This is a sentence.\"             # or double quotes\n",
    "\n",
    "# Triple quotes can be used to span multiple lines.\n",
    "paragraph = \"\"\"This is a paragraph. It is    \n",
    "made up of multiple lines and sentences.\"\"\"\n",
    "\n",
    "\n",
    "print word\n",
    "print sentence\n",
    "print paragraph"
   ]
  },
  {
   "cell_type": "markdown",
   "metadata": {},
   "source": [
    "<h2>Parsing strings with <i><mark style=\"color:BLUE\">Split</mark></i> method</h2>"
   ]
  },
  {
   "cell_type": "markdown",
   "metadata": {},
   "source": [
    "<b><mark style=\"background-color:YELLOW\">The string split method will break apart a string.  It takes the delimeter as an argument and returns a list of strings.</mark><b>"
   ]
  },
  {
   "cell_type": "code",
   "execution_count": 105,
   "metadata": {},
   "outputs": [
    {
     "name": "stdout",
     "output_type": "stream",
     "text": [
      "['A', ' B', ' C', ' D']\n"
     ]
    }
   ],
   "source": [
    "test_string = \"A, B, C, D\"\n",
    "split_string = test_string.split(\",\") # Split on commas\n",
    "print split_string\n"
   ]
  },
  {
   "cell_type": "code",
   "execution_count": 106,
   "metadata": {},
   "outputs": [
    {
     "name": "stdout",
     "output_type": "stream",
     "text": [
      "['A', ' B', ' C', ' D']\n"
     ]
    }
   ],
   "source": [
    "test_string = \"A, B, C, D\"\n",
    "split_string = test_string.split(\",\") # Split on commas\n",
    "print split_string\n"
   ]
  },
  {
   "cell_type": "markdown",
   "metadata": {},
   "source": [
    "The .split() method takes a string and turns it into a list, dividing it on whatever character you decide. We could also split\n",
    "the above string on spaces, or any other character:"
   ]
  },
  {
   "cell_type": "code",
   "execution_count": 107,
   "metadata": {},
   "outputs": [
    {
     "name": "stdout",
     "output_type": "stream",
     "text": [
      "A, B, C, D\n",
      "['A,', 'B,', 'C,', 'D']\n",
      "['A, B, ', ', D']\n"
     ]
    }
   ],
   "source": [
    "print test_string\n",
    "print test_string.split(\" \") # Spaces\n",
    "print test_string.split(\"C\") # The character 'C'\n"
   ]
  },
  {
   "cell_type": "markdown",
   "metadata": {},
   "source": [
    "<h2> Joining Strings with <i><mark style=\"color:BLUE\">Join</mark></i> Method </h2>\n",
    "\n",
    "<p>The <b><mark style=\"color:BLUE\"> join</mark><b> method takes a list of strings and joins them together with a delimiter<p>"
   ]
  },
  {
   "cell_type": "code",
   "execution_count": 108,
   "metadata": {},
   "outputs": [
    {
     "name": "stdout",
     "output_type": "stream",
     "text": [
      "the|cat|sat|on|the|mat\n",
      "I am the walrus\n"
     ]
    }
   ],
   "source": [
    "print '|'.join(['the', 'cat', 'sat', 'on', 'the', 'mat']) # kinda wierd, the delimeter string is the object that the method is invoked\n",
    "                                                    # from.\n",
    "print ' '.join([\"I\",\"am\",\"the\",\"walrus\"])"
   ]
  },
  {
   "cell_type": "markdown",
   "metadata": {
    "collapsed": true
   },
   "source": [
    "<h2>Using the <b><mark style=\"color:blue\">'+'</mark></b> and  <b><mark style=\"color:blue\">'*'</mark></b> Operators on Strings </h2>\n",
    "\n",
    "<p>\n",
    "The plus (+) sign is the string concatenation operator and the asterisk (*) is the repetition operator.\n",
    "</p>"
   ]
  },
  {
   "cell_type": "code",
   "execution_count": 174,
   "metadata": {},
   "outputs": [
    {
     "name": "stdout",
     "output_type": "stream",
     "text": [
      "Hello World!Hello World!\n",
      "Hello World!TEST\n"
     ]
    }
   ],
   "source": [
    "str1 = \"Hello World!\"\n",
    "\n",
    "print str1 * 2      # Prints string two times\n",
    "print str1 + \"TEST\" # Prints concatenated string"
   ]
  },
  {
   "cell_type": "markdown",
   "metadata": {},
   "source": [
    "<h1> From datum to data: Lists, Dictionaries, Tuples and Sets </h1>"
   ]
  },
  {
   "cell_type": "markdown",
   "metadata": {},
   "source": [
    "This is a course on data analysis, and most of the time the data you'll want to analyze will be more than just one or two\n",
    "numbers. If we're dealing with 100 (or 100,000) values, we don't want to create separate variables for each of them.\n",
    "\n",
    "<mark style=\"background-color: #FFFF00\">There are four standard data types which can store multiple values together:</mark>\n",
    "<list>\n",
    "<li> <b> lists </b> (similar to other languages' arrays) </li>\n",
    "\n",
    "<li> <b> dictionaries </b>(hash maps or hash tables, in other languages). </li>\n",
    "<li> <b> tuples </b> (Tuples function very similarly to lists with one important exception. They are immutable - they cannot be changed once created.) </li>\n",
    "<li> <b> sets </b> (like lists but provides quick implementation of membership operations like 'in'). </li>\n",
    "</list>"
   ]
  },
  {
   "cell_type": "markdown",
   "metadata": {},
   "source": [
    "<h2> Lists </h2>\n",
    "\n",
    "Lists simply store a set of values in order, like this:\n"
   ]
  },
  {
   "cell_type": "code",
   "execution_count": 70,
   "metadata": {},
   "outputs": [],
   "source": [
    " some_numbers = [1, 5, 4, 3, 0] # Some meaningless numbers."
   ]
  },
  {
   "cell_type": "markdown",
   "metadata": {},
   "source": [
    "<h3> Accessing Individual List Elements </h3>\n",
    "\n",
    "<mark style=\"background-color: #FFFF00\">You can access specific values within the list using square brackets. </mark>\n",
    "\n",
    "<b> Note that list positions start counting from 0,</b> so if\n",
    "your list is 5 items long (like the one above), the positions run from 0 to 4. So:\n"
   ]
  },
  {
   "cell_type": "code",
   "execution_count": 71,
   "metadata": {
    "scrolled": true
   },
   "outputs": [
    {
     "name": "stdout",
     "output_type": "stream",
     "text": [
      "First item in the list: 1\n",
      "Third item in the list: 4\n",
      "Last item in the list: 0\n",
      "First Item from end of list 0\n"
     ]
    }
   ],
   "source": [
    "print \"First item in the list:\", some_numbers[0]\n",
    "print \"Third item in the list:\", some_numbers[2]\n",
    "print \"Last item in the list:\", some_numbers[4]\n",
    "print \"First Item from end of list\", some_numbers[-1] # negative indexing starts from the end of the list\n",
    "\n"
   ]
  },
  {
   "cell_type": "markdown",
   "metadata": {},
   "source": [
    "<h2>Using the <b><mark style=\"color:blue\">'+'</mark></b> and  <b><mark style=\"color:blue\">'*'</mark></b> Operators on Lists </h2>\n",
    "\n",
    "<p>\n",
    "The plus (+) sign is the list concatenation operator, and the asterisk (*) is the repetition operator. For example −"
   ]
  },
  {
   "cell_type": "code",
   "execution_count": 189,
   "metadata": {},
   "outputs": [
    {
     "name": "stdout",
     "output_type": "stream",
     "text": [
      "['A', 'B', 'C', 'as', 'easy', 'as', 1, 2, 3]\n",
      "['A', 'B', 'C', 'A', 'B', 'C', 'A', 'B', 'C']\n"
     ]
    }
   ],
   "source": [
    "list1 = ['A', 'B','C']\n",
    "list2 = [\"as\",\"easy\",\"as\"]\n",
    "list3 = [1,2,3]\n",
    "print list1 + list2 + list3 # concatenates the three lists into one list.\n",
    "\n",
    "\n",
    "print list1*3  # prints list 3 times\n",
    "\n"
   ]
  },
  {
   "cell_type": "markdown",
   "metadata": {},
   "source": [
    "<h2>Seaching a list for a particular value - <mark style=\"color:BLUE\">Index</mark> Method and <mark style=\"color:BLUE\"> In</mark> Operator</h2>\n",
    "\n",
    "<p><mark style=\"background-color: #FFFF00\"> You can use the <b>Index</b> method to find the index of an element in a list</mark> </p>"
   ]
  },
  {
   "cell_type": "code",
   "execution_count": 72,
   "metadata": {},
   "outputs": [
    {
     "name": "stdout",
     "output_type": "stream",
     "text": [
      "['alpha', 'bravo', 'Charlie', 'Delta', 'Echo']\n",
      "The index of the element in list a with value of 'Charlie' is  2\n",
      "['alpha', 'bravo', 'Charlie', 'Delta', 'Echo', 'bravo']\n",
      "The index of the element in list a with value of 'bravo' is  1\n"
     ]
    }
   ],
   "source": [
    "a = [\"alpha\",\"bravo\",\"Charlie\",\"Delta\",\"Echo\"]\n",
    "print a\n",
    "print \"The index of the element in list a with value of 'Charlie' is \", a.index(\"Charlie\")\n",
    "a.append(\"bravo\")\n",
    "print a\n",
    "\n",
    "# when value appears multiple times, index returns first value\n",
    "print \"The index of the element in list a with value of 'bravo' is \", a.index(\"bravo\")\n"
   ]
  },
  {
   "cell_type": "markdown",
   "metadata": {},
   "source": [
    "\n",
    "<p> <mark style=\"background-color: #FFFF00\"> You can test to see if list contains an element with a given value using the <b>In</b> operator.</mark> </p>"
   ]
  },
  {
   "cell_type": "code",
   "execution_count": 73,
   "metadata": {},
   "outputs": [
    {
     "name": "stdout",
     "output_type": "stream",
     "text": [
      "Is 'alpha' in the list a?  True\n",
      "Is 'gamma' in the list a?  False\n"
     ]
    }
   ],
   "source": [
    "print \"Is 'alpha' in the list a? \", ('alpha' in a)\n",
    "print \"Is 'gamma' in the list a? \", ('gamma' in a)"
   ]
  },
  {
   "cell_type": "code",
   "execution_count": 74,
   "metadata": {},
   "outputs": [
    {
     "name": "stdout",
     "output_type": "stream",
     "text": [
      "4 <type 'int'>\n"
     ]
    }
   ],
   "source": [
    "# the index method of a list will return the index of the FIRST value it sees.\n",
    "# Notice below \n",
    "a = [\"bravo\",\"Charlie\",\"delta\",\"Echo\",\"alpha\",\"alpha\" ]\n",
    "i = a.index(\"alpha\")\n",
    "print i, type(i)"
   ]
  },
  {
   "cell_type": "markdown",
   "metadata": {},
   "source": [
    "<h3> Accessing List Elements outside of bounds </h3>\n",
    "\n",
    "<p>If you try to access a position greater than the length of the list, you'll get an <b><mark style=\"color:RED\">error</mark></b>:\n",
    "</p>\n",
    "\n"
   ]
  },
  {
   "cell_type": "code",
   "execution_count": 75,
   "metadata": {
    "scrolled": true
   },
   "outputs": [
    {
     "name": "stdout",
     "output_type": "stream",
     "text": [
      "The number of elements in list some_numbers is  5\n"
     ]
    },
    {
     "ename": "IndexError",
     "evalue": "list index out of range",
     "output_type": "error",
     "traceback": [
      "\u001b[1;31m---------------------------------------------------------------------------\u001b[0m",
      "\u001b[1;31mIndexError\u001b[0m                                Traceback (most recent call last)",
      "\u001b[1;32m<ipython-input-75-1346e3821b45>\u001b[0m in \u001b[0;36m<module>\u001b[1;34m()\u001b[0m\n\u001b[0;32m      1\u001b[0m \u001b[1;32mprint\u001b[0m \u001b[1;34m\"The number of elements in list some_numbers is \"\u001b[0m\u001b[1;33m,\u001b[0m \u001b[0mlen\u001b[0m\u001b[1;33m(\u001b[0m\u001b[0msome_numbers\u001b[0m\u001b[1;33m)\u001b[0m\u001b[1;33m\u001b[0m\u001b[0m\n\u001b[0;32m      2\u001b[0m \u001b[1;33m\u001b[0m\u001b[0m\n\u001b[1;32m----> 3\u001b[1;33m \u001b[1;32mprint\u001b[0m \u001b[0msome_numbers\u001b[0m\u001b[1;33m[\u001b[0m\u001b[1;36m10\u001b[0m\u001b[1;33m]\u001b[0m\u001b[1;33m\u001b[0m\u001b[0m\n\u001b[0m",
      "\u001b[1;31mIndexError\u001b[0m: list index out of range"
     ]
    }
   ],
   "source": [
    "print \"The number of elements in list some_numbers is \", len(some_numbers)\n",
    "    \n",
    "print some_numbers[10] \n"
   ]
  },
  {
   "cell_type": "markdown",
   "metadata": {},
   "source": [
    "<h2> Lists - Using the colon operator <mark style=\"color:BLUE\">\":\"</mark> to create subsets of a List</h2>\n",
    "\n",
    "You can also create a new list by subsetting another list, using the colon : symbol. Think of it as taking values from\n",
    "position : up to position."
   ]
  },
  {
   "cell_type": "code",
   "execution_count": 76,
   "metadata": {},
   "outputs": [
    {
     "name": "stdout",
     "output_type": "stream",
     "text": [
      "[1, 4, 5, 7, 12, 15]\n"
     ]
    }
   ],
   "source": [
    "first_list = [1, 4, 5, 7, 12, 15]\n",
    "print first_list\n",
    "\n"
   ]
  },
  {
   "cell_type": "code",
   "execution_count": 77,
   "metadata": {},
   "outputs": [
    {
     "name": "stdout",
     "output_type": "stream",
     "text": [
      "[5, 7]\n"
     ]
    }
   ],
   "source": [
    "second_list = first_list[2:4]\n",
    "print second_list\n",
    "\n"
   ]
  },
  {
   "cell_type": "markdown",
   "metadata": {},
   "source": [
    "\n",
    "<p> Notice in the output above, we specified 2:4, which returned elements of second_list starting at offset 2 and only going up to offset 3.  In my mind that's wrong but that's how it works.  The first element of a \":\" operation is inclusive but the last is not </p>\n"
   ]
  },
  {
   "cell_type": "code",
   "execution_count": 78,
   "metadata": {},
   "outputs": [
    {
     "name": "stdout",
     "output_type": "stream",
     "text": [
      "[12, 15]\n"
     ]
    }
   ],
   "source": [
    "# sub ranging of lists with out of range last variable will not generate \"list index out of range error\"\n",
    "# it will just go to end of list\n",
    "third_list = first_list[4:100]\n",
    "print third_list"
   ]
  },
  {
   "cell_type": "code",
   "execution_count": 79,
   "metadata": {},
   "outputs": [
    {
     "name": "stdout",
     "output_type": "stream",
     "text": [
      "[]\n",
      "type of fifth_list is <type 'list'>\n",
      "[]\n",
      "type of sixth_list is <type 'list'>\n",
      "[]\n"
     ]
    }
   ],
   "source": [
    "# Nor will specifiying a bad starting range, it just results in a empty list\n",
    "fourth_list = first_list [100:101]\n",
    "print fourth_list\n",
    "\n",
    "# you can create an empty list with the list() function\n",
    "fifth_list = list()\n",
    "print \"type of fifth_list is \" + str( type(fifth_list))\n",
    "print fifth_list\n",
    "\n",
    "# you can also create an empty list like this\n",
    "sixth_list = []\n",
    "print \"type of sixth_list is \" + str( type(sixth_list))\n",
    "print sixth_list\n"
   ]
  },
  {
   "cell_type": "markdown",
   "metadata": {},
   "source": [
    "If you leave out the number before or after the colon, it indicates 'from the beginning' or 'to the end', respectively. So:"
   ]
  },
  {
   "cell_type": "code",
   "execution_count": 80,
   "metadata": {},
   "outputs": [
    {
     "name": "stdout",
     "output_type": "stream",
     "text": [
      "[1, 4, 5, 7]\n",
      "[1, 4, 5, 7]\n"
     ]
    }
   ],
   "source": [
    "# Omitting starting range => from list beginning, i.e. element 0.\n",
    "\n",
    "print first_list[:4]      \n",
    "# is the same as\n",
    "print first_list [0:4]"
   ]
  },
  {
   "cell_type": "markdown",
   "metadata": {},
   "source": []
  },
  {
   "cell_type": "code",
   "execution_count": 81,
   "metadata": {
    "scrolled": true
   },
   "outputs": [
    {
     "name": "stdout",
     "output_type": "stream",
     "text": [
      "[7, 12, 15]\n",
      "6\n",
      "[7, 12, 15]\n"
     ]
    }
   ],
   "source": [
    "# omitting ending range same as specifying last element of list\n",
    "print first_list[3:]\n",
    "# is the same as\n",
    "print len(first_list)\n",
    "print first_list[3:len(first_list)]"
   ]
  },
  {
   "cell_type": "markdown",
   "metadata": {},
   "source": [
    "<h3> Python Lists can store multiple data item types </h3>\n",
    "\n",
    "Lists can store data of all different types together. For example, the list below has an integer, a float and a string:"
   ]
  },
  {
   "cell_type": "code",
   "execution_count": 82,
   "metadata": {},
   "outputs": [
    {
     "name": "stdout",
     "output_type": "stream",
     "text": [
      "[1, 1.0, 'One']\n"
     ]
    }
   ],
   "source": [
    "mixed_list = [1, 1.0, \"One\"]\n",
    "print mixed_list\n"
   ]
  },
  {
   "cell_type": "markdown",
   "metadata": {},
   "source": [
    "<h3> Python Lists can be ragged and mixed</h3>\n"
   ]
  },
  {
   "cell_type": "code",
   "execution_count": 83,
   "metadata": {},
   "outputs": [
    {
     "name": "stdout",
     "output_type": "stream",
     "text": [
      "[[1, 2, 3], 'Hello']\n"
     ]
    }
   ],
   "source": [
    "# this list has an array and a string as it's elements\n",
    "mixed_list_2 = [[1,2,3],\"Hello\"]\n",
    "print mixed_list_2"
   ]
  },
  {
   "cell_type": "markdown",
   "metadata": {},
   "source": [
    "<h2> Lists of Lists</h2>\n",
    "\n",
    "Lists can even store other lists. This will be important later, since it's how we can put together multi-dimensional objects\n",
    "like tables and matrices.\n",
    "\n"
   ]
  },
  {
   "cell_type": "code",
   "execution_count": 84,
   "metadata": {},
   "outputs": [
    {
     "name": "stdout",
     "output_type": "stream",
     "text": [
      "[[1, 2], [3, 4]]\n",
      "Position (0) [1, 2]\n",
      "Position (1) [3, 4]\n",
      "Position (1,0) 3\n",
      "Position (0,1) 2\n"
     ]
    }
   ],
   "source": [
    "first_row = [1, 2]\n",
    "second_row = [3, 4]\n",
    "table = [first_row, second_row]\n",
    "print table # a list with two elements, each of which is a list with two elements.\n",
    "print \"Position (0)\", table[0]    # row 0, which is a list with elements [1,2]\n",
    "print \"Position (1)\", table[1]    # row 1, whichi is a list with elements [3,4]\n",
    "print \"Position (1,0)\", table[1][0] #row,1 which is a list [3,4], and the first element of that list\n",
    "print \"Position (0,1)\", table[0][1]\n"
   ]
  },
  {
   "cell_type": "markdown",
   "metadata": {},
   "source": [
    "<h2> Lists of higher dimensions </h2>\n",
    "\n",
    "Note that the names 'row' and 'table' are arbitrary -- all table really is, is a list of lists. \n",
    "\n",
    "When we write table[1] we are\n",
    "getting the second entry in the list, which in this case just happens to be a list as well. \n",
    "\n",
    "So table[1][1] just means 'The\n",
    "second entry in the second entry in the list table'.\n",
    "\n",
    "We can also create these lists directly, and nest them as deep as we want. Below, I create a 3 X 2 X 2 table:"
   ]
  },
  {
   "cell_type": "code",
   "execution_count": 85,
   "metadata": {},
   "outputs": [
    {
     "name": "stdout",
     "output_type": "stream",
     "text": [
      "[[5, 6], [7, 8]]\n",
      "[7, 8]\n",
      "8\n"
     ]
    }
   ],
   "source": [
    " # Notice that we can put line-breaks when they're enclosed in brackets\n",
    "threedee = [ [ [1,2], [3, 4] ],\n",
    "[[5, 6], [7, 8] ],\n",
    "[ [9, 10], [11, 12] ]\n",
    "]\n",
    "\n",
    "\n",
    "print threedee[1]\n",
    "print threedee[1][1]\n",
    "print threedee[1][1][1]\n",
    "\n"
   ]
  },
  {
   "cell_type": "markdown",
   "metadata": {},
   "source": [
    "<h2> Ragged Lists </h2>\n",
    "\n",
    "Since list aren't true arrays, each dimension of an array need not be equal.  Below the second dimension of this list has a list of length 2 \n",
    "while the first is of length 3."
   ]
  },
  {
   "cell_type": "code",
   "execution_count": 86,
   "metadata": {},
   "outputs": [
    {
     "name": "stdout",
     "output_type": "stream",
     "text": [
      "[[1, 2, 3], [4, 5]]\n"
     ]
    }
   ],
   "source": [
    "# this is a two dimensional ragged array\n",
    "ragged_array = [[1,2,3],[4,5]]\n",
    "print ragged_array"
   ]
  },
  {
   "cell_type": "markdown",
   "metadata": {},
   "source": [
    "<h2> List <mark style=\"color:BLUE\">Append</mark > Method </h2>\n",
    "\n",
    "We can add items to the end of a list using the .append(...) operation, like this:\n",
    "\n"
   ]
  },
  {
   "cell_type": "code",
   "execution_count": 87,
   "metadata": {},
   "outputs": [
    {
     "name": "stdout",
     "output_type": "stream",
     "text": [
      "[1, 2, 3, 4]\n"
     ]
    }
   ],
   "source": [
    "my_list = [1, 2, 3]\n",
    "my_list.append(4)\n",
    "print my_list"
   ]
  },
  {
   "cell_type": "markdown",
   "metadata": {},
   "source": [
    "<h2>The Dot Operation for Accessing Object Methods</h2>\n",
    "\n",
    "<p><mark style=\"background-color: #FFFF00\">Notice the syntax append uses: variable dot operation. The operation following the dot is called a method.</mark> <p>\n",
    "\n",
    "<p>We'll see\n",
    "this pretty often in Python (and elsewhere). It indicates an operation (method) associated with a particular variable of a\n",
    "particular type. </p>\n",
    "\n",
    "In this case, all list variables have an append method associated with them.\n",
    "\n",
    "(Advanced note: technically, lists (like almost everything else in Python) are objects, with append as one of their\n",
    "methods. If you don't know what that means, don't worry about it.)\n"
   ]
  },
  {
   "cell_type": "markdown",
   "metadata": {},
   "source": [
    "<h2> Use the <mark style=\"color:BLUE\"> Len</mark> operator to determine length of a a list </h2>\n",
    "<p>\n",
    "<p> <mark style=\"background-color: #FFFF00\">We can count the number of values in a list using <b>len</b>, like this:</mark><p>\n"
   ]
  },
  {
   "cell_type": "code",
   "execution_count": 88,
   "metadata": {},
   "outputs": [
    {
     "name": "stdout",
     "output_type": "stream",
     "text": [
      "4\n"
     ]
    }
   ],
   "source": [
    "# figure out the number of elements in a list\n",
    "print len(my_list)\n",
    "\n"
   ]
  },
  {
   "cell_type": "markdown",
   "metadata": {},
   "source": [
    "Pop quiz: What do you think the result of len(threedee) will be?"
   ]
  },
  {
   "cell_type": "code",
   "execution_count": 89,
   "metadata": {},
   "outputs": [
    {
     "name": "stdout",
     "output_type": "stream",
     "text": [
      "[[[1, 2], [3, 4]], [[5, 6], [7, 8]], [[9, 10], [11, 12]]]\n"
     ]
    }
   ],
   "source": [
    "#First look at threedee list\n",
    "print threedee"
   ]
  },
  {
   "cell_type": "code",
   "execution_count": 90,
   "metadata": {},
   "outputs": [
    {
     "name": "stdout",
     "output_type": "stream",
     "text": [
      "3\n"
     ]
    }
   ],
   "source": [
    "# since this is a three dimensional array, count number of commas after ]] and add 1 should give lengh 2+1 \n",
    "print len(threedee)"
   ]
  },
  {
   "cell_type": "markdown",
   "metadata": {},
   "source": [
    "As far as Python is concerned, threedee has only 3 values; each of those values happens to be another list. So:\n"
   ]
  },
  {
   "cell_type": "code",
   "execution_count": 91,
   "metadata": {},
   "outputs": [
    {
     "name": "stdout",
     "output_type": "stream",
     "text": [
      "[[1, 2], [3, 4]]\n",
      "2\n"
     ]
    }
   ],
   "source": [
    "print threedee[0]\n",
    "print len(threedee[0])\n"
   ]
  },
  {
   "cell_type": "code",
   "execution_count": 92,
   "metadata": {},
   "outputs": [
    {
     "name": "stdout",
     "output_type": "stream",
     "text": [
      "2\n"
     ]
    }
   ],
   "source": [
    "print len(threedee[0][0])\n"
   ]
  },
  {
   "cell_type": "markdown",
   "metadata": {},
   "source": [
    "\n",
    "<mark style=\"background-color: #FFFF00\"> The <b>len</b> works on lists, dictionaries, sets, and tuples, but not simple variables like integers.</mark>"
   ]
  },
  {
   "cell_type": "code",
   "execution_count": 93,
   "metadata": {},
   "outputs": [
    {
     "name": "stdout",
     "output_type": "stream",
     "text": [
      "The length of list [1,2,3,4] is  4\n",
      "The length of tuple (1,2,3,4) is  4\n",
      "The length of dictionary {1:'A', 2:'B', 3:'C', 4:'D'} is  4\n",
      "The length of set [1,2,3,4] is  4\n"
     ]
    },
    {
     "ename": "TypeError",
     "evalue": "object of type 'int' has no len()",
     "output_type": "error",
     "traceback": [
      "\u001b[1;31m---------------------------------------------------------------------------\u001b[0m",
      "\u001b[1;31mTypeError\u001b[0m                                 Traceback (most recent call last)",
      "\u001b[1;32m<ipython-input-93-6c72c585c08d>\u001b[0m in \u001b[0;36m<module>\u001b[1;34m()\u001b[0m\n\u001b[0;32m      5\u001b[0m \u001b[1;33m\u001b[0m\u001b[0m\n\u001b[0;32m      6\u001b[0m \u001b[1;31m# below gives an error because len operator gives length of a list type object, not an integer, which theedee[0][0][0] is\u001b[0m\u001b[1;33m\u001b[0m\u001b[1;33m\u001b[0m\u001b[0m\n\u001b[1;32m----> 7\u001b[1;33m \u001b[1;32mprint\u001b[0m \u001b[0mlen\u001b[0m\u001b[1;33m(\u001b[0m\u001b[0mthreedee\u001b[0m\u001b[1;33m[\u001b[0m\u001b[1;36m0\u001b[0m\u001b[1;33m]\u001b[0m\u001b[1;33m[\u001b[0m\u001b[1;36m0\u001b[0m\u001b[1;33m]\u001b[0m\u001b[1;33m[\u001b[0m\u001b[1;36m0\u001b[0m\u001b[1;33m]\u001b[0m\u001b[1;33m)\u001b[0m\u001b[1;33m\u001b[0m\u001b[0m\n\u001b[0m",
      "\u001b[1;31mTypeError\u001b[0m: object of type 'int' has no len()"
     ]
    }
   ],
   "source": [
    "print \"The length of list [1,2,3,4] is \", len([1,2,3,4])                                              #len works on lists\n",
    "print \"The length of tuple (1,2,3,4) is \", len((1,2,3,4))                                             # len works on tuples\n",
    "print \"The length of dictionary {1:'A', 2:'B', 3:'C', 4:'D'} is \", len ({1:'A', 2:'B', 3:'C', 4:'D'}) # len works on dictionaries\n",
    "print \"The length of set [1,2,3,4] is \", len (set([1, 2, 3,4]))                                       # len works on sets\n",
    "\n",
    "# below gives an error because len operator gives length of a list type object, not an integer, which theedee[0][0][0] is\n",
    "print len(threedee[0][0][0])\n"
   ]
  },
  {
   "cell_type": "code",
   "execution_count": null,
   "metadata": {},
   "outputs": [],
   "source": []
  },
  {
   "cell_type": "markdown",
   "metadata": {},
   "source": [
    "<h2>Generating a List of Numbers with <mark style=\"color:BLUE\">RANGE</mark> funciton</h2>"
   ]
  },
  {
   "cell_type": "code",
   "execution_count": 94,
   "metadata": {},
   "outputs": [
    {
     "name": "stdout",
     "output_type": "stream",
     "text": [
      "[0, 1, 2, 3, 4, 5, 6, 7, 8, 9]\n",
      "[2, 3, 4, 5, 6]\n"
     ]
    }
   ],
   "source": [
    "# Note: the range command gives you a list of numbers between the specified end-points, like this:\n",
    "print range(10)\n",
    "print range(2,7) # range includes first argument upto but not including second.  Just like sub range notation [a:b]"
   ]
  },
  {
   "cell_type": "markdown",
   "metadata": {},
   "source": [
    "<h1> Dictionaries </h1>\n",
    "\n",
    "<b><mark style=\"background-color:YELLOW\">Dictionaries are a type of data structure that associates unique keys with values.</mark> </b> Both keys and values can be any type\n",
    "of data, with the exception that the key cannot be mutable, or subject to change. A number could be a key, for example,\n",
    "but not a variable.\n",
    "\n",
    "<b><mark style=\"background-color:YELLOW\">Dictionaries are declared with {curly braces}, but are accessed with [square brackets], like this:</mark> </b>\n",
    "\n"
   ]
  },
  {
   "cell_type": "code",
   "execution_count": 95,
   "metadata": {},
   "outputs": [
    {
     "name": "stdout",
     "output_type": "stream",
     "text": [
      "1\n"
     ]
    }
   ],
   "source": [
    "#declare a dictionary called number_names\n",
    "number_names = {\"One\": 1, \"Two\": 2} # The string 'One' is the key, and integer 1 the value.\n",
    "print number_names[\"One\"]\n"
   ]
  },
  {
   "cell_type": "markdown",
   "metadata": {},
   "source": [
    "The traditional example used to explain dictionaries is a telephone book, mapping each unique name to a number:\n"
   ]
  },
  {
   "cell_type": "code",
   "execution_count": 96,
   "metadata": {},
   "outputs": [],
   "source": [
    "phone_book = {} # Let the computer know that phone_book is a dictionary, but don't add any values yet.\n",
    "phone_book[\"Alice\"] = \"555-123-4567\"\n",
    "phone_book[\"Bob\"] = \"555-987-6543\"\n"
   ]
  },
  {
   "cell_type": "code",
   "execution_count": 97,
   "metadata": {},
   "outputs": [
    {
     "name": "stdout",
     "output_type": "stream",
     "text": [
      "555-123-4567\n"
     ]
    }
   ],
   "source": [
    "# Access a value of a dictionary by\n",
    "print phone_book[\"Alice\"]"
   ]
  },
  {
   "cell_type": "code",
   "execution_count": 98,
   "metadata": {},
   "outputs": [
    {
     "name": "stdout",
     "output_type": "stream",
     "text": [
      "{'Bob': '555-987-6543', 'Alice': '555-123-4567'}\n"
     ]
    }
   ],
   "source": [
    "print phone_book"
   ]
  },
  {
   "cell_type": "markdown",
   "metadata": {},
   "source": [
    "<h3> Adding an element to an dictionary after delcaration </h3>\n",
    "\n",
    "<b><mark style=\"background-color:YELLOW\"> Unlike with lists, we don't need a special command to add data. If we assign a value to a new key, it's automatically\n",
    "    added to the dictionary.</mark> </b> If we assign a new value to an existing key, it overwrites it. so:"
   ]
  },
  {
   "cell_type": "code",
   "execution_count": 99,
   "metadata": {},
   "outputs": [
    {
     "name": "stdout",
     "output_type": "stream",
     "text": [
      "{'Bob': '555-987-6543', 'Alice': '555-123-4567'}\n",
      "{'Bob': '555-987-6543', 'Alice': '555-123-4567', 'Carol': '555-314-1519'}\n",
      "{'Bob': '555-987-6543', 'Alice': '555-123-4567', 'Carol': '555-271-8281'}\n"
     ]
    }
   ],
   "source": [
    "print phone_book\n",
    "#add Carol to phone book.  No special operation needed.\n",
    "phone_book[\"Carol\"] = \"555-314-1519\"\n",
    "print phone_book\n",
    "# UPDATE carols phone number.  Changes the entry above.\n",
    "phone_book[\"Carol\"] = \"555-271-8281\"\n",
    "print phone_book"
   ]
  },
  {
   "cell_type": "markdown",
   "metadata": {},
   "source": [
    "Notice that the dictionary items (key-value pairs) aren't displayed in any particular order -- in fact, they aren't even\n",
    "displayed in the order in which we added them. <b><mark style=\"background-color:YELLOW\">Unlike lists, dictionaries are inherently unordered.<mark></b>\n"
   ]
  },
  {
   "cell_type": "markdown",
   "metadata": {},
   "source": [
    "<h3> Dictonary methods: <b> <mark style=\"color:blue\">Keys</mark> </b>, <b><mark style=\"color:blue\"> Items <mark></b> and <b> <mark style=\"color:blue\">Values </mark></b> </h3> \n",
    "\n",
    "We can get all the keys and all the values in a dictionary using .keys() and .values() and .items(), like this:"
   ]
  },
  {
   "cell_type": "code",
   "execution_count": 100,
   "metadata": {},
   "outputs": [
    {
     "name": "stdout",
     "output_type": "stream",
     "text": [
      "['Bob', 'Alice', 'Carol']\n",
      "['555-987-6543', '555-123-4567', '555-271-8281']\n",
      "[('Bob', '555-987-6543'), ('Alice', '555-123-4567'), ('Carol', '555-271-8281')]\n"
     ]
    }
   ],
   "source": [
    "print phone_book.keys()     # keys returns a list of the dictionary key values\n",
    "print phone_book.values()   # values returns a list of the dictionary values \n",
    "print phone_book.items()    # items returns tuples with the first element of tuple being the key, \n",
    "                            # and the second element of the tuple being the value associated with the key."
   ]
  },
  {
   "cell_type": "markdown",
   "metadata": {},
   "source": [
    "Notice that these methods return lists, which we can use just like the lists we created above.\n"
   ]
  },
  {
   "cell_type": "code",
   "execution_count": 101,
   "metadata": {},
   "outputs": [
    {
     "name": "stdout",
     "output_type": "stream",
     "text": [
      "Alice\n"
     ]
    }
   ],
   "source": [
    "# since the keys method returns a list, we can use square braket operate to select a specific element\n",
    "print phone_book.keys()[1]\n"
   ]
  },
  {
   "cell_type": "code",
   "execution_count": null,
   "metadata": {},
   "outputs": [],
   "source": []
  },
  {
   "cell_type": "markdown",
   "metadata": {},
   "source": [
    "<h3> Python Lists can store multiple data item types </h3>\n",
    "\n",
    "Lists can store data of all different types together. For example, the list below has an integer, a float and a string:"
   ]
  },
  {
   "cell_type": "code",
   "execution_count": 102,
   "metadata": {},
   "outputs": [
    {
     "name": "stdout",
     "output_type": "stream",
     "text": [
      "No.\n",
      "And yes.\n"
     ]
    }
   ],
   "source": [
    "some_numbers = [1, 5, -2, 18, 6.312375]\n",
    "if 2 in some_numbers:\n",
    "    print \"Yes\"\n",
    "else:\n",
    "    print \"No.\"\n",
    "if 5 in some_numbers:\n",
    "    print \"And yes.\""
   ]
  },
  {
   "cell_type": "code",
   "execution_count": 103,
   "metadata": {},
   "outputs": [
    {
     "name": "stdout",
     "output_type": "stream",
     "text": [
      "Yes.\n",
      "But no\n"
     ]
    }
   ],
   "source": [
    "some_values = {\"One\": 1, \"Two\": 2, \"Three\": 3}\n",
    "if \"One\" in some_values:  # When looking inside dictionares we are looking at the Keys not the Values.\n",
    "    print \"Yes.\"\n",
    "    \n",
    "if 1 in some_values:\n",
    "    print \"And yes.\"\n",
    "else:\n",
    "    print \"But no\"\n"
   ]
  },
  {
   "cell_type": "markdown",
   "metadata": {},
   "source": [
    "<h1>Tuples</h1>\n",
    "<p> A <b><mark style=\"color:BLUE\">tuple</mark></b> is an immutable list. A tuple can not be changed in any way once it is created. <p>\n",
    "\n",
    "<h2> Creating a tuple </h2>\n",
    "\n",
    "<p><mark style=\"background-color:YELLOW\"> A <b>tuple</b> is defined in the same way as a <b>list</b>, except that the whole set of elements is enclosed <b>OPTIONALLY</b> in parentheses instead of square brackets.</mark> </p>"
   ]
  },
  {
   "cell_type": "code",
   "execution_count": 109,
   "metadata": {},
   "outputs": [
    {
     "name": "stdout",
     "output_type": "stream",
     "text": [
      "(1, 2, 3)\n",
      "t1 is type  <type 'tuple'>\n",
      "(4, 'Unicorn', 6)\n",
      "t2 is type  <type 'tuple'>\n"
     ]
    }
   ],
   "source": [
    "t1 = (1,2,3)  # Create a tuple\n",
    "print t1\n",
    "print \"t1 is type \",type(t1)\n",
    "\n",
    "t2 = 4,\"Unicorn\",6  #  When creating a tuple, the parenthesis are optional, also like lists, tuples don't need to be of same type\n",
    "print t2\n",
    "print \"t2 is type \", type(t2)"
   ]
  },
  {
   "cell_type": "markdown",
   "metadata": {},
   "source": [
    "<h2> Accessing <mark style=\"color:BLUE\">Tuple</mark> Elements </h2>\n",
    "\n",
    "<p><mark style=\"background-color:YELLOW\"> The elements of a <b>tuple</b> have a defined order, just like a <b>list</b>. \n",
    "    <b>Tuples</b> indices are zero-based, just like a <b>list</b>, so the first element of a non-empty <b>tuple</b> is always t[0].</mark> </p>\n",
    "\n"
   ]
  },
  {
   "cell_type": "code",
   "execution_count": 110,
   "metadata": {},
   "outputs": [
    {
     "name": "stdout",
     "output_type": "stream",
     "text": [
      "The first element of t1 is  1\n",
      "The second negative element of t2 is  Unicorn\n",
      "Slice 2:3 of list t3 is  ('c', 'd')\n"
     ]
    }
   ],
   "source": [
    "print \"The first element of t1 is \", t1[0]\n",
    "print \"The second negative element of t2 is \", t2[-2]  # Negative indices count from the end of the tuple, just as with a list.\n",
    "t3 = \"a\",\"b\",\"c\",\"d\",\"e\"\n",
    "print \"Slice 2:3 of list t3 is \", t3[2:4]"
   ]
  },
  {
   "cell_type": "code",
   "execution_count": 111,
   "metadata": {
    "scrolled": true
   },
   "outputs": [
    {
     "name": "stdout",
     "output_type": "stream",
     "text": [
      "I found a Unicorn\n",
      "The unicorn is at  1\n",
      "Are you a Unicorn?\n",
      "Nope\n",
      "Are you a Unicorn?\n",
      "Yep\n",
      "Are you a Unicorn?\n",
      "Nope\n"
     ]
    }
   ],
   "source": [
    "if \"Unicorn\" in t2:              # You can use the \"in\" operator to see if there is a matching element value in a tuple.\n",
    "    print \"I found a Unicorn\"\n",
    "    print \"The unicorn is at \", t2.index(\"Unicorn\") #You can find elements in a tuple using the \"index\" method\n",
    "    \n",
    "for i in t2:\n",
    "    print \"Are you a Unicorn?\"\n",
    "    if i ==\"Unicorn\":\n",
    "        print \"Yep\"\n",
    "    else:\n",
    "        print \"Nope\"\n",
    "    "
   ]
  },
  {
   "cell_type": "markdown",
   "metadata": {},
   "source": [
    "<h2> <mark style=\"color:blue\">Tuples</mark> are Immutable </h2>\n",
    "<p><mark style=\"background-color:YELLOW\">Unlike <b>lists</b>, once you create a <b>tuple</b>, you can't add, delete or modify elements.</mark></p>\n"
   ]
  },
  {
   "cell_type": "code",
   "execution_count": 112,
   "metadata": {
    "scrolled": true
   },
   "outputs": [
    {
     "ename": "TypeError",
     "evalue": "'tuple' object does not support item assignment",
     "output_type": "error",
     "traceback": [
      "\u001b[1;31m---------------------------------------------------------------------------\u001b[0m",
      "\u001b[1;31mTypeError\u001b[0m                                 Traceback (most recent call last)",
      "\u001b[1;32m<ipython-input-112-f1dd60851795>\u001b[0m in \u001b[0;36m<module>\u001b[1;34m()\u001b[0m\n\u001b[1;32m----> 1\u001b[1;33m \u001b[0mt2\u001b[0m\u001b[1;33m[\u001b[0m\u001b[1;36m1\u001b[0m\u001b[1;33m]\u001b[0m \u001b[1;33m=\u001b[0m \u001b[1;34m\"rainbow\"\u001b[0m\u001b[1;33m\u001b[0m\u001b[0m\n\u001b[0m\u001b[0;32m      2\u001b[0m \u001b[0mt2\u001b[0m\u001b[1;33m.\u001b[0m\u001b[0mappend\u001b[0m\u001b[1;33m(\u001b[0m\u001b[1;34m\"rainbow\"\u001b[0m\u001b[1;33m)\u001b[0m \u001b[1;31m# you can't add elements to a tuple. Tuples have no append or extend method.\u001b[0m\u001b[1;33m\u001b[0m\u001b[0m\n\u001b[0;32m      3\u001b[0m \u001b[0mt2\u001b[0m\u001b[1;33m.\u001b[0m\u001b[0mremove\u001b[0m\u001b[1;33m(\u001b[0m\u001b[1;36m4\u001b[0m\u001b[1;33m)\u001b[0m \u001b[1;31m# You can't remove elements from a tuple. Tuples have no remove or pop method.\u001b[0m\u001b[1;33m\u001b[0m\u001b[0m\n",
      "\u001b[1;31mTypeError\u001b[0m: 'tuple' object does not support item assignment"
     ]
    }
   ],
   "source": [
    "t2[1] = \"rainbow\"\n",
    "t2.append(\"rainbow\") # you can't add elements to a tuple. Tuples have no append or extend method.\n",
    "t2.remove(4) # You can't remove elements from a tuple. Tuples have no remove or pop method.\n"
   ]
  },
  {
   "cell_type": "code",
   "execution_count": 113,
   "metadata": {
    "scrolled": false
   },
   "outputs": [
    {
     "ename": "AttributeError",
     "evalue": "'tuple' object has no attribute 'remove'",
     "output_type": "error",
     "traceback": [
      "\u001b[1;31m---------------------------------------------------------------------------\u001b[0m",
      "\u001b[1;31mAttributeError\u001b[0m                            Traceback (most recent call last)",
      "\u001b[1;32m<ipython-input-113-35d3aea69e26>\u001b[0m in \u001b[0;36m<module>\u001b[1;34m()\u001b[0m\n\u001b[1;32m----> 1\u001b[1;33m \u001b[0mt2\u001b[0m\u001b[1;33m.\u001b[0m\u001b[0mremove\u001b[0m\u001b[1;33m(\u001b[0m\u001b[1;36m4\u001b[0m\u001b[1;33m)\u001b[0m \u001b[1;31m# You can't remove elements from a tuple. Tuples have no remove or pop method.\u001b[0m\u001b[1;33m\u001b[0m\u001b[0m\n\u001b[0m",
      "\u001b[1;31mAttributeError\u001b[0m: 'tuple' object has no attribute 'remove'"
     ]
    }
   ],
   "source": [
    "t2.remove(4) # You can't remove elements from a tuple. Tuples have no remove or pop method."
   ]
  },
  {
   "cell_type": "markdown",
   "metadata": {},
   "source": [
    "<h2> Why use Tuples?</h2>\n",
    "\n",
    "<p>Since tuples have less flexibility than lists, why would you want to use them?<p>\n",
    "\n",
    "<ul>\n",
    "<li>Tuples are faster than lists. If you're defining a constant set of values and all you're ever going to do with it is iterate through it, use a tuple instead of a list.</li>\n",
    "<li>It makes your code safer if you “write-protect” data that does not need to be changed. Using a tuple instead of a list is like having an implied assert statement that shows this data is constant, and that special thought (and a specific function) is required to override that.</li>\n",
    "<li>\n",
    "Remember that I said that dictionary keys can be integers, strings, and “a few other types”? Tuples are one of those types. <mark style=\"background-color:yellow\">Tuples can be used as keys in a dictionary, but lists can't be used this way.</mark>Actually, it's more complicated than that. Dictionary keys must be immutable. Tuples themselves are immutable, but if you have a tuple of lists, that counts as mutable </li>\n",
    "<li>\n",
    "Tuples are used in string formatting, as you'll see shortly.\n",
    "</li>\n",
    "\n",
    "</ul>"
   ]
  },
  {
   "cell_type": "markdown",
   "metadata": {
    "collapsed": true
   },
   "source": [
    "<h1> Convert a List to a Tuple </h1>\n",
    "\n",
    "<p>A list can created from a tuple using the tuple() built in function.  In fact tuple() can convert any iterable (list, string, set, dictionary) to a tuple.</p>"
   ]
  },
  {
   "cell_type": "code",
   "execution_count": 128,
   "metadata": {},
   "outputs": [
    {
     "name": "stdout",
     "output_type": "stream",
     "text": [
      "['A', 'B', 'C']\n",
      "type alist = <type 'list'>\n",
      "('A', 'B', 'C')\n",
      "type atuple = <type 'tuple'>\n"
     ]
    }
   ],
   "source": [
    "# create a list\n",
    "alist = [\"A\",\"B\",\"C\"]\n",
    "print alist\n",
    "print \"type alist =\", type(alist)\n",
    "\n",
    "# creat a tuple from list\n",
    "atuple=tuple(alist)\n",
    "print atuple\n",
    "print \"type atuple =\", type(atuple)"
   ]
  },
  {
   "cell_type": "markdown",
   "metadata": {},
   "source": [
    "<h1> Assigning Mutltiple Values to several Different Variables  All at Once </h1>\n",
    "\n",
    "<p> You can use the following syntax to assign from a list of values to a list of variables <p>"
   ]
  },
  {
   "cell_type": "code",
   "execution_count": 115,
   "metadata": {},
   "outputs": [
    {
     "name": "stdout",
     "output_type": "stream",
     "text": [
      "MONDAY =  0\n",
      "TUESDAY =  1\n",
      "WEDNESDAY =  2\n",
      "THURSDAY =  3\n",
      "FRIDAY =  4\n",
      "SATURDAY =  5\n",
      "SUNDAY =  6\n",
      "A B C\n"
     ]
    }
   ],
   "source": [
    "# This is sort of like declaring an enumerated type.\n",
    "MONDAY, TUESDAY, WEDNESDAY, THURSDAY, FRIDAY, SATURDAY, SUNDAY = range(7)\n",
    "print \"MONDAY = \", MONDAY\n",
    "print \"TUESDAY = \", TUESDAY\n",
    "print \"WEDNESDAY = \", WEDNESDAY\n",
    "print \"THURSDAY = \", THURSDAY\n",
    "print \"FRIDAY = \", FRIDAY\n",
    "print \"SATURDAY = \", SATURDAY\n",
    "print \"SUNDAY = \", SUNDAY\n",
    "\n",
    "# An alternative syntax is to put the values in paranthesis\n",
    "(ALPHA,BETA,GAMMA) = [\"A\",\"B\",\"C\"]\n",
    "print ALPHA, BETA, GAMMA\n",
    "\n"
   ]
  },
  {
   "cell_type": "markdown",
   "metadata": {},
   "source": [
    "<h1> Assigning Single Value to Multiple Variables </h1>\n",
    "\n",
    "<p>Python allows you to assign a single value to several variables simultaneously. For example − </p>"
   ]
  },
  {
   "cell_type": "code",
   "execution_count": 140,
   "metadata": {},
   "outputs": [
    {
     "name": "stdout",
     "output_type": "stream",
     "text": [
      "1 1 1\n"
     ]
    }
   ],
   "source": [
    "v1 = v2 = v3 = 1\n",
    "print v1, v2, v3"
   ]
  },
  {
   "cell_type": "markdown",
   "metadata": {
    "collapsed": true
   },
   "source": [
    "<h2>Sets</h2>\n",
    "<p>\n",
    "Lists efficiently store an ordered collection of elements, but sometimes we need a collection that can quickly determine membership. (More about what \"quickly\" actually means later). A set supports this case efficiently. However, in exchange for this efficiency it does not support duplicate values, and does not remember the order in which things were added.\n",
    "To return to our example, presume we wanted to keep track of the first names of everybody who provides a rating of 1.5 or lower:</p>\n"
   ]
  },
  {
   "cell_type": "code",
   "execution_count": 138,
   "metadata": {},
   "outputs": [
    {
     "name": "stdout",
     "output_type": "stream",
     "text": [
      "<type 'set'>\n",
      "set(['Paul', 'Mark'])\n",
      "Paul is a low rater\n",
      "Mark is a low rater\n",
      "Paul is a low rater\n",
      "John is not a low rater\n"
     ]
    }
   ],
   "source": [
    "book_ratings_1 = {\"Paul\":1.0 , \"John\":3.0, \"Brian\":4.0}\n",
    "book_ratings_2 =  {\"Mark\":2.0 , \"Chris\":2.5, \"Brian\":4.0, \"Paul\": 2.2}\n",
    "\n",
    "low_raters = set() # creates an empty set\n",
    "\n",
    "for name in book_ratings_1:\n",
    "    if book_ratings_1[name] < 2.5:\n",
    "        low_raters.add(name)                  # add method of set operator adds element to set\n",
    "\n",
    "for name in book_ratings_2:\n",
    "    if book_ratings_2[name] < 2.5:\n",
    "        low_raters.add(name)                  # add method of set operator adds element to set\n",
    "\n",
    "        \n",
    "print type(low_raters)\n",
    "print low_raters\n",
    "\n",
    "# Notice list only has Paul in it once even though he appears as a low rater in each list.\n",
    "for name in low_raters:\n",
    "    print name + \" is a low rater\"\n",
    "    \n",
    "# check membership for a set using in.\n",
    "if \"Paul\" in low_raters:\n",
    "    print \"Paul is a low rater\"\n",
    "else :\n",
    "    print \"Paul is not a low rater\"\n",
    "\n",
    "if \"John\" in low_raters:\n",
    "    print \"John is a low rater\"\n",
    "else :\n",
    "    print \"John is not a low rater\"\n"
   ]
  },
  {
   "cell_type": "markdown",
   "metadata": {},
   "source": [
    "<h2>Converting a List to a Set</h2>\n",
    "<p>You can create a set from a list using the built-in function set() </p>"
   ]
  },
  {
   "cell_type": "code",
   "execution_count": 139,
   "metadata": {},
   "outputs": [
    {
     "name": "stdout",
     "output_type": "stream",
     "text": [
      "[1, 2, 3, 2]\n",
      "<type 'set'>\n",
      "set([1, 2, 3])\n"
     ]
    }
   ],
   "source": [
    "# create a list\n",
    "a=[1,2,3,2]\n",
    "print a\n",
    "# create a set from a list\n",
    "b=set(a)\n",
    "print type(b)\n",
    "print b\n"
   ]
  },
  {
   "cell_type": "markdown",
   "metadata": {},
   "source": [
    "<h2>Data Type Conversion</h2>\n",
    "\n",
    "<p>\n",
    "Sometimes, you may need to perform conversions between the built-in types. To convert between types, you simply use the type name as a function.\n",
    "</p>\n",
    "\n",
    "<p>There are several built-in functions to perform conversion from one data type to another. These functions return a new object representing the converted value.</p>\n",
    "\n",
    "<table>\n",
    "<tr>\n",
    "    <td> int(x [,base])</td>  <td>Converts x to an integer. base specifies the base if x is a string.</td>\n",
    " </tr>\t\n",
    "\n",
    "<tr>\n",
    "    <td>long(x [,base] )</td>  <td> Converts x to a long integer. base specifies the base if x is a string.</td>\n",
    "</tr>\n",
    "\n",
    "<tr>\n",
    "    <td>float(x)</td> <td>Converts x to a floating-point number.</td>\n",
    "</tr>\n",
    "\n",
    "<tr>\n",
    "    <td>complex(real [,imag])</td> <td>Creates a complex number.</td>\n",
    "</tr>\n",
    "\n",
    "<tr>\n",
    "    <td>str(x)</td> <td>Converts object x to a string representation.</td>\n",
    "</tr>\n",
    "\n",
    "<tr>\n",
    "    <td>repr(x)</td> <td> Converts object x to an expression string. </td>\n",
    "</tr>\n",
    "    \t\n",
    "<tr>\n",
    "    <td>eval(str)</td> <td> Evaluates a string and returns an object. </td>\n",
    "</tr>\n",
    "\n",
    "<tr>\n",
    "    <td> tuple(s) </td> <td>Converts s to a tuple. </td>\n",
    "</tr>\n",
    "\n",
    "<tr>\n",
    "    <td> list(s) </td>  <td> Converts s to a list. </td>\n",
    "</tr>\n",
    "\n",
    "<tr> \n",
    "    <td> set(s) </td> <td> Converts s to a set. </td>\n",
    "</tr>\n",
    "\n",
    "<tr>\n",
    "    <td> dict(d) </td> <td> Creates a dictionary. d must be a sequence of (key,value) tuples. </td>\n",
    "<tr>\n",
    "\n",
    "<tr>\n",
    "    <td> frozenset(s) </td> <td> Converts s to a frozen set. </td>\n",
    "</tr>\n",
    "\n",
    "<tr>\n",
    "    <td>chr(x) </td> <td> Converts an integer to a character. </td>\n",
    "</tr>\n",
    "\n",
    "<tr>\n",
    "    <td> Unichr(x) </td> <td> Converts an integer to a Unicode character. </td>\n",
    "</tr>\n",
    "\n",
    "<tr>\n",
    "    <td> ord(x) </td> <td> Converts a single character to its integer value. </td>\n",
    "</tr>\n",
    "\n",
    "<tr>\n",
    "    <td>hex(x) </td> <td>Converts an integer to a hexadecimal string. </td>\n",
    "</tr>\n",
    "  \n",
    "<tr>\n",
    "    <td>oct(x)</td> <td> Converts an integer to an octal string. </td>\n",
    "</tr>\n",
    "</table>"
   ]
  },
  {
   "cell_type": "markdown",
   "metadata": {},
   "source": [
    "<h1>Multiple Statement Groups as Suites</h1>\n",
    "\n",
    "<p>A group of individual statements, which make a single code block are called <b><mark style=\"color:blue\">suites</mark></b> in Python. Compound or complex statements, such as <b><mark style=\"color:blue\">if</mark></b>, <b><mark style=\"color:blue\">while</mark></b>, <b><mark style=\"color:blue\">def</mark></b>, and <b><mark style=\"color:blue\">class</mark></b> require a <b><mark style=\"color:blue\">header line </mark></b>and a <b><mark style=\"color:blue\">suite</mark></b>.<p>\n",
    "\n",
    "<b><mark style=\"color:blue\">Header lines</mark></b> begin the statement (with the keyword) and terminate with a colon ( : ) and are followed by one or more lines which make up the <b><mark style=\"color:blue\">suite</mark></b>. For example −"
   ]
  },
  {
   "cell_type": "code",
   "execution_count": 205,
   "metadata": {},
   "outputs": [
    {
     "name": "stdout",
     "output_type": "stream",
     "text": [
      "a doesn't equal b\n",
      "how sad\n"
     ]
    }
   ],
   "source": [
    "a=1\n",
    "b=2\n",
    "if a==b :                         # header line 1\n",
    "   print \"a does equal b\"         # Suite 1\n",
    "   print \"isn'that interesting\"\n",
    "else  :                           # header line 2   \n",
    "   print \"a doesn't equal b\"      # Suite 2\n",
    "   print \"how sad\""
   ]
  },
  {
   "cell_type": "code",
   "execution_count": null,
   "metadata": {},
   "outputs": [],
   "source": []
  },
  {
   "cell_type": "code",
   "execution_count": null,
   "metadata": {},
   "outputs": [],
   "source": []
  }
 ],
 "metadata": {
  "kernelspec": {
   "display_name": "Python 2",
   "language": "python",
   "name": "python2"
  },
  "language_info": {
   "codemirror_mode": {
    "name": "ipython",
    "version": 2
   },
   "file_extension": ".py",
   "mimetype": "text/x-python",
   "name": "python",
   "nbconvert_exporter": "python",
   "pygments_lexer": "ipython2",
   "version": "2.7.15"
  }
 },
 "nbformat": 4,
 "nbformat_minor": 1
}
