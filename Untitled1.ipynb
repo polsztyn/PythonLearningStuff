{
 "cells": [
  {
   "cell_type": "markdown",
   "metadata": {},
   "source": [
    "<h1>The Python System and Programming Overview <h1>"
   ]
  },
  {
   "cell_type": "markdown",
   "metadata": {},
   "source": [
    "<p>Here is a complete, working Python program. </p>\n",
    "\n",
    "<p>It probably makes absolutely no sense to you. Don't worry about that, because you're going to \n",
    "dissect it line by line. But read through it first and see what, if anything, you can make of it. </p>\n",
    "\n"
   ]
  },
  {
   "cell_type": "code",
   "execution_count": 3,
   "metadata": {
    "collapsed": false
   },
   "outputs": [
    {
     "name": "stdout",
     "output_type": "stream",
     "text": [
      "pwd=secret;database=master;uid=sa;server=mpilgrim\n"
     ]
    }
   ],
   "source": [
    "def buildConnectionString(params):\n",
    "    \"\"\"Build a connection string from a dictionary of parameters.\n",
    "\n",
    "    Returns string.\"\"\"\n",
    "    return \";\".join([\"%s=%s\" % (k, v) for k, v in params.items()])\n",
    "\n",
    "if __name__ == \"__main__\":\n",
    "    myParams = {\"server\":\"mpilgrim\", \\\n",
    "                \"database\":\"master\", \\\n",
    "                \"uid\":\"sa\", \\\n",
    "                \"pwd\":\"secret\" \\\n",
    "                }\n",
    "    print buildConnectionString(myParams)\n"
   ]
  },
  {
   "cell_type": "code",
   "execution_count": null,
   "metadata": {
    "collapsed": true
   },
   "outputs": [],
   "source": []
  }
 ],
 "metadata": {
  "kernelspec": {
   "display_name": "Python 2",
   "language": "python",
   "name": "python2"
  },
  "language_info": {
   "codemirror_mode": {
    "name": "ipython",
    "version": 2
   },
   "file_extension": ".py",
   "mimetype": "text/x-python",
   "name": "python",
   "nbconvert_exporter": "python",
   "pygments_lexer": "ipython2",
   "version": "2.7.10"
  }
 },
 "nbformat": 4,
 "nbformat_minor": 0
}
