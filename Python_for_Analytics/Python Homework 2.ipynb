{
 "cells": [
  {
   "cell_type": "markdown",
   "metadata": {},
   "source": [
    "<h1>Week 2 Homework: Loading data</h1>"
   ]
  },
  {
   "cell_type": "markdown",
   "metadata": {},
   "source": [
    "<h2>Question 1 </h2>"
   ]
  },
  {
   "cell_type": "markdown",
   "metadata": {},
   "source": [
    "Load the MovieData.csv dataset as described in this week's lesson, and use it to find the following values:"
   ]
  },
  {
   "cell_type": "code",
   "execution_count": 1,
   "metadata": {
    "collapsed": false
   },
   "outputs": [],
   "source": [
    "def convert_to_int(text):\n",
    "    '''\n",
    "    convert input string into integer\n",
    "    '''\n",
    "    try:\n",
    "        return int(text)\n",
    "    except:\n",
    "        return None\n"
   ]
  },
  {
   "cell_type": "code",
   "execution_count": 2,
   "metadata": {
    "collapsed": false
   },
   "outputs": [],
   "source": [
    "def find_mean(num_list):\n",
    "    '''\n",
    "    Find the average of num_list\n",
    "    '''\n",
    "    total = 0.0\n",
    "    good_val_count = 0\n",
    "    for x in num_list:\n",
    "        try:\n",
    "            total += x\n",
    "            good_val_count += 1\n",
    "        except:\n",
    "            total\n",
    "    return total / good_val_count"
   ]
  },
  {
   "cell_type": "code",
   "execution_count": 3,
   "metadata": {
    "collapsed": false
   },
   "outputs": [
    {
     "name": "stdout",
     "output_type": "stream",
     "text": [
      "Release_Date\tMovie\tDistributor\tBudget\tUS Gross\tWorldwide Gross\n",
      "\n"
     ]
    }
   ],
   "source": [
    "f = open(\"MovieData.csv\")\n",
    "rows = []\n",
    "first_row = f.readline() # Save the first row, and move to the next one\n",
    "print first_row\n",
    "for raw_row in f: # This will actually start from the second row.\n",
    "    row = raw_row.split(\"\\t\")\n",
    "    row[3] = convert_to_int(row[3]) # Budget\n",
    "    row[4] = convert_to_int(row[4]) # US Gross\n",
    "    row[5] = convert_to_int(row[5]) # Worldwide Gross\n",
    "    rows.append(row)\n"
   ]
  },
  {
   "cell_type": "markdown",
   "metadata": {},
   "source": [
    "<h2>a. What is the average US Gross of movies in the dataset?<h2>"
   ]
  },
  {
   "cell_type": "code",
   "execution_count": 4,
   "metadata": {
    "collapsed": false
   },
   "outputs": [
    {
     "name": "stdout",
     "output_type": "stream",
     "text": [
      "The averague US Gross is  44185793.4422\n"
     ]
    }
   ],
   "source": [
    "all_us_gross = [row[4] for row in rows]\n",
    "print \"The averague US Gross is \", find_mean(all_us_gross)"
   ]
  },
  {
   "cell_type": "markdown",
   "metadata": {},
   "source": [
    "<h2>b. How many movies in the dataset have budgets greater than $20 million?</h2>"
   ]
  },
  {
   "cell_type": "code",
   "execution_count": 5,
   "metadata": {
    "collapsed": false
   },
   "outputs": [
    {
     "name": "stdout",
     "output_type": "stream",
     "text": [
      "The number of budgets greater than $20 million is  1657\n"
     ]
    }
   ],
   "source": [
    "all_budgets = [row[3] for row in rows]\n",
    "big_budget = 0\n",
    "for budget in all_budgets:\n",
    "    if budget > 20000000 and budget:\n",
    "        big_budget += 1\n",
    "print \"The number of budgets greater than $20 million is \", big_budget"
   ]
  },
  {
   "cell_type": "markdown",
   "metadata": {},
   "source": [
    "<h2> c, How many movies were released by each film distributor? (Hint: this could be a good place to use dictionaries) </h2>\n"
   ]
  },
  {
   "cell_type": "code",
   "execution_count": 6,
   "metadata": {
    "collapsed": false
   },
   "outputs": [],
   "source": [
    "all_distributors=[row[2] for row in rows]\n",
    "distributor_count = {}\n",
    "for d in all_distributors:\n",
    "    if d not in distributor_count:\n",
    "        distributor_count[d]=1\n",
    "    else:\n",
    "        distributor_count[d]=distributor_count[d]+1\n",
    "        "
   ]
  },
  {
   "cell_type": "code",
   "execution_count": 7,
   "metadata": {
    "collapsed": false
   },
   "outputs": [
    {
     "name": "stdout",
     "output_type": "stream",
     "text": [
      " released  659  films\n",
      "Lions Gate released  1  films\n",
      "Alliance released  4  films\n",
      "Sony/Screen Gems released  1  films\n",
      "TriStar Pictures released  4  films\n",
      "Destination released  4  films\n",
      "Painted Zebra Releasing released  1  films\n",
      "Access released  1  films\n",
      "Rainforest Films released  1  films\n",
      "Truly Indie released  1  films\n",
      "Artisan released  23  films\n",
      "Halestorm Entertainment released  1  films\n",
      "Roadside released  2  films\n",
      "Walt Disney Pictures released  1  films\n",
      "First Independent Pictures released  1  films\n",
      "David Keith Co. released  1  films\n",
      "New Line released  138  films\n",
      "Columbia released  26  films\n",
      "Freestyle released  2  films\n",
      "Apparition released  4  films\n",
      "RKO released  2  films\n",
      "Freestyle/Darko released  1  films\n",
      "Universal/Arenas Entertainment released  1  films\n",
      "CBS Films released  3  films\n",
      "Tartan released  1  films\n",
      "Orion Classics released  1  films\n",
      "IFC Films released  20  films\n",
      "Rogue Pictures released  1  films\n",
      "New World released  5  films\n",
      "Lionsgate released  13  films\n",
      "Island released  1  films\n",
      "Monterey Media released  1  films\n",
      "RED HOR released  1  films\n",
      "New Century Vista Film Company released  1  films\n",
      "Big Pictures released  1  films\n",
      "Paramount Classics released  12  films\n",
      "Warner Independent Pictures released  7  films\n",
      "Attitude Films released  1  films\n",
      "Good Machine released  1  films\n",
      "Inerstar released  1  films\n",
      "Triumph released  1  films\n",
      "Screen Gems released  1  films\n",
      "Shotwell Media released  1  films\n",
      "New World Pictures released  1  films\n",
      "Lions Gate/IFC Films/Fellowship Adventure Group released  1  films\n",
      "Shooting Gallery released  1  films\n",
      "JeTi Films released  1  films\n",
      "Avco Embassy released  5  films\n",
      "Picturehouse released  6  films\n",
      "Magnolia Pictures released  1  films\n",
      "Savoy released  3  films\n",
      "New Yorker released  2  films\n",
      "Anchor Bay released  4  films\n",
      "Mulberry Square Releasing released  1  films\n",
      "First Look Pictures released  1  films\n",
      "Power Point released  1  films\n",
      "Independent Artists released  1  films\n",
      "3D Entertainment released  1  films\n",
      "Yash Raj released  1  films\n",
      "Polygram Films released  5  films\n",
      "Zeitgeist released  7  films\n",
      "Paladin released  1  films\n",
      "Regent Releasing released  1  films\n",
      "Zion released  1  films\n",
      "Weinstein Co. released  33  films\n",
      "Oscilloscope released  2  films\n",
      "DreamWorks SKG released  78  films\n",
      "Roadside Attractions released  4  films\n",
      "Damiano released  1  films\n",
      "Lavender House released  1  films\n",
      "Goldwyn released  6  films\n",
      "Sony released  312  films\n",
      "Strand Releasing released  2  films\n",
      "RS Entertainment released  1  films\n",
      "Strand released  8  films\n",
      "Universal/Rogue released  1  films\n",
      "Kino released  5  films\n",
      "Lot 47 released  1  films\n",
      "ThinkFilm released  9  films\n",
      "Artistic License released  1  films\n",
      "United Film Distribution released  2  films\n",
      "Paramount Pictures released  258  films\n",
      "Trimark released  9  films\n",
      "October Films released  1  films\n",
      "RAIN released  1  films\n",
      "Walt Disney Co. released  9  films\n",
      "Galactic released  1  films\n",
      "Palm/Manga released  1  films\n",
      "Dimension released  28  films\n",
      "Paramount Vantage released  3  films\n",
      "Fine Line released  16  films\n",
      "American International Pictures released  1  films\n",
      "Videos released  1  films\n",
      "RBC Radio, LLC released  1  films\n",
      "Barking Cow released  1  films\n",
      "USA Films released  15  films\n",
      "Destination Films released  2  films\n",
      "MGM released  3  films\n",
      "INWOO released  1  films\n",
      "Samuel Goldwyn Films released  1  films\n",
      "Gramercy released  12  films\n",
      "Embassy released  1  films\n",
      "Phaedra released  2  films\n",
      "IDP/Stratosphere released  1  films\n",
      "Sony Pictures released  2  films\n",
      "LIONS released  1  films\n",
      "Bigger Picture released  1  films\n",
      "Giant released  1  films\n",
      "Dimension Films released  2  films\n",
      "Magnolia released  15  films\n",
      "Lorimar released  2  films\n",
      "IDP released  2  films\n",
      "Providence released  2  films\n",
      "Miramax released  135  films\n",
      "Warner Bros. released  311  films\n",
      "Film Foundry released  1  films\n",
      "Weinstein Ci. released  1  films\n",
      "Palm Pictures released  3  films\n",
      "Disney released  1  films\n",
      "FilmDistrict released  1  films\n",
      "Lion's Gate released  79  films\n",
      "Buena Vista released  227  films\n",
      "CHRIST released  1  films\n",
      "PION released  1  films\n",
      "WellSpring released  2  films\n",
      "Rogue released  1  films\n",
      "New Films Int'l released  1  films\n",
      "8 X Entertainment released  1  films\n",
      "Weintraub released  2  films\n",
      "Off Hollywood Pictures released  1  films\n",
      "J.F. Prods released  1  films\n",
      "Jerry Gross Organization released  1  films\n",
      "October released  6  films\n",
      "Cloud Ten Pictures released  1  films\n",
      "Cinema Service released  1  films\n",
      "Cowboy released  7  films\n",
      "Indican released  7  films\n",
      "Film Sales Co. released  1  films\n",
      "Weinstein/Dimension released  1  films\n",
      "DEJ Productions released  1  films\n",
      "Summit released  11  films\n",
      "ART released  1  films\n",
      "Vitagraph Films released  2  films\n",
      "Small Planet released  1  films\n",
      "Samuel Goldwyn released  9  films\n",
      "Regent released  1  films\n",
      "Universal released  261  films\n",
      "Music Box released  1  films\n",
      "Relativity released  1  films\n",
      "Hemdale Film Coorporation released  1  films\n",
      "Senator Films released  1  films\n",
      "Cinema con Sabor released  1  films\n",
      "Orion released  17  films\n",
      "MORO released  1  films\n",
      "Five and Two Pictures released  1  films\n",
      "Newmarket Films released  1  films\n",
      "United Artists released  23  films\n",
      "Wellspring released  1  films\n",
      "Galaxy released  1  films\n",
      "Eros released  5  films\n",
      "MGM/UA released  137  films\n",
      "Testimony Pictures released  1  films\n",
      "Focus Features released  36  films\n",
      "Black Diamond Pictures released  1  films\n",
      "Odeon released  1  films\n",
      "IDP/Gold Circle released  1  films\n",
      "Warner Independent released  3  films\n",
      "Fabrication Films released  1  films\n",
      "NEW LTN released  1  films\n",
      "Sony Classics released  78  films\n",
      "IDP/Sam Goldwyn released  1  films\n",
      "Off-Hollywood Distribution released  1  films\n",
      "NORTH released  1  films\n",
      "Sony/Gems released  1  films\n",
      "First Look released  9  films\n",
      "Overture Films released  1  films\n",
      "New Market released  7  films\n",
      "TLA Releasing released  1  films\n",
      "WinStar released  1  films\n",
      "Overture released  6  films\n",
      "Legacy released  1  films\n",
      "Atlantic released  1  films\n",
      "Sony/Tristar released  1  films\n",
      "Excel Entertainment released  5  films\n",
      "Weinstein released  1  films\n",
      "The Movie Partners released  1  films\n",
      "Consolidated Pictures Group released  1  films\n",
      "OpenEdge Media released  1  films\n",
      "Romar released  1  films\n",
      "Summit Entertainment released  3  films\n",
      "IDP/Goldwyn released  2  films\n",
      "Fox Searchlight released  65  films\n",
      "Avatar released  1  films\n",
      "Island/Alive released  1  films\n",
      "Film Movement released  2  films\n",
      "Outrider Pictures released  1  films\n",
      "Live Entertainment released  3  films\n",
      "Roxie Releasing released  1  films\n",
      "CustomFlix released  1  films\n",
      "Filmways released  2  films\n",
      "Winstar released  1  films\n",
      "Palisades Entertainment released  1  films\n",
      "Stratosphere released  1  films\n",
      "Third Rail released  2  films\n",
      "20th Century Fox released  230  films\n",
      "Cannon released  4  films\n",
      "Empire released  1  films\n",
      "Halestorm released  1  films\n",
      "CFP released  1  films\n"
     ]
    }
   ],
   "source": [
    "for d in distributor_count:\n",
    "    print d,\"released \", distributor_count[d], \" films\"\n"
   ]
  },
  {
   "cell_type": "markdown",
   "metadata": {},
   "source": [
    "<h2>Question 2</h2>\n",
    "\n",
    "Load the earthquake data in QuakeData.csv, and use it to answer the following questions:\n",
    "\n",
    "<h2> a. How many earthquakes are in the dataset? </h2>"
   ]
  },
  {
   "cell_type": "code",
   "execution_count": 8,
   "metadata": {
    "collapsed": false
   },
   "outputs": [],
   "source": [
    "import datetime as dt\n",
    "def make_date2(date_str):\n",
    "    '''\n",
    "    turn a MM/DD/YY string into a datetime object.\n",
    "    '''\n",
    "\n",
    "\n",
    "    y = int(date_str[0:4])\n",
    "    #print y\n",
    "    #print date_str[5:7]\n",
    "    m = int(date_str[5:7])\n",
    "    #print m\n",
    "    d = int(date_str[8:10])\n",
    "    #print d\n",
    "    h = int (date_str[11:13])\n",
    "    #print h\n",
    "    mi = int (date_str[14:16])\n",
    "    #print mi\n",
    "    s  = int (date_str[17:19])\n",
    "    return(dt.datetime(year=y, month=m, day=d, hour=h, minute=mi, second=s))\n"
   ]
  },
  {
   "cell_type": "code",
   "execution_count": 9,
   "metadata": {
    "collapsed": false
   },
   "outputs": [],
   "source": [
    "def convert_to_float(text):\n",
    "    '''\n",
    "    convert input string into integer\n",
    "    '''\n",
    "    try:\n",
    "        return float(text)\n",
    "    except:\n",
    "        return None"
   ]
  },
  {
   "cell_type": "code",
   "execution_count": 10,
   "metadata": {
    "collapsed": false
   },
   "outputs": [
    {
     "name": "stdout",
     "output_type": "stream",
     "text": [
      "DateTime,Latitude,Longitude,Depth,Magnitude,MagType,NbStations,Gap,Distance,RMS,Source,EventID,Version\n",
      "\n",
      "The number of earthquakes in the data set is  12684\n"
     ]
    }
   ],
   "source": [
    "f = open(\"QuakeData.csv\")\n",
    "rows = []\n",
    "first_row = f.readline() # Save the first row, and move to the next one\n",
    "print first_row\n",
    "for raw_row in f: # This will actually start from the second row.\n",
    "    row = raw_row.split(\",\")\n",
    "    row[0] = make_date2(row[0])\n",
    "    row[4] = convert_to_float(row[4])\n",
    "    rows.append(row)\n",
    "print \"The number of earthquakes in the data set is \", len(rows)"
   ]
  },
  {
   "cell_type": "markdown",
   "metadata": {},
   "source": [
    "<h2>b. What is the average magnitude of earthquakes in the dataset?<h2>"
   ]
  },
  {
   "cell_type": "code",
   "execution_count": 11,
   "metadata": {
    "collapsed": false
   },
   "outputs": [
    {
     "name": "stdout",
     "output_type": "stream",
     "text": [
      "The averague magnitude is  4.55848312835\n"
     ]
    }
   ],
   "source": [
    "all_mags = [row[4] for row in rows]\n",
    "print \"The averague magnitude is \", find_mean(all_mags )"
   ]
  },
  {
   "cell_type": "markdown",
   "metadata": {},
   "source": [
    "<h2> c. The DateTime format in this dataset is a bit trickier than it was for movies. Try to parse it into a datetime object.\n",
    "Do most earthquakes happen between midnight and noon, or noon to midnight? </h2>"
   ]
  },
  {
   "cell_type": "code",
   "execution_count": 12,
   "metadata": {
    "collapsed": false
   },
   "outputs": [
    {
     "name": "stdout",
     "output_type": "stream",
     "text": [
      "There were  6241  earthquakes that occurred between midnight to noon in this data set\n",
      "There were  6443  earthquakes that occurred between noon to midnight in this data set\n",
      "More earthquakes occured between noon to midnight in this data set\n"
     ]
    }
   ],
   "source": [
    "all_quake_times = [row[0] for row in rows]\n",
    "mid_to_noon_cnt = 0\n",
    "noon_to_mid_cnt = 0\n",
    "\n",
    "for qt in all_quake_times:\n",
    "    if qt.hour >= 0 and qt.hour < 12:\n",
    "        mid_to_noon_cnt += 1\n",
    "    else:\n",
    "        noon_to_mid_cnt += 1\n",
    "\n",
    "print \"There were \", mid_to_noon_cnt ,\" earthquakes that occurred between midnight to noon in this data set\"\n",
    "\n",
    "print \"There were \", noon_to_mid_cnt ,\" earthquakes that occurred between noon to midnight in this data set\"\n",
    "\n",
    "if (mid_to_noon_cnt > noon_to_mid_cnt):\n",
    "    print \"More earthquakes occured between midnight to noon in this data set\"\n",
    "elif (mid_to_noon_cnt < noon_to_mid_cnt):\n",
    "    print \"More earthquakes occured between noon to midnight in this data set\"\n",
    "else: \n",
    "    print \"The same number of earthquakes appeared during the AM and PM\"\n",
    "\n"
   ]
  },
  {
   "cell_type": "code",
   "execution_count": 13,
   "metadata": {
    "collapsed": false
   },
   "outputs": [
    {
     "name": "stdout",
     "output_type": "stream",
     "text": [
      "0\n"
     ]
    }
   ],
   "source": [
    "print all_quake_times[1].hour"
   ]
  },
  {
   "cell_type": "code",
   "execution_count": 14,
   "metadata": {
    "collapsed": false
   },
   "outputs": [
    {
     "name": "stdout",
     "output_type": "stream",
     "text": [
      "2012-01-01 00:30:08\n",
      "2012-01-01 00:43:42\n",
      "2012-01-01 14:48:40\n"
     ]
    }
   ],
   "source": [
    "print all_quake_times[0]\n",
    "print all_quake_times[1]\n",
    "print all_quake_times[29]"
   ]
  },
  {
   "cell_type": "code",
   "execution_count": null,
   "metadata": {
    "collapsed": false
   },
   "outputs": [],
   "source": []
  }
 ],
 "metadata": {
  "kernelspec": {
   "display_name": "Python 2",
   "language": "python",
   "name": "python2"
  },
  "language_info": {
   "codemirror_mode": {
    "name": "ipython",
    "version": 2
   },
   "file_extension": ".py",
   "mimetype": "text/x-python",
   "name": "python",
   "nbconvert_exporter": "python",
   "pygments_lexer": "ipython2",
   "version": "2.7.9"
  }
 },
 "nbformat": 4,
 "nbformat_minor": 0
}
