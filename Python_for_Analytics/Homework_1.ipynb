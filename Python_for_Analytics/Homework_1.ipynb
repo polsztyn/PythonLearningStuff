{
 "metadata": {
  "name": "",
  "signature": "sha256:638021af475a6a5f31dda915b4d2cee8c941ff5a8568abe9213352c2adfaa5fd"
 },
 "nbformat": 3,
 "nbformat_minor": 0,
 "worksheets": [
  {
   "cells": [
    {
     "cell_type": "markdown",
     "metadata": {},
     "source": [
      "<h1> 1 Week 1 Homework: Introduction to Python </h1>\n",
      "    \n",
      "Create a new IPython Notebook, and use it to answer the following assignments. If you\u2019d prefer not to use IPython,\n",
      "use another interpreter and answer the same questions.\n",
      "\n"
     ]
    },
    {
     "cell_type": "markdown",
     "metadata": {},
     "source": [
      "<h2> 1.1 Question 1 </h2>\n"
     ]
    },
    {
     "cell_type": "markdown",
     "metadata": {},
     "source": [
      "<h3> Create a Python list with the following values: [1, 2, 4, 10, 12, 117, 1244] </h3>\n",
      "    \n"
     ]
    },
    {
     "cell_type": "code",
     "collapsed": false,
     "input": [
      "my_list =  [1, 2, 4, 10, 12, 117, 1244]"
     ],
     "language": "python",
     "metadata": {},
     "outputs": [],
     "prompt_number": 1
    },
    {
     "cell_type": "code",
     "collapsed": false,
     "input": [
      "print my_list"
     ],
     "language": "python",
     "metadata": {},
     "outputs": [
      {
       "output_type": "stream",
       "stream": "stdout",
       "text": [
        "[1, 2, 4, 10, 12, 117, 1244]\n"
       ]
      }
     ],
     "prompt_number": 2
    },
    {
     "cell_type": "markdown",
     "metadata": {},
     "source": [
      "a. Compute the sum of the values."
     ]
    },
    {
     "cell_type": "code",
     "collapsed": false,
     "input": [
      "accum = 0.0\n",
      "for i in my_list:\n",
      "    accum += i\n",
      "print \"sum of my_list = \", accum\n",
      "    "
     ],
     "language": "python",
     "metadata": {},
     "outputs": [
      {
       "output_type": "stream",
       "stream": "stdout",
       "text": [
        "sum of my_list =  1390.0\n"
       ]
      }
     ],
     "prompt_number": 4
    },
    {
     "cell_type": "markdown",
     "metadata": {},
     "source": [
      "b. Compute the mean of the values"
     ]
    },
    {
     "cell_type": "code",
     "collapsed": false,
     "input": [
      "accum = 0.0\n",
      "for i in my_list:\n",
      "    accum += i\n",
      "print \"mean of my_list = \", accum/len(my_list)"
     ],
     "language": "python",
     "metadata": {},
     "outputs": [
      {
       "output_type": "stream",
       "stream": "stdout",
       "text": [
        "mean of my_list =  198.571428571\n"
       ]
      }
     ],
     "prompt_number": 7
    },
    {
     "cell_type": "markdown",
     "metadata": {},
     "source": [
      "c. Compute the product of all the numbers (multiply them all together)"
     ]
    },
    {
     "cell_type": "code",
     "collapsed": false,
     "input": [
      "accum = 1.0\n",
      "for i in my_list:\n",
      "    accum *= i\n",
      "print \"product of my_list = \", accum"
     ],
     "language": "python",
     "metadata": {},
     "outputs": [
      {
       "output_type": "stream",
       "stream": "stdout",
       "text": [
        "product of my_list =  139726080.0\n"
       ]
      }
     ],
     "prompt_number": 9
    },
    {
     "cell_type": "markdown",
     "metadata": {},
     "source": [
      "<h2> 1.2 Question 2 <h2>"
     ]
    },
    {
     "cell_type": "markdown",
     "metadata": {},
     "source": [
      "<h3> Write functions to do all the operations above; repeat them on the following lists of numbers: </h3>"
     ]
    },
    {
     "cell_type": "code",
     "collapsed": false,
     "input": [
      "def do_list_stuff(in_list):\n",
      "    sum_of = 0.0\n",
      "    product_of = 1.0\n",
      "    for i in in_list:\n",
      "        sum_of += i\n",
      "        product_of  *= i\n",
      "    print \"sum of in_list = \", sum_of  \n",
      "    print \"mean of in_list = \", sum_of/len(in_list)\n",
      "    print \"product of in_list = \", product_of\n",
      "  "
     ],
     "language": "python",
     "metadata": {},
     "outputs": [],
     "prompt_number": 43
    },
    {
     "cell_type": "markdown",
     "metadata": {},
     "source": [
      "<h3> a. [3, 2, 3, 3, 3, 2, 8, 2, 2, 126]</h3>"
     ]
    },
    {
     "cell_type": "code",
     "collapsed": false,
     "input": [
      "a = [3, 2, 3, 3, 3, 2, 8, 2, 2, 126]\n",
      "do_list_stuff(a)"
     ],
     "language": "python",
     "metadata": {},
     "outputs": [
      {
       "output_type": "stream",
       "stream": "stdout",
       "text": [
        "sum of in_list =  154.0\n",
        "mean of in_list =  15.4\n",
        "product of in_list =  1306368.0\n"
       ]
      }
     ],
     "prompt_number": 44
    },
    {
     "cell_type": "code",
     "collapsed": false,
     "input": [
      "b = [7, 267, 4, 2, 5, 319, 5, 6, 713, 3]\n",
      "do_list_stuff(b)"
     ],
     "language": "python",
     "metadata": {},
     "outputs": [
      {
       "output_type": "stream",
       "stream": "stdout",
       "text": [
        "sum of in_list =  1331.0\n",
        "mean of in_list =  133.1\n",
        "product of in_list =  1.5303543948e+12\n"
       ]
      }
     ],
     "prompt_number": 45
    },
    {
     "cell_type": "markdown",
     "metadata": {},
     "source": [
      "<h2> 1.3 Question 3 </h2>\n",
      "\n",
      "FizzBuzz is a classic programming exercise. Iterate over the numbers from 0 to 99 and for each number:\n",
      "\n",
      "<list>\n",
      "<li>If the number is divisible by 3, print Fizz</li>\n",
      "<li>If the number is divisible by 5, print Buzz</li>\n",
      "<li>If the number is divisible by both 3 and 5, print Fizz Buzz </li>\n",
      "<li>Otherwise, just print the number.</li>\n",
      "</list>\n",
      "\n",
      "Hint: The modulo operator which gives you a remainder is the percentage sign, %. For example:\n"
     ]
    },
    {
     "cell_type": "code",
     "collapsed": false,
     "input": [
      "my_list = range(1,99)\n",
      "\n",
      "\n",
      "for i in my_list:\n",
      "    if i%3==0 and i%5!=0:\n",
      "        print \"Fizz\"\n",
      "    elif i%5==0 and i%3!=0:\n",
      "        print \"Buzz\"\n",
      "    elif i%5==0 and i%3==0:\n",
      "        print \"Fizz Buzz\"\n",
      "    else:\n",
      "        print i\n",
      "        \n",
      "        "
     ],
     "language": "python",
     "metadata": {},
     "outputs": [
      {
       "output_type": "stream",
       "stream": "stdout",
       "text": [
        "1\n",
        "2\n",
        "Fizz\n",
        "4\n",
        "Buzz\n",
        "Fizz\n",
        "7\n",
        "8\n",
        "Fizz\n",
        "Buzz\n",
        "11\n",
        "Fizz\n",
        "13\n",
        "14\n",
        "Fizz Buzz\n",
        "16\n",
        "17\n",
        "Fizz\n",
        "19\n",
        "Buzz\n",
        "Fizz\n",
        "22\n",
        "23\n",
        "Fizz\n",
        "Buzz\n",
        "26\n",
        "Fizz\n",
        "28\n",
        "29\n",
        "Fizz Buzz\n",
        "31\n",
        "32\n",
        "Fizz\n",
        "34\n",
        "Buzz\n",
        "Fizz\n",
        "37\n",
        "38\n",
        "Fizz\n",
        "Buzz\n",
        "41\n",
        "Fizz\n",
        "43\n",
        "44\n",
        "Fizz Buzz\n",
        "46\n",
        "47\n",
        "Fizz\n",
        "49\n",
        "Buzz\n",
        "Fizz\n",
        "52\n",
        "53\n",
        "Fizz\n",
        "Buzz\n",
        "56\n",
        "Fizz\n",
        "58\n",
        "59\n",
        "Fizz Buzz\n",
        "61\n",
        "62\n",
        "Fizz\n",
        "64\n",
        "Buzz\n",
        "Fizz\n",
        "67\n",
        "68\n",
        "Fizz\n",
        "Buzz\n",
        "71\n",
        "Fizz\n",
        "73\n",
        "74\n",
        "Fizz Buzz\n",
        "76\n",
        "77\n",
        "Fizz\n",
        "79\n",
        "Buzz\n",
        "Fizz\n",
        "82\n",
        "83\n",
        "Fizz\n",
        "Buzz\n",
        "86\n",
        "Fizz\n",
        "88\n",
        "89\n",
        "Fizz Buzz\n",
        "91\n",
        "92\n",
        "Fizz\n",
        "94\n",
        "Buzz\n",
        "Fizz\n",
        "97\n",
        "98\n"
       ]
      }
     ],
     "prompt_number": 55
    },
    {
     "cell_type": "code",
     "collapsed": false,
     "input": [],
     "language": "python",
     "metadata": {},
     "outputs": []
    }
   ],
   "metadata": {}
  }
 ]
}