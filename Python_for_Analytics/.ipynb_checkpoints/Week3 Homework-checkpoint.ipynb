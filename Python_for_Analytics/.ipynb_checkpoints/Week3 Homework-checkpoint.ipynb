{
 "cells": [
  {
   "cell_type": "markdown",
   "metadata": {},
   "source": [
    "<h1> Week 3 Homework: Working with Pandas </h1>\n",
    "    \n",
    "Create a new IPython Notebook and use it to answer the following assignments, using what you've learned\n",
    "this week. Note that the last sections for each are meant to be a little more challenging    \n"
   ]
  },
  {
   "cell_type": "markdown",
   "metadata": {},
   "source": [
    "<h2> Question 1 </h2>\n",
    "\n",
    "<p> Load the MovieData.csv dataset into a pandas DataFrame as described in this week's lesson, and use it to\n",
    "find the following values:\n",
    "</p>\n",
    "\n"
   ]
  },
  {
   "cell_type": "markdown",
   "metadata": {},
   "source": [
    "<h3> a. What is the median profit (in dollars instead of ratio, this time) of movies with budgets of over $50M? </h3>"
   ]
  },
  {
   "cell_type": "code",
   "execution_count": 1,
   "metadata": {
    "collapsed": false
   },
   "outputs": [],
   "source": [
    "import pandas"
   ]
  },
  {
   "cell_type": "code",
   "execution_count": 2,
   "metadata": {
    "collapsed": false
   },
   "outputs": [],
   "source": [
    "import datetime as dt\n",
    "def make_date(date_str):\n",
    "    '''\n",
    "    Turn a MM/DD/YY string into a datetime object\n",
    "    '''\n",
    "    m, d, y = date_str.split(\"/\")\n",
    "    m = int(m)\n",
    "    d = int(d)\n",
    "    y = int(y)\n",
    "    if y > 13:\n",
    "        y += 1900\n",
    "    else:\n",
    "        y += 2000\n",
    "    return dt.datetime(y, m, d)"
   ]
  },
  {
   "cell_type": "code",
   "execution_count": 3,
   "metadata": {
    "collapsed": false
   },
   "outputs": [],
   "source": [
    "movies = pandas.read_csv(\"MovieData.csv\", sep='\\t', na_values=[\"Unknown\",\"Unkno\"],parse_dates=[0], date_parser=make_date)"
   ]
  },
  {
   "cell_type": "code",
   "execution_count": 4,
   "metadata": {
    "collapsed": false
   },
   "outputs": [],
   "source": [
    "movies[\"Profit\"] = movies[\"Worldwide Gross\"]-movies[\"Budget\"]"
   ]
  },
  {
   "cell_type": "code",
   "execution_count": 5,
   "metadata": {
    "collapsed": false
   },
   "outputs": [],
   "source": [
    "big_budget = movies[movies.Budget > 50000000]"
   ]
  },
  {
   "cell_type": "code",
   "execution_count": 6,
   "metadata": {
    "collapsed": false
   },
   "outputs": [
    {
     "data": {
      "text/html": [
       "<div style=\"max-height:1000px;max-width:1500px;overflow:auto;\">\n",
       "<table border=\"1\" class=\"dataframe\">\n",
       "  <thead>\n",
       "    <tr style=\"text-align: right;\">\n",
       "      <th></th>\n",
       "      <th>Release_Date</th>\n",
       "      <th>Movie</th>\n",
       "      <th>Distributor</th>\n",
       "      <th>Budget</th>\n",
       "      <th>US Gross</th>\n",
       "      <th>Worldwide Gross</th>\n",
       "      <th>Profit</th>\n",
       "    </tr>\n",
       "  </thead>\n",
       "  <tbody>\n",
       "    <tr>\n",
       "      <th>0</th>\n",
       "      <td>2012-03-09</td>\n",
       "      <td>                              John Carter</td>\n",
       "      <td>         NaN</td>\n",
       "      <td> 300000000</td>\n",
       "      <td>  66439100</td>\n",
       "      <td> 254439100</td>\n",
       "      <td> -45560900</td>\n",
       "    </tr>\n",
       "    <tr>\n",
       "      <th>1</th>\n",
       "      <td>2007-05-25</td>\n",
       "      <td> Pirates of the Caribbean: At World's End</td>\n",
       "      <td> Buena Vista</td>\n",
       "      <td> 300000000</td>\n",
       "      <td> 309420425</td>\n",
       "      <td> 960996492</td>\n",
       "      <td> 660996492</td>\n",
       "    </tr>\n",
       "    <tr>\n",
       "      <th>2</th>\n",
       "      <td>2013-12-13</td>\n",
       "      <td>         The Hobbit: There and Back Again</td>\n",
       "      <td>    New Line</td>\n",
       "      <td> 270000000</td>\n",
       "      <td>       NaN</td>\n",
       "      <td>       NaN</td>\n",
       "      <td>       NaN</td>\n",
       "    </tr>\n",
       "    <tr>\n",
       "      <th>3</th>\n",
       "      <td>2012-12-14</td>\n",
       "      <td>        The Hobbit: An Unexpected Journey</td>\n",
       "      <td>    New Line</td>\n",
       "      <td> 270000000</td>\n",
       "      <td>       NaN</td>\n",
       "      <td>       NaN</td>\n",
       "      <td>       NaN</td>\n",
       "    </tr>\n",
       "    <tr>\n",
       "      <th>4</th>\n",
       "      <td>2010-11-24</td>\n",
       "      <td>                                  Tangled</td>\n",
       "      <td> Buena Vista</td>\n",
       "      <td> 260000000</td>\n",
       "      <td> 200821936</td>\n",
       "      <td> 586581936</td>\n",
       "      <td> 326581936</td>\n",
       "    </tr>\n",
       "  </tbody>\n",
       "</table>\n",
       "</div>"
      ],
      "text/plain": [
       "  Release_Date                                     Movie  Distributor  \\\n",
       "0   2012-03-09                               John Carter          NaN   \n",
       "1   2007-05-25  Pirates of the Caribbean: At World's End  Buena Vista   \n",
       "2   2013-12-13          The Hobbit: There and Back Again     New Line   \n",
       "3   2012-12-14         The Hobbit: An Unexpected Journey     New Line   \n",
       "4   2010-11-24                                   Tangled  Buena Vista   \n",
       "\n",
       "      Budget   US Gross  Worldwide Gross     Profit  \n",
       "0  300000000   66439100        254439100  -45560900  \n",
       "1  300000000  309420425        960996492  660996492  \n",
       "2  270000000        NaN              NaN        NaN  \n",
       "3  270000000        NaN              NaN        NaN  \n",
       "4  260000000  200821936        586581936  326581936  "
      ]
     },
     "execution_count": 6,
     "metadata": {},
     "output_type": "execute_result"
    }
   ],
   "source": [
    "big_budget.head()"
   ]
  },
  {
   "cell_type": "code",
   "execution_count": 7,
   "metadata": {
    "collapsed": false
   },
   "outputs": [
    {
     "name": "stdout",
     "output_type": "stream",
     "text": [
      "<class 'pandas.core.frame.DataFrame'>\n",
      "Int64Index: 705 entries, 0 to 704\n",
      "Data columns (total 7 columns):\n",
      "Release_Date       705 non-null datetime64[ns]\n",
      "Movie              705 non-null object\n",
      "Distributor        650 non-null object\n",
      "Budget             705 non-null int64\n",
      "US Gross           696 non-null float64\n",
      "Worldwide Gross    652 non-null float64\n",
      "Profit             652 non-null float64\n",
      "dtypes: datetime64[ns](1), float64(3), int64(1), object(2)\n",
      "memory usage: 44.1+ KB\n"
     ]
    }
   ],
   "source": [
    "big_budget.info()"
   ]
  },
  {
   "cell_type": "code",
   "execution_count": 8,
   "metadata": {
    "collapsed": false
   },
   "outputs": [
    {
     "name": "stdout",
     "output_type": "stream",
     "text": [
      "The median profit for movies with a budget greater than $50M is  102085318.0\n"
     ]
    }
   ],
   "source": [
    "print \"The median profit for movies with a budget greater than $50M is \", big_budget[\"Profit\"].median()"
   ]
  },
  {
   "cell_type": "markdown",
   "metadata": {},
   "source": [
    "<h3> b. What are the mean and median movie profits by decade? Which decade was the most profitable? </h3>\n"
   ]
  },
  {
   "cell_type": "code",
   "execution_count": 9,
   "metadata": {
    "collapsed": false
   },
   "outputs": [],
   "source": [
    "def get_year(date):\n",
    "    return date.year\n",
    "movies[\"Year\"] = movies.Release_Date.apply(get_year)"
   ]
  },
  {
   "cell_type": "code",
   "execution_count": 10,
   "metadata": {
    "collapsed": false
   },
   "outputs": [],
   "source": [
    "import math\n",
    "def get_decade(year):\n",
    "    century = year/100\n",
    "    decade = int((math.fmod(year,100))/10) * 10\n",
    "    return (century*100)+decade\n",
    "movies[\"Decade\"] = movies.Year.apply(get_decade)\n"
   ]
  },
  {
   "cell_type": "code",
   "execution_count": 11,
   "metadata": {
    "collapsed": false
   },
   "outputs": [
    {
     "name": "stdout",
     "output_type": "stream",
     "text": [
      "1910\n",
      "2010\n"
     ]
    },
    {
     "data": {
      "text/html": [
       "<div style=\"max-height:1000px;max-width:1500px;overflow:auto;\">\n",
       "<table border=\"1\" class=\"dataframe\">\n",
       "  <thead>\n",
       "    <tr style=\"text-align: right;\">\n",
       "      <th></th>\n",
       "      <th>Release_Date</th>\n",
       "      <th>Movie</th>\n",
       "      <th>Distributor</th>\n",
       "      <th>Budget</th>\n",
       "      <th>US Gross</th>\n",
       "      <th>Worldwide Gross</th>\n",
       "      <th>Profit</th>\n",
       "      <th>Year</th>\n",
       "      <th>Decade</th>\n",
       "    </tr>\n",
       "  </thead>\n",
       "  <tbody>\n",
       "    <tr>\n",
       "      <th>0</th>\n",
       "      <td>2012-03-09</td>\n",
       "      <td>                              John Carter</td>\n",
       "      <td>         NaN</td>\n",
       "      <td> 300000000</td>\n",
       "      <td>  66439100</td>\n",
       "      <td> 254439100</td>\n",
       "      <td> -45560900</td>\n",
       "      <td> 2012</td>\n",
       "      <td> 2010</td>\n",
       "    </tr>\n",
       "    <tr>\n",
       "      <th>1</th>\n",
       "      <td>2007-05-25</td>\n",
       "      <td> Pirates of the Caribbean: At World's End</td>\n",
       "      <td> Buena Vista</td>\n",
       "      <td> 300000000</td>\n",
       "      <td> 309420425</td>\n",
       "      <td> 960996492</td>\n",
       "      <td> 660996492</td>\n",
       "      <td> 2007</td>\n",
       "      <td> 2000</td>\n",
       "    </tr>\n",
       "    <tr>\n",
       "      <th>2</th>\n",
       "      <td>2013-12-13</td>\n",
       "      <td>         The Hobbit: There and Back Again</td>\n",
       "      <td>    New Line</td>\n",
       "      <td> 270000000</td>\n",
       "      <td>       NaN</td>\n",
       "      <td>       NaN</td>\n",
       "      <td>       NaN</td>\n",
       "      <td> 2013</td>\n",
       "      <td> 2010</td>\n",
       "    </tr>\n",
       "    <tr>\n",
       "      <th>3</th>\n",
       "      <td>2012-12-14</td>\n",
       "      <td>        The Hobbit: An Unexpected Journey</td>\n",
       "      <td>    New Line</td>\n",
       "      <td> 270000000</td>\n",
       "      <td>       NaN</td>\n",
       "      <td>       NaN</td>\n",
       "      <td>       NaN</td>\n",
       "      <td> 2012</td>\n",
       "      <td> 2010</td>\n",
       "    </tr>\n",
       "    <tr>\n",
       "      <th>4</th>\n",
       "      <td>2010-11-24</td>\n",
       "      <td>                                  Tangled</td>\n",
       "      <td> Buena Vista</td>\n",
       "      <td> 260000000</td>\n",
       "      <td> 200821936</td>\n",
       "      <td> 586581936</td>\n",
       "      <td> 326581936</td>\n",
       "      <td> 2010</td>\n",
       "      <td> 2010</td>\n",
       "    </tr>\n",
       "  </tbody>\n",
       "</table>\n",
       "</div>"
      ],
      "text/plain": [
       "  Release_Date                                     Movie  Distributor  \\\n",
       "0   2012-03-09                               John Carter          NaN   \n",
       "1   2007-05-25  Pirates of the Caribbean: At World's End  Buena Vista   \n",
       "2   2013-12-13          The Hobbit: There and Back Again     New Line   \n",
       "3   2012-12-14         The Hobbit: An Unexpected Journey     New Line   \n",
       "4   2010-11-24                                   Tangled  Buena Vista   \n",
       "\n",
       "      Budget   US Gross  Worldwide Gross     Profit  Year  Decade  \n",
       "0  300000000   66439100        254439100  -45560900  2012    2010  \n",
       "1  300000000  309420425        960996492  660996492  2007    2000  \n",
       "2  270000000        NaN              NaN        NaN  2013    2010  \n",
       "3  270000000        NaN              NaN        NaN  2012    2010  \n",
       "4  260000000  200821936        586581936  326581936  2010    2010  "
      ]
     },
     "execution_count": 11,
     "metadata": {},
     "output_type": "execute_result"
    }
   ],
   "source": [
    "print movies.Decade.min()\n",
    "print movies.Decade.max()\n",
    "movies.head()"
   ]
  },
  {
   "cell_type": "code",
   "execution_count": 12,
   "metadata": {
    "collapsed": false
   },
   "outputs": [],
   "source": [
    "by_decade = movies.groupby(\"Decade\")"
   ]
  },
  {
   "cell_type": "code",
   "execution_count": 13,
   "metadata": {
    "collapsed": false
   },
   "outputs": [
    {
     "data": {
      "text/plain": [
       "[1920, 1990, 1960, 1930, 2000, 1970, 1940, 1910, 2010, 1980, 1950]"
      ]
     },
     "execution_count": 13,
     "metadata": {},
     "output_type": "execute_result"
    }
   ],
   "source": [
    "by_decade.groups.keys()\n"
   ]
  },
  {
   "cell_type": "code",
   "execution_count": 14,
   "metadata": {
    "collapsed": false
   },
   "outputs": [
    {
     "name": "stdout",
     "output_type": "stream",
     "text": [
      "The Meidan Profits by Decade are:\n"
     ]
    },
    {
     "ename": "NameError",
     "evalue": "name 'decade_median' is not defined",
     "output_type": "error",
     "traceback": [
      "\u001b[1;31m---------------------------------------------------------------------------\u001b[0m",
      "\u001b[1;31mNameError\u001b[0m                                 Traceback (most recent call last)",
      "\u001b[1;32m<ipython-input-14-eb4bf01a1263>\u001b[0m in \u001b[0;36m<module>\u001b[1;34m()\u001b[0m\n\u001b[0;32m      1\u001b[0m \u001b[0mdecade_means\u001b[0m \u001b[1;33m=\u001b[0m \u001b[0mby_decade\u001b[0m\u001b[1;33m.\u001b[0m\u001b[0mProfit\u001b[0m\u001b[1;33m.\u001b[0m\u001b[0mmean\u001b[0m\u001b[1;33m(\u001b[0m\u001b[1;33m)\u001b[0m\u001b[1;33m\u001b[0m\u001b[0m\n\u001b[0;32m      2\u001b[0m \u001b[1;32mprint\u001b[0m \u001b[1;34m\"The Meidan Profits by Decade are:\"\u001b[0m\u001b[1;33m\u001b[0m\u001b[0m\n\u001b[1;32m----> 3\u001b[1;33m \u001b[1;32mprint\u001b[0m \u001b[0mdecade_median\u001b[0m\u001b[1;33m\u001b[0m\u001b[0m\n\u001b[0m",
      "\u001b[1;31mNameError\u001b[0m: name 'decade_median' is not defined"
     ]
    }
   ],
   "source": [
    "decade_means = by_decade.Profit.mean()\n",
    "print \"The Meidan Profits by Decade are:\"\n",
    "print decade_median"
   ]
  },
  {
   "cell_type": "code",
   "execution_count": 15,
   "metadata": {
    "collapsed": false
   },
   "outputs": [
    {
     "name": "stdout",
     "output_type": "stream",
     "text": [
      "Decade\n",
      "1910      1.089000e+07\n",
      "1920      1.286700e+07\n",
      "1930      9.875830e+07\n",
      "1940      7.866000e+06\n",
      "1950               NaN\n",
      "1960      7.174161e+07\n",
      "1970      1.729143e+08\n",
      "1980      1.678445e+08\n",
      "1990      1.120926e+08\n",
      "2000      6.853341e+07\n",
      "2010      8.922441e+07\n",
      "Name: Profit, dtype: float64\n"
     ]
    }
   ],
   "source": [
    "print decade_means"
   ]
  },
  {
   "cell_type": "code",
   "execution_count": 16,
   "metadata": {
    "collapsed": false
   },
   "outputs": [
    {
     "name": "stdout",
     "output_type": "stream",
     "text": [
      "The Meidan Profits by Decade are:\n",
      "Decade\n",
      "1910       10890000\n",
      "1920       12867000\n",
      "1930        3283000\n",
      "1940        7866000\n",
      "1950            NaN\n",
      "1960       54995385\n",
      "1970      132461500\n",
      "1980      114167015\n",
      "1990       57920866\n",
      "2000       21627454\n",
      "2010       28680977\n",
      "Name: Profit, dtype: float64\n"
     ]
    }
   ],
   "source": [
    "decade_median = by_decade.Profit.median()\n",
    "print \"The Meidan Profits by Decade are:\"\n",
    "print decade_median"
   ]
  },
  {
   "cell_type": "code",
   "execution_count": 17,
   "metadata": {
    "collapsed": false
   },
   "outputs": [
    {
     "name": "stdout",
     "output_type": "stream",
     "text": [
      "The decade with the highest median profit was  1970  with a median profit of  132461500.0\n"
     ]
    }
   ],
   "source": [
    "most_profit = 0\n",
    "for x in decade_median.keys():\n",
    "\n",
    "    if decade_median[x] > most_profit:\n",
    "        most_profit_decade = x\n",
    "        most_profit = decade_median[x]\n",
    "print   \"The decade with the highest median profit was \", most_profit_decade, \" with a median profit of \", most_profit    \n",
    "    "
   ]
  },
  {
   "cell_type": "markdown",
   "metadata": {},
   "source": [
    "<h3> c. How many movies were released by each film distributor? Output the results to a csv file </h3>"
   ]
  },
  {
   "cell_type": "code",
   "execution_count": 18,
   "metadata": {
    "collapsed": false
   },
   "outputs": [],
   "source": [
    "by_distributor = movies.groupby(\"Distributor\")"
   ]
  },
  {
   "cell_type": "code",
   "execution_count": 19,
   "metadata": {
    "collapsed": false
   },
   "outputs": [
    {
     "name": "stdout",
     "output_type": "stream",
     "text": [
      "The count of movies by distributor is :\n",
      "Distributor\n",
      "20th Century Fox                   230\n",
      "3D Entertainment                     1\n",
      "8 X Entertainment                    1\n",
      "ART                                  1\n",
      "Access                               1\n",
      "Alliance                             4\n",
      "American International Pictures      1\n",
      "Anchor Bay                           4\n",
      "Apparition                           4\n",
      "Artisan                             23\n",
      "Artistic License                     1\n",
      "Atlantic                             1\n",
      "Attitude Films                       1\n",
      "Avatar                               1\n",
      "Avco Embassy                         5\n",
      "...\n",
      "Warner Bros.                   311\n",
      "Warner Independent               3\n",
      "Warner Independent Pictures      7\n",
      "Weinstein                        1\n",
      "Weinstein Ci.                    1\n",
      "Weinstein Co.                   33\n",
      "Weinstein/Dimension              1\n",
      "Weintraub                        2\n",
      "WellSpring                       2\n",
      "Wellspring                       1\n",
      "WinStar                          1\n",
      "Winstar                          1\n",
      "Yash Raj                         1\n",
      "Zeitgeist                        7\n",
      "Zion                             1\n",
      "Name: Movie, Length: 208, dtype: int64\n"
     ]
    }
   ],
   "source": [
    "counts = by_distributor.Movie.aggregate(len)\n",
    "print \"The count of movies by distributor is :\"\n",
    "print counts"
   ]
  },
  {
   "cell_type": "code",
   "execution_count": 20,
   "metadata": {
    "collapsed": false
   },
   "outputs": [],
   "source": [
    "#wrting out result set to CSV\n",
    "import csv\n",
    "f = open(\"movie_distributor_counts.csv\", \"wb\")\n",
    "my_writer = csv.writer(f)\n",
    "header = [\"Disributor\", \"Film Count\"]\n",
    "my_writer.writerow(header)\n",
    "for row in counts.keys():\n",
    "    y = []\n",
    "    y.append(row)\n",
    "    y.append(counts[row])\n",
    "    my_writer.writerow(y)\n",
    "f.close()"
   ]
  },
  {
   "cell_type": "markdown",
   "metadata": {},
   "source": [
    "<h2> Question 2 </h2>\n",
    "\n",
    "Load the earthquake data in QuakeData.csv into a DataFrame, and use it to answer the following questions:\n"
   ]
  },
  {
   "cell_type": "code",
   "execution_count": 21,
   "metadata": {
    "collapsed": false
   },
   "outputs": [],
   "source": [
    "def make_date2(date_str):\n",
    "    '''\n",
    "    turn a MM/DD/YY string into a datetime object.\n",
    "    '''\n",
    "\n",
    "\n",
    "    y = int(date_str[0:4])\n",
    "    #print y\n",
    "    #print date_str[5:7]\n",
    "    m = int(date_str[5:7])\n",
    "    #print m\n",
    "    d = int(date_str[8:10])\n",
    "    #print d\n",
    "    h = int (date_str[11:13])\n",
    "    #print h\n",
    "    mi = int (date_str[14:16])\n",
    "    #print mi\n",
    "    s  = int (date_str[17:19])\n",
    "    return(dt.datetime(year=y, month=m, day=d, hour=h, minute=mi, second=s))\n"
   ]
  },
  {
   "cell_type": "code",
   "execution_count": 22,
   "metadata": {
    "collapsed": false
   },
   "outputs": [],
   "source": [
    "Quakes = pandas.read_csv(\"QuakeData.csv\", na_values=[\"Unknown\",\"Unkno\"],parse_dates=[0], date_parser=make_date2)"
   ]
  },
  {
   "cell_type": "code",
   "execution_count": 23,
   "metadata": {
    "collapsed": false
   },
   "outputs": [
    {
     "data": {
      "text/html": [
       "<div style=\"max-height:1000px;max-width:1500px;overflow:auto;\">\n",
       "<table border=\"1\" class=\"dataframe\">\n",
       "  <thead>\n",
       "    <tr style=\"text-align: right;\">\n",
       "      <th></th>\n",
       "      <th>DateTime</th>\n",
       "      <th>Latitude</th>\n",
       "      <th>Longitude</th>\n",
       "      <th>Depth</th>\n",
       "      <th>Magnitude</th>\n",
       "      <th>MagType</th>\n",
       "      <th>NbStations</th>\n",
       "      <th>Gap</th>\n",
       "      <th>Distance</th>\n",
       "      <th>RMS</th>\n",
       "      <th>Source</th>\n",
       "      <th>EventID</th>\n",
       "      <th>Version</th>\n",
       "    </tr>\n",
       "  </thead>\n",
       "  <tbody>\n",
       "    <tr>\n",
       "      <th>12679</th>\n",
       "      <td>2013-01-01 15:18:35</td>\n",
       "      <td> -1.085</td>\n",
       "      <td> 126.956</td>\n",
       "      <td>  20.6</td>\n",
       "      <td> 4.9</td>\n",
       "      <td> mb</td>\n",
       "      <td> 68</td>\n",
       "      <td>  58</td>\n",
       "      <td>NaN</td>\n",
       "      <td> 0.87</td>\n",
       "      <td> pde</td>\n",
       "      <td>  pde20130101151835300_20</td>\n",
       "      <td> 1363392592259</td>\n",
       "    </tr>\n",
       "    <tr>\n",
       "      <th>12680</th>\n",
       "      <td>2013-01-01 16:59:29</td>\n",
       "      <td> -5.302</td>\n",
       "      <td> 104.149</td>\n",
       "      <td>  80.7</td>\n",
       "      <td> 4.5</td>\n",
       "      <td> mb</td>\n",
       "      <td> 66</td>\n",
       "      <td> 113</td>\n",
       "      <td>NaN</td>\n",
       "      <td> 0.89</td>\n",
       "      <td> pde</td>\n",
       "      <td>  pde20130101165929760_80</td>\n",
       "      <td> 1363392592269</td>\n",
       "    </tr>\n",
       "    <tr>\n",
       "      <th>12681</th>\n",
       "      <td>2013-01-01 17:43:57</td>\n",
       "      <td>-55.991</td>\n",
       "      <td> -24.865</td>\n",
       "      <td>  42.0</td>\n",
       "      <td> 5.0</td>\n",
       "      <td> mb</td>\n",
       "      <td> 45</td>\n",
       "      <td>  58</td>\n",
       "      <td>NaN</td>\n",
       "      <td> 1.16</td>\n",
       "      <td> pde</td>\n",
       "      <td>  pde20130101174357700_42</td>\n",
       "      <td> 1363392592287</td>\n",
       "    </tr>\n",
       "    <tr>\n",
       "      <th>12682</th>\n",
       "      <td>2013-01-01 20:05:03</td>\n",
       "      <td>  2.374</td>\n",
       "      <td>  96.110</td>\n",
       "      <td>  38.4</td>\n",
       "      <td> 4.7</td>\n",
       "      <td> mb</td>\n",
       "      <td> 67</td>\n",
       "      <td> 111</td>\n",
       "      <td>NaN</td>\n",
       "      <td> 0.73</td>\n",
       "      <td> pde</td>\n",
       "      <td>  pde20130101200503100_38</td>\n",
       "      <td> 1363392592413</td>\n",
       "    </tr>\n",
       "    <tr>\n",
       "      <th>12683</th>\n",
       "      <td>2013-01-01 23:40:40</td>\n",
       "      <td> 36.613</td>\n",
       "      <td>  71.460</td>\n",
       "      <td> 141.4</td>\n",
       "      <td> 4.0</td>\n",
       "      <td> mb</td>\n",
       "      <td> 20</td>\n",
       "      <td>  72</td>\n",
       "      <td>NaN</td>\n",
       "      <td> 1.07</td>\n",
       "      <td> pde</td>\n",
       "      <td> pde20130101234040540_141</td>\n",
       "      <td> 1363392592426</td>\n",
       "    </tr>\n",
       "  </tbody>\n",
       "</table>\n",
       "</div>"
      ],
      "text/plain": [
       "                 DateTime  Latitude  Longitude  Depth  Magnitude MagType  \\\n",
       "12679 2013-01-01 15:18:35    -1.085    126.956   20.6        4.9      mb   \n",
       "12680 2013-01-01 16:59:29    -5.302    104.149   80.7        4.5      mb   \n",
       "12681 2013-01-01 17:43:57   -55.991    -24.865   42.0        5.0      mb   \n",
       "12682 2013-01-01 20:05:03     2.374     96.110   38.4        4.7      mb   \n",
       "12683 2013-01-01 23:40:40    36.613     71.460  141.4        4.0      mb   \n",
       "\n",
       "       NbStations  Gap  Distance   RMS Source                   EventID  \\\n",
       "12679          68   58       NaN  0.87    pde   pde20130101151835300_20   \n",
       "12680          66  113       NaN  0.89    pde   pde20130101165929760_80   \n",
       "12681          45   58       NaN  1.16    pde   pde20130101174357700_42   \n",
       "12682          67  111       NaN  0.73    pde   pde20130101200503100_38   \n",
       "12683          20   72       NaN  1.07    pde  pde20130101234040540_141   \n",
       "\n",
       "             Version  \n",
       "12679  1363392592259  \n",
       "12680  1363392592269  \n",
       "12681  1363392592287  \n",
       "12682  1363392592413  \n",
       "12683  1363392592426  "
      ]
     },
     "execution_count": 23,
     "metadata": {},
     "output_type": "execute_result"
    }
   ],
   "source": [
    "Quakes.tail()"
   ]
  },
  {
   "cell_type": "code",
   "execution_count": 24,
   "metadata": {
    "collapsed": false
   },
   "outputs": [
    {
     "name": "stdout",
     "output_type": "stream",
     "text": [
      "<class 'pandas.core.frame.DataFrame'>\n",
      "Int64Index: 12684 entries, 0 to 12683\n",
      "Data columns (total 13 columns):\n",
      "DateTime      12684 non-null datetime64[ns]\n",
      "Latitude      12684 non-null float64\n",
      "Longitude     12684 non-null float64\n",
      "Depth         12676 non-null float64\n",
      "Magnitude     12684 non-null float64\n",
      "MagType       12684 non-null object\n",
      "NbStations    12684 non-null int64\n",
      "Gap           12684 non-null int64\n",
      "Distance      1 non-null float64\n",
      "RMS           10544 non-null float64\n",
      "Source        12684 non-null object\n",
      "EventID       12684 non-null object\n",
      "Version       12684 non-null int64\n",
      "dtypes: datetime64[ns](1), float64(6), int64(3), object(3)\n",
      "memory usage: 1.4+ MB\n"
     ]
    }
   ],
   "source": [
    "Quakes.info()\n"
   ]
  },
  {
   "cell_type": "markdown",
   "metadata": {},
   "source": [
    "<h3> a. What is the median earthquake magnitude? </h3>"
   ]
  },
  {
   "cell_type": "code",
   "execution_count": 25,
   "metadata": {
    "collapsed": false
   },
   "outputs": [
    {
     "name": "stdout",
     "output_type": "stream",
     "text": [
      "The Median earthquake magnitude is  4.5\n"
     ]
    }
   ],
   "source": [
    "print \"The Median earthquake magnitude is \" , Quakes.Magnitude.median()"
   ]
  },
  {
   "cell_type": "markdown",
   "metadata": {},
   "source": [
    "<h3> b. What is the correlation between magnitude and depth? </h3>"
   ]
  },
  {
   "cell_type": "code",
   "execution_count": 26,
   "metadata": {
    "collapsed": false
   },
   "outputs": [],
   "source": [
    "QuakesCorr = Quakes.corr()"
   ]
  },
  {
   "cell_type": "code",
   "execution_count": 27,
   "metadata": {
    "collapsed": false
   },
   "outputs": [
    {
     "data": {
      "text/html": [
       "<div style=\"max-height:1000px;max-width:1500px;overflow:auto;\">\n",
       "<table border=\"1\" class=\"dataframe\">\n",
       "  <thead>\n",
       "    <tr style=\"text-align: right;\">\n",
       "      <th></th>\n",
       "      <th>Latitude</th>\n",
       "      <th>Longitude</th>\n",
       "      <th>Depth</th>\n",
       "      <th>Magnitude</th>\n",
       "      <th>NbStations</th>\n",
       "      <th>Gap</th>\n",
       "      <th>Distance</th>\n",
       "      <th>RMS</th>\n",
       "      <th>Version</th>\n",
       "    </tr>\n",
       "  </thead>\n",
       "  <tbody>\n",
       "    <tr>\n",
       "      <th>Latitude</th>\n",
       "      <td> 1.000000</td>\n",
       "      <td> 0.151126</td>\n",
       "      <td>-0.152737</td>\n",
       "      <td>-0.094021</td>\n",
       "      <td> 0.169994</td>\n",
       "      <td>-0.002338</td>\n",
       "      <td>NaN</td>\n",
       "      <td>-0.059844</td>\n",
       "      <td> 0.028847</td>\n",
       "    </tr>\n",
       "    <tr>\n",
       "      <th>Longitude</th>\n",
       "      <td> 0.151126</td>\n",
       "      <td> 1.000000</td>\n",
       "      <td>-0.056669</td>\n",
       "      <td> 0.094502</td>\n",
       "      <td>-0.062045</td>\n",
       "      <td>-0.158388</td>\n",
       "      <td>NaN</td>\n",
       "      <td>-0.162260</td>\n",
       "      <td>-0.031297</td>\n",
       "    </tr>\n",
       "    <tr>\n",
       "      <th>Depth</th>\n",
       "      <td>-0.152737</td>\n",
       "      <td>-0.056669</td>\n",
       "      <td> 1.000000</td>\n",
       "      <td> 0.029175</td>\n",
       "      <td> 0.130701</td>\n",
       "      <td>-0.132728</td>\n",
       "      <td>NaN</td>\n",
       "      <td>-0.100127</td>\n",
       "      <td>-0.014670</td>\n",
       "    </tr>\n",
       "    <tr>\n",
       "      <th>Magnitude</th>\n",
       "      <td>-0.094021</td>\n",
       "      <td> 0.094502</td>\n",
       "      <td> 0.029175</td>\n",
       "      <td> 1.000000</td>\n",
       "      <td> 0.703717</td>\n",
       "      <td>-0.523315</td>\n",
       "      <td>NaN</td>\n",
       "      <td>-0.012080</td>\n",
       "      <td> 0.106513</td>\n",
       "    </tr>\n",
       "    <tr>\n",
       "      <th>NbStations</th>\n",
       "      <td> 0.169994</td>\n",
       "      <td>-0.062045</td>\n",
       "      <td> 0.130701</td>\n",
       "      <td> 0.703717</td>\n",
       "      <td> 1.000000</td>\n",
       "      <td>-0.483381</td>\n",
       "      <td>NaN</td>\n",
       "      <td>-0.080913</td>\n",
       "      <td> 0.114673</td>\n",
       "    </tr>\n",
       "    <tr>\n",
       "      <th>Gap</th>\n",
       "      <td>-0.002338</td>\n",
       "      <td>-0.158388</td>\n",
       "      <td>-0.132728</td>\n",
       "      <td>-0.523315</td>\n",
       "      <td>-0.483381</td>\n",
       "      <td> 1.000000</td>\n",
       "      <td>NaN</td>\n",
       "      <td>-0.010979</td>\n",
       "      <td>-0.030786</td>\n",
       "    </tr>\n",
       "    <tr>\n",
       "      <th>Distance</th>\n",
       "      <td>      NaN</td>\n",
       "      <td>      NaN</td>\n",
       "      <td>      NaN</td>\n",
       "      <td>      NaN</td>\n",
       "      <td>      NaN</td>\n",
       "      <td>      NaN</td>\n",
       "      <td>NaN</td>\n",
       "      <td>      NaN</td>\n",
       "      <td>      NaN</td>\n",
       "    </tr>\n",
       "    <tr>\n",
       "      <th>RMS</th>\n",
       "      <td>-0.059844</td>\n",
       "      <td>-0.162260</td>\n",
       "      <td>-0.100127</td>\n",
       "      <td>-0.012080</td>\n",
       "      <td>-0.080913</td>\n",
       "      <td>-0.010979</td>\n",
       "      <td>NaN</td>\n",
       "      <td> 1.000000</td>\n",
       "      <td> 0.018472</td>\n",
       "    </tr>\n",
       "    <tr>\n",
       "      <th>Version</th>\n",
       "      <td> 0.028847</td>\n",
       "      <td>-0.031297</td>\n",
       "      <td>-0.014670</td>\n",
       "      <td> 0.106513</td>\n",
       "      <td> 0.114673</td>\n",
       "      <td>-0.030786</td>\n",
       "      <td>NaN</td>\n",
       "      <td> 0.018472</td>\n",
       "      <td> 1.000000</td>\n",
       "    </tr>\n",
       "  </tbody>\n",
       "</table>\n",
       "</div>"
      ],
      "text/plain": [
       "            Latitude  Longitude     Depth  Magnitude  NbStations       Gap  \\\n",
       "Latitude    1.000000   0.151126 -0.152737  -0.094021    0.169994 -0.002338   \n",
       "Longitude   0.151126   1.000000 -0.056669   0.094502   -0.062045 -0.158388   \n",
       "Depth      -0.152737  -0.056669  1.000000   0.029175    0.130701 -0.132728   \n",
       "Magnitude  -0.094021   0.094502  0.029175   1.000000    0.703717 -0.523315   \n",
       "NbStations  0.169994  -0.062045  0.130701   0.703717    1.000000 -0.483381   \n",
       "Gap        -0.002338  -0.158388 -0.132728  -0.523315   -0.483381  1.000000   \n",
       "Distance         NaN        NaN       NaN        NaN         NaN       NaN   \n",
       "RMS        -0.059844  -0.162260 -0.100127  -0.012080   -0.080913 -0.010979   \n",
       "Version     0.028847  -0.031297 -0.014670   0.106513    0.114673 -0.030786   \n",
       "\n",
       "            Distance       RMS   Version  \n",
       "Latitude         NaN -0.059844  0.028847  \n",
       "Longitude        NaN -0.162260 -0.031297  \n",
       "Depth            NaN -0.100127 -0.014670  \n",
       "Magnitude        NaN -0.012080  0.106513  \n",
       "NbStations       NaN -0.080913  0.114673  \n",
       "Gap              NaN -0.010979 -0.030786  \n",
       "Distance         NaN       NaN       NaN  \n",
       "RMS              NaN  1.000000  0.018472  \n",
       "Version          NaN  0.018472  1.000000  "
      ]
     },
     "execution_count": 27,
     "metadata": {},
     "output_type": "execute_result"
    }
   ],
   "source": [
    "QuakesCorr"
   ]
  },
  {
   "cell_type": "code",
   "execution_count": 28,
   "metadata": {
    "collapsed": false
   },
   "outputs": [
    {
     "name": "stdout",
     "output_type": "stream",
     "text": [
      "The Correlation Between Magnitude and Depth is  0.02917515916\n"
     ]
    }
   ],
   "source": [
    "print \"The Correlation Between Magnitude and Depth is \", QuakesCorr[\"Magnitude\"][\"Depth\"]"
   ]
  },
  {
   "cell_type": "markdown",
   "metadata": {},
   "source": [
    "<h3> c. What fraction (not count) of earthquakes happen each month (across all years)? Do some months\n",
    "have significantly more or fewer quakes than others? </h3>"
   ]
  },
  {
   "cell_type": "code",
   "execution_count": 29,
   "metadata": {
    "collapsed": false
   },
   "outputs": [],
   "source": [
    "def get_month(date):\n",
    "    return date.month\n",
    "Quakes[\"Month\"] = Quakes.DateTime.apply(get_month)"
   ]
  },
  {
   "cell_type": "code",
   "execution_count": 30,
   "metadata": {
    "collapsed": false
   },
   "outputs": [],
   "source": [
    "by_months = Quakes.groupby(\"Month\")"
   ]
  },
  {
   "cell_type": "code",
   "execution_count": 31,
   "metadata": {
    "collapsed": false
   },
   "outputs": [],
   "source": [
    "x = by_months.count()"
   ]
  },
  {
   "cell_type": "code",
   "execution_count": 32,
   "metadata": {
    "collapsed": false
   },
   "outputs": [],
   "source": [
    "all_quake_cnt = x[\"Magnitude\"].sum()\n",
    "\n",
    "x[\"QuakePercent\"] = x[\"Magnitude\"]/all_quake_cnt"
   ]
  },
  {
   "cell_type": "code",
   "execution_count": null,
   "metadata": {
    "collapsed": false
   },
   "outputs": [],
   "source": []
  },
  {
   "cell_type": "code",
   "execution_count": 33,
   "metadata": {
    "collapsed": false
   },
   "outputs": [
    {
     "name": "stdout",
     "output_type": "stream",
     "text": [
      "The Quake Percentages by Month are :  Month\n",
      "1        0.080732\n",
      "2        0.085225\n",
      "3        0.090271\n",
      "4        0.109823\n",
      "5        0.083412\n",
      "6        0.070956\n",
      "7        0.069536\n",
      "8        0.080574\n",
      "9        0.089246\n",
      "10       0.082860\n",
      "11       0.078524\n",
      "12       0.078839\n",
      "Name: QuakePercent, dtype: float64\n"
     ]
    }
   ],
   "source": [
    "QuakeByMonthPercents = x[\"QuakePercent\"]\n",
    "print \"The Quake Percentages by Month are : \" , QuakeByMonthPercents"
   ]
  },
  {
   "cell_type": "code",
   "execution_count": 34,
   "metadata": {
    "collapsed": false
   },
   "outputs": [
    {
     "name": "stdout",
     "output_type": "stream",
     "text": [
      "There were  0  quakes greater than 3 standard deviations compared to the monthly average\n"
     ]
    }
   ],
   "source": [
    "average_monthly_quakes = QuakeByMonthPercents.mean()\n",
    "std_monthly_quakes = QuakeByMonthPercents.std()\n",
    "\n",
    "\n",
    "big_quake_cnt = 0\n",
    "for i in QuakeByMonthPercents:\n",
    "    if (i > (average_monthly_quakes + 3*std_monthly_quakes)) or (i < (average_monthly_quakes - 3*std_monthly_quakes)):\n",
    "        print \"big quake\" , i\n",
    "        big_quake_cnt += 1\n",
    "print \"There were \" , big_quake_cnt , \" quakes greater than 3 standard deviations compared to the monthly average\"\n"
   ]
  },
  {
   "cell_type": "code",
   "execution_count": null,
   "metadata": {
    "collapsed": false
   },
   "outputs": [],
   "source": []
  },
  {
   "cell_type": "code",
   "execution_count": null,
   "metadata": {
    "collapsed": false
   },
   "outputs": [],
   "source": []
  }
 ],
 "metadata": {
  "kernelspec": {
   "display_name": "Python 2",
   "language": "python",
   "name": "python2"
  },
  "language_info": {
   "codemirror_mode": {
    "name": "ipython",
    "version": 2
   },
   "file_extension": ".py",
   "mimetype": "text/x-python",
   "name": "python",
   "nbconvert_exporter": "python",
   "pygments_lexer": "ipython2",
   "version": "2.7.9"
  }
 },
 "nbformat": 4,
 "nbformat_minor": 0
}
