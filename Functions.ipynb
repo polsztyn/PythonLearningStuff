{
 "cells": [
  {
   "cell_type": "markdown",
   "metadata": {},
   "source": [
    "<h1>Functions</h2>"
   ]
  },
  {
   "cell_type": "markdown",
   "metadata": {},
   "source": [
    "Functions are blocks of code that you define that do something specific with certain parameters you give them. \n",
    "\n",
    "They often (but not always) take inputs (called arguments) and return some output.\n",
    "\n",
    "Functions are defined using the <b>def</b> keyword, with an indented block of code underneath.\n",
    "Here's a basic function that takes no inputs and doesn't return a value, and just prints \"Hello, world\":"
   ]
  },
  {
   "cell_type": "code",
   "execution_count": 4,
   "metadata": {
    "collapsed": false
   },
   "outputs": [],
   "source": [
    "def hello_world(): #define function\n",
    "    print \"Hello, world!\"\n"
   ]
  },
  {
   "cell_type": "code",
   "execution_count": 5,
   "metadata": {
    "collapsed": false
   },
   "outputs": [
    {
     "name": "stdout",
     "output_type": "stream",
     "text": [
      "Hello, world!\n"
     ]
    }
   ],
   "source": [
    "hello_world() # invoke the function"
   ]
  },
  {
   "cell_type": "markdown",
   "metadata": {},
   "source": [
    "Of course, a function like that isn't very useful. Let's give it some arguments, and make it more useful. \n",
    "\n",
    "Arguments go inside the parentheses after the function name; they are variables which have values assigned to them when the\n",
    "function is called.\n"
   ]
  },
  {
   "cell_type": "code",
   "execution_count": 9,
   "metadata": {
    "collapsed": false
   },
   "outputs": [],
   "source": [
    "def addition(a, b): # define function\n",
    "    '''\n",
    "    Add numbers a, b and print the results.\n",
    "    You can add documentation to a function using three single- or double-quotes\n",
    "    at the top of the function, like this. This is good practice to document\n",
    "    what your function does.\n",
    "    '''\n",
    "    print a + b\n"
   ]
  },
  {
   "cell_type": "code",
   "execution_count": 8,
   "metadata": {
    "collapsed": false
   },
   "outputs": [
    {
     "name": "stdout",
     "output_type": "stream",
     "text": [
      "4\n"
     ]
    }
   ],
   "source": [
    "addition (1,3) # call function"
   ]
  },
  {
   "cell_type": "code",
   "execution_count": 11,
   "metadata": {
    "collapsed": false
   },
   "outputs": [
    {
     "name": "stdout",
     "output_type": "stream",
     "text": [
      "200\n"
     ]
    }
   ],
   "source": [
    "addition (173, 27) # call function"
   ]
  },
  {
   "cell_type": "markdown",
   "metadata": {},
   "source": [
    "Note that the variables a and b above are only defined inside the function. \n",
    "\n",
    "<b>Variables inside and outside the function are different, even if they have the same name. </b>\n"
   ]
  },
  {
   "cell_type": "code",
   "execution_count": 12,
   "metadata": {
    "collapsed": false
   },
   "outputs": [
    {
     "name": "stdout",
     "output_type": "stream",
     "text": [
      "2\n",
      "5 10\n"
     ]
    }
   ],
   "source": [
    "a = 5\n",
    "b = 10\n",
    "addition(1, 1)\n",
    "print a, b\n"
   ]
  },
  {
   "cell_type": "markdown",
   "metadata": {},
   "source": [
    "<h2> Function Return Value </h2>\n",
    "\n",
    "Note that our addition function is just printing the result, but not saving it anywhere. To store the result, we need to have\n",
    "the function <b>return</b> a value.\n"
   ]
  },
  {
   "cell_type": "code",
   "execution_count": 14,
   "metadata": {
    "collapsed": false
   },
   "outputs": [],
   "source": [
    "def addition(a, b):\n",
    "    return a + b  # identify the return value\n"
   ]
  },
  {
   "cell_type": "code",
   "execution_count": 15,
   "metadata": {
    "collapsed": false
   },
   "outputs": [
    {
     "name": "stdout",
     "output_type": "stream",
     "text": [
      "5\n"
     ]
    }
   ],
   "source": [
    "c = addition(2, 3)\n",
    "print c\n"
   ]
  },
  {
   "cell_type": "markdown",
   "metadata": {},
   "source": [
    "Obviously, you don't need to write your own function just to handle adding two numbers. You'll want to use them when\n",
    "you have more complicated code that you think you'll need to run again and again in different places in your program.\n",
    "For example, suppose you expect to need to find the average for many lists -- a pretty standard thing. You could write a\n",
    "function to do it, like this:"
   ]
  },
  {
   "cell_type": "code",
   "execution_count": 18,
   "metadata": {
    "collapsed": false
   },
   "outputs": [],
   "source": [
    "def find_mean(num_list):\n",
    "    '''\n",
    "    Find the average of num_list\n",
    "    '''\n",
    "    total = 0.0\n",
    "    for x in num_list:\n",
    "        total += x\n",
    "    return total / len(num_list)\n"
   ]
  },
  {
   "cell_type": "markdown",
   "metadata": {},
   "source": [
    "<h2> Passing Arguments into Fuction - By Value </h2>\n",
    "\n",
    "<p> Simple arguments are passed by value to a function, i.e., a local copy of the input variable is created when the function is called.\n",
    "Any changes to the local copy of the input argument stay in the function </p>"
   ]
  },
  {
   "cell_type": "code",
   "execution_count": 1,
   "metadata": {
    "collapsed": false
   },
   "outputs": [],
   "source": [
    "def pass_by_value(in_arg):\n",
    "    in_arg = \"I changed it\" \n",
    "    "
   ]
  },
  {
   "cell_type": "code",
   "execution_count": 2,
   "metadata": {
    "collapsed": false
   },
   "outputs": [
    {
     "name": "stdout",
     "output_type": "stream",
     "text": [
      "Paul\n"
     ]
    }
   ],
   "source": [
    "x = \"Paul\"\n",
    "pass_by_value(x)\n",
    "print x"
   ]
  },
  {
   "cell_type": "markdown",
   "metadata": {
    "collapsed": false
   },
   "source": [
    "<h2>Running a Python Function from the Command Line </h2>\n",
    "\n",
    "<p>There are two popular methods for running a python function from the command line:</p>\n",
    "<ol>\n",
    "<li>\n",
    "Use the \"-c\" option\n",
    "</li>\n",
    "<li>\n",
    "Specify the main module in the Python File and use the \"-m\" option\n",
    "</li>\n",
    "<ol>"
   ]
  },
  {
   "cell_type": "markdown",
   "metadata": {},
   "source": [
    "<h3>Running a Python Function from the Command Line using the -c option</h3>\n",
    "\n",
    "<p>The -c command switch tells python to look for a command to run, passed\n",
    "to it as a string following the -c switch <p>\n",
    "<p>For example, suppose we saved the HelloWord function above in a file\n",
    "called foo.py - to run it from the command line we would type the following:</p>\n",
    "\n",
    "<code>\n",
    "python -c \"from foo import hello_world; hello_world()\"\n",
    "</code>"
   ]
  },
  {
   "cell_type": "markdown",
   "metadata": {},
   "source": [
    "<h3>Running a Python Function from the Command Line using Specify the main module in the Python File and use the \"-m\" option </h3>\n",
    "\n",
    "<p>The -m command line option specifies python to run a library module as a script </p>\n",
    "\n",
    "<p> So if we modify the foo.py file as shown below and save it to foo2.py: </p>"
   ]
  },
  {
   "cell_type": "code",
   "execution_count": 1,
   "metadata": {
    "collapsed": false
   },
   "outputs": [
    {
     "name": "stdout",
     "output_type": "stream",
     "text": [
      "Hello, world!\n"
     ]
    }
   ],
   "source": [
    "def hello_world(): #define function\n",
    "    print \"Hello, world!\"\n",
    "if __name__ == \"__main__\":\n",
    "    hello_world()"
   ]
  },
  {
   "cell_type": "markdown",
   "metadata": {},
   "source": [
    "<p> We can run foo from the command line by typing in following at the command line </p>\n",
    "\n",
    "<code>\n",
    "python -m foo2\n",
    "</code>\n",
    "\n",
    "<p> or alternatively </p>\n",
    "\n",
    "<code>\n",
    "python foo2.py\n",
    "</code>\n"
   ]
  },
  {
   "cell_type": "markdown",
   "metadata": {},
   "source": [
    "<p>Some explanation here: <code>\\_\\_name\\_\\_</code> is a special Python variable that holds the name of the module currently being executed, except when the module is started from the command line, in which case it becomes <code>\"\\_\\_main\\_\\_\"</code>.</p>\n"
   ]
  },
  {
   "cell_type": "markdown",
   "metadata": {
    "collapsed": true
   },
   "source": [
    "<h2>Command Line Arguments : sys.argv</h2>\n",
    "\n",
    "<p>sys.argv is a list in Python, which contains the command-line arguments passed to the script. </p> \n",
    "\n",
    "<p>With the len(sys.argv) function you can count the number of arguments.</p>\n",
    "\n",
    "<p>If you are gonna work with command line arguments, you probably want to \n",
    "use sys.argv. </p>\n",
    "\n",
    "<p>To use sys.argv, you will first have to import the sys module. </p>\n",
    "\n",
    "<p>Notice that sys.argv[0] is typically the name of the script invoked, however there are differences depending on platform.</p>\n"
   ]
  },
  {
   "cell_type": "code",
   "execution_count": 2,
   "metadata": {
    "collapsed": false
   },
   "outputs": [
    {
     "name": "stdout",
     "output_type": "stream",
     "text": [
      "This is the name of the script:  C:\\Anaconda\\lib\\site-packages\\IPython\\kernel\\__main__.py\n",
      "Number of arguments:  5\n",
      "The arguments are:  ['C:\\\\Anaconda\\\\lib\\\\site-packages\\\\IPython\\\\kernel\\\\__main__.py', '-f', 'C:\\\\Users\\\\polsztyn\\\\.ipython\\\\profile_default\\\\security\\\\kernel-14a8a174-1954-4091-8341-08a5b77430cf.json', '--profile-dir', 'C:\\\\Users\\\\polsztyn\\\\.ipython\\\\profile_default']\n"
     ]
    }
   ],
   "source": [
    "import sys\n",
    "print \"This is the name of the script: \", sys.argv[0]\n",
    "print \"Number of arguments: \", len(sys.argv)\n",
    "print \"The arguments are: \" , str(sys.argv)"
   ]
  },
  {
   "cell_type": "markdown",
   "metadata": {},
   "source": [
    "<h2>Command Line Arguments : getopt</h2>\n",
    "    \n",
    "<p>Python provided a getopt module that helps you parse command-line options and arguments. This module provides two functions and an exception to enable command line argument parsing.</p>\n",
    "\n",
    "<h3>getopt.getopt method</h3>\n",
    "<p>This method parses command line options and parameter list. Following is simple syntax for this method −</p>\n",
    "\n",
    "<p>I lifted this from https://www.tutorialspoint.com/python/python_command_line_arguments.htm </p>"
   ]
  },
  {
   "cell_type": "raw",
   "metadata": {},
   "source": [
    "getopt.getopt(args, options, [long_options])"
   ]
  },
  {
   "cell_type": "markdown",
   "metadata": {},
   "source": [
    "<p>Here is the detail of the parameters − <p>\n",
    "\n",
    "<ul>\n",
    "<li> <b>args</b>: This is the argument list to be parsed.</li>\n",
    "\n",
    "<li><b>options</b>: This is the string of option letters that the script wants to recognize, with options that require an argument should be followed by a colon (:).</li>\n",
    "\n",
    "<li><b>long_options</b>: This is optional parameter and if specified, must be a list of strings with the names of the long options, which should be supported. Long options, which require an argument should be followed by an equal sign ('='). To accept only long options, options should be an empty string.</li>\n",
    "</ul>\n",
    "\n",
    "This method returns value consisting of two elements: the first is a list of (option, value) pairs. The second is the list of program arguments left after the option list was stripped.\n",
    "\n",
    "Each option-and-value pair returned has the option as its first element, prefixed with a hyphen for short options (e.g., '-x') or two hyphens for long options (e.g., '--long-option').\n",
    "\n",
    "<h3>Exception getopt.GetoptError</h3>\n",
    "\n",
    "<p>This is raised when an unrecognized option is found in the argument list or when an option requiring an argument is given none.</p>\n",
    "\n",
    "</p>The argument to the exception is a string indicating the cause of the error. The attributes <b>msg</b> and <b>opt</b> give the error message and related option</p>\n",
    "\n",
    "<h3>Example</h3>\n",
    "\n",
    "<p>Below is a code sample in which we want to pass two file names through command line and we also want to give an option to check the usage of the script.</p>\n",
    "\n",
    "<p>The input argument should follow the -i option argument.  The output argument should follow the -o option argument</p>\n",
    "\n",
    "<p>The optional -h argument causes the usage string to be printed</p>\n",
    "\n",
    "<p>If an unspecified option is passed or a mandatory option isn't provided, the <b> except</b> block will be executed and an error thrown</p>\n",
    "\n",
    "<p> \n",
    "\n",
    "<p>When the cell below is run, it will throw an error because it passes unexpected command line arguments<p>\n"
   ]
  },
  {
   "cell_type": "code",
   "execution_count": 5,
   "metadata": {
    "collapsed": false
   },
   "outputs": [
    {
     "name": "stdout",
     "output_type": "stream",
     "text": [
      "test.py -i <inputfile> -o <outputfile>\n"
     ]
    },
    {
     "ename": "SystemExit",
     "evalue": "2",
     "output_type": "error",
     "traceback": [
      "An exception has occurred, use %tb to see the full traceback.\n",
      "\u001b[1;31mSystemExit\u001b[0m\u001b[1;31m:\u001b[0m 2\n"
     ]
    },
    {
     "name": "stderr",
     "output_type": "stream",
     "text": [
      "To exit: use 'exit', 'quit', or Ctrl-D.\n"
     ]
    }
   ],
   "source": [
    "import sys, getopt\n",
    "\n",
    "def main(argv):\n",
    "   inputfile = ''\n",
    "   outputfile = ''\n",
    "   try:\n",
    "      opts, args = getopt.getopt(argv,\"hi:o:\",[\"ifile=\",\"ofile=\"])\n",
    "   except getopt.GetoptError:\n",
    "      print 'test.py -i <inputfile> -o <outputfile>'\n",
    "      sys.exit(2)\n",
    "   for opt, arg in opts:\n",
    "      if opt == '-h':\n",
    "         print 'test.py -i <inputfile> -o <outputfile>'\n",
    "         sys.exit()\n",
    "      elif opt in (\"-i\", \"--ifile\"):\n",
    "         inputfile = arg\n",
    "      elif opt in (\"-o\", \"--ofile\"):\n",
    "         outputfile = arg\n",
    "   print 'Input file is \"', inputfile\n",
    "   print 'Output file is \"', outputfile\n",
    "\n",
    "if __name__ == \"__main__\":\n",
    "   main(sys.argv[1:])"
   ]
  },
  {
   "cell_type": "markdown",
   "metadata": {},
   "source": [
    "<p>Saving the script to a file called test.py running it with the following options will give results shown below</p>\n"
   ]
  },
  {
   "cell_type": "raw",
   "metadata": {},
   "source": [
    "$ test.py -h\n",
    "usage: test.py -i <inputfile> -o <outputfile>\n",
    "\n",
    "$ test.py -i BMP -o\n",
    "usage: test.py -i <inputfile> -o <outputfile>\n",
    "\n",
    "$ test.py -i inputfile\n",
    "Input file is \" inputfile\n",
    "Output file is \"\n"
   ]
  },
  {
   "cell_type": "markdown",
   "metadata": {},
   "source": [
    "<h2>Argparse </h2>\n",
    "\n",
    "<p><b>argsparse</b> is the currently prefered command-line parsing module in the standard python library </p>\n",
    "\n",
    "<p>I need to complete this in the future, go here. https://docs.python.org/3/howto/argparse.html#id1  </p>"
   ]
  },
  {
   "cell_type": "code",
   "execution_count": 6,
   "metadata": {
    "collapsed": false
   },
   "outputs": [
    {
     "name": "stderr",
     "output_type": "stream",
     "text": [
      "usage: __main__.py [-h]\n",
      "__main__.py: error: unrecognized arguments: -f C:\\Users\\polsztyn\\.ipython\\profile_default\\security\\kernel-14a8a174-1954-4091-8341-08a5b77430cf.json --profile-dir C:\\Users\\polsztyn\\.ipython\\profile_default\n"
     ]
    },
    {
     "ename": "SystemExit",
     "evalue": "2",
     "output_type": "error",
     "traceback": [
      "An exception has occurred, use %tb to see the full traceback.\n",
      "\u001b[1;31mSystemExit\u001b[0m\u001b[1;31m:\u001b[0m 2\n"
     ]
    },
    {
     "name": "stderr",
     "output_type": "stream",
     "text": [
      "To exit: use 'exit', 'quit', or Ctrl-D.\n"
     ]
    }
   ],
   "source": [
    "import argparse\n",
    "parser = argparse.ArgumentParser()\n",
    "parser.parse_args()"
   ]
  },
  {
   "cell_type": "code",
   "execution_count": null,
   "metadata": {
    "collapsed": true
   },
   "outputs": [],
   "source": []
  }
 ],
 "metadata": {
  "kernelspec": {
   "display_name": "Python 2",
   "language": "python",
   "name": "python2"
  },
  "language_info": {
   "codemirror_mode": {
    "name": "ipython",
    "version": 2
   },
   "file_extension": ".py",
   "mimetype": "text/x-python",
   "name": "python",
   "nbconvert_exporter": "python",
   "pygments_lexer": "ipython2",
   "version": "2.7.10"
  }
 },
 "nbformat": 4,
 "nbformat_minor": 0
}
