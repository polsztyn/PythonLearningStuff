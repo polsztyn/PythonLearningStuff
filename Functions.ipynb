{
 "cells": [
  {
   "cell_type": "markdown",
   "metadata": {},
   "source": [
    "<h1>Functions</h2>"
   ]
  },
  {
   "cell_type": "markdown",
   "metadata": {},
   "source": [
    "Functions are blocks of code that you define that do something specific with certain parameters you give them. \n",
    "\n",
    "They often (but not always) take inputs (called arguments) and return some output.\n",
    "\n",
    "Functions are defined using the <b>def</b> keyword, with an indented block of code underneath.\n",
    "Here's a basic function that takes no inputs and doesn't return a value, and just prints \"Hello, world\":"
   ]
  },
  {
   "cell_type": "code",
   "execution_count": 3,
   "metadata": {},
   "outputs": [],
   "source": [
    "#Coming from other languages, you might object that hello_world is not a function but a procedure since it doesn’t \n",
    "#return a value. In fact, even functions without a return statement do return a value, albeit a rather boring one. \n",
    "#This value is called None (it’s a built-in name). Writing the value None is normally suppressed by the interpreter \n",
    "#if it would be the only value written. You can see it if you really want to using print():\n",
    "def hello_world(): #define function\n",
    "    print \"Hello, world!\"\n"
   ]
  },
  {
   "cell_type": "code",
   "execution_count": 7,
   "metadata": {},
   "outputs": [
    {
     "name": "stdout",
     "output_type": "stream",
     "text": [
      "Hello, world!\n",
      "the return value of hello_world is  Hello, world!\n",
      "None\n",
      "the type of the hello_world is  <type 'function'>\n"
     ]
    }
   ],
   "source": [
    "hello_world() # invoke the function\n",
    "print \"the return value of hello_world is \", hello_world()\n",
    "print \"the type of the hello_world is \" ,type(hello_world)"
   ]
  },
  {
   "cell_type": "markdown",
   "metadata": {},
   "source": [
    "<p>The keyword def introduces a function definition. It must be followed by the function name and the parenthesized list of formal parameters. The statements that form the body of the function start at the next line, and must be indented.<p>\n",
    "\n",
    "<p>The first statement of the function body can optionally be a string literal; this string literal is the function’s documentation string, or docstring. (More about docstrings can be found in the section Documentation Strings.) There are tools which use docstrings to automatically produce online or printed documentation, or to let the user interactively browse through code; it’s good practice to include docstrings in code that you write, so make a habit of it.</p>\n",
    "\n",
    "<p>The execution of a function introduces a new symbol table used for the local variables of the function. More precisely, all variable assignments in a function store the value in the local symbol table; whereas variable references first look in the local symbol table, then in the local symbol tables of enclosing functions, then in the global symbol table, and finally in the table of built-in names. Thus, global variables cannot be directly assigned a value within a function (unless named in a global statement), although they may be referenced.</p>\n",
    "\n",
    "<p>The actual parameters (arguments) to a function call are introduced in the local symbol table of the called function when it is called; thus, arguments are passed using call by value (where the value is always an object reference, not the value of the object). [1] When a function calls another function, a new local symbol table is created for that call.</p>\n",
    "\n",
    "<p>A function definition introduces the function name in the current symbol table. The value of the function name has a type that is recognized by the interpreter as a user-defined function. This value can be assigned to another name which can then also be used as a function. This serves as a general renaming mechanism:</p>\n"
   ]
  },
  {
   "cell_type": "code",
   "execution_count": 9,
   "metadata": {},
   "outputs": [],
   "source": [
    "def addition(a, b): # define function\n",
    "    '''\n",
    "    Add numbers a, b and print the results.\n",
    "    You can add documentation to a function using three single- or double-quotes\n",
    "    at the top of the function, like this. This is good practice to document\n",
    "    what your function does.\n",
    "    '''\n",
    "    print a + b\n"
   ]
  },
  {
   "cell_type": "code",
   "execution_count": 8,
   "metadata": {},
   "outputs": [
    {
     "name": "stdout",
     "output_type": "stream",
     "text": [
      "4\n"
     ]
    }
   ],
   "source": [
    "addition (1,3) # call function"
   ]
  },
  {
   "cell_type": "code",
   "execution_count": 11,
   "metadata": {},
   "outputs": [
    {
     "name": "stdout",
     "output_type": "stream",
     "text": [
      "200\n"
     ]
    }
   ],
   "source": [
    "addition (173, 27) # call function"
   ]
  },
  {
   "cell_type": "markdown",
   "metadata": {},
   "source": [
    "Note that the variables a and b above are only defined inside the function. \n",
    "\n",
    "<b>Variables inside and outside the function are different, even if they have the same name. </b>\n"
   ]
  },
  {
   "cell_type": "code",
   "execution_count": 12,
   "metadata": {},
   "outputs": [
    {
     "name": "stdout",
     "output_type": "stream",
     "text": [
      "2\n",
      "5 10\n"
     ]
    }
   ],
   "source": [
    "a = 5\n",
    "b = 10\n",
    "addition(1, 1)\n",
    "print a, b\n"
   ]
  },
  {
   "cell_type": "markdown",
   "metadata": {},
   "source": [
    "<h2> Function Return Value </h2>\n",
    "\n",
    "Note that our addition function is just printing the result, but not saving it anywhere. To store the result, we need to have\n",
    "the function <b>return</b> a value.\n"
   ]
  },
  {
   "cell_type": "code",
   "execution_count": 14,
   "metadata": {},
   "outputs": [],
   "source": [
    "def addition(a, b):\n",
    "    return a + b  # identify the return value\n"
   ]
  },
  {
   "cell_type": "code",
   "execution_count": 15,
   "metadata": {},
   "outputs": [
    {
     "name": "stdout",
     "output_type": "stream",
     "text": [
      "5\n"
     ]
    }
   ],
   "source": [
    "c = addition(2, 3)\n",
    "print c\n"
   ]
  },
  {
   "cell_type": "markdown",
   "metadata": {},
   "source": [
    "Obviously, you don't need to write your own function just to handle adding two numbers. You'll want to use them when\n",
    "you have more complicated code that you think you'll need to run again and again in different places in your program.\n",
    "For example, suppose you expect to need to find the average for many lists -- a pretty standard thing. You could write a\n",
    "function to do it, like this:"
   ]
  },
  {
   "cell_type": "code",
   "execution_count": 18,
   "metadata": {},
   "outputs": [],
   "source": [
    "def find_mean(num_list):\n",
    "    '''\n",
    "    Find the average of num_list\n",
    "    '''\n",
    "    total = 0.0\n",
    "    for x in num_list:\n",
    "        total += x\n",
    "    return total / len(num_list)\n"
   ]
  },
  {
   "cell_type": "markdown",
   "metadata": {},
   "source": [
    "<h2> Passing Arguments into Fuction - By Value </h2>\n",
    "\n",
    "<p> Simple arguments are passed by value to a function, i.e., a local copy of the input variable is created when the function is called.\n",
    "Any changes to the local copy of the input argument stay in the function.  Numbers and strings are immutable type objects and are passed by value. </p>"
   ]
  },
  {
   "cell_type": "code",
   "execution_count": 1,
   "metadata": {},
   "outputs": [],
   "source": [
    "def pass_by_value(in_arg):\n",
    "    in_arg = \"I changed it\" \n",
    "    "
   ]
  },
  {
   "cell_type": "code",
   "execution_count": 2,
   "metadata": {},
   "outputs": [
    {
     "name": "stdout",
     "output_type": "stream",
     "text": [
      "Paul\n"
     ]
    }
   ],
   "source": [
    "x = \"Paul\"\n",
    "pass_by_value(x)\n",
    "print x"
   ]
  },
  {
   "cell_type": "markdown",
   "metadata": {},
   "source": [
    "<h2>Passing Arguments into Function - By Reference</h2>\n",
    "\n",
    "<p>Objects like lists and dictionaries are passed by reference and thus changes to those objects in the function change the passed in object varialbe which is defined outside the function.</p>"
   ]
  },
  {
   "cell_type": "code",
   "execution_count": 3,
   "metadata": {},
   "outputs": [
    {
     "name": "stdout",
     "output_type": "stream",
     "text": [
      "[0, 1, 2]\n",
      "[0, 1, 2, 3]\n"
     ]
    }
   ],
   "source": [
    "def pass_by_ref(aList):\n",
    "    aList.append(3) # this will affect the list object that is passed in\n",
    "\n",
    "inList = [0,1,2]\n",
    "print inList\n",
    "\n",
    "pass_by_ref(inList)\n",
    "print inList"
   ]
  },
  {
   "cell_type": "markdown",
   "metadata": {},
   "source": [
    "<h3>More on Defining Functions</h3>\n",
    "<p>It is also possible to define functions with a variable number of arguments. There are three forms, which can be combined.</p>\n",
    "<h2>Default Argument Values</h2>\n",
    "<p>The most useful form is to specify a default value for one or more arguments. This creates a function that can be called with fewer arguments than it is defined to allow. For example:</p>\n"
   ]
  },
  {
   "cell_type": "code",
   "execution_count": 9,
   "metadata": {
    "collapsed": true
   },
   "outputs": [],
   "source": [
    "# the retries argument defaults to 4 and the reminder defaults to \"Please try again\"\n",
    "def ask_ok(prompt, retries=4, reminder='Please try again!'):\n",
    "    while True:\n",
    "        ok = input(prompt)\n",
    "        if ok in ('y', 'ye', 'yes'):\n",
    "            return True\n",
    "        if ok in ('n', 'no', 'nop', 'nope'):\n",
    "            return False\n",
    "        retries = retries - 1\n",
    "        if retries < 0:\n",
    "            raise ValueError('invalid user response')\n",
    "        print(reminder)\n"
   ]
  },
  {
   "cell_type": "markdown",
   "metadata": {},
   "source": [
    "<p>This function can be called in several ways:</p>\n",
    "\n",
    "<ul>\n",
    "<li>giving only the mandatory argument: ask_ok('Do you really want to quit?')</li>\n",
    "<li>giving one of the optional arguments: ask_ok('OK to overwrite the file?', 2)</li>\n",
    "<li>or even giving all arguments: ask_ok('OK to overwrite the file?', 2, 'Come on, only yes or no!')<li>\n",
    "</ul>\n",
    "\n",
    "<p>This example also introduces the <font color=blue><b>in</b></font> keyword. This tests whether or not a sequence contains a certain value.</p>\n",
    "\n",
    "<p>The default values are evaluated at the point of function definition in the defining scope, so that the function call to f() below will print 5</p>"
   ]
  },
  {
   "cell_type": "code",
   "execution_count": 3,
   "metadata": {},
   "outputs": [
    {
     "name": "stdout",
     "output_type": "stream",
     "text": [
      "5\n"
     ]
    }
   ],
   "source": [
    "i = 5\n",
    "\n",
    "def f(arg=i):  # i is evaluated to 5 at function definition time. so default value is for the arg argument is 5\n",
    "    print(arg) \n",
    "\n",
    "i = 6  # i is changed to 6 but function is already defined and the default value is already set, \n",
    "       #so the default value for arg is still 5\n",
    "\n",
    "f() # will print 5, because arg is defaulted and its default value is 5, not i.\n"
   ]
  },
  {
   "cell_type": "markdown",
   "metadata": {},
   "source": [
    "<b>Important warning:</b> The default value is evaluated only once. This makes a difference when the default is a mutable object such as a list, dictionary, or instances of most classes. For example, the following function accumulates the arguments passed to it on subsequent calls:"
   ]
  },
  {
   "cell_type": "code",
   "execution_count": 2,
   "metadata": {},
   "outputs": [
    {
     "name": "stdout",
     "output_type": "stream",
     "text": [
      "[1]\n",
      "[1, 2]\n",
      "[1, 2, 3]\n",
      "['a']\n"
     ]
    }
   ],
   "source": [
    "def f(a, L=[]): # at definition time, a symbol is added to the symbol table for L of an empty list.  This will only execute once.\n",
    "    L.append(a)\n",
    "    return L\n",
    "\n",
    "print(f(1)) # an empty list from original value has the value 1 appended to it.\n",
    "print(f(2)) # the devault value is pointing to list with value 1 in it, this will add 2.\n",
    "print(f(3))\n",
    "\n",
    "Z = []\n",
    "print(f('a',Z)) # here I've passed in an explicit argument, so it no longer uses the L list."
   ]
  },
  {
   "cell_type": "markdown",
   "metadata": {},
   "source": [
    "<h2> Keyword arguments </h2>\n",
    "<p>Functions can also be called using keyword arguments of the form kwarg=value. For instance, the following function:</p>"
   ]
  },
  {
   "cell_type": "code",
   "execution_count": 22,
   "metadata": {},
   "outputs": [],
   "source": [
    "def parrot(voltage, state='a stiff', action='voom', type='Norwegian Blue', end='if you put'):\n",
    "    print(\"-- This parrot wouldn't\", action, end)\n",
    "    print(end,\"if you put\", voltage, \"volts through it.\")\n",
    "    print(\"-- Lovely plumage, the\", type)\n",
    "    print(\"-- It's\", state, \"!\")"
   ]
  },
  {
   "cell_type": "markdown",
   "metadata": {},
   "source": [
    "Accepts one required argument (voltage) and three optional arguments (state, action, and type). This function can be called in any of the following ways:"
   ]
  },
  {
   "cell_type": "code",
   "execution_count": 23,
   "metadata": {},
   "outputs": [
    {
     "name": "stdout",
     "output_type": "stream",
     "text": [
      "(\"-- This parrot wouldn't\", 'voom', 'if you put')\n",
      "('if you put', 'if you put', 1000, 'volts through it.')\n",
      "('-- Lovely plumage, the', 'Norwegian Blue')\n",
      "(\"-- It's\", 'a stiff', '!')\n",
      "(\"-- This parrot wouldn't\", 'voom', 'if you put')\n",
      "('if you put', 'if you put', 1000, 'volts through it.')\n",
      "('-- Lovely plumage, the', 'Norwegian Blue')\n",
      "(\"-- It's\", 'a stiff', '!')\n",
      "(\"-- This parrot wouldn't\", 'VOOOOOM', 'if you put')\n",
      "('if you put', 'if you put', 1000000, 'volts through it.')\n",
      "('-- Lovely plumage, the', 'Norwegian Blue')\n",
      "(\"-- It's\", 'a stiff', '!')\n",
      "(\"-- This parrot wouldn't\", 'VOOOOOM', 'if you put')\n",
      "('if you put', 'if you put', 1000000, 'volts through it.')\n",
      "('-- Lovely plumage, the', 'Norwegian Blue')\n",
      "(\"-- It's\", 'a stiff', '!')\n",
      "(\"-- This parrot wouldn't\", 'jump', 'if you put')\n",
      "('if you put', 'if you put', 'a million', 'volts through it.')\n",
      "('-- Lovely plumage, the', 'Norwegian Blue')\n",
      "(\"-- It's\", 'bereft of life', '!')\n",
      "(\"-- This parrot wouldn't\", 'voom', 'if you put')\n",
      "('if you put', 'if you put', 'a thousand', 'volts through it.')\n",
      "('-- Lovely plumage, the', 'Norwegian Blue')\n",
      "(\"-- It's\", 'pushing up the daisies', '!')\n"
     ]
    }
   ],
   "source": [
    "parrot(1000)                                          # 1 positional argument\n",
    "parrot(voltage=1000)                                  # 1 keyword argument\n",
    "parrot(voltage=1000000, action='VOOOOOM')             # 2 keyword arguments\n",
    "parrot(action='VOOOOOM', voltage=1000000)             # 2 keyword arguments\n",
    "parrot('a million', 'bereft of life', 'jump')         # 3 positional arguments\n",
    "parrot('a thousand', state='pushing up the daisies')  # 1 positional, 1 keyword"
   ]
  },
  {
   "cell_type": "markdown",
   "metadata": {},
   "source": [
    "but all the following calls would be invalid:"
   ]
  },
  {
   "cell_type": "code",
   "execution_count": 24,
   "metadata": {},
   "outputs": [
    {
     "ename": "SyntaxError",
     "evalue": "non-keyword arg after keyword arg (<ipython-input-24-b68b97b43e2a>, line 2)",
     "output_type": "error",
     "traceback": [
      "\u001b[1;36m  File \u001b[1;32m\"<ipython-input-24-b68b97b43e2a>\"\u001b[1;36m, line \u001b[1;32m2\u001b[0m\n\u001b[1;33m    parrot(voltage=5.0, 'dead')  # non-keyword argument after a keyword argument\u001b[0m\n\u001b[1;31mSyntaxError\u001b[0m\u001b[1;31m:\u001b[0m non-keyword arg after keyword arg\n"
     ]
    }
   ],
   "source": [
    "parrot()                     # required argument missing\n",
    "parrot(voltage=5.0, 'dead')  # non-keyword argument after a keyword argument\n",
    "parrot(110, voltage=220)     # duplicate value for the same argument\n",
    "parrot(actor='John Cleese')  # unknown keyword argument\n"
   ]
  },
  {
   "cell_type": "markdown",
   "metadata": {},
   "source": [
    "In a function call, keyword arguments must follow positional arguments. All the keyword arguments passed must match one of the arguments accepted by the function (e.g. actor is not a valid argument for the parrot function), and their order is not important. This also includes non-optional arguments (e.g. parrot(voltage=1000) is valid too). No argument may receive a value more than once. Here’s an example that fails due to this restriction:"
   ]
  },
  {
   "cell_type": "code",
   "execution_count": 30,
   "metadata": {},
   "outputs": [
    {
     "ename": "TypeError",
     "evalue": "function() got multiple values for keyword argument 'a'",
     "output_type": "error",
     "traceback": [
      "\u001b[1;31m---------------------------------------------------------------------------\u001b[0m",
      "\u001b[1;31mTypeError\u001b[0m                                 Traceback (most recent call last)",
      "\u001b[1;32m<ipython-input-30-74cfd8b770c9>\u001b[0m in \u001b[0;36m<module>\u001b[1;34m()\u001b[0m\n\u001b[0;32m      1\u001b[0m \u001b[1;32mdef\u001b[0m \u001b[0mfunction\u001b[0m\u001b[1;33m(\u001b[0m\u001b[0ma\u001b[0m\u001b[1;33m)\u001b[0m\u001b[1;33m:\u001b[0m\u001b[1;33m\u001b[0m\u001b[0m\n\u001b[0;32m      2\u001b[0m     \u001b[1;32mpass\u001b[0m\u001b[1;33m\u001b[0m\u001b[0m\n\u001b[1;32m----> 3\u001b[1;33m \u001b[0mfunction\u001b[0m\u001b[1;33m(\u001b[0m\u001b[1;36m0\u001b[0m\u001b[1;33m,\u001b[0m \u001b[0ma\u001b[0m\u001b[1;33m=\u001b[0m\u001b[1;36m0\u001b[0m\u001b[1;33m)\u001b[0m\u001b[1;33m\u001b[0m\u001b[0m\n\u001b[0m",
      "\u001b[1;31mTypeError\u001b[0m: function() got multiple values for keyword argument 'a'"
     ]
    }
   ],
   "source": [
    "def function(a):\n",
    "    pass\n",
    "function(0, a=0)"
   ]
  },
  {
   "cell_type": "markdown",
   "metadata": {},
   "source": [
    "<h3>* and ** Arguments for a function </h3>\n",
    "<p>\n",
    "When a final formal parameter of the form \\*\\*name is present, it receives a dictionary (see Mapping Types — dict) containing all keyword arguments except for those corresponding to a formal parameter. This may be combined with a formal parameter of the form \\*name (described in the next subsection) which receives a tuple containing the positional arguments beyond the formal parameter list. (*name must occur before **name.) For example, if we define a function like this:</p>"
   ]
  },
  {
   "cell_type": "code",
   "execution_count": 31,
   "metadata": {},
   "outputs": [
    {
     "name": "stdout",
     "output_type": "stream",
     "text": [
      "('-- Do you have any', 'Limburger', '?')\n",
      "(\"-- I'm sorry, we're all out of\", 'Limburger')\n",
      "It's very runny, sir.\n",
      "It's really very, VERY runny, sir.\n",
      "----------------------------------------\n",
      "('shopkeeper', ':', 'Michael Palin')\n",
      "('sketch', ':', 'Cheese Shop Sketch')\n",
      "('client', ':', 'John Cleese')\n"
     ]
    }
   ],
   "source": [
    "def cheeseshop(kind, *arguments, **keywords):\n",
    "    print(\"-- Do you have any\", kind, \"?\")\n",
    "    print(\"-- I'm sorry, we're all out of\", kind)\n",
    "    for arg in arguments:\n",
    "        print(arg)\n",
    "    print(\"-\" * 40)\n",
    "    for kw in keywords:\n",
    "        print(kw, \":\", keywords[kw])\n",
    "\n",
    "#Note that the order in which the keyword arguments are printed is guaranteed to match \n",
    "# the order in which they were provided in the function call.       \n",
    "cheeseshop(\"Limburger\", \"It's very runny, sir.\",\n",
    "           \"It's really very, VERY runny, sir.\",\n",
    "           shopkeeper=\"Michael Palin\",\n",
    "           sketch=\"Cheese Shop Sketch\",\n",
    "          client=\"John Cleese\")"
   ]
  },
  {
   "cell_type": "code",
   "execution_count": 25,
   "metadata": {},
   "outputs": [
    {
     "ename": "TypeError",
     "evalue": "function() got multiple values for keyword argument 'a'",
     "output_type": "error",
     "traceback": [
      "\u001b[1;31m---------------------------------------------------------------------------\u001b[0m",
      "\u001b[1;31mTypeError\u001b[0m                                 Traceback (most recent call last)",
      "\u001b[1;32m<ipython-input-25-74cfd8b770c9>\u001b[0m in \u001b[0;36m<module>\u001b[1;34m()\u001b[0m\n\u001b[0;32m      1\u001b[0m \u001b[1;32mdef\u001b[0m \u001b[0mfunction\u001b[0m\u001b[1;33m(\u001b[0m\u001b[0ma\u001b[0m\u001b[1;33m)\u001b[0m\u001b[1;33m:\u001b[0m\u001b[1;33m\u001b[0m\u001b[0m\n\u001b[0;32m      2\u001b[0m     \u001b[1;32mpass\u001b[0m\u001b[1;33m\u001b[0m\u001b[0m\n\u001b[1;32m----> 3\u001b[1;33m \u001b[0mfunction\u001b[0m\u001b[1;33m(\u001b[0m\u001b[1;36m0\u001b[0m\u001b[1;33m,\u001b[0m \u001b[0ma\u001b[0m\u001b[1;33m=\u001b[0m\u001b[1;36m0\u001b[0m\u001b[1;33m)\u001b[0m\u001b[1;33m\u001b[0m\u001b[0m\n\u001b[0m",
      "\u001b[1;31mTypeError\u001b[0m: function() got multiple values for keyword argument 'a'"
     ]
    }
   ],
   "source": [
    "def function(a):\n",
    "    pass\n",
    "function(0, a=0)"
   ]
  },
  {
   "cell_type": "markdown",
   "metadata": {},
   "source": [
    "<h2>Running a Python Function from the Command Line </h2>\n",
    "\n",
    "<p>There are two popular methods for running a python function from the command line:</p>\n",
    "<ol>\n",
    "<li>\n",
    "Use the \"-c\" option\n",
    "</li>\n",
    "<li>\n",
    "Specify the main module in the Python File and use the \"-m\" option\n",
    "</li>\n",
    "<ol>"
   ]
  },
  {
   "cell_type": "markdown",
   "metadata": {},
   "source": [
    "<h3>Running a Python Function from the Command Line using the -c option</h3>\n",
    "\n",
    "<p>The -c command switch tells python to look for a command to run, passed\n",
    "to it as a string following the -c switch <p>\n",
    "<p>For example, suppose we saved the HelloWord function above in a file\n",
    "called foo.py - to run it from the command line we would type the following:</p>\n",
    "\n",
    "<code>\n",
    "python -c \"from foo import hello_world; hello_world()\"\n",
    "</code>"
   ]
  },
  {
   "cell_type": "markdown",
   "metadata": {},
   "source": [
    "<h3>Running a Python Function from the Command Line using Specify the main module in the Python File and use the \"-m\" option </h3>\n",
    "\n",
    "<p>The -m command line option specifies python to run a library module as a script </p>\n",
    "\n",
    "<p> So if we modify the foo.py file as shown below and save it to foo2.py: </p>"
   ]
  },
  {
   "cell_type": "code",
   "execution_count": 1,
   "metadata": {},
   "outputs": [
    {
     "name": "stdout",
     "output_type": "stream",
     "text": [
      "Hello, world!\n"
     ]
    }
   ],
   "source": [
    "def hello_world(): #define function\n",
    "    print \"Hello, world!\"\n",
    "if __name__ == \"__main__\":\n",
    "    hello_world()"
   ]
  },
  {
   "cell_type": "markdown",
   "metadata": {},
   "source": [
    "<p> We can run foo from the command line by typing in following at the command line </p>\n",
    "\n",
    "<code>\n",
    "python -m foo2\n",
    "</code>\n",
    "\n",
    "<p> or alternatively </p>\n",
    "\n",
    "<code>\n",
    "python foo2.py\n",
    "</code>\n"
   ]
  },
  {
   "cell_type": "markdown",
   "metadata": {},
   "source": [
    "<p>Some explanation here: <code>\\_\\_name\\_\\_</code> is a special Python variable that holds the name of the module currently being executed, except when the module is started from the command line, in which case it becomes <code>\"\\_\\_main\\_\\_\"</code>.</p>\n"
   ]
  },
  {
   "cell_type": "markdown",
   "metadata": {
    "collapsed": true
   },
   "source": [
    "<h2>Command Line Arguments : sys.argv</h2>\n",
    "\n",
    "<p>sys.argv is a list in Python, which contains the command-line arguments passed to the script. </p> \n",
    "\n",
    "<p>With the len(sys.argv) function you can count the number of arguments.</p>\n",
    "\n",
    "<p>If you are gonna work with command line arguments, you probably want to \n",
    "use sys.argv. </p>\n",
    "\n",
    "<p>To use sys.argv, you will first have to import the sys module. </p>\n",
    "\n",
    "<p>Notice that sys.argv[0] is typically the name of the script invoked, however there are differences depending on platform.</p>\n"
   ]
  },
  {
   "cell_type": "code",
   "execution_count": 2,
   "metadata": {},
   "outputs": [
    {
     "name": "stdout",
     "output_type": "stream",
     "text": [
      "This is the name of the script:  C:\\Anaconda\\lib\\site-packages\\IPython\\kernel\\__main__.py\n",
      "Number of arguments:  5\n",
      "The arguments are:  ['C:\\\\Anaconda\\\\lib\\\\site-packages\\\\IPython\\\\kernel\\\\__main__.py', '-f', 'C:\\\\Users\\\\polsztyn\\\\.ipython\\\\profile_default\\\\security\\\\kernel-14a8a174-1954-4091-8341-08a5b77430cf.json', '--profile-dir', 'C:\\\\Users\\\\polsztyn\\\\.ipython\\\\profile_default']\n"
     ]
    }
   ],
   "source": [
    "import sys\n",
    "print \"This is the name of the script: \", sys.argv[0]\n",
    "print \"Number of arguments: \", len(sys.argv)\n",
    "print \"The arguments are: \" , str(sys.argv)"
   ]
  },
  {
   "cell_type": "markdown",
   "metadata": {},
   "source": [
    "<h2>Command Line Arguments : getopt</h2>\n",
    "    \n",
    "<p>Python provided a getopt module that helps you parse command-line options and arguments. This module provides two functions and an exception to enable command line argument parsing.</p>\n",
    "\n",
    "<h3>getopt.getopt method</h3>\n",
    "<p>This method parses command line options and parameter list. Following is simple syntax for this method −</p>\n",
    "\n",
    "<p>I lifted this from https://www.tutorialspoint.com/python/python_command_line_arguments.htm </p>"
   ]
  },
  {
   "cell_type": "raw",
   "metadata": {},
   "source": [
    "getopt.getopt(args, options, [long_options])"
   ]
  },
  {
   "cell_type": "markdown",
   "metadata": {},
   "source": [
    "<p>Here is the detail of the parameters − <p>\n",
    "\n",
    "<ul>\n",
    "<li> <b>args</b>: This is the argument list to be parsed.</li>\n",
    "\n",
    "<li><b>options</b>: This is the string of option letters that the script wants to recognize, with options that require an argument should be followed by a colon (:).</li>\n",
    "\n",
    "<li><b>long_options</b>: This is optional parameter and if specified, must be a list of strings with the names of the long options, which should be supported. Long options, which require an argument should be followed by an equal sign ('='). To accept only long options, options should be an empty string.</li>\n",
    "</ul>\n",
    "\n",
    "This method returns value consisting of two elements: the first is a list of (option, value) pairs. The second is the list of program arguments left after the option list was stripped.\n",
    "\n",
    "Each option-and-value pair returned has the option as its first element, prefixed with a hyphen for short options (e.g., '-x') or two hyphens for long options (e.g., '--long-option').\n",
    "\n",
    "<h3>Exception getopt.GetoptError</h3>\n",
    "\n",
    "<p>This is raised when an unrecognized option is found in the argument list or when an option requiring an argument is given none.</p>\n",
    "\n",
    "</p>The argument to the exception is a string indicating the cause of the error. The attributes <b>msg</b> and <b>opt</b> give the error message and related option</p>\n",
    "\n",
    "<h3>Example</h3>\n",
    "\n",
    "<p>Below is a code sample in which we want to pass two file names through command line and we also want to give an option to check the usage of the script.</p>\n",
    "\n",
    "<p>The input argument should follow the -i option argument.  The output argument should follow the -o option argument</p>\n",
    "\n",
    "<p>The optional -h argument causes the usage string to be printed</p>\n",
    "\n",
    "<p>If an unspecified option is passed or a mandatory option isn't provided, the <b> except</b> block will be executed and an error thrown</p>\n",
    "\n",
    "<p> \n",
    "\n",
    "<p>When the cell below is run, it will throw an error because it passes unexpected command line arguments<p>\n"
   ]
  },
  {
   "cell_type": "code",
   "execution_count": 5,
   "metadata": {},
   "outputs": [
    {
     "name": "stdout",
     "output_type": "stream",
     "text": [
      "test.py -i <inputfile> -o <outputfile>\n"
     ]
    },
    {
     "ename": "SystemExit",
     "evalue": "2",
     "output_type": "error",
     "traceback": [
      "An exception has occurred, use %tb to see the full traceback.\n",
      "\u001b[1;31mSystemExit\u001b[0m\u001b[1;31m:\u001b[0m 2\n"
     ]
    },
    {
     "name": "stderr",
     "output_type": "stream",
     "text": [
      "To exit: use 'exit', 'quit', or Ctrl-D.\n"
     ]
    }
   ],
   "source": [
    "import sys, getopt\n",
    "\n",
    "def main(argv):\n",
    "   inputfile = ''\n",
    "   outputfile = ''\n",
    "   try:\n",
    "      opts, args = getopt.getopt(argv,\"hi:o:\",[\"ifile=\",\"ofile=\"])\n",
    "   except getopt.GetoptError:\n",
    "      print 'test.py -i <inputfile> -o <outputfile>'\n",
    "      sys.exit(2)\n",
    "   for opt, arg in opts:\n",
    "      if opt == '-h':\n",
    "         print 'test.py -i <inputfile> -o <outputfile>'\n",
    "         sys.exit()\n",
    "      elif opt in (\"-i\", \"--ifile\"):\n",
    "         inputfile = arg\n",
    "      elif opt in (\"-o\", \"--ofile\"):\n",
    "         outputfile = arg\n",
    "   print 'Input file is \"', inputfile\n",
    "   print 'Output file is \"', outputfile\n",
    "\n",
    "if __name__ == \"__main__\":\n",
    "   main(sys.argv[1:])"
   ]
  },
  {
   "cell_type": "markdown",
   "metadata": {},
   "source": [
    "<p>Saving the script to a file called test.py running it with the following options will give results shown below</p>\n"
   ]
  },
  {
   "cell_type": "raw",
   "metadata": {},
   "source": [
    "$ test.py -h\n",
    "usage: test.py -i <inputfile> -o <outputfile>\n",
    "\n",
    "$ test.py -i BMP -o\n",
    "usage: test.py -i <inputfile> -o <outputfile>\n",
    "\n",
    "$ test.py -i inputfile\n",
    "Input file is \" inputfile\n",
    "Output file is \"\n"
   ]
  },
  {
   "cell_type": "markdown",
   "metadata": {},
   "source": [
    "<h2>Argparse </h2>\n",
    "\n",
    "<p><b>argsparse</b> is the currently prefered command-line parsing module in the standard python library </p>\n",
    "\n",
    "<p>I need to complete this in the future, go here. https://docs.python.org/3/howto/argparse.html#id1  </p>"
   ]
  },
  {
   "cell_type": "code",
   "execution_count": 6,
   "metadata": {
    "scrolled": true
   },
   "outputs": [
    {
     "name": "stderr",
     "output_type": "stream",
     "text": [
      "usage: __main__.py [-h]\n",
      "__main__.py: error: unrecognized arguments: -f C:\\Users\\polsztyn\\.ipython\\profile_default\\security\\kernel-14a8a174-1954-4091-8341-08a5b77430cf.json --profile-dir C:\\Users\\polsztyn\\.ipython\\profile_default\n"
     ]
    },
    {
     "ename": "SystemExit",
     "evalue": "2",
     "output_type": "error",
     "traceback": [
      "An exception has occurred, use %tb to see the full traceback.\n",
      "\u001b[1;31mSystemExit\u001b[0m\u001b[1;31m:\u001b[0m 2\n"
     ]
    },
    {
     "name": "stderr",
     "output_type": "stream",
     "text": [
      "To exit: use 'exit', 'quit', or Ctrl-D.\n"
     ]
    }
   ],
   "source": [
    "import argparse\n",
    "parser = argparse.ArgumentParser()\n",
    "parser.parse_args()"
   ]
  },
  {
   "cell_type": "code",
   "execution_count": null,
   "metadata": {
    "collapsed": true
   },
   "outputs": [],
   "source": [
    "# -*- coding: utf-8 -*-\n",
    "\"\"\"\n",
    "Created on Mon Jul 10 16:45:04 2017\n",
    "\n",
    "@author: polsztyn\n",
    "\"\"\"\n",
    "\n",
    "import sys\n",
    "import getopt    \n",
    "\n",
    "\n",
    "def getargs(argv):\n",
    "\n",
    "   usageString = 'ChangeRunID.py -r <oldrunID> -n <newRunID> -i <inputfile> -o <outputfile>'\n",
    "   try:\n",
    "      opts, args = getopt.getopt(argv,\"hr:n:i:o:\",[\"ifile=\",\"ofile=\"])\n",
    "   except getopt.GetoptError:\n",
    "      print usageString\n",
    "      sys.exit(2)\n",
    "      \n",
    "   for opt, arg in opts:\n",
    "      if opt == '-h':\n",
    "         print usageString\n",
    "         sys.exit()\n",
    "      elif opt in (\"-i\", \"--ifile\"):\n",
    "         inputfile = arg\n",
    "      elif opt in (\"-o\", \"--ofile\"):\n",
    "         outputfile = arg\n",
    "      elif opt in (\"-n\"):\n",
    "         newrunid = arg\n",
    "      elif opt in (\"-r\"):\n",
    "         oldrunid = arg\n",
    "   return(oldrunid,newrunid, inputfile,outputfile)\n",
    "\n",
    "if __name__ == \"__main__\":\n",
    "    \n",
    "\n",
    "    inFileName = ''\n",
    "    outFileName = ''\n",
    "    oldRunID = ''\n",
    "    newRunID = ''\n",
    "\n",
    "    oldRunID, newRunID, inFileName, outFileName = getargs(sys.argv[1:])\n",
    "\n",
    "    print \"oldRunID=\",oldRunID\n",
    "    print \"newRunID=\",newRunID\n",
    "    print \"inFileName=\",inFileName\n",
    "    print \"outFileName=\",outFileName\n",
    "   \n",
    "    fi=open(inFileName)\n",
    "    fo=open(outFileName,\"w\")\n",
    "\n",
    "    for line in fi:\n",
    "        runIDLoc = line.find(oldRunID)\n",
    "        if runIDLoc != -1 :\n",
    "            newLine = line[0:runIDLoc] + newRunID + line[runIDLoc+len(oldRunID):]\n",
    "        else:\n",
    "            newLine = line\n",
    "        fo.write(newLine)\n",
    "        \n",
    "\n",
    "    fi.close()\n",
    "    fo.close()\n",
    "\n"
   ]
  }
 ],
 "metadata": {
  "kernelspec": {
   "display_name": "Python 2",
   "language": "python",
   "name": "python2"
  },
  "language_info": {
   "codemirror_mode": {
    "name": "ipython",
    "version": 2
   },
   "file_extension": ".py",
   "mimetype": "text/x-python",
   "name": "python",
   "nbconvert_exporter": "python",
   "pygments_lexer": "ipython2",
   "version": "2.7.15"
  }
 },
 "nbformat": 4,
 "nbformat_minor": 1
}
