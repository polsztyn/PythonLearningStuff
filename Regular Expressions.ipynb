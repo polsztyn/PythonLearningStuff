{
 "cells": [
  {
   "cell_type": "markdown",
   "metadata": {},
   "source": [
    "<H1>Regular Expressions</H1>"
   ]
  },
  {
   "cell_type": "markdown",
   "metadata": {},
   "source": [
    "<p>This page was derived from these two websites:</p>\n",
    "<p>http://docs.activestate.com/komodo/4.4/regex-intro.html</p>\n",
    "<p>https://docs.python.org/2/howto/regex.html</p>\n",
    "<p>There was a on more information and documentation on the second web site than included here.</p>\n",
    "<p>A regular expression is often called a \"regex\", \"rx\" or \"re\". This primer uses the terms \"regular expression\" and \"regex\".</p>\n",
    "\n",
    "\n"
   ]
  },
  {
   "cell_type": "markdown",
   "metadata": {},
   "source": [
    "<p>The re module was added in Python 1.5, and provides Perl-style regular expression patterns. Earlier versions of Python came with the regex module, which provided Emacs-style patterns. The regex module was removed completely in Python 2.5.</p>\n",
    "\n",
    "<p>Regular expressions (called REs, or regexes, or regex patterns) are essentially a tiny, highly specialized programming language embedded inside Python and made available through the re module. Using this little language, you specify the rules for the set of possible strings that you want to match; this set might contain English sentences, or e-mail addresses, or TeX commands, or anything you like. You can then ask questions such as “Does this string match the pattern?”, or “Is there a match for the pattern anywhere in this string?”. You can also use REs to modify a string or to split it apart in various ways.</p>\n",
    "\n",
    "<p>Regular expression patterns are compiled into a series of bytecodes which are then executed by a matching engine written in C. For advanced use, it may be necessary to pay careful attention to how the engine will execute a given RE, and write the RE in a certain way in order to produce bytecode that runs faster. Optimization isn’t covered in this document, because it requires that you have a good understanding of the matching engine’s internals.</p>\n",
    "\n",
    "<p>The regular expression language is relatively small and restricted, so not all possible string processing tasks can be done using regular expressions. There are also tasks that can be done with regular expressions, but the expressions turn out to be very complicated. In these cases, you may be better off writing Python code to do the processing; while Python code will be slower than an elaborate regular expression, it will also probably be more understandable.</p>\n",
    "\n",
    "<p>Regular expressions are a syntactical shorthand for describing patterns. They are used to find text that matches a pattern, and to replace matched strings with other strings. They can be used to parse files and other input, or to provide a powerful way to search and replace.</p>"
   ]
  },
  {
   "cell_type": "markdown",
   "metadata": {},
   "source": [
    "<h2>Literal Match</h2>\n",
    "\n",
    "<p>The simplest type of regex is a literal match. Letters, numbers and most symbols in the expression will match themselves in the the text being searched; an \"a\" matches an \"a\", \"cat\" matches \"cat\", \"123\" matches \"123\" and so on. For example:</p>"
   ]
  },
  {
   "cell_type": "code",
   "execution_count": 22,
   "metadata": {
    "collapsed": false,
    "scrolled": true
   },
   "outputs": [
    {
     "name": "stdout",
     "output_type": "stream",
     "text": [
      "\n",
      "What is the object type of a compiled regular expression?\n",
      "<type '_sre.SRE_Pattern'>\n",
      "\n",
      "What is the object type of a pattern object run against a string?\n",
      "<type '_sre.SRE_Match'>\n",
      "What is the group m\n",
      "hello\n",
      "0\n",
      "5\n",
      "(0, 5)\n"
     ]
    }
   ],
   "source": [
    "#Regular expressions are compiled into pattern objects, \n",
    "#which have methods for various operations such as searching for \n",
    "#pattern matches or performing string substitutions.\n",
    "\n",
    "import re\n",
    "p = re.compile('hello')                  # complile our regular expression to create a regular expression\n",
    "                                         # pattern opbect.\n",
    "                                         # in this case, the pattern object looks\n",
    "                                         # for an exact litteral match for the string hello\n",
    "\n",
    "print \"\\nWhat is the object type of a compiled regular expression?\"\n",
    "print  type(p)\n",
    "\n",
    "match_object = p.match('hello world')    # create match object agaisnt the string 'hello world'\n",
    "print \"\\nWhat is the object type of a pattern object run against a string?\"\n",
    "print type(match_object)                    \n",
    "\n",
    "# once the regular expression has been run against a string, we can check the match object\n",
    "# to see if our expression matched anything in the searched string.\n",
    "print \"What is the group m\"     \n",
    "print match_object.group()          \n",
    "\n",
    "print match_object.start()               # Return the starting position of the match\n",
    "print match_object.end()                 # Return the ending position of the match\n",
    "print match_object.span()                # Return a tuple containing the (start, end) positions of the match"
   ]
  },
  {
   "cell_type": "markdown",
   "metadata": {},
   "source": [
    "<h3>No Match Found</h3>\n",
    "\n",
    "<p>What happens if our search string doesn't have a match for our regular expression </p>"
   ]
  },
  {
   "cell_type": "code",
   "execution_count": 16,
   "metadata": {
    "collapsed": false,
    "scrolled": true
   },
   "outputs": [
    {
     "ename": "AttributeError",
     "evalue": "'NoneType' object has no attribute 'group'",
     "output_type": "error",
     "traceback": [
      "\u001b[1;31m---------------------------------------------------------------------------\u001b[0m",
      "\u001b[1;31mAttributeError\u001b[0m                            Traceback (most recent call last)",
      "\u001b[1;32m<ipython-input-16-692b0bf5a3fa>\u001b[0m in \u001b[0;36m<module>\u001b[1;34m()\u001b[0m\n\u001b[0;32m      1\u001b[0m \u001b[0mmatch_object\u001b[0m \u001b[1;33m=\u001b[0m \u001b[0mp\u001b[0m\u001b[1;33m.\u001b[0m\u001b[0mmatch\u001b[0m\u001b[1;33m(\u001b[0m\u001b[1;34m'goodbye world'\u001b[0m\u001b[1;33m)\u001b[0m\u001b[1;33m\u001b[0m\u001b[0m\n\u001b[1;32m----> 2\u001b[1;33m \u001b[1;32mprint\u001b[0m \u001b[0mmatch_object\u001b[0m\u001b[1;33m.\u001b[0m\u001b[0mgroup\u001b[0m\u001b[1;33m(\u001b[0m\u001b[1;33m)\u001b[0m\u001b[1;33m\u001b[0m\u001b[0m\n\u001b[0m\u001b[0;32m      3\u001b[0m \u001b[1;33m\u001b[0m\u001b[0m\n\u001b[0;32m      4\u001b[0m \u001b[1;32mprint\u001b[0m \u001b[0mmatch_object\u001b[0m\u001b[1;33m.\u001b[0m\u001b[0mstart\u001b[0m\u001b[1;33m(\u001b[0m\u001b[1;33m)\u001b[0m               \u001b[1;31m# Return the starting position of the match\u001b[0m\u001b[1;33m\u001b[0m\u001b[0m\n\u001b[0;32m      5\u001b[0m \u001b[1;32mprint\u001b[0m \u001b[0mmatch_object\u001b[0m\u001b[1;33m.\u001b[0m\u001b[0mend\u001b[0m\u001b[1;33m(\u001b[0m\u001b[1;33m)\u001b[0m                 \u001b[1;31m# Return the ending position of the match\u001b[0m\u001b[1;33m\u001b[0m\u001b[0m\n",
      "\u001b[1;31mAttributeError\u001b[0m: 'NoneType' object has no attribute 'group'"
     ]
    }
   ],
   "source": [
    "match_object = p.match('goodbye world') \n",
    "print match_object.group()          \n",
    "\n",
    "print match_object.start()               # Return the starting position of the match\n",
    "print match_object.end()                 # Return the ending position of the match\n",
    "print match_object.span()                # Return a tuple containing the (start, end) positions of the match"
   ]
  },
  {
   "cell_type": "markdown",
   "metadata": {},
   "source": [
    "<p>When the search string isn't matched by the regular expression the match object is of type None.  "
   ]
  },
  {
   "cell_type": "code",
   "execution_count": 27,
   "metadata": {
    "collapsed": false
   },
   "outputs": [
    {
     "name": "stdout",
     "output_type": "stream",
     "text": [
      "No match found\n",
      "No match found\n"
     ]
    }
   ],
   "source": [
    "match_object = p.match('goodbye world') \n",
    "if match_object is None:\n",
    "    print \"No match found\"\n",
    "else:\n",
    "    print match_object.group()\n",
    "    \n",
    "match_object = p.match('hello world') \n",
    "if match_object is None:\n",
    "    print \"No match found\"\n",
    "else:\n",
    "    print match_object.group()\n"
   ]
  },
  {
   "cell_type": "markdown",
   "metadata": {},
   "source": [
    "<h3>Match() method vs. Search Method()</h3>\n",
    "\n",
    "<p>The match method will only find a matching pattern if it occurs at the beginning of string.  The Search method will find a match anywhere in the string </p>\n"
   ]
  },
  {
   "cell_type": "code",
   "execution_count": 28,
   "metadata": {
    "collapsed": false
   },
   "outputs": [
    {
     "name": "stdout",
     "output_type": "stream",
     "text": [
      "No match found\n",
      "What is the object type of a search object?\n",
      "<type '_sre.SRE_Match'>\n",
      "world\n",
      "8\n",
      "13\n",
      "(8, 13)\n"
     ]
    }
   ],
   "source": [
    "import re\n",
    "p = re.compile('world')                  # complile our regular expression to create a regular expression\n",
    "\n",
    "match_object = p.match('goodbye world') \n",
    "if match_object is None:\n",
    "    print \"No match found\"\n",
    "else:\n",
    "    print match_object.group()\n",
    "\n",
    "search_object = p.search('goodbye world') \n",
    "if search_object is None:\n",
    "    print \"No match found\"\n",
    "else:\n",
    "    print \"What is the object type of a search object?\"\n",
    "    print type(search_object)\n",
    "    print search_object.group()\n",
    "    print search_object.start()               # Return the starting position of the match\n",
    "    print search_object.end()                 # Return the ending position of the match\n",
    "    print search_object.span()                # Return a tuple containing the (start, end) positions of the match        "
   ]
  },
  {
   "cell_type": "markdown",
   "metadata": {},
   "source": [
    "<h3>Finding All Matches - findall() and finditer() methods.</h3>"
   ]
  },
  {
   "cell_type": "markdown",
   "metadata": {},
   "source": [
    "<p>Two pattern methods return all of the matches for a pattern, findall() and finditer. findall() returns a list of matching strings:<p>\n"
   ]
  },
  {
   "cell_type": "code",
   "execution_count": 30,
   "metadata": {
    "collapsed": false
   },
   "outputs": [
    {
     "name": "stdout",
     "output_type": "stream",
     "text": [
      "['goodbye', 'goodbye']\n"
     ]
    }
   ],
   "source": [
    "# example findall()\n",
    "import re\n",
    "p = re.compile('goodbye')                  # complile our regular expression to create a regular expression\n",
    "\n",
    "match_object = p.findall('goodbye cruel world, goodbye') \n",
    "if match_object is None:\n",
    "    print \"No match found\"\n",
    "else:\n",
    "    print match_object\n"
   ]
  },
  {
   "cell_type": "code",
   "execution_count": 33,
   "metadata": {
    "collapsed": false
   },
   "outputs": [
    {
     "name": "stdout",
     "output_type": "stream",
     "text": [
      "goodbye\n",
      "(0, 7)\n",
      "goodbye\n",
      "(21, 28)\n"
     ]
    }
   ],
   "source": [
    "#example finditer()\n",
    "import re\n",
    "p = re.compile('goodbye')                  # complile our regular expression to create a regular expression\n",
    "\n",
    "match_object = p.finditer('goodbye cruel world, goodbye') \n",
    "if match_object is None:\n",
    "    print \"No match found\"\n",
    "else:\n",
    "    for match in match_object:\n",
    "        print match.group()\n",
    "        print match.span()\n"
   ]
  },
  {
   "cell_type": "markdown",
   "metadata": {},
   "source": [
    "<h2>Case in Regular Expressions</h2>\n",
    "\n",
    "<p>Regular expressions are case, sensitive, but you can use the IGNORECASE option on the compile method to ignore case </p>\n"
   ]
  },
  {
   "cell_type": "code",
   "execution_count": 37,
   "metadata": {
    "collapsed": false
   },
   "outputs": [
    {
     "name": "stdout",
     "output_type": "stream",
     "text": [
      "['goodbye']\n",
      "['Goodbye', 'goodbye']\n"
     ]
    }
   ],
   "source": [
    "\n",
    "import re\n",
    "p = re.compile('goodbye')   # without IGNORECASE willonly match goodbye.              \n",
    "match_object = p.findall('Goodbye cruel world, goodbye') \n",
    "print match_object\n",
    "\n",
    "p = re.compile('goodbye', re.IGNORECASE)                  # Using IGNORECASE should match both Goodbyes.\n",
    "\n",
    "match_object = p.findall('Goodbye cruel world, goodbye') \n",
    "print match_object\n"
   ]
  },
  {
   "cell_type": "markdown",
   "metadata": {},
   "source": [
    "<h2>Using Wildcards in Regular Expressions, the \".\" Metacharacter </h2>\n",
    "\n",
    "<p>Regex characters that perform a special function instead of matching themselves literally are called <b>\"metacharacters\"</b>. One such metacharacter is the dot <b> \".\" </b>, or wildcard. When used in a regular expression, \".\" can match any single character.</p>\n",
    "\n"
   ]
  },
  {
   "cell_type": "code",
   "execution_count": 38,
   "metadata": {
    "collapsed": false
   },
   "outputs": [
    {
     "name": "stdout",
     "output_type": "stream",
     "text": [
      "['goodbye', 'goodbye']\n"
     ]
    }
   ],
   "source": [
    "import re\n",
    "p = re.compile('g..dbye')   # should find all but the goooooodbye         \n",
    "match_object = p.findall('goodbye cruel world, goodbye, goooooooodbye') \n",
    "print match_object\n"
   ]
  },
  {
   "cell_type": "markdown",
   "metadata": {},
   "source": [
    "<h2>Quantifiers in Regular Expressions</h2>\n",
    "Quantifiers specify how many instances of the preceeding element (which can be a character or a group) must appear in order to match."
   ]
  },
  {
   "cell_type": "markdown",
   "metadata": {},
   "source": [
    "<h2>Quantifiers for Literals and Wild Cards</h2> "
   ]
  },
  {
   "cell_type": "markdown",
   "metadata": {},
   "source": [
    "<h3>\"?\" - The Question Mark Quantifier</h3>\n",
    "<p>The \"?\" matches 0 or 1 instances of the previous element. In other words, it makes the element optional; it can be present, but it doesn't have to be. For example:<p>\n"
   ]
  },
  {
   "cell_type": "code",
   "execution_count": 49,
   "metadata": {
    "collapsed": false
   },
   "outputs": [
    {
     "name": "stdout",
     "output_type": "stream",
     "text": [
      "regex = colou?r MATCHES color\n",
      "color\n",
      "regex = colou?r MATCHES colour\n",
      "colour\n",
      "regex = colou?r DOESN'T matches colur\n"
     ]
    }
   ],
   "source": [
    "regex_str = 'colou?r'\n",
    "p = re.compile(regex_str)   # Makes u optional.\n",
    "\n",
    "search_str = 'color'\n",
    "match_object = p.match(search_str) \n",
    "if match_object is None:\n",
    "    print 'regex = ' + regex_str + \" DOESN'T matches \" + search_str\n",
    "else:\n",
    "    print 'regex = ' + regex_str + \" MATCHES \" + search_str\n",
    "    print match_object.group()\n",
    "    \n",
    "    \n",
    "search_str = 'colour'\n",
    "match_object = p.match(search_str) \n",
    "if match_object is None:\n",
    "    print 'regex = ' + regex_str + \" DOESN'T matches \" + search_str\n",
    "else:\n",
    "    print 'regex = ' + regex_str + \" MATCHES \" + search_str\n",
    "    print match_object.group()\n",
    "\n",
    "search_str = 'colur'\n",
    "match_object = p.match(search_str) \n",
    "if match_object is None:\n",
    "    print 'regex = ' + regex_str + \" DOESN'T matches \" + search_str\n",
    "else:\n",
    "    print 'regex = ' + regex_str + \" MATCHES \" + search_str\n",
    "    print match_object.group()    "
   ]
  },
  {
   "cell_type": "markdown",
   "metadata": {},
   "source": [
    "<h2>\"*\" - Asterik Quantifier</h2>\n",
    "\n",
    "<p>The \"*\" matches 0 or more instances of the previous element. For example:\n",
    "</p>\n"
   ]
  },
  {
   "cell_type": "code",
   "execution_count": 54,
   "metadata": {
    "collapsed": false,
    "scrolled": true
   },
   "outputs": [
    {
     "name": "stdout",
     "output_type": "stream",
     "text": [
      "regex = www\\.my.*\\.com MATCHES www.my.com\n",
      "www.my.com\n",
      "regex = www\\.my.*\\.com MATCHES www.mypage.com\n",
      "www.mypage.com\n",
      "regex = www\\.my.*\\.com MATCHES www.mysite.com then text with spaces ftp.example.com\n",
      "www.mysite.com then text with spaces ftp.example.com\n",
      "regex = www\\.my.*\\.com DOESN'T matches www.oursite.com\n",
      "regex = www\\.my.*\\.com DOESN'T matches mypage.com\n"
     ]
    }
   ],
   "source": [
    "regex_str = 'www\\.my.*\\.com'  # will match any url of patter www.my<anything including no characters>.com.\n",
    "                              # here the asterik is modifying the \".\" operator.  Notice also the use \n",
    "                              # of escape character \"\\\" to turn \".\" character into a litteral rather\n",
    "                              # than a wildcard.\n",
    "\n",
    "p = re.compile(regex_str)   \n",
    "\n",
    "search_str = 'www.my.com' # will match\n",
    "match_object = p.match(search_str) \n",
    "if match_object is None:\n",
    "    print 'regex = ' + regex_str + \" DOESN'T matches \" + search_str\n",
    "else:\n",
    "    print 'regex = ' + regex_str + \" MATCHES \" + search_str\n",
    "    print match_object.group()\n",
    "    \n",
    "    \n",
    "search_str = 'www.mypage.com' # will match\n",
    "match_object = p.match(search_str) \n",
    "if match_object is None:\n",
    "    print 'regex = ' + regex_str + \" DOESN'T matches \" + search_str\n",
    "else:\n",
    "    print 'regex = ' + regex_str + \" MATCHES \" + search_str\n",
    "    print match_object.group()\n",
    "\n",
    "search_str = 'www.mysite.com then text with spaces ftp.example.com' # will match\n",
    "match_object = p.match(search_str) \n",
    "if match_object is None:\n",
    "    print 'regex = ' + regex_str + \" DOESN'T matches \" + search_str\n",
    "else:\n",
    "    print 'regex = ' + regex_str + \" MATCHES \" + search_str\n",
    "    print match_object.group()   \n",
    "    \n",
    "    \n",
    "search_str = 'www.oursite.com' # won't match\n",
    "match_object = p.match(search_str) \n",
    "if match_object is None:\n",
    "    print 'regex = ' + regex_str + \" DOESN'T matches \" + search_str\n",
    "else:\n",
    "    print 'regex = ' + regex_str + \" MATCHES \" + search_str\n",
    "    print match_object.group()  \n",
    "    \n",
    "search_str = 'mypage.com' # won't match\n",
    "match_object = p.match(search_str) \n",
    "if match_object is None:\n",
    "    print 'regex = ' + regex_str + \" DOESN'T matches \" + search_str\n",
    "else:\n",
    "    print 'regex = ' + regex_str + \" MATCHES \" + search_str\n",
    "    print match_object.group()      "
   ]
  },
  {
   "cell_type": "markdown",
   "metadata": {},
   "source": [
    "<p>As the third match illustrates, using \".*\" can be dangerous. It will match any number of any character (including spaces and non alphanumeric characters). The quantifier is \"greedy\" and will match as much text as possible.</p>"
   ]
  },
  {
   "cell_type": "markdown",
   "metadata": {},
   "source": [
    "<h2>\"+\" - Plus Sign Quantifier</h2>\n",
    "\n",
    "<p>The \"*\" matches 1 or more instances of the previous element. For example:\n",
    "</p>\n"
   ]
  },
  {
   "cell_type": "code",
   "execution_count": 57,
   "metadata": {
    "collapsed": false
   },
   "outputs": [
    {
     "name": "stdout",
     "output_type": "stream",
     "text": [
      "regex = bob5+@foo\\.com MATCHES bob5@foo.com\n",
      "bob5@foo.com\n",
      "regex = bob5+@foo\\.com MATCHES bob5555@foo.com\n",
      "bob5555@foo.com\n",
      "regex = bob5+@foo\\.com DOESN'T matches bob@foo.com\n",
      "regex = bob5+@foo\\.com DOESN'T matches bob65555@foo.com\n"
     ]
    }
   ],
   "source": [
    "regex_str = 'bob5+@foo\\.com'  # will match any url of the form bob<any sequence of one or more 5's>.com \n",
    "\n",
    "p = re.compile(regex_str)   \n",
    "\n",
    "search_str = 'bob5@foo.com'  # will match\n",
    "match_object = p.match(search_str) \n",
    "if match_object is None:\n",
    "    print 'regex = ' + regex_str + \" DOESN'T matches \" + search_str\n",
    "else:\n",
    "    print 'regex = ' + regex_str + \" MATCHES \" + search_str\n",
    "    print match_object.group()\n",
    "    \n",
    "    \n",
    "search_str = 'bob5555@foo.com' # will match\n",
    "match_object = p.match(search_str) \n",
    "if match_object is None:\n",
    "    print 'regex = ' + regex_str + \" DOESN'T matches \" + search_str\n",
    "else:\n",
    "    print 'regex = ' + regex_str + \" MATCHES \" + search_str\n",
    "    print match_object.group()\n",
    "\n",
    "search_str = 'bob@foo.com' # won't match\n",
    "match_object = p.match(search_str) \n",
    "if match_object is None:\n",
    "    print 'regex = ' + regex_str + \" DOESN'T matches \" + search_str\n",
    "else:\n",
    "    print 'regex = ' + regex_str + \" MATCHES \" + search_str\n",
    "    print match_object.group()   \n",
    "    \n",
    "    \n",
    "search_str = 'bob65555@foo.com' # won't match\n",
    "match_object = p.match(search_str) \n",
    "if match_object is None:\n",
    "    print 'regex = ' + regex_str + \" DOESN'T matches \" + search_str\n",
    "else:\n",
    "    print 'regex = ' + regex_str + \" MATCHES \" + search_str\n",
    "    print match_object.group()  \n",
    "    "
   ]
  },
  {
   "cell_type": "markdown",
   "metadata": {},
   "source": [
    "<h3> \"{}\" - Braces Quantifier, Matches a Specified Number of Instances of a Search Pattern </h3>\n",
    "\n",
    "<p>To match a character a specific number of times, add that number enclosed in curly braces after the element. For example:</p>"
   ]
  },
  {
   "cell_type": "code",
   "execution_count": 58,
   "metadata": {
    "collapsed": false
   },
   "outputs": [
    {
     "name": "stdout",
     "output_type": "stream",
     "text": [
      "regex = w{3}\\.mydomain\\.com MATCHES www.mydomain.com\n",
      "www.mydomain.com\n",
      "regex = w{3}\\.mydomain\\.com DOESN'T matches web.mydomain.com\n",
      "regex = w{3}\\.mydomain\\.com DOESN'T matches w3.mydomain.com\n"
     ]
    }
   ],
   "source": [
    "regex_str = 'w{3}\\.mydomain\\.com'  # will match any any www.mydomain.com\n",
    "\n",
    "p = re.compile(regex_str)   \n",
    "\n",
    "search_str = 'www.mydomain.com'  # will match\n",
    "match_object = p.match(search_str) \n",
    "if match_object is None:\n",
    "    print 'regex = ' + regex_str + \" DOESN'T matches \" + search_str\n",
    "else:\n",
    "    print 'regex = ' + regex_str + \" MATCHES \" + search_str\n",
    "    print match_object.group()\n",
    "    \n",
    "    \n",
    "search_str = 'web.mydomain.com' # won't match\n",
    "match_object = p.match(search_str) \n",
    "if match_object is None:\n",
    "    print 'regex = ' + regex_str + \" DOESN'T matches \" + search_str\n",
    "else:\n",
    "    print 'regex = ' + regex_str + \" MATCHES \" + search_str\n",
    "    print match_object.group()\n",
    "\n",
    "search_str = 'w3.mydomain.com' # won't match\n",
    "match_object = p.match(search_str) \n",
    "if match_object is None:\n",
    "    print 'regex = ' + regex_str + \" DOESN'T matches \" + search_str\n",
    "else:\n",
    "    print 'regex = ' + regex_str + \" MATCHES \" + search_str\n",
    "    print match_object.group()   \n",
    "    "
   ]
  },
  {
   "cell_type": "markdown",
   "metadata": {},
   "source": [
    "<h3> \"{min, max}\" - Using ranges of Matches. </h3>\n",
    "\n",
    "<p>To specify the minimum number of matches to find and the maximum number of matches to allow, use a number range inside curly braces. For example:</p>"
   ]
  },
  {
   "cell_type": "code",
   "execution_count": 59,
   "metadata": {
    "collapsed": false
   },
   "outputs": [
    {
     "name": "stdout",
     "output_type": "stream",
     "text": [
      "regex = 60{3,5} years MATCHES 6000 years\n",
      "6000 years\n",
      "regex = 60{3,5} years MATCHES 60000 years\n",
      "60000 years\n",
      "regex = 60{3,5} years MATCHES 600000 years\n",
      "600000 years\n",
      "regex = 60{3,5} years DOESN'T matches 60 years\n",
      "regex = 60{3,5} years DOESN'T matches 6000000 years\n"
     ]
    }
   ],
   "source": [
    "regex_str = '60{3,5} years'  # will match 6000, 60000 and 600000.\n",
    "\n",
    "p = re.compile(regex_str)   \n",
    "\n",
    "search_str = '6000 years'  # will match\n",
    "match_object = p.match(search_str) \n",
    "if match_object is None:\n",
    "    print 'regex = ' + regex_str + \" DOESN'T matches \" + search_str\n",
    "else:\n",
    "    print 'regex = ' + regex_str + \" MATCHES \" + search_str\n",
    "    print match_object.group()\n",
    "    \n",
    "    \n",
    "search_str = '60000 years' # will match\n",
    "match_object = p.match(search_str) \n",
    "if match_object is None:\n",
    "    print 'regex = ' + regex_str + \" DOESN'T matches \" + search_str\n",
    "else:\n",
    "    print 'regex = ' + regex_str + \" MATCHES \" + search_str\n",
    "    print match_object.group()\n",
    "\n",
    "search_str = '600000 years' # will match\n",
    "match_object = p.match(search_str) \n",
    "if match_object is None:\n",
    "    print 'regex = ' + regex_str + \" DOESN'T matches \" + search_str\n",
    "else:\n",
    "    print 'regex = ' + regex_str + \" MATCHES \" + search_str\n",
    "    print match_object.group()    \n",
    "    \n",
    "search_str = '60 years' # won't match\n",
    "match_object = p.match(search_str) \n",
    "if match_object is None:\n",
    "    print 'regex = ' + regex_str + \" DOESN'T matches \" + search_str\n",
    "else:\n",
    "    print 'regex = ' + regex_str + \" MATCHES \" + search_str\n",
    "    print match_object.group()  \n",
    "\n",
    "search_str = '6000000 years' # won't match\n",
    "match_object = p.match(search_str) \n",
    "if match_object is None:\n",
    "    print 'regex = ' + regex_str + \" DOESN'T matches \" + search_str\n",
    "else:\n",
    "    print 'regex = ' + regex_str + \" MATCHES \" + search_str\n",
    "    print match_object.group()  "
   ]
  },
  {
   "cell_type": "markdown",
   "metadata": {},
   "source": [
    "<h2> Quantifier Summary </h2>\n",
    "\n",
    "<table>\n",
    "<th>Qualifier</th><th>Descriptions</th>\n",
    "<tr>\n",
    "<td>? </td><td>Matches any preceding element 0 or 1 times.</td>\n",
    "</tr>\n",
    "<tr>\n",
    "<td>*</td><td>Matches the preceding element 0 or more times.</td>\n",
    "</tr>\n",
    "<tr>\n",
    "<td>+</td><td>Matches the preceding element 1 or more times.</td>\n",
    "</tr>\n",
    "<tr>\n",
    "<td>{num}</td><td>Matches the preceding element num times.</td>\n",
    "</tr>\n",
    "<td>{min,max}</td><td>Matches the preceding element at least min times, but not more than max times.</td>\n",
    "</tr>\n",
    "</table>\n",
    "\n"
   ]
  },
  {
   "cell_type": "markdown",
   "metadata": {},
   "source": [
    "<h2>\"|\" The Aternation Operator</h2>\n",
    "\n",
    "<p>The vertical bar \"|\" is used to represent an \"OR\" condition. Use it to separate alternate patterns or characters for matching. For example:</p>"
   ]
  },
  {
   "cell_type": "code",
   "execution_count": 62,
   "metadata": {
    "collapsed": false
   },
   "outputs": [
    {
     "name": "stdout",
     "output_type": "stream",
     "text": [
      "regex = perl|python MATCHES perl\n",
      "perl\n",
      "regex = perl|python MATCHES python\n",
      "python\n",
      "regex = perl|python DOESN'T matches pearl\n"
     ]
    }
   ],
   "source": [
    "regex_str = 'perl|python'  # will match 6000, 60000 and 600000.\n",
    "\n",
    "p = re.compile(regex_str)   \n",
    "\n",
    "search_str = 'perl'  # will match\n",
    "match_object = p.match(search_str) \n",
    "if match_object is None:\n",
    "    print 'regex = ' + regex_str + \" DOESN'T matches \" + search_str\n",
    "else:\n",
    "    print 'regex = ' + regex_str + \" MATCHES \" + search_str\n",
    "    print match_object.group()\n",
    "\n",
    "\n",
    "search_str = 'python'  # will match\n",
    "match_object = p.match(search_str) \n",
    "if match_object is None:\n",
    "    print 'regex = ' + regex_str + \" DOESN'T matches \" + search_str\n",
    "else:\n",
    "    print 'regex = ' + regex_str + \" MATCHES \" + search_str\n",
    "    print match_object.group()\n",
    "    \n",
    "search_str = 'pearl'  # will NOT match\n",
    "match_object = p.match(search_str) \n",
    "if match_object is None:\n",
    "    print 'regex = ' + regex_str + \" DOESN'T matches \" + search_str\n",
    "else:\n",
    "    print 'regex = ' + regex_str + \" MATCHES \" + search_str\n",
    "    print match_object.group()    "
   ]
  },
  {
   "cell_type": "markdown",
   "metadata": {},
   "source": [
    "<h2>\"()\" - Grouping with Parentheses</h2>\n",
    "<p>Parentheses \"()\" are used to group characters and expressions within larger, more complex regular expressions. Quantifiers that immediately follow the group apply to the whole group. For example:</p>"
   ]
  },
  {
   "cell_type": "code",
   "execution_count": 77,
   "metadata": {
    "collapsed": false
   },
   "outputs": [
    {
     "name": "stdout",
     "output_type": "stream",
     "text": [
      "regex = (abc){2,3} DOESN'T matches abc\n",
      "regex = (abc){2,3} MATCHES abcabcxxxxx\n",
      "abcabc\n",
      "regex = (abc){2,3} DOESN'T matches abcxxxxxabcxxxx\n",
      "regex = (abc){2,3} MATCHES abcabcabcxxxxxabcxxxx\n",
      "abcabcabc\n",
      "regex = (abc){2,3} MATCHES abcabcabcabcabc\n",
      "abcabcabc\n",
      "regex = (abc){2,3} DOESN'T matches xxxxabcabcabcxxxxabcxxx\n"
     ]
    }
   ],
   "source": [
    "regex_str = '(abc){2,3}'  # match strings with at least two, but no more than three substrings of 'abc'\n",
    "\n",
    "p = re.compile(regex_str)   \n",
    "\n",
    "search_str = 'abc'  # won't match\n",
    "match_object = p.match(search_str) \n",
    "if match_object is None:\n",
    "    print 'regex = ' + regex_str + \" DOESN'T matches \" + search_str\n",
    "else:\n",
    "    print 'regex = ' + regex_str + \" MATCHES \" + search_str\n",
    "    print match_object.group()\n",
    "\n",
    "    \n",
    "search_str = 'abcabcxxxxx'  # will match\n",
    "match_object = p.match(search_str) \n",
    "if match_object is None:\n",
    "    print 'regex = ' + regex_str + \" DOESN'T matches \" + search_str\n",
    "else:\n",
    "    print 'regex = ' + regex_str + \" MATCHES \" + search_str\n",
    "    print match_object.group()\n",
    "\n",
    "search_str = 'abcxxxxxabcxxxx'  # won't match\n",
    "match_object = p.match(search_str) \n",
    "if match_object is None:\n",
    "    print 'regex = ' + regex_str + \" DOESN'T matches \" + search_str\n",
    "else:\n",
    "    print 'regex = ' + regex_str + \" MATCHES \" + search_str\n",
    "    print match_object.group()\n",
    "\n",
    "search_str = 'abcabcabcxxxxxabcxxxx'  # won't match\n",
    "match_object = p.match(search_str) \n",
    "if match_object is None:\n",
    "    print 'regex = ' + regex_str + \" DOESN'T matches \" + search_str\n",
    "else:\n",
    "    print 'regex = ' + regex_str + \" MATCHES \" + search_str\n",
    "    print match_object.group()\n",
    "    \n",
    "search_str = 'abcabcabcabcabc'  # This matches but I'm not sure why?????\n",
    "match_object = p.match(search_str) \n",
    "if match_object is None:\n",
    "    print 'regex = ' + regex_str + \" DOESN'T matches \" + search_str\n",
    "else:\n",
    "    print 'regex = ' + regex_str + \" MATCHES \" + search_str\n",
    "    print match_object.group()\n",
    "        \n",
    "search_str = 'xxxxabcabcabcxxxxabcxxx'  # won't match\n",
    "match_object = p.match(search_str) \n",
    "if match_object is None:\n",
    "    print 'regex = ' + regex_str + \" DOESN'T matches \" + search_str\n",
    "else:\n",
    "    print 'regex = ' + regex_str + \" MATCHES \" + search_str\n",
    "    print match_object.group()       "
   ]
  },
  {
   "cell_type": "markdown",
   "metadata": {},
   "source": [
    "<h2>Using Grouping with Alternation</h2>\n",
    "\n",
    "<p>Groups can be used in conjunction with alternation. For example:</p>\n"
   ]
  },
  {
   "cell_type": "code",
   "execution_count": 80,
   "metadata": {
    "collapsed": false
   },
   "outputs": [
    {
     "name": "stdout",
     "output_type": "stream",
     "text": [
      "regex = gr(a|e)y MATCHES gray\n",
      "gray\n",
      "regex = gr(a|e)y MATCHES grey\n",
      "grey\n",
      "regex = gr(a|e)y DOESN'T matches greay\n"
     ]
    }
   ],
   "source": [
    "regex_str = 'gr(a|e)y'  # match gray or grey\n",
    "\n",
    "p = re.compile(regex_str)   \n",
    "\n",
    "search_str = 'gray'  # will match\n",
    "match_object = p.match(search_str) \n",
    "if match_object is None:\n",
    "    print 'regex = ' + regex_str + \" DOESN'T matches \" + search_str\n",
    "else:\n",
    "    print 'regex = ' + regex_str + \" MATCHES \" + search_str\n",
    "    print match_object.group()\n",
    "\n",
    "    \n",
    "search_str = 'grey'  # will match\n",
    "match_object = p.match(search_str) \n",
    "if match_object is None:\n",
    "    print 'regex = ' + regex_str + \" DOESN'T matches \" + search_str\n",
    "else:\n",
    "    print 'regex = ' + regex_str + \" MATCHES \" + search_str\n",
    "    print match_object.group()\n",
    "\n",
    "search_str = 'greay'  # will not match\n",
    "match_object = p.match(search_str) \n",
    "if match_object is None:\n",
    "    print 'regex = ' + regex_str + \" DOESN'T matches \" + search_str\n",
    "else:\n",
    "    print 'regex = ' + regex_str + \" MATCHES \" + search_str\n",
    "    print match_object.group()    "
   ]
  },
  {
   "cell_type": "markdown",
   "metadata": {},
   "source": [
    "<p>Strings that match these groups are stored, or \"delimited\", for use in substitutions or subsequent statements. The first group is stored in the metacharacter \"\\1\", the second in \"\\2\" and so on. For example:</p>\n"
   ]
  },
  {
   "cell_type": "code",
   "execution_count": 91,
   "metadata": {
    "collapsed": false,
    "scrolled": true
   },
   "outputs": [
    {
     "name": "stdout",
     "output_type": "stream",
     "text": [
      "regex = (.{2,5}) (.{2,8}) <\\1_\\2@example\\.com> MATCHES Joe Smith <Joe_Smith@example.com>\n",
      "Joe Smith <Joe_Smith@example.com>\n",
      "regex = (.{2,5}) (.{2,8}) <\\1_\\2@example\\.com> MATCHES jane doe <jane_doe@example.com>\n",
      "jane doe <jane_doe@example.com>\n",
      "regex = (.{2,5}) (.{2,8}) <\\1_\\2@example\\.com> MATCHES 459 33154 <459_33154@example.com>\n",
      "459 33154 <459_33154@example.com>\n",
      "regex = (.{2,5}) (.{2,8}) <\\1_\\2@example\\.com> DOESN'T matches joe Smith <Joe_Smith@example.com>\n",
      "regex = (.{2,5}) (.{2,8}) <\\1_\\2@example\\.com> DOESN'T matches Joseph Smith <Joseph_Smith@example.com>\n",
      "regex = (.{2,5}) (.{2,8}) <\\1_\\2@example\\.com> MATCHES Joses Smith <Joses_Smith@example.com>\n",
      "Joses Smith <Joses_Smith@example.com>\n",
      "regex = (.{2,5}) (.{2,8}) <\\1_\\2@example\\.com> DOESN'T matches Joe S <Joe_S@example.com>\n"
     ]
    }
   ],
   "source": [
    "regex_str = r'(.{2,5}) (.{2,8}) <\\1_\\2@example\\.com>'  # match gray or grey\n",
    "\n",
    "p = re.compile(regex_str)   \n",
    "\n",
    "search_str = 'Joe Smith <Joe_Smith@example.com>'  # will match\n",
    "match_object = p.match(search_str) \n",
    "if match_object is None:\n",
    "    print 'regex = ' + regex_str + \" DOESN'T matches \" + search_str\n",
    "else:\n",
    "    print 'regex = ' + regex_str + \" MATCHES \" + search_str\n",
    "    print match_object.group()\n",
    "\n",
    "    \n",
    "search_str = 'jane doe <jane_doe@example.com>'  # will match\n",
    "match_object = p.match(search_str) \n",
    "if match_object is None:\n",
    "    print 'regex = ' + regex_str + \" DOESN'T matches \" + search_str\n",
    "else:\n",
    "    print 'regex = ' + regex_str + \" MATCHES \" + search_str\n",
    "    print match_object.group()\n",
    "\n",
    "search_str = '459 33154 <459_33154@example.com>'  # will match\n",
    "match_object = p.match(search_str) \n",
    "if match_object is None:\n",
    "    print 'regex = ' + regex_str + \" DOESN'T matches \" + search_str\n",
    "else:\n",
    "    print 'regex = ' + regex_str + \" MATCHES \" + search_str\n",
    "    print match_object.group()  \n",
    "    \n",
    "    \n",
    "search_str = 'joe Smith <Joe_Smith@example.com>'  # won't match because joe won't match Joe\n",
    "match_object = p.match(search_str) \n",
    "if match_object is None:\n",
    "    print 'regex = ' + regex_str + \" DOESN'T matches \" + search_str\n",
    "else:\n",
    "    print 'regex = ' + regex_str + \" MATCHES \" + search_str\n",
    "    print match_object.group()   \n",
    "    \n",
    "    \n",
    "search_str = 'Joseph Smith <Joseph_Smith@example.com>'  # won't match because Joseph is longer than 5 characters.\n",
    "match_object = p.match(search_str) \n",
    "if match_object is None:\n",
    "    print 'regex = ' + regex_str + \" DOESN'T matches \" + search_str\n",
    "else:\n",
    "    print 'regex = ' + regex_str + \" MATCHES \" + search_str\n",
    "    print match_object.group()  \n",
    "    \n",
    "    \n",
    "search_str = 'Joses Smith <Joses_Smith@example.com>'  # will match because Joses is 5 characters.\n",
    "match_object = p.match(search_str) \n",
    "if match_object is None:\n",
    "    print 'regex = ' + regex_str + \" DOESN'T matches \" + search_str\n",
    "else:\n",
    "    print 'regex = ' + regex_str + \" MATCHES \" + search_str\n",
    "    print match_object.group()   \n",
    "    \n",
    "search_str = 'Joe S <Joe_S@example.com>'  # doen't match because S is less than 2 charcaters long.\n",
    "match_object = p.match(search_str) \n",
    "if match_object is None:\n",
    "    print 'regex = ' + regex_str + \" DOESN'T matches \" + search_str\n",
    "else:\n",
    "    print 'regex = ' + regex_str + \" MATCHES \" + search_str\n",
    "    print match_object.group()      "
   ]
  },
  {
   "cell_type": "markdown",
   "metadata": {},
   "source": [
    "<h2>\"[]\" - Character Class Operator</h2>\n",
    "\n",
    "<p>Character classes indicate a set of characters to match. Enclosing a set of characters in square brackets \"[...]\" means \"match any one of these characters\". For example:</p>"
   ]
  },
  {
   "cell_type": "code",
   "execution_count": 94,
   "metadata": {
    "collapsed": false
   },
   "outputs": [
    {
     "name": "stdout",
     "output_type": "stream",
     "text": [
      "regex = [cbe]at MATCHES cat\n",
      "cat\n",
      "regex = [cbe]at MATCHES eat\n",
      "eat\n",
      "regex = [cbe]at MATCHES bat\n",
      "bat\n",
      "regex = [cbe]at DOESN'T matches rat\n"
     ]
    }
   ],
   "source": [
    "regex_str = '[cbe]at' # match cat,bat and eat.\n",
    "\n",
    "p = re.compile(regex_str)   \n",
    "\n",
    "search_str = 'cat'  # will match\n",
    "match_object = p.match(search_str) \n",
    "if match_object is None:\n",
    "    print 'regex = ' + regex_str + \" DOESN'T matches \" + search_str\n",
    "else:\n",
    "    print 'regex = ' + regex_str + \" MATCHES \" + search_str\n",
    "    print match_object.group()\n",
    "\n",
    "search_str = 'eat'  # will match\n",
    "match_object = p.match(search_str) \n",
    "if match_object is None:\n",
    "    print 'regex = ' + regex_str + \" DOESN'T matches \" + search_str\n",
    "else:\n",
    "    print 'regex = ' + regex_str + \" MATCHES \" + search_str\n",
    "    print match_object.group()\n",
    "    \n",
    "search_str = 'bat'  # will match\n",
    "match_object = p.match(search_str) \n",
    "if match_object is None:\n",
    "    print 'regex = ' + regex_str + \" DOESN'T matches \" + search_str\n",
    "else:\n",
    "    print 'regex = ' + regex_str + \" MATCHES \" + search_str\n",
    "    print match_object.group()  \n",
    "    \n",
    "    \n",
    "search_str = 'rat'  # will NOT match\n",
    "match_object = p.match(search_str) \n",
    "if match_object is None:\n",
    "    print 'regex = ' + regex_str + \" DOESN'T matches \" + search_str\n",
    "else:\n",
    "    print 'regex = ' + regex_str + \" MATCHES \" + search_str\n",
    "    print match_object.group()       "
   ]
  },
  {
   "cell_type": "markdown",
   "metadata": {},
   "source": [
    "<h3>Using Character Classes with Quantifiers</h3>\n",
    "\n",
    "<p>Since a character class on it's own only applies to one character in the match, combine it with a quantifier to search for multiple instances of the class. For example:</p>"
   ]
  },
  {
   "cell_type": "code",
   "execution_count": 103,
   "metadata": {
    "collapsed": false
   },
   "outputs": [
    {
     "name": "stdout",
     "output_type": "stream",
     "text": [
      "regex = [0123456789]{3} MATCHES 313\n",
      "313\n",
      "regex = [0123456789]{3} MATCHES 999\n",
      "999\n",
      "regex = [0123456789]{3} MATCHES 376abc\n",
      "376\n",
      "regex = [0123456789]{3} DOESN'T matches W3C\n",
      "regex = [0123456789]{3} MATCHES 12 34 578\n",
      "['578']\n",
      "regex = [0123456789]{3} MATCHES 1234578\n",
      "['123', '457']\n"
     ]
    }
   ],
   "source": [
    "regex_str = '[0123456789]{3}' # will match 3 character numeric strings.\n",
    "\n",
    "p = re.compile(regex_str)   \n",
    "\n",
    "search_str = '313'  # will match\n",
    "match_object = p.match(search_str) \n",
    "if match_object is None:\n",
    "    print 'regex = ' + regex_str + \" DOESN'T matches \" + search_str\n",
    "else:\n",
    "    print 'regex = ' + regex_str + \" MATCHES \" + search_str\n",
    "    print match_object.group()\n",
    "\n",
    "search_str = '999'  # will match\n",
    "match_object = p.match(search_str) \n",
    "if match_object is None:\n",
    "    print 'regex = ' + regex_str + \" DOESN'T matches \" + search_str\n",
    "else:\n",
    "    print 'regex = ' + regex_str + \" MATCHES \" + search_str\n",
    "    print match_object.group()\n",
    "    \n",
    "search_str = '376abc'  # will match\n",
    "match_object = p.match(search_str) \n",
    "if match_object is None:\n",
    "    print 'regex = ' + regex_str + \" DOESN'T matches \" + search_str\n",
    "else:\n",
    "    print 'regex = ' + regex_str + \" MATCHES \" + search_str\n",
    "    print match_object.group()  \n",
    "\n",
    "    \n",
    "    \n",
    "search_str = 'W3C'  # will not match\n",
    "match_object = p.match(search_str) \n",
    "if match_object is None:\n",
    "    print 'regex = ' + regex_str + \" DOESN'T matches \" + search_str\n",
    "else:\n",
    "    print 'regex = ' + regex_str + \" MATCHES \" + search_str\n",
    "    print match_object.group()   \n",
    "\n",
    "search_str = '12 34 578' # will not match\n",
    "match_object = p.findall(search_str) \n",
    "if match_object is None:\n",
    "    print \"No match found\"\n",
    "else:\n",
    "    print 'regex = ' + regex_str + \" MATCHES \" + search_str\n",
    "    print match_object\n",
    "\n",
    "search_str = '1234578' # will not match\n",
    "match_object = p.findall(search_str) \n",
    "if match_object is None:\n",
    "    print \"No match found\"\n",
    "else:\n",
    "    print 'regex = ' + regex_str + \" MATCHES \" + search_str\n",
    "    print match_object\n"
   ]
  },
  {
   "cell_type": "markdown",
   "metadata": {},
   "source": [
    "<h3> \"[a-zA-z]\" - Using Ranges of AlphaNumerics</h3>\n",
    "<p>If we were to try the same thing with letters, we would have to enter all 26 letters in upper and lower case. Fortunately, we can specify a range instead using a hyphen. For example:</p>"
   ]
  },
  {
   "cell_type": "code",
   "execution_count": 106,
   "metadata": {
    "collapsed": false
   },
   "outputs": [
    {
     "name": "stdout",
     "output_type": "stream",
     "text": [
      "regex = [a-zA-z]{4} MATCHES Paul\n",
      "Paul\n",
      "regex = [a-zA-z]{4} MATCHES Paul Olsztyn\n",
      "Paul\n",
      "regex = [a-zA-z]{4} DOESN'T matches Tad Olsztyn\n",
      "regex = [a-zA-z]{4} DOESN'T matches Pau7 Olsztyn\n"
     ]
    }
   ],
   "source": [
    "regex_str = '[a-zA-z]{4}' # will match 4 character numeric strings.\n",
    "\n",
    "p = re.compile(regex_str)   \n",
    "\n",
    "search_str = 'Paul'  # will match\n",
    "match_object = p.match(search_str) \n",
    "if match_object is None:\n",
    "    print 'regex = ' + regex_str + \" DOESN'T matches \" + search_str\n",
    "else:\n",
    "    print 'regex = ' + regex_str + \" MATCHES \" + search_str\n",
    "    print match_object.group()\n",
    "\n",
    "search_str = 'Paul Olsztyn'  # will match\n",
    "match_object = p.match(search_str) \n",
    "if match_object is None:\n",
    "    print 'regex = ' + regex_str + \" DOESN'T matches \" + search_str\n",
    "else:\n",
    "    print 'regex = ' + regex_str + \" MATCHES \" + search_str\n",
    "    print match_object.group()\n",
    "\n",
    "search_str = 'Tad Olsztyn'  # will Not match\n",
    "match_object = p.match(search_str) \n",
    "if match_object is None:\n",
    "    print 'regex = ' + regex_str + \" DOESN'T matches \" + search_str\n",
    "else:\n",
    "    print 'regex = ' + regex_str + \" MATCHES \" + search_str\n",
    "    print match_object.group()\n",
    "\n",
    "search_str = 'Pau7 Olsztyn'  # will Not match\n",
    "match_object = p.match(search_str) \n",
    "if match_object is None:\n",
    "    print 'regex = ' + regex_str + \" DOESN'T matches \" + search_str\n",
    "else:\n",
    "    print 'regex = ' + regex_str + \" MATCHES \" + search_str\n",
    "    print match_object.group()\n"
   ]
  },
  {
   "cell_type": "markdown",
   "metadata": {},
   "source": [
    "<h3>\"\\w \\d\" Special Patterns for Most Commonly used Character Classes</h3>\n",
    "<p>Most languages have special patterns for representing the most commonly used character classes. For example, Python uses \"\\d\" to represent any digit (same as \"[0-9]\") and \"\\w\" to represent any alphanumeric, or \"word\" character (same as \"[a-zA-Z_]\"). See your language documentation for the special sequences applicable to the language you use.</p>"
   ]
  },
  {
   "cell_type": "code",
   "execution_count": 109,
   "metadata": {
    "collapsed": false
   },
   "outputs": [
    {
     "name": "stdout",
     "output_type": "stream",
     "text": [
      "regex = [\\d]{3}-[\\d]{2}-[\\d]{4} MATCHES 123-45-6789\n",
      "123-45-6789\n",
      "regex = [\\d]{3}-[\\d]{2}-[\\d]{4} DOESN'T matches abc-45-6789\n",
      "regex = [\\d]{3}-[\\d]{2}-[\\d]{4} DOESN'T matches 123 45 6789\n"
     ]
    }
   ],
   "source": [
    "regex_str = r'[\\d]{3}-[\\d]{2}-[\\d]{4}' # will match valid social security numbers\n",
    "\n",
    "p = re.compile(regex_str)   \n",
    "\n",
    "search_str = '123-45-6789'  # will match\n",
    "match_object = p.match(search_str) \n",
    "if match_object is None:\n",
    "    print 'regex = ' + regex_str + \" DOESN'T matches \" + search_str\n",
    "else:\n",
    "    print 'regex = ' + regex_str + \" MATCHES \" + search_str\n",
    "    print match_object.group()\n",
    "\n",
    "search_str = 'abc-45-6789'  # won't match\n",
    "match_object = p.match(search_str) \n",
    "if match_object is None:\n",
    "    print 'regex = ' + regex_str + \" DOESN'T matches \" + search_str\n",
    "else:\n",
    "    print 'regex = ' + regex_str + \" MATCHES \" + search_str\n",
    "    print match_object.group()\n",
    "\n",
    "search_str = '123 45 6789'  # won't match\n",
    "match_object = p.match(search_str) \n",
    "if match_object is None:\n",
    "    print 'regex = ' + regex_str + \" DOESN'T matches \" + search_str\n",
    "else:\n",
    "    print 'regex = ' + regex_str + \" MATCHES \" + search_str\n",
    "    print match_object.group()\n",
    "    \n",
    "    \n"
   ]
  },
  {
   "cell_type": "code",
   "execution_count": 121,
   "metadata": {
    "collapsed": false
   },
   "outputs": [
    {
     "name": "stdout",
     "output_type": "stream",
     "text": [
      "regex = [\\w]*  MATCHES 12 For score and seven years ago may the 4orce be with you\n",
      "['12 ', 'For ', 'score ', 'and ', 'seven ', 'years ', 'ago ', 'may ', 'the ', '4orce ', 'be ', 'with ']\n"
     ]
    }
   ],
   "source": [
    "regex_str = r'[\\w]* ' # will find all alphanumeric words.\n",
    "\n",
    "p = re.compile(regex_str)   \n",
    "\n",
    "search_str = '12 For score and seven years ago may the 4orce be with you' # will match\n",
    "match_object = p.findall(search_str) \n",
    "if match_object is None:\n",
    "    print \"No match found\"\n",
    "else:\n",
    "    print 'regex = ' + regex_str + \" MATCHES \" + search_str\n",
    "    print match_object\n"
   ]
  },
  {
   "cell_type": "markdown",
   "metadata": {},
   "source": [
    "<h3>\"^\" - Negated Character Classes</h3>\n",
    "\n",
    "<p>To define a group of characters you do not want to match, use a negated character class. Adding a caret \"^\" to the beginning of the character class (i.e. [^...]) means \"match any character except these\". For example:</p>\n"
   ]
  },
  {
   "cell_type": "code",
   "execution_count": 142,
   "metadata": {
    "collapsed": false
   },
   "outputs": [
    {
     "name": "stdout",
     "output_type": "stream",
     "text": [
      "regex = [^a-zA-Z]{4} MATCHES 1234\n",
      "['1234']\n",
      "regex = [^a-zA-Z]{4} MATCHES $.25\n",
      "['$.25']\n",
      "regex = [^a-zA-Z]{4} MATCHES #77;\n",
      "['#77;']\n",
      "No match found\n",
      "No match found\n"
     ]
    }
   ],
   "source": [
    "regex_str = '[^a-zA-Z]{4}' # will find 4 digit strings with no alphabetic characters.\n",
    "\n",
    "p = re.compile(regex_str)   \n",
    "\n",
    "search_str = '1234' # will match\n",
    "match_object = p.findall(search_str) \n",
    "if match_object is None:\n",
    "    print \"No match found\"\n",
    "else:\n",
    "    print 'regex = ' + regex_str + \" MATCHES \" + search_str\n",
    "    print match_object\n",
    "\n",
    "search_str = '$.25' # will match\n",
    "match_object = p.findall(search_str) \n",
    "if match_object is None:\n",
    "    print \"No match found\"\n",
    "else:\n",
    "    print 'regex = ' + regex_str + \" MATCHES \" + search_str\n",
    "    print match_object\n",
    "\n",
    "search_str = '#77;' # will match\n",
    "match_object = p.findall(search_str) \n",
    "if match_object is None:\n",
    "    print \"No match found\"\n",
    "else:\n",
    "    print 'regex = ' + regex_str + \" MATCHES \" + search_str\n",
    "    print match_object\n",
    "\n",
    "search_str = 'Perl' # won't match\n",
    "match_object = p.findall(search_str) \n",
    "if match_object is None or len(match_object) == 0 :\n",
    "    print \"No match found\"\n",
    "else:\n",
    "    print 'regex = ' + regex_str + \" MATCHES \" + search_str\n",
    "    print match_object   \n",
    "    \n",
    "search_str = 'AT&T' # won't match\n",
    "match_object = p.findall(search_str) \n",
    "if match_object is None or len(match_object) == 0 :\n",
    "    print \"No match found\"\n",
    "else:\n",
    "    print 'regex = ' + regex_str + \" MATCHES \" + search_str\n",
    "    print match_object    "
   ]
  },
  {
   "cell_type": "markdown",
   "metadata": {},
   "source": [
    "<h2>Predefined Character Sequences</h2>\n",
    "\n",
    "<table>\n",
    "<th>Special Character</th><th>Represents</th>\n",
    "\n",
    "<tr>\n",
    "<td>\\d</td><td>Matches any decimal digit; this is equivalent to the class [0-9].</td>\n",
    "</tr>\n",
    "\n",
    "<tr>\n",
    "<td>\\D</td><td>Matches any non-digit character; this is equivalent to the class [^0-9]</td>\n",
    "</tr>\n",
    "\n",
    "<tr>\n",
    "<td>\\s</td><td>Matches any whitespace character; this is equivalent to the class [ \\t\\n\\r\\f\\v].</td>\n",
    "</tr>\n",
    "\n",
    "<tr>\n",
    "<td>\\S</td><td>Matches any non-whitespace character; this is equivalent to the class [^ \\t\\n\\r\\f\\v].</td>\n",
    "</tr>\n",
    "\n",
    "<tr>\n",
    "<td>\\w</td><td>Matches any alphanumeric character; this is equivalent to the class [a-zA-Z0-9_].</td>\n",
    "</tr>\n",
    "\n",
    "<tr>\n",
    "<td>\\W</td><td>Matches any non-alphanumeric character; this is equivalent to the class [^a-zA-Z0-9_].</td>\n",
    "</tr>\n",
    "</table>"
   ]
  },
  {
   "cell_type": "code",
   "execution_count": 133,
   "metadata": {
    "collapsed": false
   },
   "outputs": [
    {
     "name": "stdout",
     "output_type": "stream",
     "text": [
      "regex = [\\D] MATCHES 12 For score and seven years ago, may the 4orce be with you;\n",
      "[' ', 'F', 'o', 'r', ' ', 's', 'c', 'o', 'r', 'e', ' ', 'a', 'n', 'd', ' ', 's', 'e', 'v', 'e', 'n', ' ', 'y', 'e', 'a', 'r', 's', ' ', 'a', 'g', 'o', ',', ' ', 'm', 'a', 'y', ' ', 't', 'h', 'e', ' ', 'o', 'r', 'c', 'e', ' ', 'b', 'e', ' ', 'w', 'i', 't', 'h', ' ', 'y', 'o', 'u', ';']\n",
      "regex = [\\d] MATCHES 12 For score and seven years ago, may the 4orce be with you;\n",
      "['1', '2', '4']\n",
      "regex = [\\s] MATCHES 12 For score and seven years ago, may the 4orce be with you;\n",
      "[' ', ' ', ' ', ' ', ' ', ' ', ' ', ' ', ' ', ' ', ' ', ' ']\n",
      "regex = [\\S] MATCHES 12 For score and seven years ago, may the 4orce be with you;\n",
      "['1', '2', 'F', 'o', 'r', 's', 'c', 'o', 'r', 'e', 'a', 'n', 'd', 's', 'e', 'v', 'e', 'n', 'y', 'e', 'a', 'r', 's', 'a', 'g', 'o', ',', 'm', 'a', 'y', 't', 'h', 'e', '4', 'o', 'r', 'c', 'e', 'b', 'e', 'w', 'i', 't', 'h', 'y', 'o', 'u', ';']\n",
      "regex = [\\w] MATCHES 12 For score and seven years ago, may the 4orce be with you;\n",
      "['1', '2', 'F', 'o', 'r', 's', 'c', 'o', 'r', 'e', 'a', 'n', 'd', 's', 'e', 'v', 'e', 'n', 'y', 'e', 'a', 'r', 's', 'a', 'g', 'o', 'm', 'a', 'y', 't', 'h', 'e', '4', 'o', 'r', 'c', 'e', 'b', 'e', 'w', 'i', 't', 'h', 'y', 'o', 'u']\n",
      "regex = [\\W] MATCHES 12 For score and seven years ago, may the 4orce be with you;\n",
      "[' ', ' ', ' ', ' ', ' ', ' ', ',', ' ', ' ', ' ', ' ', ' ', ' ', ';']\n"
     ]
    }
   ],
   "source": [
    "\n",
    "# Matches any decimal digit; this is equivalent to the class [0-9].\n",
    "regex_str = r'[\\D]' \n",
    "\n",
    "p = re.compile(regex_str)   \n",
    "\n",
    "search_str = '12 For score and seven years ago, may the 4orce be with you;' # will match\n",
    "match_object = p.findall(search_str) \n",
    "if match_object is None:\n",
    "    print \"No match found\"\n",
    "else:\n",
    "    print 'regex = ' + regex_str + \" MATCHES \" + search_str\n",
    "    print match_object\n",
    "\n",
    "    regex_str = r'[\\D]* ' # will find all alphanumeric words.\n",
    "\n",
    "# Matches any non-digit character; this is equivalent to the class [^0-9]\n",
    "regex_str = r'[\\d]' \n",
    "p = re.compile(regex_str)   \n",
    "\n",
    "search_str = '12 For score and seven years ago, may the 4orce be with you;' # will match\n",
    "match_object = p.findall(search_str) \n",
    "if match_object is None:\n",
    "    print \"No match found\"\n",
    "else:\n",
    "    print 'regex = ' + regex_str + \" MATCHES \" + search_str\n",
    "    print match_object\n",
    "\n",
    "# Matches any whitespace character; this is equivalent to the class [ \\t\\n\\r\\f\\v].    \n",
    "regex_str = r'[\\s]' \n",
    "p = re.compile(regex_str)   \n",
    "\n",
    "search_str = '12 For score and seven years ago, may the 4orce be with you;' # will match\n",
    "match_object = p.findall(search_str) \n",
    "if match_object is None:\n",
    "    print \"No match found\"\n",
    "else:\n",
    "    print 'regex = ' + regex_str + \" MATCHES \" + search_str\n",
    "    print match_object\n",
    "\n",
    "# Matches any non-whitespace character; this is equivalent to the class [^ \\t\\n\\r\\f\\v].\n",
    "regex_str = r'[\\S]' \n",
    "p = re.compile(regex_str)   \n",
    "\n",
    "search_str = '12 For score and seven years ago, may the 4orce be with you;' # will match\n",
    "match_object = p.findall(search_str) \n",
    "if match_object is None:\n",
    "    print \"No match found\"\n",
    "else:\n",
    "    print 'regex = ' + regex_str + \" MATCHES \" + search_str\n",
    "    print match_object\n",
    "\n",
    "# \tMatches any alphanumeric character; this is equivalent to the class [a-zA-Z0-9].\n",
    "regex_str = r'[\\w]' \n",
    "p = re.compile(regex_str)   \n",
    "    \n",
    "search_str = '12 For score and seven years ago, may the 4orce be with you;' # will match\n",
    "match_object = p.findall(search_str) \n",
    "if match_object is None:\n",
    "    print \"No match found\"\n",
    "else:\n",
    "    print 'regex = ' + regex_str + \" MATCHES \" + search_str\n",
    "    print match_object\n",
    "\n",
    "#Matches any non-alphanumeric character; this is equivalent to the class [^a-zA-Z0-9].\n",
    "regex_str = r'[\\W]' \n",
    "p = re.compile(regex_str)   \n",
    "    \n",
    "search_str = '12 For score and seven years ago, may the 4orce be with you;' \n",
    "match_object = p.findall(search_str) \n",
    "if match_object is None:\n",
    "    print \"No match found\"\n",
    "else:\n",
    "    print 'regex = ' + regex_str + \" MATCHES \" + search_str\n",
    "    print match_object    \n",
    "    "
   ]
  },
  {
   "cell_type": "markdown",
   "metadata": {},
   "source": [
    "<h2>\"$ ^\" - Anchors: Matching at Specific Locations</h2>\n",
    "<p>Anchors are used to specify where in a string or line to look for a match. The \"^\" metacharacter (when not used at the beginning of a negated character class) specifies the beginning of the string or line, The \"$\" metacharacter specifies the end of a string or line.</p>"
   ]
  },
  {
   "cell_type": "code",
   "execution_count": 149,
   "metadata": {
    "collapsed": false
   },
   "outputs": [
    {
     "name": "stdout",
     "output_type": "stream",
     "text": [
      "regex = ^From: root@server\\.* MATCHES From: root@server.example.com\n",
      "['From: root@server.']\n",
      "No match found\n",
      "regex = .*\\/index.php$ MATCHES www.example.org/index.php\n",
      "['www.example.org/index.php']\n",
      "regex = .*\\/index.php$ MATCHES the file is /tmp/index.php\n",
      "['the file is /tmp/index.php']\n",
      "No match found\n",
      "regex = ^To: .*example.org$ MATCHES To: hr@example.net, qa@example.org\n",
      "['To: hr@example.net, qa@example.org']\n",
      "No match found\n"
     ]
    }
   ],
   "source": [
    "\n",
    "# will find lines that start with string From: root@server.\n",
    "regex_str = r'^From: root@server\\.*'  # \n",
    "\n",
    "p = re.compile(regex_str)   \n",
    "\n",
    "search_str = 'From: root@server.example.com' # will match\n",
    "match_object = p.findall(search_str) \n",
    "if match_object is None or len(match_object)== 0:\n",
    "    print \"No match found\"\n",
    "else:\n",
    "    print 'regex = ' + regex_str + \" MATCHES \" + search_str\n",
    "    print match_object\n",
    "\n",
    "search_str = 'I got this From: root@server.example.com yesterday' # won't match\n",
    "match_object = p.findall(search_str) \n",
    "if match_object is None or len(match_object)== 0:\n",
    "    print \"No match found\"\n",
    "else:\n",
    "    print 'regex = ' + regex_str + \" MATCHES \" + search_str\n",
    "    print match_object\n",
    "\n",
    "    \n",
    "regex_str = r'.*\\/index.php$'  # will match lines that end in /index.php$\n",
    "\n",
    "p = re.compile(regex_str)   \n",
    "\n",
    "search_str = 'www.example.org/index.php' # will match\n",
    "match_object = p.findall(search_str) \n",
    "if match_object is None or len(match_object)== 0:\n",
    "    print \"No match found\"\n",
    "else:\n",
    "    print 'regex = ' + regex_str + \" MATCHES \" + search_str\n",
    "    print match_object\n",
    "\n",
    "search_str = 'the file is /tmp/index.php' # will match\n",
    "match_object = p.findall(search_str) \n",
    "if match_object is None or len(match_object)== 0:\n",
    "    print \"No match found\"\n",
    "else:\n",
    "    print 'regex = ' + regex_str + \" MATCHES \" + search_str\n",
    "    print match_object\n",
    "\n",
    "search_str = 'www.example.org/index.php?id=245' # will NOT match\n",
    "match_object = p.findall(search_str) \n",
    "if match_object is None or len(match_object)== 0:\n",
    "    print \"No match found\"\n",
    "else:\n",
    "    print 'regex = ' + regex_str + \" MATCHES \" + search_str\n",
    "    print match_object\n",
    "    \n",
    "    \n",
    "    \n",
    "regex_str = r'^To: .*example.org$'  # will match lines that start with 'To: ' and and with 'example.org'\n",
    "\n",
    "p = re.compile(regex_str)   \n",
    "\n",
    "search_str = 'To: hr@example.net, qa@example.org' # will match\n",
    "match_object = p.findall(search_str) \n",
    "if match_object is None or len(match_object)== 0:\n",
    "    print \"No match found\"\n",
    "else:\n",
    "    print 'regex = ' + regex_str + \" MATCHES \" + search_str\n",
    "    print match_object\n",
    "\n",
    "search_str = 'To: qa@example.org, hr@example.net' # will match\n",
    "match_object = p.findall(search_str) \n",
    "if match_object is None or len(match_object)== 0:\n",
    "    print \"No match found\"\n",
    "else:\n",
    "    print 'regex = ' + regex_str + \" MATCHES \" + search_str\n",
    "    print match_object\n",
    "    "
   ]
  },
  {
   "cell_type": "markdown",
   "metadata": {},
   "source": [
    "<h1>Modifying Strings</h1>\n",
    "\n",
    "<p>Up to this point, we’ve simply performed searches against a static string. Regular expressions are also commonly used to modify strings in various ways, using the following pattern methods:<p>\n",
    "\n",
    "<table>\n",
    "<th>Method/Attribute</th><th>Purpose</th>\n",
    "<tr>\n",
    "<td>split()</td>\n",
    "<td>Split the string into a list, splitting it wherever the RE matches</td>\n",
    "</tr>\n",
    "<tr>\n",
    "<td>sub()</td><td>Find all substrings where the RE matches, and replace them with a different string</td>\n",
    "</tr>\n",
    "<tr>\n",
    "<td>subn()</td><td>Does the same thing as sub(), but returns the new string and the number of replacements</td>\n",
    "</tr>\n",
    "</table>\n",
    "\n",
    "<h3>Split() Method</h3>\n",
    "<p>\n",
    "The split() method of a pattern splits a string apart wherever the RE matches, returning a list of the pieces. It’s similar to the split() method of strings but provides much more generality in the delimiters that you can split by; split() only supports splitting by whitespace or by a fixed string. As you’d expect, there’s a module-level re.split() function, too.\n",
    "</p>\n",
    "\n",
    "<p>\n",
    "split(string[, maxsplit=0])</p>\n",
    "<p>\n",
    "Split string by the matches of the regular expression. If capturing parentheses are used in the RE, then their contents will also be returned as part of the resulting list. If maxsplit is nonzero, at most maxsplit splits are performed.\n",
    "</p>\n",
    "\n",
    "<p>\n",
    "You can limit the number of splits made, by passing a value for maxsplit. When maxsplit is nonzero, at most maxsplit splits will be made, and the remainder of the string is returned as the final element of the list. In the following example, the delimiter is any sequence of non-alphanumeric characters.</p>\n"
   ]
  },
  {
   "cell_type": "code",
   "execution_count": 152,
   "metadata": {
    "collapsed": false
   },
   "outputs": [
    {
     "name": "stdout",
     "output_type": "stream",
     "text": [
      "regex = --- MATCHES Paul---Olsztyn---is---great\n",
      "['Paul', 'Olsztyn', 'is', 'great']\n"
     ]
    }
   ],
   "source": [
    "# will find lines that start with string From: root@server.\n",
    "regex_str = r'---'  # \n",
    "\n",
    "p = re.compile(regex_str)   \n",
    "\n",
    "search_str = 'Paul---Olsztyn---is---great' # will match\n",
    "match_object = p.split(search_str) \n",
    "if match_object is None or len(match_object)== 0:\n",
    "    print \"No match found\"\n",
    "else:\n",
    "    print 'regex = ' + regex_str + \" MATCHES \" + search_str\n",
    "    print match_object\n"
   ]
  },
  {
   "cell_type": "markdown",
   "metadata": {},
   "source": [
    "<h2>sub() Method</h2>\n",
    "\n",
    "<p>Another common task is to find all the matches for a pattern, and replace them with a different string. The sub() method takes a replacement value, which can be either a string or a function, and the string to be processed.</p>\n",
    "\n",
    "\n",
    "<p>.sub(replacement, string[, count=0])</p>\n",
    "<p>\n",
    "Returns the string obtained by replacing the leftmost non-overlapping occurrences of the RE in string by the replacement replacement. If the pattern isn’t found, string is returned unchanged.\n",
    "</p>\n",
    "<p>\n",
    "The optional argument count is the maximum number of pattern occurrences to be replaced; count must be a non-negative integer. The default value of 0 means to replace all occurrences.\n",
    "</p>\n"
   ]
  },
  {
   "cell_type": "code",
   "execution_count": 153,
   "metadata": {
    "collapsed": false
   },
   "outputs": [
    {
     "name": "stdout",
     "output_type": "stream",
     "text": [
      "regex = --- MATCHES Paul---Olsztyn---is---great\n",
      "Paul!!!Olsztyn!!!is!!!great\n"
     ]
    }
   ],
   "source": [
    "# will find lines that start with string From: root@server.\n",
    "regex_str = r'---'  # \n",
    "\n",
    "p = re.compile(regex_str)   \n",
    "\n",
    "search_str = 'Paul---Olsztyn---is---great' # will match\n",
    "match_object = p.sub('!!!',search_str) \n",
    "if match_object is None or len(match_object)== 0:\n",
    "    print \"No match found\"\n",
    "else:\n",
    "    print 'regex = ' + regex_str + \" MATCHES \" + search_str\n",
    "    print match_object\n"
   ]
  },
  {
   "cell_type": "markdown",
   "metadata": {},
   "source": [
    "<h2>Compliation Flags</h2>\n",
    "\n",
    "<p>Compilation flags let you modify some aspects of how regular expressions work. Flags are available in the re module under two names, a long name such as IGNORECASE and a short, one-letter form such as I. (If you’re familiar with Perl’s pattern modifiers, the one-letter forms use the same letters; the short form of re.VERBOSE is re.X, for example.) Multiple flags can be specified by bitwise OR-ing them; re.I | re.M sets both the I and M flags, for example.\n",
    "</p>\n",
    "<p>\n",
    "Here’s a table of the available flags, followed by a more detailed explanation of each one.</p>\n",
    "\n",
    "<table>\n",
    "<th>Flag</th><th>Meaning</th>\n",
    "\n",
    "<tr>\n",
    "<td>DOTALL, S</td><td>Make . match any character, including newlines</td>\n",
    "</tr>\n",
    "\n",
    "<tr>\n",
    "<td>IGNORECASE, I</td><td>Do case-insensitive matches</td>\n",
    "</tr>\n",
    "\n",
    "<tr>\n",
    "<td>LOCALE, L</td><td>Do a locale-aware match</td>\n",
    "</tr>\n",
    "\n",
    "<tr>\n",
    "<td>MULTILINE, M</td><td>Multi-line matching, affecting ^ and $</td>\n",
    "</tr>\n",
    "\n",
    "<tr>\n",
    "<td>VERBOSE, X</td><td>Enable verbose REs, which can be organized more cleanly and understandably.</td>\n",
    "</tr>\n",
    "\n",
    "<tr>\n",
    "<td>UNICODE, U</td><td>Makes several escapes like \\w, \\b, \\s and \\d dependent on the Unicode character database.\n",
    "I</td>\n",
    "</tr>\n",
    "</table>"
   ]
  },
  {
   "cell_type": "code",
   "execution_count": 157,
   "metadata": {
    "collapsed": false
   },
   "outputs": [
    {
     "name": "stdout",
     "output_type": "stream",
     "text": [
      "No match found\n",
      "regex = PaUl MATCHES Paul---Olsztyn---is---great\n",
      "['Paul']\n"
     ]
    }
   ],
   "source": [
    "regex_str = r'PaUl'  # \n",
    "\n",
    "p = re.compile(regex_str) # won't match below because case doesn't match.  \n",
    "\n",
    "search_str = 'Paul---Olsztyn---is---great' # will match\n",
    "match_object = p.findall(search_str) \n",
    "if match_object is None or len(match_object)== 0:\n",
    "    print \"No match found\"\n",
    "else:\n",
    "    print 'regex = ' + regex_str + \" MATCHES \" + search_str\n",
    "    print match_object\n",
    "\n",
    "\n",
    "p = re.compile(regex_str,re.I)   # \n",
    "\n",
    "search_str = 'Paul---Olsztyn---is---great' # will match because we specified IGNORECASE in regular\n",
    "                                            # expression modifier\n",
    "match_object = p.findall(search_str) \n",
    "if match_object is None or len(match_object)== 0:\n",
    "    print \"No match found\"\n",
    "else:\n",
    "    print 'regex = ' + regex_str + \" MATCHES \" + search_str\n",
    "    print match_object\n"
   ]
  },
  {
   "cell_type": "code",
   "execution_count": null,
   "metadata": {
    "collapsed": true
   },
   "outputs": [],
   "source": []
  }
 ],
 "metadata": {
  "kernelspec": {
   "display_name": "Python 2",
   "language": "python",
   "name": "python2"
  },
  "language_info": {
   "codemirror_mode": {
    "name": "ipython",
    "version": 2
   },
   "file_extension": ".py",
   "mimetype": "text/x-python",
   "name": "python",
   "nbconvert_exporter": "python",
   "pygments_lexer": "ipython2",
   "version": "2.7.10"
  }
 },
 "nbformat": 4,
 "nbformat_minor": 0
}
