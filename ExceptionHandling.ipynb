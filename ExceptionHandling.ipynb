{
 "metadata": {
  "name": "",
  "signature": "sha256:6c2b7633000d1be3dfbacae113ecdbd1349c0a998b6f3ca62359c9c3f1b17bdd"
 },
 "nbformat": 3,
 "nbformat_minor": 0,
 "worksheets": [
  {
   "cells": [
    {
     "cell_type": "markdown",
     "metadata": {},
     "source": [
      "<h1>Exception Handling<h1>"
     ]
    },
    {
     "cell_type": "markdown",
     "metadata": {},
     "source": [
      "<h2>try-except</h2>\n",
      "\n",
      "Here's how try-except works: you specify a block of code for the computer to try and execute; \n",
      "\n",
      "if it encounters an error,\n",
      "instead of failing (like it did above) it goes to a block of code you've provided in case of an error. \n",
      "\n",
      "This is called Error Catching, and it looks like this:\n"
     ]
    },
    {
     "cell_type": "code",
     "collapsed": false,
     "input": [
      "# Without error catching.\n",
      "text = \"Not a number\"\n",
      "a = int(text)  # this will generate an exception because the integer cast won't work on a non-numeric string\n",
      "print a\n"
     ],
     "language": "python",
     "metadata": {},
     "outputs": [
      {
       "ename": "ValueError",
       "evalue": "invalid literal for int() with base 10: 'Not a number'",
       "output_type": "pyerr",
       "traceback": [
        "\u001b[1;31m---------------------------------------------------------------------------\u001b[0m\n\u001b[1;31mValueError\u001b[0m                                Traceback (most recent call last)",
        "\u001b[1;32m<ipython-input-2-22cf3c29ae33>\u001b[0m in \u001b[0;36m<module>\u001b[1;34m()\u001b[0m\n\u001b[0;32m      1\u001b[0m \u001b[1;31m# Without error catching.\u001b[0m\u001b[1;33m\u001b[0m\u001b[1;33m\u001b[0m\u001b[0m\n\u001b[0;32m      2\u001b[0m \u001b[0mtext\u001b[0m \u001b[1;33m=\u001b[0m \u001b[1;34m\"Not a number\"\u001b[0m\u001b[1;33m\u001b[0m\u001b[0m\n\u001b[1;32m----> 3\u001b[1;33m \u001b[0ma\u001b[0m \u001b[1;33m=\u001b[0m \u001b[0mint\u001b[0m\u001b[1;33m(\u001b[0m\u001b[0mtext\u001b[0m\u001b[1;33m)\u001b[0m  \u001b[1;31m# this will generate an exception because the integer cast won't work on a non-numeric string\u001b[0m\u001b[1;33m\u001b[0m\u001b[0m\n\u001b[0m\u001b[0;32m      4\u001b[0m \u001b[1;32mprint\u001b[0m \u001b[0ma\u001b[0m\u001b[1;33m\u001b[0m\u001b[0m\n",
        "\u001b[1;31mValueError\u001b[0m: invalid literal for int() with base 10: 'Not a number'"
       ]
      }
     ],
     "prompt_number": 2
    },
    {
     "cell_type": "code",
     "collapsed": false,
     "input": [
      "# With error catching\n",
      "text = \"Not a number\"\n",
      "try:\n",
      "    # In this example, we'll never get here:\n",
      "    a = int(text)\n",
      "    print \"The value of text is: \", a\n",
      "except:\n",
      "    # Instead, we'll go here.\n",
      "    a = 0\n",
      "    print \"The value of text cannot be converted to an integer!\""
     ],
     "language": "python",
     "metadata": {},
     "outputs": [
      {
       "output_type": "stream",
       "stream": "stdout",
       "text": [
        "The value of text cannot be converted to an integer!\n"
       ]
      }
     ],
     "prompt_number": 3
    },
    {
     "cell_type": "code",
     "collapsed": false,
     "input": [
      "text = \"100\"\n",
      "try:\n",
      "    # This time, we'll get here...\n",
      "    a = int(text)\n",
      "    print \"The value of text is: \", a\n",
      "except:\n",
      "    # ...but not here\n",
      "    a = 0\n",
      "    print \"The value of text cannot be converted to an integer!\"\n"
     ],
     "language": "python",
     "metadata": {},
     "outputs": [
      {
       "output_type": "stream",
       "stream": "stdout",
       "text": [
        "The value of text is:  100\n"
       ]
      }
     ],
     "prompt_number": 5
    },
    {
     "cell_type": "code",
     "collapsed": false,
     "input": [],
     "language": "python",
     "metadata": {},
     "outputs": []
    }
   ],
   "metadata": {}
  }
 ]
}